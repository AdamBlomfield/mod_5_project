{
 "cells": [
  {
   "cell_type": "markdown",
   "metadata": {},
   "source": [
    "# Five Different Models Based on Amount of Transaction"
   ]
  },
  {
   "cell_type": "markdown",
   "metadata": {},
   "source": [
    "Divided the df dataset by transaction amount, $1, $10, $25, 50, $75. Then did the same random forest on each to see if the model performed better with transactions that were more similar in size. "
   ]
  },
  {
   "cell_type": "code",
   "execution_count": 37,
   "metadata": {
    "tags": [
     "hidecode"
    ]
   },
   "outputs": [
    {
     "name": "stdout",
     "output_type": "stream",
     "text": [
      "The autoreload extension is already loaded. To reload it, use:\n",
      "  %reload_ext autoreload\n"
     ]
    }
   ],
   "source": [
    "# DO NOT REMOVE THESE\n",
    "%load_ext autoreload\n",
    "%autoreload 2"
   ]
  },
  {
   "cell_type": "code",
   "execution_count": 38,
   "metadata": {},
   "outputs": [],
   "source": [
    "# DO NOT REMOVE This\n",
    "%reload_ext autoreload"
   ]
  },
  {
   "cell_type": "code",
   "execution_count": 39,
   "metadata": {},
   "outputs": [],
   "source": [
    "## DO NOT REMOVE\n",
    "## import local src module -\n",
    "## src in this project will contain all your local code\n",
    "## clean_data.py, model.py, visualize.py, custom.py\n",
    "\n",
    "#import src.base with alias to avoid namespace clashes\n",
    "\n",
    "from src import base as fis"
   ]
  },
  {
   "cell_type": "code",
   "execution_count": 40,
   "metadata": {},
   "outputs": [
    {
     "name": "stdout",
     "output_type": "stream",
     "text": [
      "Base Module Imported\n",
      "\n",
      "Testing local imports\n",
      "In clean_data\n",
      "In Model\n",
      "In Visualize\n",
      "In custom module\n"
     ]
    }
   ],
   "source": [
    "fis.test_base()"
   ]
  },
  {
   "cell_type": "markdown",
   "metadata": {},
   "source": [
    "# Import Libraries"
   ]
  },
  {
   "cell_type": "code",
   "execution_count": 41,
   "metadata": {
    "ExecuteTime": {
     "end_time": "2019-06-28T12:36:34.194734Z",
     "start_time": "2019-06-28T12:36:33.750982Z"
    }
   },
   "outputs": [],
   "source": [
    "# Dataframes\n",
    "import pandas as pd\n",
    "import numpy as np\n",
    "\n",
    "# Graphing\n",
    "import matplotlib.pyplot as plt\n",
    "%matplotlib inline\n",
    "import seaborn as sns\n",
    "\n",
    "# Warnings\n",
    "import warnings\n",
    "warnings.filterwarnings('ignore')\n",
    "\n",
    "# Data Profiling\n",
    "import pandas_profiling\n",
    "\n",
    "# Data Preparation\n",
    "    # Train:Test\n",
    "from sklearn.model_selection import train_test_split\n",
    "    # Normalize\n",
    "from sklearn.preprocessing import normalize\n",
    "    # Scaling\n",
    "from sklearn.preprocessing import StandardScaler\n",
    "from sklearn.preprocessing import MinMaxScaler\n",
    "    # GridSearch\n",
    "from sklearn.model_selection import GridSearchCV\n",
    "    # PCA\n",
    "from sklearn.decomposition import PCA\n",
    "    \n",
    "# KNN\n",
    "from sklearn.neighbors import KNeighborsClassifier\n",
    "from sklearn import metrics\n",
    "from scipy.spatial import distance\n",
    "\n",
    "# Random Forest\n",
    "from sklearn.tree import DecisionTreeClassifier  # Decision Tree\n",
    "from sklearn.ensemble import BaggingClassifier, RandomForestClassifier  #Bagging & Random Forest\n",
    "from sklearn import tree\n",
    "from sklearn.metrics import accuracy_score, confusion_matrix, classification_report, roc_curve, auc\n",
    "    # Visuals for Random Forest\n",
    "from sklearn.externals.six import StringIO\n",
    "from IPython.display import Image\n",
    "from sklearn.tree import export_graphviz\n",
    "import pydotplus\n",
    "\n",
    "# Logistic Regression\n",
    "    # SK-learn\n",
    "from sklearn.linear_model import LogisticRegression\n",
    "    # Statsmodel\n",
    "import statsmodels.api as sm\n",
    "from patsy import dmatrices\n",
    "\n"
   ]
  },
  {
   "cell_type": "markdown",
   "metadata": {},
   "source": [
    "# Data Importing"
   ]
  },
  {
   "cell_type": "code",
   "execution_count": 42,
   "metadata": {},
   "outputs": [
    {
     "data": {
      "text/plain": [
       "'/Users/flatironschool/BootCamp/Mod_5_credit_card_fraud_project/notebooks'"
      ]
     },
     "execution_count": 42,
     "metadata": {},
     "output_type": "execute_result"
    }
   ],
   "source": [
    "pwd"
   ]
  },
  {
   "cell_type": "code",
   "execution_count": 43,
   "metadata": {},
   "outputs": [],
   "source": [
    "csv_name = 'creditcard.csv'\n",
    "\n",
    "df = pd.read_csv('/Users/flatironschool/BootCamp/Mod_5_credit_card_fraud_project/notebooks/data/raw/creditcard.csv')"
   ]
  },
  {
   "cell_type": "code",
   "execution_count": 44,
   "metadata": {},
   "outputs": [
    {
     "data": {
      "text/html": [
       "<div>\n",
       "<style scoped>\n",
       "    .dataframe tbody tr th:only-of-type {\n",
       "        vertical-align: middle;\n",
       "    }\n",
       "\n",
       "    .dataframe tbody tr th {\n",
       "        vertical-align: top;\n",
       "    }\n",
       "\n",
       "    .dataframe thead th {\n",
       "        text-align: right;\n",
       "    }\n",
       "</style>\n",
       "<table border=\"1\" class=\"dataframe\">\n",
       "  <thead>\n",
       "    <tr style=\"text-align: right;\">\n",
       "      <th></th>\n",
       "      <th>Time</th>\n",
       "      <th>V1</th>\n",
       "      <th>V2</th>\n",
       "      <th>V3</th>\n",
       "      <th>V4</th>\n",
       "      <th>V5</th>\n",
       "      <th>V6</th>\n",
       "      <th>V7</th>\n",
       "      <th>V8</th>\n",
       "      <th>V9</th>\n",
       "      <th>...</th>\n",
       "      <th>V21</th>\n",
       "      <th>V22</th>\n",
       "      <th>V23</th>\n",
       "      <th>V24</th>\n",
       "      <th>V25</th>\n",
       "      <th>V26</th>\n",
       "      <th>V27</th>\n",
       "      <th>V28</th>\n",
       "      <th>Amount</th>\n",
       "      <th>Class</th>\n",
       "    </tr>\n",
       "  </thead>\n",
       "  <tbody>\n",
       "    <tr>\n",
       "      <th>0</th>\n",
       "      <td>0.0</td>\n",
       "      <td>-1.359807</td>\n",
       "      <td>-0.072781</td>\n",
       "      <td>2.536347</td>\n",
       "      <td>1.378155</td>\n",
       "      <td>-0.338321</td>\n",
       "      <td>0.462388</td>\n",
       "      <td>0.239599</td>\n",
       "      <td>0.098698</td>\n",
       "      <td>0.363787</td>\n",
       "      <td>...</td>\n",
       "      <td>-0.018307</td>\n",
       "      <td>0.277838</td>\n",
       "      <td>-0.110474</td>\n",
       "      <td>0.066928</td>\n",
       "      <td>0.128539</td>\n",
       "      <td>-0.189115</td>\n",
       "      <td>0.133558</td>\n",
       "      <td>-0.021053</td>\n",
       "      <td>149.62</td>\n",
       "      <td>0</td>\n",
       "    </tr>\n",
       "    <tr>\n",
       "      <th>1</th>\n",
       "      <td>0.0</td>\n",
       "      <td>1.191857</td>\n",
       "      <td>0.266151</td>\n",
       "      <td>0.166480</td>\n",
       "      <td>0.448154</td>\n",
       "      <td>0.060018</td>\n",
       "      <td>-0.082361</td>\n",
       "      <td>-0.078803</td>\n",
       "      <td>0.085102</td>\n",
       "      <td>-0.255425</td>\n",
       "      <td>...</td>\n",
       "      <td>-0.225775</td>\n",
       "      <td>-0.638672</td>\n",
       "      <td>0.101288</td>\n",
       "      <td>-0.339846</td>\n",
       "      <td>0.167170</td>\n",
       "      <td>0.125895</td>\n",
       "      <td>-0.008983</td>\n",
       "      <td>0.014724</td>\n",
       "      <td>2.69</td>\n",
       "      <td>0</td>\n",
       "    </tr>\n",
       "    <tr>\n",
       "      <th>2</th>\n",
       "      <td>1.0</td>\n",
       "      <td>-1.358354</td>\n",
       "      <td>-1.340163</td>\n",
       "      <td>1.773209</td>\n",
       "      <td>0.379780</td>\n",
       "      <td>-0.503198</td>\n",
       "      <td>1.800499</td>\n",
       "      <td>0.791461</td>\n",
       "      <td>0.247676</td>\n",
       "      <td>-1.514654</td>\n",
       "      <td>...</td>\n",
       "      <td>0.247998</td>\n",
       "      <td>0.771679</td>\n",
       "      <td>0.909412</td>\n",
       "      <td>-0.689281</td>\n",
       "      <td>-0.327642</td>\n",
       "      <td>-0.139097</td>\n",
       "      <td>-0.055353</td>\n",
       "      <td>-0.059752</td>\n",
       "      <td>378.66</td>\n",
       "      <td>0</td>\n",
       "    </tr>\n",
       "    <tr>\n",
       "      <th>3</th>\n",
       "      <td>1.0</td>\n",
       "      <td>-0.966272</td>\n",
       "      <td>-0.185226</td>\n",
       "      <td>1.792993</td>\n",
       "      <td>-0.863291</td>\n",
       "      <td>-0.010309</td>\n",
       "      <td>1.247203</td>\n",
       "      <td>0.237609</td>\n",
       "      <td>0.377436</td>\n",
       "      <td>-1.387024</td>\n",
       "      <td>...</td>\n",
       "      <td>-0.108300</td>\n",
       "      <td>0.005274</td>\n",
       "      <td>-0.190321</td>\n",
       "      <td>-1.175575</td>\n",
       "      <td>0.647376</td>\n",
       "      <td>-0.221929</td>\n",
       "      <td>0.062723</td>\n",
       "      <td>0.061458</td>\n",
       "      <td>123.50</td>\n",
       "      <td>0</td>\n",
       "    </tr>\n",
       "    <tr>\n",
       "      <th>4</th>\n",
       "      <td>2.0</td>\n",
       "      <td>-1.158233</td>\n",
       "      <td>0.877737</td>\n",
       "      <td>1.548718</td>\n",
       "      <td>0.403034</td>\n",
       "      <td>-0.407193</td>\n",
       "      <td>0.095921</td>\n",
       "      <td>0.592941</td>\n",
       "      <td>-0.270533</td>\n",
       "      <td>0.817739</td>\n",
       "      <td>...</td>\n",
       "      <td>-0.009431</td>\n",
       "      <td>0.798278</td>\n",
       "      <td>-0.137458</td>\n",
       "      <td>0.141267</td>\n",
       "      <td>-0.206010</td>\n",
       "      <td>0.502292</td>\n",
       "      <td>0.219422</td>\n",
       "      <td>0.215153</td>\n",
       "      <td>69.99</td>\n",
       "      <td>0</td>\n",
       "    </tr>\n",
       "  </tbody>\n",
       "</table>\n",
       "<p>5 rows × 31 columns</p>\n",
       "</div>"
      ],
      "text/plain": [
       "   Time        V1        V2        V3        V4        V5        V6        V7  \\\n",
       "0   0.0 -1.359807 -0.072781  2.536347  1.378155 -0.338321  0.462388  0.239599   \n",
       "1   0.0  1.191857  0.266151  0.166480  0.448154  0.060018 -0.082361 -0.078803   \n",
       "2   1.0 -1.358354 -1.340163  1.773209  0.379780 -0.503198  1.800499  0.791461   \n",
       "3   1.0 -0.966272 -0.185226  1.792993 -0.863291 -0.010309  1.247203  0.237609   \n",
       "4   2.0 -1.158233  0.877737  1.548718  0.403034 -0.407193  0.095921  0.592941   \n",
       "\n",
       "         V8        V9  ...       V21       V22       V23       V24       V25  \\\n",
       "0  0.098698  0.363787  ... -0.018307  0.277838 -0.110474  0.066928  0.128539   \n",
       "1  0.085102 -0.255425  ... -0.225775 -0.638672  0.101288 -0.339846  0.167170   \n",
       "2  0.247676 -1.514654  ...  0.247998  0.771679  0.909412 -0.689281 -0.327642   \n",
       "3  0.377436 -1.387024  ... -0.108300  0.005274 -0.190321 -1.175575  0.647376   \n",
       "4 -0.270533  0.817739  ... -0.009431  0.798278 -0.137458  0.141267 -0.206010   \n",
       "\n",
       "        V26       V27       V28  Amount  Class  \n",
       "0 -0.189115  0.133558 -0.021053  149.62      0  \n",
       "1  0.125895 -0.008983  0.014724    2.69      0  \n",
       "2 -0.139097 -0.055353 -0.059752  378.66      0  \n",
       "3 -0.221929  0.062723  0.061458  123.50      0  \n",
       "4  0.502292  0.219422  0.215153   69.99      0  \n",
       "\n",
       "[5 rows x 31 columns]"
      ]
     },
     "execution_count": 44,
     "metadata": {},
     "output_type": "execute_result"
    }
   ],
   "source": [
    "df.head()"
   ]
  },
  {
   "cell_type": "markdown",
   "metadata": {},
   "source": [
    "# Data Cleaning"
   ]
  },
  {
   "cell_type": "code",
   "execution_count": 45,
   "metadata": {},
   "outputs": [
    {
     "name": "stdout",
     "output_type": "stream",
     "text": [
      "<class 'pandas.core.frame.DataFrame'>\n",
      "RangeIndex: 284807 entries, 0 to 284806\n",
      "Data columns (total 31 columns):\n",
      "Time      284807 non-null float64\n",
      "V1        284807 non-null float64\n",
      "V2        284807 non-null float64\n",
      "V3        284807 non-null float64\n",
      "V4        284807 non-null float64\n",
      "V5        284807 non-null float64\n",
      "V6        284807 non-null float64\n",
      "V7        284807 non-null float64\n",
      "V8        284807 non-null float64\n",
      "V9        284807 non-null float64\n",
      "V10       284807 non-null float64\n",
      "V11       284807 non-null float64\n",
      "V12       284807 non-null float64\n",
      "V13       284807 non-null float64\n",
      "V14       284807 non-null float64\n",
      "V15       284807 non-null float64\n",
      "V16       284807 non-null float64\n",
      "V17       284807 non-null float64\n",
      "V18       284807 non-null float64\n",
      "V19       284807 non-null float64\n",
      "V20       284807 non-null float64\n",
      "V21       284807 non-null float64\n",
      "V22       284807 non-null float64\n",
      "V23       284807 non-null float64\n",
      "V24       284807 non-null float64\n",
      "V25       284807 non-null float64\n",
      "V26       284807 non-null float64\n",
      "V27       284807 non-null float64\n",
      "V28       284807 non-null float64\n",
      "Amount    284807 non-null float64\n",
      "Class     284807 non-null int64\n",
      "dtypes: float64(30), int64(1)\n",
      "memory usage: 67.4 MB\n"
     ]
    }
   ],
   "source": [
    "# Adam's Code\n",
    "\n",
    "# overall look\n",
    "df.head()\n",
    "df.shape\n",
    "df.columns\n",
    "\n",
    "# values\n",
    "df.info()"
   ]
  },
  {
   "cell_type": "markdown",
   "metadata": {},
   "source": [
    "# Make Time Variables\n",
    "\n",
    "There is a pattern in the Time variable, which is in seconds since the start of the file. There is clearly a drop-off of credit card transactions in what we assumed was the middle of the night. We divided the time period which covers two and a quarter days, into four periods, which start at 1 pm. "
   ]
  },
  {
   "cell_type": "code",
   "execution_count": 46,
   "metadata": {},
   "outputs": [],
   "source": [
    "#creating the four time periods\n",
    "secs_per_day = 86400\n",
    "secs_per_hour = 3600\n",
    "start = 3600 #1am\n",
    "period1 = start + 3600*6 #1-7am\n",
    "period2 = period1 + 3600*6 #7am-1pm\n",
    "period3 = period2 + 3600*6 #1pm-7pm\n",
    "period4 = period3 + 3600*5 #7am-12am\n"
   ]
  },
  {
   "cell_type": "code",
   "execution_count": 47,
   "metadata": {},
   "outputs": [],
   "source": [
    "#adding a new column to the data frame for the time periods\n",
    "df['time_of_day']=df['Time'].apply(lambda x: x - secs_per_day if x >= secs_per_day else x)"
   ]
  },
  {
   "cell_type": "code",
   "execution_count": 48,
   "metadata": {},
   "outputs": [],
   "source": [
    "#adding the time periods as a number\n",
    "df['time_of_day'][(df['time_of_day']<start)] = 3\n",
    "df['time_of_day'][(df['time_of_day']>=start) & (df['time_of_day']<period1)] = 0\n",
    "df['time_of_day'][(df['time_of_day']>=period1) & (df['time_of_day']<period2)] = 1\n",
    "df['time_of_day'][(df['time_of_day']>=period2) & (df['time_of_day']<period3)] = 2\n",
    "df['time_of_day'][(df['time_of_day']>=period3)] = 3"
   ]
  },
  {
   "cell_type": "markdown",
   "metadata": {},
   "source": [
    "## Drop Duplicates"
   ]
  },
  {
   "cell_type": "code",
   "execution_count": 49,
   "metadata": {},
   "outputs": [],
   "source": [
    "df.drop_duplicates(inplace = True)"
   ]
  },
  {
   "cell_type": "code",
   "execution_count": 51,
   "metadata": {},
   "outputs": [
    {
     "name": "stdout",
     "output_type": "stream",
     "text": [
      "<class 'pandas.core.frame.DataFrame'>\n",
      "Int64Index: 283726 entries, 0 to 284806\n",
      "Data columns (total 32 columns):\n",
      "Time           283726 non-null float64\n",
      "V1             283726 non-null float64\n",
      "V2             283726 non-null float64\n",
      "V3             283726 non-null float64\n",
      "V4             283726 non-null float64\n",
      "V5             283726 non-null float64\n",
      "V6             283726 non-null float64\n",
      "V7             283726 non-null float64\n",
      "V8             283726 non-null float64\n",
      "V9             283726 non-null float64\n",
      "V10            283726 non-null float64\n",
      "V11            283726 non-null float64\n",
      "V12            283726 non-null float64\n",
      "V13            283726 non-null float64\n",
      "V14            283726 non-null float64\n",
      "V15            283726 non-null float64\n",
      "V16            283726 non-null float64\n",
      "V17            283726 non-null float64\n",
      "V18            283726 non-null float64\n",
      "V19            283726 non-null float64\n",
      "V20            283726 non-null float64\n",
      "V21            283726 non-null float64\n",
      "V22            283726 non-null float64\n",
      "V23            283726 non-null float64\n",
      "V24            283726 non-null float64\n",
      "V25            283726 non-null float64\n",
      "V26            283726 non-null float64\n",
      "V27            283726 non-null float64\n",
      "V28            283726 non-null float64\n",
      "Amount         283726 non-null float64\n",
      "Class          283726 non-null int64\n",
      "time_of_day    283726 non-null float64\n",
      "dtypes: float64(31), int64(1)\n",
      "memory usage: 71.4 MB\n"
     ]
    }
   ],
   "source": [
    "df.info()\n",
    "#1081 duplicated rows dropped"
   ]
  },
  {
   "cell_type": "markdown",
   "metadata": {},
   "source": [
    "## Another experiment. Build a model using only values above a certain amount.\n",
    "\n",
    "The theory is that it costs a certain amount to call a customer and ask if the transaction was valid. Amounts below that cutoff could be flagged using a different algorithm. Amounts above the cutoff should be tuned differently as the risk is greater than the cost of investigating."
   ]
  },
  {
   "cell_type": "code",
   "execution_count": 52,
   "metadata": {},
   "outputs": [],
   "source": [
    "df_amount_75 = df[df['Amount'] > 75]\n",
    "df_amount_50 = df[df['Amount'] > 50]\n",
    "df_amount_25 = df[df['Amount'] > 25]\n",
    "df_amount_10 = df[df['Amount'] > 10]\n",
    "df_amount_1 = df[df['Amount'] > 1]"
   ]
  },
  {
   "cell_type": "code",
   "execution_count": 53,
   "metadata": {},
   "outputs": [
    {
     "data": {
      "text/html": [
       "<div>\n",
       "<style scoped>\n",
       "    .dataframe tbody tr th:only-of-type {\n",
       "        vertical-align: middle;\n",
       "    }\n",
       "\n",
       "    .dataframe tbody tr th {\n",
       "        vertical-align: top;\n",
       "    }\n",
       "\n",
       "    .dataframe thead th {\n",
       "        text-align: right;\n",
       "    }\n",
       "</style>\n",
       "<table border=\"1\" class=\"dataframe\">\n",
       "  <thead>\n",
       "    <tr style=\"text-align: right;\">\n",
       "      <th></th>\n",
       "      <th>Time</th>\n",
       "      <th>V1</th>\n",
       "      <th>V2</th>\n",
       "      <th>V3</th>\n",
       "      <th>V4</th>\n",
       "      <th>V5</th>\n",
       "      <th>V6</th>\n",
       "      <th>V7</th>\n",
       "      <th>V8</th>\n",
       "      <th>V9</th>\n",
       "      <th>...</th>\n",
       "      <th>V22</th>\n",
       "      <th>V23</th>\n",
       "      <th>V24</th>\n",
       "      <th>V25</th>\n",
       "      <th>V26</th>\n",
       "      <th>V27</th>\n",
       "      <th>V28</th>\n",
       "      <th>Amount</th>\n",
       "      <th>Class</th>\n",
       "      <th>time_of_day</th>\n",
       "    </tr>\n",
       "  </thead>\n",
       "  <tbody>\n",
       "    <tr>\n",
       "      <th>0</th>\n",
       "      <td>0.0</td>\n",
       "      <td>-1.359807</td>\n",
       "      <td>-0.072781</td>\n",
       "      <td>2.536347</td>\n",
       "      <td>1.378155</td>\n",
       "      <td>-0.338321</td>\n",
       "      <td>0.462388</td>\n",
       "      <td>0.239599</td>\n",
       "      <td>0.098698</td>\n",
       "      <td>0.363787</td>\n",
       "      <td>...</td>\n",
       "      <td>0.277838</td>\n",
       "      <td>-0.110474</td>\n",
       "      <td>0.066928</td>\n",
       "      <td>0.128539</td>\n",
       "      <td>-0.189115</td>\n",
       "      <td>0.133558</td>\n",
       "      <td>-0.021053</td>\n",
       "      <td>149.62</td>\n",
       "      <td>0</td>\n",
       "      <td>3.0</td>\n",
       "    </tr>\n",
       "    <tr>\n",
       "      <th>2</th>\n",
       "      <td>1.0</td>\n",
       "      <td>-1.358354</td>\n",
       "      <td>-1.340163</td>\n",
       "      <td>1.773209</td>\n",
       "      <td>0.379780</td>\n",
       "      <td>-0.503198</td>\n",
       "      <td>1.800499</td>\n",
       "      <td>0.791461</td>\n",
       "      <td>0.247676</td>\n",
       "      <td>-1.514654</td>\n",
       "      <td>...</td>\n",
       "      <td>0.771679</td>\n",
       "      <td>0.909412</td>\n",
       "      <td>-0.689281</td>\n",
       "      <td>-0.327642</td>\n",
       "      <td>-0.139097</td>\n",
       "      <td>-0.055353</td>\n",
       "      <td>-0.059752</td>\n",
       "      <td>378.66</td>\n",
       "      <td>0</td>\n",
       "      <td>3.0</td>\n",
       "    </tr>\n",
       "    <tr>\n",
       "      <th>3</th>\n",
       "      <td>1.0</td>\n",
       "      <td>-0.966272</td>\n",
       "      <td>-0.185226</td>\n",
       "      <td>1.792993</td>\n",
       "      <td>-0.863291</td>\n",
       "      <td>-0.010309</td>\n",
       "      <td>1.247203</td>\n",
       "      <td>0.237609</td>\n",
       "      <td>0.377436</td>\n",
       "      <td>-1.387024</td>\n",
       "      <td>...</td>\n",
       "      <td>0.005274</td>\n",
       "      <td>-0.190321</td>\n",
       "      <td>-1.175575</td>\n",
       "      <td>0.647376</td>\n",
       "      <td>-0.221929</td>\n",
       "      <td>0.062723</td>\n",
       "      <td>0.061458</td>\n",
       "      <td>123.50</td>\n",
       "      <td>0</td>\n",
       "      <td>3.0</td>\n",
       "    </tr>\n",
       "    <tr>\n",
       "      <th>8</th>\n",
       "      <td>7.0</td>\n",
       "      <td>-0.894286</td>\n",
       "      <td>0.286157</td>\n",
       "      <td>-0.113192</td>\n",
       "      <td>-0.271526</td>\n",
       "      <td>2.669599</td>\n",
       "      <td>3.721818</td>\n",
       "      <td>0.370145</td>\n",
       "      <td>0.851084</td>\n",
       "      <td>-0.392048</td>\n",
       "      <td>...</td>\n",
       "      <td>-0.268092</td>\n",
       "      <td>-0.204233</td>\n",
       "      <td>1.011592</td>\n",
       "      <td>0.373205</td>\n",
       "      <td>-0.384157</td>\n",
       "      <td>0.011747</td>\n",
       "      <td>0.142404</td>\n",
       "      <td>93.20</td>\n",
       "      <td>0</td>\n",
       "      <td>3.0</td>\n",
       "    </tr>\n",
       "    <tr>\n",
       "      <th>12</th>\n",
       "      <td>10.0</td>\n",
       "      <td>1.249999</td>\n",
       "      <td>-1.221637</td>\n",
       "      <td>0.383930</td>\n",
       "      <td>-1.234899</td>\n",
       "      <td>-1.485419</td>\n",
       "      <td>-0.753230</td>\n",
       "      <td>-0.689405</td>\n",
       "      <td>-0.227487</td>\n",
       "      <td>-2.094011</td>\n",
       "      <td>...</td>\n",
       "      <td>-0.483285</td>\n",
       "      <td>0.084668</td>\n",
       "      <td>0.392831</td>\n",
       "      <td>0.161135</td>\n",
       "      <td>-0.354990</td>\n",
       "      <td>0.026416</td>\n",
       "      <td>0.042422</td>\n",
       "      <td>121.50</td>\n",
       "      <td>0</td>\n",
       "      <td>3.0</td>\n",
       "    </tr>\n",
       "  </tbody>\n",
       "</table>\n",
       "<p>5 rows × 32 columns</p>\n",
       "</div>"
      ],
      "text/plain": [
       "    Time        V1        V2        V3        V4        V5        V6  \\\n",
       "0    0.0 -1.359807 -0.072781  2.536347  1.378155 -0.338321  0.462388   \n",
       "2    1.0 -1.358354 -1.340163  1.773209  0.379780 -0.503198  1.800499   \n",
       "3    1.0 -0.966272 -0.185226  1.792993 -0.863291 -0.010309  1.247203   \n",
       "8    7.0 -0.894286  0.286157 -0.113192 -0.271526  2.669599  3.721818   \n",
       "12  10.0  1.249999 -1.221637  0.383930 -1.234899 -1.485419 -0.753230   \n",
       "\n",
       "          V7        V8        V9  ...       V22       V23       V24       V25  \\\n",
       "0   0.239599  0.098698  0.363787  ...  0.277838 -0.110474  0.066928  0.128539   \n",
       "2   0.791461  0.247676 -1.514654  ...  0.771679  0.909412 -0.689281 -0.327642   \n",
       "3   0.237609  0.377436 -1.387024  ...  0.005274 -0.190321 -1.175575  0.647376   \n",
       "8   0.370145  0.851084 -0.392048  ... -0.268092 -0.204233  1.011592  0.373205   \n",
       "12 -0.689405 -0.227487 -2.094011  ... -0.483285  0.084668  0.392831  0.161135   \n",
       "\n",
       "         V26       V27       V28  Amount  Class  time_of_day  \n",
       "0  -0.189115  0.133558 -0.021053  149.62      0          3.0  \n",
       "2  -0.139097 -0.055353 -0.059752  378.66      0          3.0  \n",
       "3  -0.221929  0.062723  0.061458  123.50      0          3.0  \n",
       "8  -0.384157  0.011747  0.142404   93.20      0          3.0  \n",
       "12 -0.354990  0.026416  0.042422  121.50      0          3.0  \n",
       "\n",
       "[5 rows x 32 columns]"
      ]
     },
     "execution_count": 53,
     "metadata": {},
     "output_type": "execute_result"
    }
   ],
   "source": [
    "df_amount_75.head()"
   ]
  },
  {
   "cell_type": "code",
   "execution_count": 54,
   "metadata": {},
   "outputs": [
    {
     "data": {
      "text/html": [
       "<div>\n",
       "<style scoped>\n",
       "    .dataframe tbody tr th:only-of-type {\n",
       "        vertical-align: middle;\n",
       "    }\n",
       "\n",
       "    .dataframe tbody tr th {\n",
       "        vertical-align: top;\n",
       "    }\n",
       "\n",
       "    .dataframe thead th {\n",
       "        text-align: right;\n",
       "    }\n",
       "</style>\n",
       "<table border=\"1\" class=\"dataframe\">\n",
       "  <thead>\n",
       "    <tr style=\"text-align: right;\">\n",
       "      <th></th>\n",
       "      <th>Time</th>\n",
       "      <th>V1</th>\n",
       "      <th>V2</th>\n",
       "      <th>V3</th>\n",
       "      <th>V4</th>\n",
       "      <th>V5</th>\n",
       "      <th>V6</th>\n",
       "      <th>V7</th>\n",
       "      <th>V8</th>\n",
       "      <th>V9</th>\n",
       "      <th>...</th>\n",
       "      <th>V22</th>\n",
       "      <th>V23</th>\n",
       "      <th>V24</th>\n",
       "      <th>V25</th>\n",
       "      <th>V26</th>\n",
       "      <th>V27</th>\n",
       "      <th>V28</th>\n",
       "      <th>Amount</th>\n",
       "      <th>Class</th>\n",
       "      <th>time_of_day</th>\n",
       "    </tr>\n",
       "  </thead>\n",
       "  <tbody>\n",
       "    <tr>\n",
       "      <th>count</th>\n",
       "      <td>93578.000000</td>\n",
       "      <td>93578.000000</td>\n",
       "      <td>93578.000000</td>\n",
       "      <td>93578.000000</td>\n",
       "      <td>93578.000000</td>\n",
       "      <td>93578.000000</td>\n",
       "      <td>93578.000000</td>\n",
       "      <td>93578.000000</td>\n",
       "      <td>93578.000000</td>\n",
       "      <td>93578.000000</td>\n",
       "      <td>...</td>\n",
       "      <td>93578.000000</td>\n",
       "      <td>93578.000000</td>\n",
       "      <td>93578.000000</td>\n",
       "      <td>93578.000000</td>\n",
       "      <td>93578.000000</td>\n",
       "      <td>93578.000000</td>\n",
       "      <td>93578.000000</td>\n",
       "      <td>93578.000000</td>\n",
       "      <td>93578.000000</td>\n",
       "      <td>93578.000000</td>\n",
       "    </tr>\n",
       "    <tr>\n",
       "      <th>mean</th>\n",
       "      <td>93095.339182</td>\n",
       "      <td>-0.208622</td>\n",
       "      <td>-0.845233</td>\n",
       "      <td>-0.103553</td>\n",
       "      <td>-0.005920</td>\n",
       "      <td>-0.428380</td>\n",
       "      <td>0.219803</td>\n",
       "      <td>0.099818</td>\n",
       "      <td>-0.024341</td>\n",
       "      <td>-0.088726</td>\n",
       "      <td>...</td>\n",
       "      <td>0.028325</td>\n",
       "      <td>-0.009325</td>\n",
       "      <td>-0.020773</td>\n",
       "      <td>0.006328</td>\n",
       "      <td>-0.010105</td>\n",
       "      <td>-0.017271</td>\n",
       "      <td>-0.000053</td>\n",
       "      <td>239.031808</td>\n",
       "      <td>0.001924</td>\n",
       "      <td>1.821326</td>\n",
       "    </tr>\n",
       "    <tr>\n",
       "      <th>std</th>\n",
       "      <td>47000.674779</td>\n",
       "      <td>2.282410</td>\n",
       "      <td>2.031874</td>\n",
       "      <td>1.664216</td>\n",
       "      <td>1.489112</td>\n",
       "      <td>1.661819</td>\n",
       "      <td>1.452866</td>\n",
       "      <td>1.583295</td>\n",
       "      <td>1.230387</td>\n",
       "      <td>1.144603</td>\n",
       "      <td>...</td>\n",
       "      <td>0.751830</td>\n",
       "      <td>0.902373</td>\n",
       "      <td>0.620514</td>\n",
       "      <td>0.562429</td>\n",
       "      <td>0.540093</td>\n",
       "      <td>0.446409</td>\n",
       "      <td>0.445322</td>\n",
       "      <td>394.828035</td>\n",
       "      <td>0.043816</td>\n",
       "      <td>0.868538</td>\n",
       "    </tr>\n",
       "    <tr>\n",
       "      <th>min</th>\n",
       "      <td>0.000000</td>\n",
       "      <td>-56.407510</td>\n",
       "      <td>-72.715728</td>\n",
       "      <td>-48.325589</td>\n",
       "      <td>-5.683171</td>\n",
       "      <td>-113.743307</td>\n",
       "      <td>-26.160506</td>\n",
       "      <td>-31.764946</td>\n",
       "      <td>-73.216718</td>\n",
       "      <td>-9.283925</td>\n",
       "      <td>...</td>\n",
       "      <td>-10.933144</td>\n",
       "      <td>-44.807735</td>\n",
       "      <td>-2.824849</td>\n",
       "      <td>-10.295397</td>\n",
       "      <td>-2.604551</td>\n",
       "      <td>-22.565679</td>\n",
       "      <td>-15.430084</td>\n",
       "      <td>50.010000</td>\n",
       "      <td>0.000000</td>\n",
       "      <td>0.000000</td>\n",
       "    </tr>\n",
       "    <tr>\n",
       "      <th>25%</th>\n",
       "      <td>51367.250000</td>\n",
       "      <td>-1.161463</td>\n",
       "      <td>-1.347231</td>\n",
       "      <td>-0.954448</td>\n",
       "      <td>-0.961343</td>\n",
       "      <td>-1.144406</td>\n",
       "      <td>-0.590800</td>\n",
       "      <td>-0.614733</td>\n",
       "      <td>-0.222802</td>\n",
       "      <td>-0.839405</td>\n",
       "      <td>...</td>\n",
       "      <td>-0.450314</td>\n",
       "      <td>-0.212807</td>\n",
       "      <td>-0.366360</td>\n",
       "      <td>-0.309409</td>\n",
       "      <td>-0.369505</td>\n",
       "      <td>-0.090743</td>\n",
       "      <td>-0.044689</td>\n",
       "      <td>78.940000</td>\n",
       "      <td>0.000000</td>\n",
       "      <td>1.000000</td>\n",
       "    </tr>\n",
       "    <tr>\n",
       "      <th>50%</th>\n",
       "      <td>81600.500000</td>\n",
       "      <td>0.161507</td>\n",
       "      <td>-0.638903</td>\n",
       "      <td>0.115416</td>\n",
       "      <td>-0.060742</td>\n",
       "      <td>-0.471086</td>\n",
       "      <td>-0.034586</td>\n",
       "      <td>-0.002425</td>\n",
       "      <td>0.032277</td>\n",
       "      <td>-0.124603</td>\n",
       "      <td>...</td>\n",
       "      <td>0.063300</td>\n",
       "      <td>-0.027841</td>\n",
       "      <td>0.036025</td>\n",
       "      <td>0.053671</td>\n",
       "      <td>-0.123835</td>\n",
       "      <td>-0.015070</td>\n",
       "      <td>0.017650</td>\n",
       "      <td>125.960000</td>\n",
       "      <td>0.000000</td>\n",
       "      <td>2.000000</td>\n",
       "    </tr>\n",
       "    <tr>\n",
       "      <th>75%</th>\n",
       "      <td>137335.000000</td>\n",
       "      <td>1.234458</td>\n",
       "      <td>0.041708</td>\n",
       "      <td>0.967180</td>\n",
       "      <td>0.841238</td>\n",
       "      <td>0.260768</td>\n",
       "      <td>0.704714</td>\n",
       "      <td>0.673724</td>\n",
       "      <td>0.331602</td>\n",
       "      <td>0.659164</td>\n",
       "      <td>...</td>\n",
       "      <td>0.551827</td>\n",
       "      <td>0.174638</td>\n",
       "      <td>0.431259</td>\n",
       "      <td>0.366695</td>\n",
       "      <td>0.309910</td>\n",
       "      <td>0.057031</td>\n",
       "      <td>0.070372</td>\n",
       "      <td>244.450000</td>\n",
       "      <td>0.000000</td>\n",
       "      <td>3.000000</td>\n",
       "    </tr>\n",
       "    <tr>\n",
       "      <th>max</th>\n",
       "      <td>172792.000000</td>\n",
       "      <td>2.347444</td>\n",
       "      <td>18.183626</td>\n",
       "      <td>9.382558</td>\n",
       "      <td>16.875344</td>\n",
       "      <td>34.801666</td>\n",
       "      <td>73.301626</td>\n",
       "      <td>120.589494</td>\n",
       "      <td>20.007208</td>\n",
       "      <td>15.594995</td>\n",
       "      <td>...</td>\n",
       "      <td>10.503090</td>\n",
       "      <td>22.528412</td>\n",
       "      <td>4.584549</td>\n",
       "      <td>7.519589</td>\n",
       "      <td>3.517346</td>\n",
       "      <td>31.612198</td>\n",
       "      <td>33.847808</td>\n",
       "      <td>25691.160000</td>\n",
       "      <td>1.000000</td>\n",
       "      <td>3.000000</td>\n",
       "    </tr>\n",
       "  </tbody>\n",
       "</table>\n",
       "<p>8 rows × 32 columns</p>\n",
       "</div>"
      ],
      "text/plain": [
       "                Time            V1            V2            V3            V4  \\\n",
       "count   93578.000000  93578.000000  93578.000000  93578.000000  93578.000000   \n",
       "mean    93095.339182     -0.208622     -0.845233     -0.103553     -0.005920   \n",
       "std     47000.674779      2.282410      2.031874      1.664216      1.489112   \n",
       "min         0.000000    -56.407510    -72.715728    -48.325589     -5.683171   \n",
       "25%     51367.250000     -1.161463     -1.347231     -0.954448     -0.961343   \n",
       "50%     81600.500000      0.161507     -0.638903      0.115416     -0.060742   \n",
       "75%    137335.000000      1.234458      0.041708      0.967180      0.841238   \n",
       "max    172792.000000      2.347444     18.183626      9.382558     16.875344   \n",
       "\n",
       "                 V5            V6            V7            V8            V9  \\\n",
       "count  93578.000000  93578.000000  93578.000000  93578.000000  93578.000000   \n",
       "mean      -0.428380      0.219803      0.099818     -0.024341     -0.088726   \n",
       "std        1.661819      1.452866      1.583295      1.230387      1.144603   \n",
       "min     -113.743307    -26.160506    -31.764946    -73.216718     -9.283925   \n",
       "25%       -1.144406     -0.590800     -0.614733     -0.222802     -0.839405   \n",
       "50%       -0.471086     -0.034586     -0.002425      0.032277     -0.124603   \n",
       "75%        0.260768      0.704714      0.673724      0.331602      0.659164   \n",
       "max       34.801666     73.301626    120.589494     20.007208     15.594995   \n",
       "\n",
       "       ...           V22           V23           V24           V25  \\\n",
       "count  ...  93578.000000  93578.000000  93578.000000  93578.000000   \n",
       "mean   ...      0.028325     -0.009325     -0.020773      0.006328   \n",
       "std    ...      0.751830      0.902373      0.620514      0.562429   \n",
       "min    ...    -10.933144    -44.807735     -2.824849    -10.295397   \n",
       "25%    ...     -0.450314     -0.212807     -0.366360     -0.309409   \n",
       "50%    ...      0.063300     -0.027841      0.036025      0.053671   \n",
       "75%    ...      0.551827      0.174638      0.431259      0.366695   \n",
       "max    ...     10.503090     22.528412      4.584549      7.519589   \n",
       "\n",
       "                V26           V27           V28        Amount         Class  \\\n",
       "count  93578.000000  93578.000000  93578.000000  93578.000000  93578.000000   \n",
       "mean      -0.010105     -0.017271     -0.000053    239.031808      0.001924   \n",
       "std        0.540093      0.446409      0.445322    394.828035      0.043816   \n",
       "min       -2.604551    -22.565679    -15.430084     50.010000      0.000000   \n",
       "25%       -0.369505     -0.090743     -0.044689     78.940000      0.000000   \n",
       "50%       -0.123835     -0.015070      0.017650    125.960000      0.000000   \n",
       "75%        0.309910      0.057031      0.070372    244.450000      0.000000   \n",
       "max        3.517346     31.612198     33.847808  25691.160000      1.000000   \n",
       "\n",
       "        time_of_day  \n",
       "count  93578.000000  \n",
       "mean       1.821326  \n",
       "std        0.868538  \n",
       "min        0.000000  \n",
       "25%        1.000000  \n",
       "50%        2.000000  \n",
       "75%        3.000000  \n",
       "max        3.000000  \n",
       "\n",
       "[8 rows x 32 columns]"
      ]
     },
     "execution_count": 54,
     "metadata": {},
     "output_type": "execute_result"
    }
   ],
   "source": [
    "df_amount_50.describe()"
   ]
  },
  {
   "cell_type": "code",
   "execution_count": 55,
   "metadata": {},
   "outputs": [
    {
     "name": "stdout",
     "output_type": "stream",
     "text": [
      "<class 'pandas.core.frame.DataFrame'>\n",
      "Int64Index: 134086 entries, 0 to 284806\n",
      "Data columns (total 32 columns):\n",
      "Time           134086 non-null float64\n",
      "V1             134086 non-null float64\n",
      "V2             134086 non-null float64\n",
      "V3             134086 non-null float64\n",
      "V4             134086 non-null float64\n",
      "V5             134086 non-null float64\n",
      "V6             134086 non-null float64\n",
      "V7             134086 non-null float64\n",
      "V8             134086 non-null float64\n",
      "V9             134086 non-null float64\n",
      "V10            134086 non-null float64\n",
      "V11            134086 non-null float64\n",
      "V12            134086 non-null float64\n",
      "V13            134086 non-null float64\n",
      "V14            134086 non-null float64\n",
      "V15            134086 non-null float64\n",
      "V16            134086 non-null float64\n",
      "V17            134086 non-null float64\n",
      "V18            134086 non-null float64\n",
      "V19            134086 non-null float64\n",
      "V20            134086 non-null float64\n",
      "V21            134086 non-null float64\n",
      "V22            134086 non-null float64\n",
      "V23            134086 non-null float64\n",
      "V24            134086 non-null float64\n",
      "V25            134086 non-null float64\n",
      "V26            134086 non-null float64\n",
      "V27            134086 non-null float64\n",
      "V28            134086 non-null float64\n",
      "Amount         134086 non-null float64\n",
      "Class          134086 non-null int64\n",
      "time_of_day    134086 non-null float64\n",
      "dtypes: float64(31), int64(1)\n",
      "memory usage: 33.8 MB\n"
     ]
    }
   ],
   "source": [
    "df_amount_25.info()"
   ]
  },
  {
   "cell_type": "code",
   "execution_count": 56,
   "metadata": {},
   "outputs": [
    {
     "data": {
      "text/plain": [
       "0    183670\n",
       "1       235\n",
       "Name: Class, dtype: int64"
      ]
     },
     "execution_count": 56,
     "metadata": {},
     "output_type": "execute_result"
    }
   ],
   "source": [
    "df_amount_10['Class'].value_counts()"
   ]
  },
  {
   "cell_type": "code",
   "execution_count": 57,
   "metadata": {
    "scrolled": true
   },
   "outputs": [
    {
     "data": {
      "text/plain": [
       "0    253093\n",
       "1       302\n",
       "Name: Class, dtype: int64"
      ]
     },
     "execution_count": 57,
     "metadata": {},
     "output_type": "execute_result"
    }
   ],
   "source": [
    "df_amount_1['Class'].value_counts()"
   ]
  },
  {
   "cell_type": "markdown",
   "metadata": {},
   "source": [
    "## Class Weighting Random Forest "
   ]
  },
  {
   "cell_type": "code",
   "execution_count": 85,
   "metadata": {},
   "outputs": [],
   "source": [
    "def make_class_weight_models(weighting):\n",
    "    #train test split \n",
    "    #create target and feature variables, dropped Time from variables\n",
    "    y = df['Class']\n",
    "    X = df[['V1', 'V2', 'V3', 'V4', 'V5', 'V6', 'V7', 'V8', 'V9', 'V10',\n",
    "       'V11', 'V12', 'V13', 'V14', 'V15', 'V16', 'V17', 'V18', 'V19', 'V20',\n",
    "       'V21', 'V22', 'V23', 'V24', 'V25', 'V26', 'V27', 'V28', 'Amount']]\n",
    "    X_train, X_test, y_train, y_test = train_test_split(X, y, test_size=0.33, random_state=142, stratify = y)\n",
    "    \n",
    "    #build random forest model\n",
    "    forest_weight = RandomForestClassifier(max_depth= 10, bootstrap = True, class_weight=weighting)\n",
    "    forest_weight.fit(X_train, y_train)\n",
    "    train_score = forest_weight.score(X_train, y_train) # Accuracy of training data\n",
    "    test_score = forest_weight.score(X_test, y_test) # Accuracy of test data\n",
    "    \n",
    "    # Prediction\n",
    "    forest_pred = forest_weight.predict(X_test)\n",
    "\n",
    "    # Plot the model\n",
    "    '''plots the importance of each feature.  Useful for something like KNN so you can tell which features are useful '''\n",
    "    n_features = X_train.shape[1]\n",
    "    plt.figure(figsize=(8,8))\n",
    "    plt.barh(range(n_features), forest_weight.feature_importances_, align='center')\n",
    "    plt.yticks(np.arange(n_features), X_train.columns.values)\n",
    "    plt.xlabel(\"Feature importance\")\n",
    "    plt.ylabel(\"Feature\")\n",
    "    \n",
    "    # Print metrics\n",
    "   # print(df_by_size)\n",
    "    print('Train Score: ', train_score) # Accuracy of training data\n",
    "    print('Test Score:', test_score)\n",
    "    print('\\n')\n",
    "    print(confusion_matrix(y_test, forest_pred))\n",
    "    print('\\n')\n",
    "    print(classification_report(y_test, forest_pred))\n",
    "    "
   ]
  },
  {
   "cell_type": "code",
   "execution_count": 86,
   "metadata": {},
   "outputs": [
    {
     "name": "stdout",
     "output_type": "stream",
     "text": [
      "Train Score:  0.9997106725023146\n",
      "Test Score: 0.9995407454875574\n",
      "\n",
      "\n",
      "[[93465     9]\n",
      " [   34   122]]\n",
      "\n",
      "\n",
      "              precision    recall  f1-score   support\n",
      "\n",
      "           0       1.00      1.00      1.00     93474\n",
      "           1       0.93      0.78      0.85       156\n",
      "\n",
      "    accuracy                           1.00     93630\n",
      "   macro avg       0.97      0.89      0.92     93630\n",
      "weighted avg       1.00      1.00      1.00     93630\n",
      "\n"
     ]
    },
    {
     "data": {
      "image/png": "[encoded data removed]",
      "text/plain": [
       "<Figure size 576x576 with 1 Axes>"
      ]
     },
     "metadata": {
      "needs_background": "light"
     },
     "output_type": "display_data"
    }
   ],
   "source": [
    "make_class_weight_models({0: 1, 1: 2})"
   ]
  },
  {
   "cell_type": "code",
   "execution_count": 87,
   "metadata": {},
   "outputs": [
    {
     "name": "stdout",
     "output_type": "stream",
     "text": [
      "Train Score:  0.9997211935022304\n",
      "Test Score: 0.9995941471750507\n",
      "\n",
      "\n",
      "[[93469     5]\n",
      " [   33   123]]\n",
      "\n",
      "\n",
      "              precision    recall  f1-score   support\n",
      "\n",
      "           0       1.00      1.00      1.00     93474\n",
      "           1       0.96      0.79      0.87       156\n",
      "\n",
      "    accuracy                           1.00     93630\n",
      "   macro avg       0.98      0.89      0.93     93630\n",
      "weighted avg       1.00      1.00      1.00     93630\n",
      "\n"
     ]
    },
    {
     "data": {
      "image/png": "[encoded data removed]",
      "text/plain": [
       "<Figure size 576x576 with 1 Axes>"
      ]
     },
     "metadata": {
      "needs_background": "light"
     },
     "output_type": "display_data"
    }
   ],
   "source": [
    "make_class_weight_models({0: 1, 1: 3})"
   ]
  },
  {
   "cell_type": "code",
   "execution_count": 88,
   "metadata": {},
   "outputs": [
    {
     "name": "stdout",
     "output_type": "stream",
     "text": [
      "Train Score:  0.9996948910024409\n",
      "Test Score: 0.9995621061625547\n",
      "\n",
      "\n",
      "[[93463    11]\n",
      " [   30   126]]\n",
      "\n",
      "\n",
      "              precision    recall  f1-score   support\n",
      "\n",
      "           0       1.00      1.00      1.00     93474\n",
      "           1       0.92      0.81      0.86       156\n",
      "\n",
      "    accuracy                           1.00     93630\n",
      "   macro avg       0.96      0.90      0.93     93630\n",
      "weighted avg       1.00      1.00      1.00     93630\n",
      "\n"
     ]
    },
    {
     "data": {
      "image/png": "[encoded data removed]",
      "text/plain": [
       "<Figure size 576x576 with 1 Axes>"
      ]
     },
     "metadata": {
      "needs_background": "light"
     },
     "output_type": "display_data"
    }
   ],
   "source": [
    "make_class_weight_models({0: 1, 1: 4})"
   ]
  },
  {
   "cell_type": "code",
   "execution_count": 89,
   "metadata": {},
   "outputs": [
    {
     "name": "stdout",
     "output_type": "stream",
     "text": [
      "Train Score:  0.9997264540021884\n",
      "Test Score: 0.9995727865000534\n",
      "\n",
      "\n",
      "[[93468     6]\n",
      " [   34   122]]\n",
      "\n",
      "\n",
      "              precision    recall  f1-score   support\n",
      "\n",
      "           0       1.00      1.00      1.00     93474\n",
      "           1       0.95      0.78      0.86       156\n",
      "\n",
      "    accuracy                           1.00     93630\n",
      "   macro avg       0.98      0.89      0.93     93630\n",
      "weighted avg       1.00      1.00      1.00     93630\n",
      "\n"
     ]
    },
    {
     "data": {
      "image/png": "[encoded data removed]",
      "text/plain": [
       "<Figure size 576x576 with 1 Axes>"
      ]
     },
     "metadata": {
      "needs_background": "light"
     },
     "output_type": "display_data"
    }
   ],
   "source": [
    "make_class_weight_models({0: 1, 1: 5})"
   ]
  },
  {
   "cell_type": "code",
   "execution_count": 90,
   "metadata": {},
   "outputs": [
    {
     "name": "stdout",
     "output_type": "stream",
     "text": [
      "Train Score:  0.9997106725023146\n",
      "Test Score: 0.9995727865000534\n",
      "\n",
      "\n",
      "[[93468     6]\n",
      " [   34   122]]\n",
      "\n",
      "\n",
      "              precision    recall  f1-score   support\n",
      "\n",
      "           0       1.00      1.00      1.00     93474\n",
      "           1       0.95      0.78      0.86       156\n",
      "\n",
      "    accuracy                           1.00     93630\n",
      "   macro avg       0.98      0.89      0.93     93630\n",
      "weighted avg       1.00      1.00      1.00     93630\n",
      "\n"
     ]
    },
    {
     "data": {
      "image/png": "[encoded data removed]",
      "text/plain": [
       "<Figure size 576x576 with 1 Axes>"
      ]
     },
     "metadata": {
      "needs_background": "light"
     },
     "output_type": "display_data"
    }
   ],
   "source": [
    "make_class_weight_models({0: 1, 1: 10})"
   ]
  },
  {
   "cell_type": "markdown",
   "metadata": {},
   "source": [
    "## Train-Test Split - Random Forest - Metrics"
   ]
  },
  {
   "cell_type": "code",
   "execution_count": 71,
   "metadata": {},
   "outputs": [],
   "source": [
    "def make_amount_models(df_by_size):\n",
    "    #train test split \n",
    "    #create target and feature variables\n",
    "    y = df_by_size['Class']\n",
    "    X = df_by_size[['Time', 'V1', 'V2', 'V3', 'V4', 'V5', 'V6', 'V7', 'V8', 'V9', 'V10',\n",
    "       'V11', 'V12', 'V13', 'V14', 'V15', 'V16', 'V17', 'V18', 'V19', 'V20',\n",
    "       'V21', 'V22', 'V23', 'V24', 'V25', 'V26', 'V27', 'V28', 'Amount']]\n",
    "    X_train, X_test, y_train, y_test = train_test_split(X, y, test_size=0.33, random_state=142, stratify = y)\n",
    "    \n",
    "    #build random forest model\n",
    "    forest_amount = RandomForestClassifier(n_estimators=100, max_depth= 9)\n",
    "    forest_amount.fit(X_train, y_train)\n",
    "    train_score = forest_amount.score(X_train, y_train) # Accuracy of training data\n",
    "    test_score = forest_amount.score(X_test, y_test) # Accuracy of test data\n",
    "    \n",
    "    # Prediction\n",
    "    forest_pred = forest_amount.predict(X_test)\n",
    "\n",
    "    # Plot the model\n",
    "    '''plots the importance of each feature.  Useful for something like KNN so you can tell which features are useful '''\n",
    "    n_features = X_train.shape[1]\n",
    "    plt.figure(figsize=(8,8))\n",
    "    plt.barh(range(n_features), forest_amount.feature_importances_, align='center')\n",
    "    plt.yticks(np.arange(n_features), X_train.columns.values)\n",
    "    plt.xlabel(\"Feature importance\")\n",
    "    plt.ylabel(\"Feature\")\n",
    "    \n",
    "    # Print metrics\n",
    "   # print(df_by_size)\n",
    "    print('Train Score: ', train_score) # Accuracy of training data\n",
    "    print('Test Score:', test_score)\n",
    "    print('\\n')\n",
    "    print(confusion_matrix(y_test, forest_pred))\n",
    "    print('\\n')\n",
    "    print(classification_report(y_test, forest_pred))\n",
    "    "
   ]
  },
  {
   "cell_type": "code",
   "execution_count": 72,
   "metadata": {},
   "outputs": [
    {
     "name": "stdout",
     "output_type": "stream",
     "text": [
      "Train Score:  0.9996091258820383\n",
      "Test Score: 0.9993735120912166\n",
      "\n",
      "\n",
      "[[23885     2]\n",
      " [   13    43]]\n",
      "\n",
      "\n",
      "              precision    recall  f1-score   support\n",
      "\n",
      "           0       1.00      1.00      1.00     23887\n",
      "           1       0.96      0.77      0.85        56\n",
      "\n",
      "    accuracy                           1.00     23943\n",
      "   macro avg       0.98      0.88      0.93     23943\n",
      "weighted avg       1.00      1.00      1.00     23943\n",
      "\n"
     ]
    },
    {
     "data": {
      "image/png": "[encoded data removed]",
      "text/plain": [
       "<Figure size 576x576 with 1 Axes>"
      ]
     },
     "metadata": {
      "needs_background": "light"
     },
     "output_type": "display_data"
    }
   ],
   "source": [
    "make_amount_models(df_amount_75)"
   ]
  },
  {
   "cell_type": "code",
   "execution_count": 73,
   "metadata": {},
   "outputs": [
    {
     "name": "stdout",
     "output_type": "stream",
     "text": [
      "Train Score:  0.999665055744294\n",
      "Test Score: 0.9994494996923675\n",
      "\n",
      "\n",
      "[[30822     0]\n",
      " [   17    42]]\n",
      "\n",
      "\n",
      "              precision    recall  f1-score   support\n",
      "\n",
      "           0       1.00      1.00      1.00     30822\n",
      "           1       1.00      0.71      0.83        59\n",
      "\n",
      "    accuracy                           1.00     30881\n",
      "   macro avg       1.00      0.86      0.92     30881\n",
      "weighted avg       1.00      1.00      1.00     30881\n",
      "\n"
     ]
    },
    {
     "data": {
      "image/png": "[encoded data removed]",
      "text/plain": [
       "<Figure size 576x576 with 1 Axes>"
      ]
     },
     "metadata": {
      "needs_background": "light"
     },
     "output_type": "display_data"
    }
   ],
   "source": [
    "make_amount_models(df_amount_50)"
   ]
  },
  {
   "cell_type": "code",
   "execution_count": 74,
   "metadata": {},
   "outputs": [
    {
     "name": "stdout",
     "output_type": "stream",
     "text": [
      "Train Score:  0.9997328494940837\n",
      "Test Score: 0.9995480123844607\n",
      "\n",
      "\n",
      "[[44177     3]\n",
      " [   17    52]]\n",
      "\n",
      "\n",
      "              precision    recall  f1-score   support\n",
      "\n",
      "           0       1.00      1.00      1.00     44180\n",
      "           1       0.95      0.75      0.84        69\n",
      "\n",
      "    accuracy                           1.00     44249\n",
      "   macro avg       0.97      0.88      0.92     44249\n",
      "weighted avg       1.00      1.00      1.00     44249\n",
      "\n"
     ]
    },
    {
     "data": {
      "image/png": "[encoded data removed]",
      "text/plain": [
       "<Figure size 576x576 with 1 Axes>"
      ]
     },
     "metadata": {
      "needs_background": "light"
     },
     "output_type": "display_data"
    }
   ],
   "source": [
    "make_amount_models(df_amount_25)"
   ]
  },
  {
   "cell_type": "code",
   "execution_count": 75,
   "metadata": {},
   "outputs": [
    {
     "name": "stdout",
     "output_type": "stream",
     "text": [
      "Train Score:  0.9997808726139462\n",
      "Test Score: 0.9996539735372143\n",
      "\n",
      "\n",
      "[[60608     3]\n",
      " [   18    60]]\n",
      "\n",
      "\n",
      "              precision    recall  f1-score   support\n",
      "\n",
      "           0       1.00      1.00      1.00     60611\n",
      "           1       0.95      0.77      0.85        78\n",
      "\n",
      "    accuracy                           1.00     60689\n",
      "   macro avg       0.98      0.88      0.93     60689\n",
      "weighted avg       1.00      1.00      1.00     60689\n",
      "\n"
     ]
    },
    {
     "data": {
      "image/png": "[encoded data removed]",
      "text/plain": [
       "<Figure size 576x576 with 1 Axes>"
      ]
     },
     "metadata": {
      "needs_background": "light"
     },
     "output_type": "display_data"
    }
   ],
   "source": [
    "make_amount_models(df_amount_10)"
   ]
  },
  {
   "cell_type": "code",
   "execution_count": 76,
   "metadata": {},
   "outputs": [
    {
     "name": "stdout",
     "output_type": "stream",
     "text": [
      "Train Score:  0.9997231613792453\n",
      "Test Score: 0.9996412384448883\n",
      "\n",
      "\n",
      "[[83515     6]\n",
      " [   24    76]]\n",
      "\n",
      "\n",
      "              precision    recall  f1-score   support\n",
      "\n",
      "           0       1.00      1.00      1.00     83521\n",
      "           1       0.93      0.76      0.84       100\n",
      "\n",
      "    accuracy                           1.00     83621\n",
      "   macro avg       0.96      0.88      0.92     83621\n",
      "weighted avg       1.00      1.00      1.00     83621\n",
      "\n"
     ]
    },
    {
     "data": {
      "image/png": "[encoded data removed]",
      "text/plain": [
       "<Figure size 576x576 with 1 Axes>"
      ]
     },
     "metadata": {
      "needs_background": "light"
     },
     "output_type": "display_data"
    }
   ],
   "source": [
    "make_amount_models(df_amount_1)"
   ]
  },
  {
   "cell_type": "code",
   "execution_count": 26,
   "metadata": {},
   "outputs": [],
   "source": [
    "def X_and_y_split(X, y):\n",
    "    X_train, X_test, y_train, y_test = train_test_split(X, y, test_size=0.33, random_state=142, stratify = y)\n",
    "    return X_train, X_test, y_train, y_test"
   ]
  },
  {
   "cell_type": "markdown",
   "metadata": {},
   "source": [
    "# Random Forest"
   ]
  },
  {
   "cell_type": "code",
   "execution_count": 27,
   "metadata": {},
   "outputs": [],
   "source": [
    "# Function to show importance of each feature\n",
    "def plot_feature_importances(model):\n",
    "    '''plots the importance of each feature.  Useful for something like KNN so you can tell which features are useful '''\n",
    "    n_features = X_train.shape[1]\n",
    "    plt.figure(figsize=(8,8))\n",
    "    plt.barh(range(n_features), model.feature_importances_, align='center')\n",
    "    plt.yticks(np.arange(n_features), X_train.columns.values)\n",
    "    plt.xlabel(\"Feature importance\", df_by_size)\n",
    "    plt.ylabel(\"Feature\")\n"
   ]
  },
  {
   "cell_type": "code",
   "execution_count": 31,
   "metadata": {},
   "outputs": [],
   "source": [
    "# Random Forest in code, uses the best model from previous work\n",
    "def random_forest_generator(X_train, X_test, y_train, y_test):\n",
    "    forest_amount = RandomForestClassifier(n_estimators=100, max_depth= 9)\n",
    "    forest_amount.fit(X_train, y_train)\n",
    "    train_score = forest_amount.score(X_train, y_train) # Accuracy of training data\n",
    "    test_score = forest_amount.score(X_test, y_test) # Accuracy of test data\n",
    "    return forest_amount, train_score, test_score, forest_fit\n"
   ]
  },
  {
   "cell_type": "code",
   "execution_count": 33,
   "metadata": {},
   "outputs": [],
   "source": [
    "def print_scores(forest_amount, train_score, test_score):\n",
    "    plot_feature_importances(forest_amount) # plot using function above\n",
    "    print('Train Score: ', train_score(X_train, y_train)) # Accuracy of training data\n",
    "    print('Test Score:', test_score(X_test, y_test))"
   ]
  },
  {
   "cell_type": "code",
   "execution_count": 34,
   "metadata": {},
   "outputs": [],
   "source": [
    "def predictions(forest_fit):\n",
    "    forest_pred = forest.predict(X_test)\n",
    "    return forest_pred"
   ]
  },
  {
   "cell_type": "code",
   "execution_count": 35,
   "metadata": {},
   "outputs": [],
   "source": [
    "def print_metrics(forest_pred):\n",
    "    print(confusion_matrix(y_test, forest_pred))\n",
    "    print('/n')\n",
    "    print(classification_report(y_test, forest_pred))"
   ]
  },
  {
   "cell_type": "code",
   "execution_count": 36,
   "metadata": {
    "scrolled": true
   },
   "outputs": [
    {
     "data": {
      "text/plain": [
       "(            Time         V1         V2        V3        V4        V5  \\\n",
       " 0            0.0  -1.359807  -0.072781  2.536347  1.378155 -0.338321   \n",
       " 1            0.0   1.191857   0.266151  0.166480  0.448154  0.060018   \n",
       " 2            1.0  -1.358354  -1.340163  1.773209  0.379780 -0.503198   \n",
       " 3            1.0  -0.966272  -0.185226  1.792993 -0.863291 -0.010309   \n",
       " 4            2.0  -1.158233   0.877737  1.548718  0.403034 -0.407193   \n",
       " 5            2.0  -0.425966   0.960523  1.141109 -0.168252  0.420987   \n",
       " 6            4.0   1.229658   0.141004  0.045371  1.202613  0.191881   \n",
       " 7            7.0  -0.644269   1.417964  1.074380 -0.492199  0.948934   \n",
       " 8            7.0  -0.894286   0.286157 -0.113192 -0.271526  2.669599   \n",
       " 9            9.0  -0.338262   1.119593  1.044367 -0.222187  0.499361   \n",
       " 10          10.0   1.449044  -1.176339  0.913860 -1.375667 -1.971383   \n",
       " 11          10.0   0.384978   0.616109 -0.874300 -0.094019  2.924584   \n",
       " 12          10.0   1.249999  -1.221637  0.383930 -1.234899 -1.485419   \n",
       " 13          11.0   1.069374   0.287722  0.828613  2.712520 -0.178398   \n",
       " 14          12.0  -2.791855  -0.327771  1.641750  1.767473 -0.136588   \n",
       " 15          12.0  -0.752417   0.345485  2.057323 -1.468643 -1.158394   \n",
       " 16          12.0   1.103215  -0.040296  1.267332  1.289091 -0.735997   \n",
       " 18          14.0  -5.401258  -5.450148  1.186305  1.736239  3.049106   \n",
       " 19          15.0   1.492936  -1.029346  0.454795 -1.438026 -1.555434   \n",
       " 20          16.0   0.694885  -1.361819  1.029221  0.834159 -1.191209   \n",
       " 21          17.0   0.962496   0.328461 -0.171479  2.109204  1.129566   \n",
       " 22          18.0   1.166616   0.502120 -0.067300  2.261569  0.428804   \n",
       " 23          18.0   0.247491   0.277666  1.185471 -0.092603 -1.314394   \n",
       " 25          22.0  -2.074295  -0.121482  1.322021  0.410008  0.295198   \n",
       " 26          23.0   1.173285   0.353498  0.283905  1.133563 -0.172577   \n",
       " 27          23.0   1.322707  -0.174041  0.434555  0.576038 -0.836758   \n",
       " 28          23.0  -0.414289   0.905437  1.727453  1.473471  0.007443   \n",
       " 29          23.0   1.059387  -0.175319  1.266130  1.186110 -0.786002   \n",
       " 30          24.0   1.237429   0.061043  0.380526  0.761564 -0.359771   \n",
       " 31          25.0   1.114009   0.085546  0.493702  1.335760 -0.300189   \n",
       " ...          ...        ...        ...       ...       ...       ...   \n",
       " 284774  172762.0  -0.725459   0.194981 -1.785571 -3.779860  2.177420   \n",
       " 284775  172762.0   1.955547  -0.724606 -1.706511 -0.611145  1.710907   \n",
       " 284776  172762.0  -1.143909   1.780421 -0.454124 -0.814393  0.514689   \n",
       " 284778  172764.0  -0.764523   0.588379 -0.907599 -0.418847  0.901528   \n",
       " 284779  172766.0   1.975178  -0.616244 -2.628295 -0.406246  2.327804   \n",
       " 284780  172766.0  -1.727503   1.108356  2.219561  1.148583 -0.884199   \n",
       " 284781  172766.0  -1.139015  -0.155510  1.894478 -1.138957  1.451777   \n",
       " 284782  172767.0  -0.268061   2.540315 -1.400915  4.846661  0.639105   \n",
       " 284783  172768.0  -1.796092   1.929178 -2.828417 -1.689844  2.199572   \n",
       " 284784  172768.0  -0.669662   0.923769 -1.543167 -1.560729  2.833960   \n",
       " 284785  172768.0   0.032887   0.545338 -1.185844 -1.729828  2.932315   \n",
       " 284786  172768.0  -2.076175   2.142238 -2.522704 -1.888063  1.982785   \n",
       " 284787  172769.0  -1.029719  -1.110670 -0.636179 -0.840816  2.424360   \n",
       " 284788  172770.0   2.007418  -0.280235 -0.208113  0.335261 -0.715798   \n",
       " 284789  172770.0  -0.446951   1.302212 -0.168583  0.981577  0.578957   \n",
       " 284790  172771.0  -0.515513   0.971950 -1.014580 -0.677037  0.912430   \n",
       " 284791  172774.0  -0.863506   0.874701  0.420358 -0.530365  0.356561   \n",
       " 284792  172774.0  -0.724123   1.485216 -1.132218 -0.607190  0.709499   \n",
       " 284793  172775.0   1.971002  -0.699067 -1.697541 -0.617643  1.718797   \n",
       " 284795  172778.0 -12.516732  10.187818 -8.476671 -2.510473 -4.586669   \n",
       " 284796  172780.0   1.884849  -0.143540 -0.999943  1.506772 -0.035300   \n",
       " 284797  172782.0  -0.241923   0.712247  0.399806 -0.463406  0.244531   \n",
       " 284798  172782.0   0.219529   0.881246 -0.635891  0.960928 -0.152971   \n",
       " 284799  172783.0  -1.775135  -0.004235  1.189786  0.331096  1.196063   \n",
       " 284800  172784.0   2.039560  -0.175233 -1.196825  0.234580 -0.008713   \n",
       " 284801  172785.0   0.120316   0.931005 -0.546012 -0.745097  1.130314   \n",
       " 284803  172787.0  -0.732789  -0.055080  2.035030 -0.738589  0.868229   \n",
       " 284804  172788.0   1.919565  -0.301254 -3.249640 -0.557828  2.630515   \n",
       " 284805  172788.0  -0.240440   0.530483  0.702510  0.689799 -0.377961   \n",
       " 284806  172792.0  -0.533413  -0.189733  0.703337 -0.506271 -0.012546   \n",
       " \n",
       "               V6        V7        V8        V9  ...       V20       V21  \\\n",
       " 0       0.462388  0.239599  0.098698  0.363787  ...  0.251412 -0.018307   \n",
       " 1      -0.082361 -0.078803  0.085102 -0.255425  ... -0.069083 -0.225775   \n",
       " 2       1.800499  0.791461  0.247676 -1.514654  ...  0.524980  0.247998   \n",
       " 3       1.247203  0.237609  0.377436 -1.387024  ... -0.208038 -0.108300   \n",
       " 4       0.095921  0.592941 -0.270533  0.817739  ...  0.408542 -0.009431   \n",
       " 5      -0.029728  0.476201  0.260314 -0.568671  ...  0.084968 -0.208254   \n",
       " 6       0.272708 -0.005159  0.081213  0.464960  ... -0.219633 -0.167716   \n",
       " 7       0.428118  1.120631 -3.807864  0.615375  ... -0.156742  1.943465   \n",
       " 8       3.721818  0.370145  0.851084 -0.392048  ...  0.052736 -0.073425   \n",
       " 9      -0.246761  0.651583  0.069539 -0.736727  ...  0.203711 -0.246914   \n",
       " 10     -0.629152 -1.423236  0.048456 -1.720408  ... -0.387226 -0.009302   \n",
       " 11      3.317027  0.470455  0.538247 -0.558895  ...  0.125992  0.049924   \n",
       " 12     -0.753230 -0.689405 -0.227487 -2.094011  ... -0.102756 -0.231809   \n",
       " 13      0.337544 -0.096717  0.115982 -0.221083  ... -0.153197 -0.036876   \n",
       " 14      0.807596 -0.422911 -1.907107  0.755713  ... -1.582122  1.151663   \n",
       " 15     -0.077850 -0.608581  0.003603 -0.436167  ...  0.263451  0.499625   \n",
       " 16      0.288069 -0.586057  0.189380  0.782333  ... -0.113910 -0.024612   \n",
       " 18     -1.763406 -1.559738  0.160842  1.233090  ... -2.196848 -0.503600   \n",
       " 19     -0.720961 -1.080664 -0.053127 -1.978682  ... -0.387910 -0.177650   \n",
       " 20      1.309109 -0.878586  0.445290 -0.446196  ... -0.138334 -0.295583   \n",
       " 21      1.696038  0.107712  0.521502 -1.191311  ... -0.269321  0.143997   \n",
       " 22      0.089474  0.241147  0.138082 -0.989162  ... -0.307169  0.018702   \n",
       " 23     -0.150116 -0.946365 -1.617935  1.544071  ... -0.230983  1.650180   \n",
       " 25     -0.959537  0.543985 -0.104627  0.475664  ... -0.386694 -0.403639   \n",
       " 26     -0.916054  0.369025 -0.327260 -0.246651  ...  0.027878  0.067003   \n",
       " 27     -0.831083 -0.264905 -0.220982 -1.071425  ... -0.522951 -0.284376   \n",
       " 28     -0.200331  0.740228 -0.029247 -0.593392  ...  0.097308  0.077237   \n",
       " 29      0.578435 -0.767084  0.401046  0.699500  ... -0.178023  0.013676   \n",
       " 30     -0.494084  0.006494 -0.133862  0.438810  ... -0.066351 -0.245682   \n",
       " 31     -0.010754 -0.118760  0.188617  0.205687  ... -0.273832 -0.053234   \n",
       " ...          ...       ...       ...       ...  ...       ...       ...   \n",
       " 284774  2.975713 -0.239695  0.912303 -3.159994  ... -0.432377  0.046103   \n",
       " 284775  3.914215 -1.248690  1.054133  1.314064  ... -0.137290  0.193605   \n",
       " 284776 -0.926634  1.196374 -0.349255  0.863877  ...  0.751710  0.173511   \n",
       " 284778 -0.760802  0.758545  0.414698 -0.730854  ...  0.024870  0.003530   \n",
       " 284779  3.664740 -0.533297  0.842937  1.128798  ... -0.168378  0.086043   \n",
       " 284780  0.793083 -0.527298  0.866429  0.853819  ...  0.331940 -0.094708   \n",
       " 284781  0.093598  0.191353  0.092211 -0.062621  ...  0.341409 -0.191027   \n",
       " 284782  0.186479 -0.045911  0.936448 -2.419986  ...  0.111808 -0.263889   \n",
       " 284783  3.123732 -0.270714  1.657495  0.465804  ...  0.319366  0.271170   \n",
       " 284784  3.240843  0.181576  1.282746 -0.893890  ...  0.000965  0.183856   \n",
       " 284785  3.401529  0.337434  0.925377 -0.165663  ...  0.022677 -0.266113   \n",
       " 284786  3.732950 -1.217430 -0.536644  0.272867  ... -0.308523  2.016666   \n",
       " 284787 -2.956733  0.283610 -0.332656 -0.247488  ...  0.218776  0.353722   \n",
       " 284788 -0.751373 -0.458972 -0.140140  0.959971  ... -0.143294 -0.208260   \n",
       " 284789 -0.605641  1.253430 -1.042610 -0.417116  ... -0.203306  0.851800   \n",
       " 284790 -0.316187  0.396137  0.532364 -0.224606  ... -0.177211 -0.280302   \n",
       " 284791 -1.046238  0.757051  0.230473 -0.506856  ... -0.162132 -0.108846   \n",
       " 284792 -0.482638  0.548393  0.343003 -0.226323  ... -0.077202  0.414621   \n",
       " 284793  3.911336 -1.259306  1.056209  1.315006  ... -0.153581  0.188758   \n",
       " 284795 -1.394465 -3.632516  5.498583  4.893089  ...  3.490065 -0.944759   \n",
       " 284796 -0.613638  0.190241 -0.249058  0.666458  ... -0.153997  0.144008   \n",
       " 284797 -1.343668  0.929369 -0.206210  0.106234  ... -0.139512 -0.228876   \n",
       " 284798 -1.014307  0.427126  0.121340 -0.285670  ...  0.006666  0.099936   \n",
       " 284799  5.519980 -1.518185  2.080825  1.159498  ...  0.348176  0.103302   \n",
       " 284800 -0.726571  0.017050 -0.118228  0.435402  ... -0.256922 -0.268048   \n",
       " 284801 -0.235973  0.812722  0.115093 -0.204064  ...  0.000676 -0.314205   \n",
       " 284803  1.058415  0.024330  0.294869  0.584800  ...  0.059616  0.214205   \n",
       " 284804  3.031260 -0.296827  0.708417  0.432454  ...  0.001396  0.232045   \n",
       " 284805  0.623708 -0.686180  0.679145  0.392087  ...  0.127434  0.265245   \n",
       " 284806 -0.649617  1.577006 -0.414650  0.486180  ...  0.382948  0.261057   \n",
       " \n",
       "              V22       V23       V24       V25       V26       V27       V28  \\\n",
       " 0       0.277838 -0.110474  0.066928  0.128539 -0.189115  0.133558 -0.021053   \n",
       " 1      -0.638672  0.101288 -0.339846  0.167170  0.125895 -0.008983  0.014724   \n",
       " 2       0.771679  0.909412 -0.689281 -0.327642 -0.139097 -0.055353 -0.059752   \n",
       " 3       0.005274 -0.190321 -1.175575  0.647376 -0.221929  0.062723  0.061458   \n",
       " 4       0.798278 -0.137458  0.141267 -0.206010  0.502292  0.219422  0.215153   \n",
       " 5      -0.559825 -0.026398 -0.371427 -0.232794  0.105915  0.253844  0.081080   \n",
       " 6      -0.270710 -0.154104 -0.780055  0.750137 -0.257237  0.034507  0.005168   \n",
       " 7      -1.015455  0.057504 -0.649709 -0.415267 -0.051634 -1.206921 -1.085339   \n",
       " 8      -0.268092 -0.204233  1.011592  0.373205 -0.384157  0.011747  0.142404   \n",
       " 9      -0.633753 -0.120794 -0.385050 -0.069733  0.094199  0.246219  0.083076   \n",
       " 10      0.313894  0.027740  0.500512  0.251367 -0.129478  0.042850  0.016253   \n",
       " 11      0.238422  0.009130  0.996710 -0.767315 -0.492208  0.042472 -0.054337   \n",
       " 12     -0.483285  0.084668  0.392831  0.161135 -0.354990  0.026416  0.042422   \n",
       " 13      0.074412 -0.071407  0.104744  0.548265  0.104094  0.021491  0.021293   \n",
       " 14      0.222182  1.020586  0.028317 -0.232746 -0.235557 -0.164778 -0.030154   \n",
       " 15      1.353650 -0.256573 -0.065084 -0.039124 -0.087086 -0.180998  0.129394   \n",
       " 16      0.196002  0.013802  0.103758  0.364298 -0.382261  0.092809  0.037051   \n",
       " 18      0.984460  2.458589  0.042119 -0.481631 -0.621272  0.392053  0.949594   \n",
       " 19     -0.175074  0.040002  0.295814  0.332931 -0.220385  0.022298  0.007602   \n",
       " 20     -0.571955 -0.050881 -0.304215  0.072001 -0.422234  0.086553  0.063499   \n",
       " 21      0.402492 -0.048508 -1.371866  0.390814  0.199964  0.016371 -0.014605   \n",
       " 22     -0.061972 -0.103855 -0.370415  0.603200  0.108556 -0.040521 -0.011418   \n",
       " 23      0.200454 -0.185353  0.423073  0.820591 -0.227632  0.336634  0.250475   \n",
       " 25     -0.227404  0.742435  0.398535  0.249212  0.274404  0.359969  0.243232   \n",
       " 26      0.227812 -0.150487  0.435045  0.724825 -0.337082  0.016368  0.030041   \n",
       " 27     -0.323357 -0.037710  0.347151  0.559639 -0.280158  0.042335  0.028822   \n",
       " 28      0.457331 -0.038500  0.642522 -0.183891 -0.277464  0.182687  0.152665   \n",
       " 29      0.213734  0.014462  0.002951  0.294638 -0.395070  0.081461  0.024220   \n",
       " 30     -0.530900 -0.044265  0.079168  0.509136  0.288858 -0.022705  0.011836   \n",
       " 31     -0.004760 -0.031470  0.198054  0.565007 -0.337718  0.029057  0.004453   \n",
       " ...          ...       ...       ...       ...       ...       ...       ...   \n",
       " 284774  0.102480 -0.461027  0.717647  1.253036  0.207138 -0.630549 -0.163911   \n",
       " 284775  0.690196  0.155951  0.726775 -0.061219 -0.192666  0.060347 -0.042323   \n",
       " 284776  1.491648 -0.156954  0.053810 -0.630124 -0.301970  0.425852 -0.109068   \n",
       " 284778 -0.431876  0.141759  0.587119 -0.200998  0.267337 -0.152951 -0.065285   \n",
       " 284779  0.543613 -0.032129  0.768379  0.477688 -0.031833  0.014151 -0.066542   \n",
       " 284780  0.236818 -0.204280  1.158185  0.627801 -0.399981  0.510818  0.233265   \n",
       " 284781 -0.631658 -0.147249  0.212931  0.354257 -0.241068 -0.161717 -0.149188   \n",
       " 284782 -0.857904  0.235172 -0.681794 -0.668894  0.044657 -0.066751 -0.072447   \n",
       " 284783  1.145750  0.084783  0.721269 -0.529906 -0.240117  0.129126 -0.080620   \n",
       " 284784  0.202670 -0.373023  0.651122  1.073823  0.844590 -0.286676 -0.187719   \n",
       " 284785 -0.716336  0.108519  0.688519 -0.460220  0.161939  0.265368  0.090245   \n",
       " 284786 -1.588269  0.588482  0.632444 -0.201064  0.199251  0.438657  0.172923   \n",
       " 284787  0.488487  0.293632  0.107812 -0.935586  1.138216  0.025271  0.255347   \n",
       " 284788 -0.430347  0.416765  0.064819 -0.608337  0.268436 -0.028069 -0.041367   \n",
       " 284789  0.305268 -0.148093 -0.038712  0.010209 -0.362666  0.503092  0.229921   \n",
       " 284790 -0.849919  0.300245  0.000607 -0.376379  0.128660 -0.015205 -0.021486   \n",
       " 284791 -0.480820 -0.074513 -0.003988 -0.113149  0.280378 -0.077310  0.023079   \n",
       " 284792  1.307511 -0.059545  0.242669 -0.665424 -0.269869 -0.170579 -0.030692   \n",
       " 284793  0.694418  0.163002  0.726365 -0.058282 -0.191813  0.061858 -0.043716   \n",
       " 284795 -1.565026  0.890675 -1.253276  1.786717  0.320763  2.090712  1.232864   \n",
       " 284796  0.634646 -0.042114 -0.053206  0.316403 -0.461441  0.018265 -0.041068   \n",
       " 284797 -0.514376  0.279598  0.371441 -0.559238  0.113144  0.131507  0.081265   \n",
       " 284798  0.337120  0.251791  0.057688 -1.508368  0.144023  0.181205  0.215243   \n",
       " 284799  0.654850 -0.348929  0.745323  0.704545 -0.127579  0.454379  0.130308   \n",
       " 284800 -0.717211  0.297930 -0.359769 -0.315610  0.201114 -0.080826 -0.075071   \n",
       " 284801 -0.808520  0.050343  0.102800 -0.435870  0.124079  0.217940  0.068803   \n",
       " 284803  0.924384  0.012463 -1.016226 -0.606624 -0.395255  0.068472 -0.053527   \n",
       " 284804  0.578229 -0.037501  0.640134  0.265745 -0.087371  0.004455 -0.026561   \n",
       " 284805  0.800049 -0.163298  0.123205 -0.569159  0.546668  0.108821  0.104533   \n",
       " 284806  0.643078  0.376777  0.008797 -0.473649 -0.818267 -0.002415  0.013649   \n",
       " \n",
       "         Amount  \n",
       " 0       149.62  \n",
       " 1         2.69  \n",
       " 2       378.66  \n",
       " 3       123.50  \n",
       " 4        69.99  \n",
       " 5         3.67  \n",
       " 6         4.99  \n",
       " 7        40.80  \n",
       " 8        93.20  \n",
       " 9         3.68  \n",
       " 10        7.80  \n",
       " 11        9.99  \n",
       " 12      121.50  \n",
       " 13       27.50  \n",
       " 14       58.80  \n",
       " 15       15.99  \n",
       " 16       12.99  \n",
       " 18       46.80  \n",
       " 19        5.00  \n",
       " 20      231.71  \n",
       " 21       34.09  \n",
       " 22        2.28  \n",
       " 23       22.75  \n",
       " 25       26.43  \n",
       " 26       41.88  \n",
       " 27       16.00  \n",
       " 28       33.00  \n",
       " 29       12.99  \n",
       " 30       17.28  \n",
       " 31        4.45  \n",
       " ...        ...  \n",
       " 284774    7.00  \n",
       " 284775   12.99  \n",
       " 284776    7.22  \n",
       " 284778   80.00  \n",
       " 284779   25.00  \n",
       " 284780   30.00  \n",
       " 284781   13.00  \n",
       " 284782   12.82  \n",
       " 284783   11.46  \n",
       " 284784   40.00  \n",
       " 284785    1.79  \n",
       " 284786    8.95  \n",
       " 284787    9.99  \n",
       " 284788    3.99  \n",
       " 284789   60.50  \n",
       " 284790    9.81  \n",
       " 284791   20.32  \n",
       " 284792    3.99  \n",
       " 284793    4.99  \n",
       " 284795    9.87  \n",
       " 284796   60.00  \n",
       " 284797    5.49  \n",
       " 284798   24.05  \n",
       " 284799   79.99  \n",
       " 284800    2.68  \n",
       " 284801    2.69  \n",
       " 284803   24.79  \n",
       " 284804   67.88  \n",
       " 284805   10.00  \n",
       " 284806  217.00  \n",
       " \n",
       " [253395 rows x 30 columns], 0         0\n",
       " 1         0\n",
       " 2         0\n",
       " 3         0\n",
       " 4         0\n",
       " 5         0\n",
       " 6         0\n",
       " 7         0\n",
       " 8         0\n",
       " 9         0\n",
       " 10        0\n",
       " 11        0\n",
       " 12        0\n",
       " 13        0\n",
       " 14        0\n",
       " 15        0\n",
       " 16        0\n",
       " 18        0\n",
       " 19        0\n",
       " 20        0\n",
       " 21        0\n",
       " 22        0\n",
       " 23        0\n",
       " 25        0\n",
       " 26        0\n",
       " 27        0\n",
       " 28        0\n",
       " 29        0\n",
       " 30        0\n",
       " 31        0\n",
       "          ..\n",
       " 284774    0\n",
       " 284775    0\n",
       " 284776    0\n",
       " 284778    0\n",
       " 284779    0\n",
       " 284780    0\n",
       " 284781    0\n",
       " 284782    0\n",
       " 284783    0\n",
       " 284784    0\n",
       " 284785    0\n",
       " 284786    0\n",
       " 284787    0\n",
       " 284788    0\n",
       " 284789    0\n",
       " 284790    0\n",
       " 284791    0\n",
       " 284792    0\n",
       " 284793    0\n",
       " 284795    0\n",
       " 284796    0\n",
       " 284797    0\n",
       " 284798    0\n",
       " 284799    0\n",
       " 284800    0\n",
       " 284801    0\n",
       " 284803    0\n",
       " 284804    0\n",
       " 284805    0\n",
       " 284806    0\n",
       " Name: Class, Length: 253395, dtype: int64)"
      ]
     },
     "execution_count": 36,
     "metadata": {},
     "output_type": "execute_result"
    }
   ],
   "source": [
    "target_feat_split(df_amount_75)\n",
    "target_feat_split(df_amount_50)\n",
    "target_feat_split(df_amount_25)\n",
    "target_feat_split(df_amount_10)\n",
    "target_feat_split(df_amount_1)"
   ]
  },
  {
   "cell_type": "code",
   "execution_count": null,
   "metadata": {},
   "outputs": [],
   "source": [
    "df_random = df_cleaned.copy()"
   ]
  },
  {
   "cell_type": "code",
   "execution_count": null,
   "metadata": {},
   "outputs": [],
   "source": [
    "# Adam's Code\n",
    "\n",
    "classifier = DecisionTreeClassifier(random_state=10)\n",
    "classifier.fit(X_train, y_train)\n",
    "y_pred = classifier.predict(X_test)\n",
    "\n",
    "acc = accuracy_score(y_test,y_pred) * 100\n",
    "print(\"Accuracy is : {}%\".format(round(acc, 2)))\n",
    "    # Check the AUC for predictions\n",
    "false_positive_rate, true_positive_rate, thresholds = roc_curve(y_test, y_pred)\n",
    "roc_auc = auc(false_positive_rate, true_positive_rate)\n",
    "print(\"\\nAUC is :{0}\".format(round(roc_auc,2)))\n",
    "    # Create and print a confusion matrix\n",
    "print('\\nConfusion Matrix')\n",
    "print('----------------')\n",
    "pd.crosstab(y_test, y_pred, rownames=['True'], colnames=['Predicted'], margins=True)\n",
    "\n",
    "# Train a DT classifier\n",
    "classifier2 = DecisionTreeClassifier(random_state=10, criterion='entropy')\n",
    "classifier2.fit(X_train, y_train)\n",
    "    # Make predictions for test data\n",
    "y_pred = classifier2.predict(X_test)\n",
    "    # Calculate Accuracy\n",
    "acc = accuracy_score(y_test,y_pred) * 100\n",
    "print(\"Accuracy is :{0}\".format(acc))\n",
    "    # Check the AUC for predictions\n",
    "false_positive_rate, true_positive_rate, thresholds = roc_curve(y_test, y_pred)\n",
    "roc_auc = auc(false_positive_rate, true_positive_rate)\n",
    "print(\"\\nAUC is :{0}\".format(round(roc_auc,2)))\n",
    "    # Create and print a confusion matrix\n",
    "print('\\nConfusion Matrix')\n",
    "print('----------------')\n",
    "print(pd.crosstab(y_test, y_pred, rownames=['True'], colnames=['Predicted'], margins=True))\n",
    "\n",
    "\n",
    "# Function for plotting feature importance\n",
    "classifier2.feature_importances_ # How much does this feature reduce entropy\n",
    "    # Function to show importance of each feature\n",
    "def plot_feature_importances(model):\n",
    "    '''plots the importance of each feature.  Useful for something like KNN so you can tell which features are useful '''\n",
    "    n_features = X_train.shape[1]\n",
    "    plt.figure(figsize=(8,8))\n",
    "    plt.barh(range(n_features), model.feature_importances_, align='center')\n",
    "    plt.yticks(np.arange(n_features), X_train.columns.values)\n",
    "    plt.xlabel(\"Feature importance\")\n",
    "    plt.ylabel(\"Feature\")\n",
    "plot_feature_importances(classifier2)\n",
    "    # confusion matrix print\n",
    "pred = classifier2.predict(X_test)\n",
    "print(confusion_matrix(y_test, pred))\n",
    "print(classification_report(y_test, pred))\n",
    "\n",
    "# Random Forest in code\n",
    "forest = RandomForestClassifier(n_estimators=100, max_depth= 5)\n",
    "forest.fit(X_train, y_train)\n",
    "forest.score(X_train, y_train) # Accuracy of training data\n",
    "forest.score(X_test, y_test) # Accuracy of test data\n",
    "plot_feature_importances(forest) # plot using function above\n",
    "\n",
    "# Fine Tune the model\n",
    "forest_2 = RandomForestClassifier(n_estimators = 10, max_features= 2, max_depth= 2)\n",
    "forest_2.fit(X_train, y_train)\n",
    "forest_2.score(X_train, y_train) # Accuracy of training data\n",
    "forest_2.score(X_test, y_test)  # Accuracy of test data\n",
    "\n",
    "# Use GridsearchCV to find the best Number\n",
    "from sklearn.model_selection import GridSearchCV\n",
    "param_grid = {'n_estimators': [30, 100, 300], 'min_samples_split': [2, 4, 6], 'min_samples_leaf': [2, 4, 6]}\n",
    "gs = GridSearchCV(forest, param_grid, cv=5)\n",
    "gs.fit(X_train, y_train)\n",
    "print('Mean accuracy on the given test data and labels:', gs.score(X_test, y_test))\n",
    "print('The best parameters are:', gs.best_params_)\n"
   ]
  },
  {
   "cell_type": "code",
   "execution_count": 39,
   "metadata": {},
   "outputs": [],
   "source": [
    "target = df['Class']\n",
    "feat = df[['Time', 'V1', 'V2', 'V3', 'V4', 'V5', 'V6', 'V7', 'V8', 'V9', 'V10',\n",
    "       'V11', 'V12', 'V13', 'V14', 'V15', 'V16', 'V17', 'V18', 'V19', 'V20',\n",
    "       'V21', 'V22', 'V23', 'V24', 'V25', 'V26', 'V27', 'V28', 'Amount']]"
   ]
  },
  {
   "cell_type": "code",
   "execution_count": 51,
   "metadata": {},
   "outputs": [],
   "source": [
    "featcor = feat.corr()"
   ]
  },
  {
   "cell_type": "code",
   "execution_count": 52,
   "metadata": {},
   "outputs": [
    {
     "data": {
      "text/plain": [
       "<matplotlib.axes._subplots.AxesSubplot at 0x1c22752fd0>"
      ]
     },
     "execution_count": 52,
     "metadata": {},
     "output_type": "execute_result"
    },
    {
     "data": {
      "image/png": "[encoded data removed]",
      "text/plain": [
       "<Figure size 432x288 with 2 Axes>"
      ]
     },
     "metadata": {
      "needs_background": "light"
     },
     "output_type": "display_data"
    }
   ],
   "source": [
    "#Nothing is highly correlated\n",
    "sns.heatmap(featcor)"
   ]
  },
  {
   "cell_type": "code",
   "execution_count": 85,
   "metadata": {},
   "outputs": [],
   "source": [
    "X = feat\n",
    "y = target\n",
    "\n",
    "X_train, X_test, y_train, y_test = train_test_split(X, y, test_size=0.33, random_state=101, stratify = y)"
   ]
  },
  {
   "cell_type": "markdown",
   "metadata": {},
   "source": [
    "## First try at Random Forests"
   ]
  },
  {
   "cell_type": "code",
   "execution_count": 54,
   "metadata": {},
   "outputs": [
    {
     "data": {
      "image/png": "[encoded data removed]",
      "text/plain": [
       "<Figure size 576x576 with 1 Axes>"
      ]
     },
     "metadata": {
      "needs_background": "light"
     },
     "output_type": "display_data"
    }
   ],
   "source": [
    "#First try at Random Forests\n",
    "# Random Forest in code\n",
    "forest = RandomForestClassifier(n_estimators=100, max_depth= 5)\n",
    "forest.fit(X_train, y_train)\n",
    "forest.score(X_train, y_train) # Accuracy of training data\n",
    "forest.score(X_test, y_test) # Accuracy of test data\n",
    "\n",
    "plot_feature_importances(forest) # plot using function above"
   ]
  },
  {
   "cell_type": "code",
   "execution_count": 55,
   "metadata": {},
   "outputs": [
    {
     "name": "stdout",
     "output_type": "stream",
     "text": [
      "Train Forest Score:  0.9995686390034509\n",
      "Test Forest Score: 0.9994339421125708\n"
     ]
    }
   ],
   "source": [
    "print('Train Forest Score: ', forest.score(X_train, y_train)) # Accuracy of training data\n",
    "print('Test Forest Score:', forest.score(X_test, y_test))"
   ]
  },
  {
   "cell_type": "code",
   "execution_count": 56,
   "metadata": {},
   "outputs": [],
   "source": [
    "forest_pred = forest.predict(X_test)"
   ]
  },
  {
   "cell_type": "code",
   "execution_count": 57,
   "metadata": {
    "scrolled": true
   },
   "outputs": [
    {
     "name": "stdout",
     "output_type": "stream",
     "text": [
      "[[93477     6]\n",
      " [   47   100]]\n",
      "/n\n",
      "              precision    recall  f1-score   support\n",
      "\n",
      "           0       1.00      1.00      1.00     93483\n",
      "           1       0.94      0.68      0.79       147\n",
      "\n",
      "    accuracy                           1.00     93630\n",
      "   macro avg       0.97      0.84      0.90     93630\n",
      "weighted avg       1.00      1.00      1.00     93630\n",
      "\n"
     ]
    }
   ],
   "source": [
    "print(confusion_matrix(y_test, forest_pred))\n",
    "print('/n')\n",
    "print(classification_report(y_test, forest_pred))"
   ]
  },
  {
   "cell_type": "code",
   "execution_count": 58,
   "metadata": {},
   "outputs": [
    {
     "data": {
      "image/png": "[encoded data removed]",
      "text/plain": [
       "<Figure size 576x576 with 1 Axes>"
      ]
     },
     "metadata": {
      "needs_background": "light"
     },
     "output_type": "display_data"
    }
   ],
   "source": [
    "# Second try - Different parameters\n",
    "forest_2 = RandomForestClassifier(n_estimators = 10, max_features=2, max_depth= 2)\n",
    "forest_2.fit(X_train, y_train)\n",
    "forest_2.score(X_train, y_train) # Accuracy of training data\n",
    "forest_2.score(X_test, y_test)  # Accuracy of test data\n",
    "\n",
    "plot_feature_importances(forest_2)"
   ]
  },
  {
   "cell_type": "code",
   "execution_count": 59,
   "metadata": {},
   "outputs": [
    {
     "name": "stdout",
     "output_type": "stream",
     "text": [
      "Train Forest_2 Score:  0.998684875010521\n",
      "Test Forest_2 Score: 0.9987504005126562\n"
     ]
    }
   ],
   "source": [
    "print('Train Forest_2 Score: ', forest_2.score(X_train, y_train)) # Accuracy of training data\n",
    "print('Test Forest_2 Score:', forest_2.score(X_test, y_test))"
   ]
  },
  {
   "cell_type": "code",
   "execution_count": 60,
   "metadata": {},
   "outputs": [],
   "source": [
    "forest_2_pred = forest_2.predict(X_test)"
   ]
  },
  {
   "cell_type": "code",
   "execution_count": 61,
   "metadata": {},
   "outputs": [
    {
     "name": "stdout",
     "output_type": "stream",
     "text": [
      "[[93477     6]\n",
      " [   47   100]]\n",
      "/n\n",
      "              precision    recall  f1-score   support\n",
      "\n",
      "           0       1.00      1.00      1.00     93483\n",
      "           1       0.94      0.68      0.79       147\n",
      "\n",
      "    accuracy                           1.00     93630\n",
      "   macro avg       0.97      0.84      0.90     93630\n",
      "weighted avg       1.00      1.00      1.00     93630\n",
      "\n"
     ]
    }
   ],
   "source": [
    "print(confusion_matrix(y_test, forest_pred))\n",
    "print('/n')\n",
    "print(classification_report(y_test, forest_pred))"
   ]
  },
  {
   "cell_type": "code",
   "execution_count": 76,
   "metadata": {},
   "outputs": [
    {
     "name": "stdout",
     "output_type": "stream",
     "text": [
      "Collecting imbalanced-learn\n",
      "\u001b[?25l  Downloading https://files.pythonhosted.org/packages/e6/62/08c14224a7e242df2cef7b312d2ef821c3931ec9b015ff93bb52ec8a10a3/imbalanced_learn-0.5.0-py3-none-any.whl (173kB)\n",
      "\u001b[K    100% |████████████████████████████████| 174kB 3.5MB/s ta 0:00:01\n",
      "\u001b[?25hRequirement already satisfied, skipping upgrade: scipy>=0.17 in /anaconda3/lib/python3.7/site-packages (from imbalanced-learn) (1.2.1)\n",
      "Requirement already satisfied, skipping upgrade: joblib>=0.11 in /anaconda3/lib/python3.7/site-packages (from imbalanced-learn) (0.13.2)\n",
      "Requirement already satisfied, skipping upgrade: numpy>=1.11 in /anaconda3/lib/python3.7/site-packages (from imbalanced-learn) (1.16.2)\n",
      "Collecting scikit-learn>=0.21 (from imbalanced-learn)\n",
      "\u001b[?25l  Downloading https://files.pythonhosted.org/packages/aa/7d/6c71c35c201f6d5cec318c7ed7841317adbf291513742865ed8904ae4ea9/scikit_learn-0.21.2-cp37-cp37m-macosx_10_6_intel.macosx_10_9_intel.macosx_10_9_x86_64.macosx_10_10_intel.macosx_10_10_x86_64.whl (10.5MB)\n",
      "\u001b[K    100% |████████████████████████████████| 10.5MB 1.8MB/s ta 0:00:01\n",
      "\u001b[?25hInstalling collected packages: scikit-learn, imbalanced-learn\n",
      "  Found existing installation: scikit-learn 0.20.3\n",
      "    Uninstalling scikit-learn-0.20.3:\n",
      "      Successfully uninstalled scikit-learn-0.20.3\n",
      "Successfully installed imbalanced-learn-0.5.0 scikit-learn-0.21.2\n",
      "Note: you may need to restart the kernel to use updated packages.\n"
     ]
    }
   ],
   "source": [
    "pip install -U imbalanced-learn"
   ]
  },
  {
   "cell_type": "code",
   "execution_count": 62,
   "metadata": {},
   "outputs": [
    {
     "data": {
      "text/plain": [
       "{'criterion': 'gini', 'max_depth': 10, 'min_samples_split': 10}"
      ]
     },
     "execution_count": 62,
     "metadata": {},
     "output_type": "execute_result"
    }
   ],
   "source": [
    "#generated three terms that are the best, but could not get it work in models later\n",
    "rtc = RandomForestClassifier()\n",
    "\n",
    "param_grid = {\n",
    "    \"criterion\": [\"gini\", \"entropy\"],\n",
    "    \"max_depth\": [1, 2, 5, 10],\n",
    "    \"min_samples_split\": [2, 5, 10, 20]\n",
    "}\n",
    "\n",
    "gs_tree = GridSearchCV(rtc, param_grid, cv=3)\n",
    "gs_tree.fit(X_train, y_train)\n",
    "\n",
    "gs_tree.best_params_\n"
   ]
  },
  {
   "cell_type": "code",
   "execution_count": 63,
   "metadata": {},
   "outputs": [
    {
     "name": "stdout",
     "output_type": "stream",
     "text": [
      "Train gs_tree Score:  0.9996580675027354\n",
      "Test gs_tree Score: 0.9994873438000641\n"
     ]
    }
   ],
   "source": [
    "print('Train gs_tree Score: ', gs_tree.score(X_train, y_train)) # Accuracy of training data\n",
    "print('Test gs_tree Score:', gs_tree.score(X_test, y_test))"
   ]
  },
  {
   "cell_type": "code",
   "execution_count": 64,
   "metadata": {},
   "outputs": [],
   "source": [
    "gs_tree_pred = gs_tree.predict(X_test)"
   ]
  },
  {
   "cell_type": "code",
   "execution_count": 65,
   "metadata": {},
   "outputs": [
    {
     "name": "stdout",
     "output_type": "stream",
     "text": [
      "[[93477     6]\n",
      " [   42   105]]\n",
      "/n\n",
      "              precision    recall  f1-score   support\n",
      "\n",
      "           0       1.00      1.00      1.00     93483\n",
      "           1       0.95      0.71      0.81       147\n",
      "\n",
      "    accuracy                           1.00     93630\n",
      "   macro avg       0.97      0.86      0.91     93630\n",
      "weighted avg       1.00      1.00      1.00     93630\n",
      "\n"
     ]
    }
   ],
   "source": [
    "print(confusion_matrix(y_test, gs_tree_pred))\n",
    "print('/n')\n",
    "print(classification_report(y_test, gs_tree_pred))"
   ]
  },
  {
   "cell_type": "code",
   "execution_count": 66,
   "metadata": {},
   "outputs": [
    {
     "data": {
      "text/plain": [
       "GridSearchCV(cv=3, error_score='raise-deprecating',\n",
       "             estimator=RandomForestClassifier(bootstrap=True, class_weight=None,\n",
       "                                              criterion='gini', max_depth=None,\n",
       "                                              max_features='auto',\n",
       "                                              max_leaf_nodes=None,\n",
       "                                              min_impurity_decrease=0.0,\n",
       "                                              min_impurity_split=None,\n",
       "                                              min_samples_leaf=1,\n",
       "                                              min_samples_split=2,\n",
       "                                              min_weight_fraction_leaf=0.0,\n",
       "                                              n_estimators='warn', n_jobs=None,\n",
       "                                              oob_score=False,\n",
       "                                              random_state=None, verbose=0,\n",
       "                                              warm_start=False),\n",
       "             iid='warn', n_jobs=None,\n",
       "             param_grid={'criterion': ['gini', 'gini'], 'max_depth': [10, 10],\n",
       "                         'min_samples_split': [10, 10]},\n",
       "             pre_dispatch='2*n_jobs', refit=True, return_train_score=False,\n",
       "             scoring=None, verbose=0)"
      ]
     },
     "execution_count": 66,
     "metadata": {},
     "output_type": "execute_result"
    }
   ],
   "source": [
    "#using values from grid search\n",
    "#Continued to error out using values from grid search\n",
    "rtc = RandomForestClassifier()\n",
    "param_grid = {'criterion': ['gini', 'gini'], 'max_depth': [10, 10], 'min_samples_split': [10, 10]}\n",
    "gs_best = GridSearchCV(rtc, param_grid, cv=3)\n",
    "gs_best.fit(X_train, y_train)\n"
   ]
  },
  {
   "cell_type": "code",
   "execution_count": 166,
   "metadata": {},
   "outputs": [
    {
     "data": {
      "image/png": "[encoded data removed]",
      "text/plain": [
       "<Figure size 576x576 with 1 Axes>"
      ]
     },
     "metadata": {
      "needs_background": "light"
     },
     "output_type": "display_data"
    }
   ],
   "source": [
    "# Random Forest in code, uses the best model from above\n",
    "forest_amount = RandomForestClassifier(n_estimators=100, max_depth= 9)\n",
    "forest_amount.fit(X_train, y_train)\n",
    "forest_amount.score(X_train, y_train) # Accuracy of training data\n",
    "forest_amount.score(X_test, y_test) # Accuracy of test data\n",
    "\n",
    "plot_feature_importances(forest_amount) # plot using function above"
   ]
  },
  {
   "cell_type": "code",
   "execution_count": 167,
   "metadata": {},
   "outputs": [
    {
     "name": "stdout",
     "output_type": "stream",
     "text": [
      "Train forest_amount Score:  0.9995679812380424\n",
      "Test forest_amount Score: 0.999331746230631\n"
     ]
    }
   ],
   "source": [
    "print('Train forest_amount Score: ', forest_amount.score(X_train, y_train)) # Accuracy of training data\n",
    "print('Test forest_amount Score:', forest_amount.score(X_test, y_test))"
   ]
  },
  {
   "cell_type": "code",
   "execution_count": 168,
   "metadata": {},
   "outputs": [],
   "source": [
    "forest_amount_pred = forest_amount.predict(X_test)"
   ]
  },
  {
   "cell_type": "code",
   "execution_count": 169,
   "metadata": {},
   "outputs": [
    {
     "name": "stdout",
     "output_type": "stream",
     "text": [
      "[[23883     4]\n",
      " [   12    44]]\n",
      "/n\n",
      "              precision    recall  f1-score   support\n",
      "\n",
      "           0       1.00      1.00      1.00     23887\n",
      "           1       0.92      0.79      0.85        56\n",
      "\n",
      "    accuracy                           1.00     23943\n",
      "   macro avg       0.96      0.89      0.92     23943\n",
      "weighted avg       1.00      1.00      1.00     23943\n",
      "\n"
     ]
    }
   ],
   "source": [
    "print(confusion_matrix(y_test, forest_amount_pred))\n",
    "print('/n')\n",
    "print(classification_report(y_test, forest_amount_pred))"
   ]
  },
  {
   "cell_type": "code",
   "execution_count": null,
   "metadata": {},
   "outputs": [],
   "source": []
  },
  {
   "cell_type": "code",
   "execution_count": null,
   "metadata": {},
   "outputs": [],
   "source": []
  },
  {
   "cell_type": "code",
   "execution_count": null,
   "metadata": {},
   "outputs": [],
   "source": []
  },
  {
   "cell_type": "code",
   "execution_count": 137,
   "metadata": {},
   "outputs": [],
   "source": [
    "from imblearn.ensemble import BalancedRandomForestClassifier\n",
    "from sklearn.datasets import make_classification"
   ]
  },
  {
   "cell_type": "code",
   "execution_count": 138,
   "metadata": {},
   "outputs": [],
   "source": [
    "X, y = make_classification(n_samples=1000, n_informative=4, random_state=101)"
   ]
  },
  {
   "cell_type": "code",
   "execution_count": 140,
   "metadata": {},
   "outputs": [],
   "source": [
    "brf = BalancedRandomForestClassifier(criterion='gini', max_depth=10, min_samples_split=5)"
   ]
  },
  {
   "cell_type": "code",
   "execution_count": 141,
   "metadata": {},
   "outputs": [
    {
     "ename": "RecursionError",
     "evalue": "maximum recursion depth exceeded",
     "output_type": "error",
     "traceback": [
      "\u001b[0;31m---------------------------------------------------------------------------\u001b[0m",
      "\u001b[0;31mRecursionError\u001b[0m                            Traceback (most recent call last)",
      "\u001b[0;32m/anaconda3/lib/python3.7/site-packages/IPython/core/formatters.py\u001b[0m in \u001b[0;36m__call__\u001b[0;34m(self, obj)\u001b[0m\n\u001b[1;32m    700\u001b[0m                 \u001b[0mtype_pprinters\u001b[0m\u001b[0;34m=\u001b[0m\u001b[0mself\u001b[0m\u001b[0;34m.\u001b[0m\u001b[0mtype_printers\u001b[0m\u001b[0;34m,\u001b[0m\u001b[0;34m\u001b[0m\u001b[0;34m\u001b[0m\u001b[0m\n\u001b[1;32m    701\u001b[0m                 deferred_pprinters=self.deferred_printers)\n\u001b[0;32m--> 702\u001b[0;31m             \u001b[0mprinter\u001b[0m\u001b[0;34m.\u001b[0m\u001b[0mpretty\u001b[0m\u001b[0;34m(\u001b[0m\u001b[0mobj\u001b[0m\u001b[0;34m)\u001b[0m\u001b[0;34m\u001b[0m\u001b[0;34m\u001b[0m\u001b[0m\n\u001b[0m\u001b[1;32m    703\u001b[0m             \u001b[0mprinter\u001b[0m\u001b[0;34m.\u001b[0m\u001b[0mflush\u001b[0m\u001b[0;34m(\u001b[0m\u001b[0;34m)\u001b[0m\u001b[0;34m\u001b[0m\u001b[0;34m\u001b[0m\u001b[0m\n\u001b[1;32m    704\u001b[0m             \u001b[0;32mreturn\u001b[0m \u001b[0mstream\u001b[0m\u001b[0;34m.\u001b[0m\u001b[0mgetvalue\u001b[0m\u001b[0;34m(\u001b[0m\u001b[0;34m)\u001b[0m\u001b[0;34m\u001b[0m\u001b[0;34m\u001b[0m\u001b[0m\n",
      "\u001b[0;32m/anaconda3/lib/python3.7/site-packages/IPython/lib/pretty.py\u001b[0m in \u001b[0;36mpretty\u001b[0;34m(self, obj)\u001b[0m\n\u001b[1;32m    400\u001b[0m                         \u001b[0;32mif\u001b[0m \u001b[0mcls\u001b[0m \u001b[0;32mis\u001b[0m \u001b[0;32mnot\u001b[0m \u001b[0mobject\u001b[0m\u001b[0;31m \u001b[0m\u001b[0;31m\\\u001b[0m\u001b[0;34m\u001b[0m\u001b[0;34m\u001b[0m\u001b[0m\n\u001b[1;32m    401\u001b[0m                                 \u001b[0;32mand\u001b[0m \u001b[0mcallable\u001b[0m\u001b[0;34m(\u001b[0m\u001b[0mcls\u001b[0m\u001b[0;34m.\u001b[0m\u001b[0m__dict__\u001b[0m\u001b[0;34m.\u001b[0m\u001b[0mget\u001b[0m\u001b[0;34m(\u001b[0m\u001b[0;34m'__repr__'\u001b[0m\u001b[0;34m)\u001b[0m\u001b[0;34m)\u001b[0m\u001b[0;34m:\u001b[0m\u001b[0;34m\u001b[0m\u001b[0;34m\u001b[0m\u001b[0m\n\u001b[0;32m--> 402\u001b[0;31m                             \u001b[0;32mreturn\u001b[0m \u001b[0m_repr_pprint\u001b[0m\u001b[0;34m(\u001b[0m\u001b[0mobj\u001b[0m\u001b[0;34m,\u001b[0m \u001b[0mself\u001b[0m\u001b[0;34m,\u001b[0m \u001b[0mcycle\u001b[0m\u001b[0;34m)\u001b[0m\u001b[0;34m\u001b[0m\u001b[0;34m\u001b[0m\u001b[0m\n\u001b[0m\u001b[1;32m    403\u001b[0m \u001b[0;34m\u001b[0m\u001b[0m\n\u001b[1;32m    404\u001b[0m             \u001b[0;32mreturn\u001b[0m \u001b[0m_default_pprint\u001b[0m\u001b[0;34m(\u001b[0m\u001b[0mobj\u001b[0m\u001b[0;34m,\u001b[0m \u001b[0mself\u001b[0m\u001b[0;34m,\u001b[0m \u001b[0mcycle\u001b[0m\u001b[0;34m)\u001b[0m\u001b[0;34m\u001b[0m\u001b[0;34m\u001b[0m\u001b[0m\n",
      "\u001b[0;32m/anaconda3/lib/python3.7/site-packages/IPython/lib/pretty.py\u001b[0m in \u001b[0;36m_repr_pprint\u001b[0;34m(obj, p, cycle)\u001b[0m\n\u001b[1;32m    695\u001b[0m     \u001b[0;34m\"\"\"A pprint that just redirects to the normal repr function.\"\"\"\u001b[0m\u001b[0;34m\u001b[0m\u001b[0;34m\u001b[0m\u001b[0m\n\u001b[1;32m    696\u001b[0m     \u001b[0;31m# Find newlines and replace them with p.break_()\u001b[0m\u001b[0;34m\u001b[0m\u001b[0;34m\u001b[0m\u001b[0;34m\u001b[0m\u001b[0m\n\u001b[0;32m--> 697\u001b[0;31m     \u001b[0moutput\u001b[0m \u001b[0;34m=\u001b[0m \u001b[0mrepr\u001b[0m\u001b[0;34m(\u001b[0m\u001b[0mobj\u001b[0m\u001b[0;34m)\u001b[0m\u001b[0;34m\u001b[0m\u001b[0;34m\u001b[0m\u001b[0m\n\u001b[0m\u001b[1;32m    698\u001b[0m     \u001b[0;32mfor\u001b[0m \u001b[0midx\u001b[0m\u001b[0;34m,\u001b[0m\u001b[0moutput_line\u001b[0m \u001b[0;32min\u001b[0m \u001b[0menumerate\u001b[0m\u001b[0;34m(\u001b[0m\u001b[0moutput\u001b[0m\u001b[0;34m.\u001b[0m\u001b[0msplitlines\u001b[0m\u001b[0;34m(\u001b[0m\u001b[0;34m)\u001b[0m\u001b[0;34m)\u001b[0m\u001b[0;34m:\u001b[0m\u001b[0;34m\u001b[0m\u001b[0;34m\u001b[0m\u001b[0m\n\u001b[1;32m    699\u001b[0m         \u001b[0;32mif\u001b[0m \u001b[0midx\u001b[0m\u001b[0;34m:\u001b[0m\u001b[0;34m\u001b[0m\u001b[0;34m\u001b[0m\u001b[0m\n",
      "\u001b[0;32m/anaconda3/lib/python3.7/site-packages/sklearn/base.py\u001b[0m in \u001b[0;36m__repr__\u001b[0;34m(self, N_CHAR_MAX)\u001b[0m\n\u001b[1;32m    249\u001b[0m             n_max_elements_to_show=N_MAX_ELEMENTS_TO_SHOW)\n\u001b[1;32m    250\u001b[0m \u001b[0;34m\u001b[0m\u001b[0m\n\u001b[0;32m--> 251\u001b[0;31m         \u001b[0mrepr_\u001b[0m \u001b[0;34m=\u001b[0m \u001b[0mpp\u001b[0m\u001b[0;34m.\u001b[0m\u001b[0mpformat\u001b[0m\u001b[0;34m(\u001b[0m\u001b[0mself\u001b[0m\u001b[0;34m)\u001b[0m\u001b[0;34m\u001b[0m\u001b[0;34m\u001b[0m\u001b[0m\n\u001b[0m\u001b[1;32m    252\u001b[0m \u001b[0;34m\u001b[0m\u001b[0m\n\u001b[1;32m    253\u001b[0m         \u001b[0;31m# Use bruteforce ellipsis when there are a lot of non-blank characters\u001b[0m\u001b[0;34m\u001b[0m\u001b[0;34m\u001b[0m\u001b[0;34m\u001b[0m\u001b[0m\n",
      "\u001b[0;32m/anaconda3/lib/python3.7/pprint.py\u001b[0m in \u001b[0;36mpformat\u001b[0;34m(self, object)\u001b[0m\n\u001b[1;32m    142\u001b[0m     \u001b[0;32mdef\u001b[0m \u001b[0mpformat\u001b[0m\u001b[0;34m(\u001b[0m\u001b[0mself\u001b[0m\u001b[0;34m,\u001b[0m \u001b[0mobject\u001b[0m\u001b[0;34m)\u001b[0m\u001b[0;34m:\u001b[0m\u001b[0;34m\u001b[0m\u001b[0;34m\u001b[0m\u001b[0m\n\u001b[1;32m    143\u001b[0m         \u001b[0msio\u001b[0m \u001b[0;34m=\u001b[0m \u001b[0m_StringIO\u001b[0m\u001b[0;34m(\u001b[0m\u001b[0;34m)\u001b[0m\u001b[0;34m\u001b[0m\u001b[0;34m\u001b[0m\u001b[0m\n\u001b[0;32m--> 144\u001b[0;31m         \u001b[0mself\u001b[0m\u001b[0;34m.\u001b[0m\u001b[0m_format\u001b[0m\u001b[0;34m(\u001b[0m\u001b[0mobject\u001b[0m\u001b[0;34m,\u001b[0m \u001b[0msio\u001b[0m\u001b[0;34m,\u001b[0m \u001b[0;36m0\u001b[0m\u001b[0;34m,\u001b[0m \u001b[0;36m0\u001b[0m\u001b[0;34m,\u001b[0m \u001b[0;34m{\u001b[0m\u001b[0;34m}\u001b[0m\u001b[0;34m,\u001b[0m \u001b[0;36m0\u001b[0m\u001b[0;34m)\u001b[0m\u001b[0;34m\u001b[0m\u001b[0;34m\u001b[0m\u001b[0m\n\u001b[0m\u001b[1;32m    145\u001b[0m         \u001b[0;32mreturn\u001b[0m \u001b[0msio\u001b[0m\u001b[0;34m.\u001b[0m\u001b[0mgetvalue\u001b[0m\u001b[0;34m(\u001b[0m\u001b[0;34m)\u001b[0m\u001b[0;34m\u001b[0m\u001b[0;34m\u001b[0m\u001b[0m\n\u001b[1;32m    146\u001b[0m \u001b[0;34m\u001b[0m\u001b[0m\n",
      "\u001b[0;32m/anaconda3/lib/python3.7/pprint.py\u001b[0m in \u001b[0;36m_format\u001b[0;34m(self, object, stream, indent, allowance, context, level)\u001b[0m\n\u001b[1;32m    159\u001b[0m             \u001b[0mself\u001b[0m\u001b[0;34m.\u001b[0m\u001b[0m_readable\u001b[0m \u001b[0;34m=\u001b[0m \u001b[0;32mFalse\u001b[0m\u001b[0;34m\u001b[0m\u001b[0;34m\u001b[0m\u001b[0m\n\u001b[1;32m    160\u001b[0m             \u001b[0;32mreturn\u001b[0m\u001b[0;34m\u001b[0m\u001b[0;34m\u001b[0m\u001b[0m\n\u001b[0;32m--> 161\u001b[0;31m         \u001b[0mrep\u001b[0m \u001b[0;34m=\u001b[0m \u001b[0mself\u001b[0m\u001b[0;34m.\u001b[0m\u001b[0m_repr\u001b[0m\u001b[0;34m(\u001b[0m\u001b[0mobject\u001b[0m\u001b[0;34m,\u001b[0m \u001b[0mcontext\u001b[0m\u001b[0;34m,\u001b[0m \u001b[0mlevel\u001b[0m\u001b[0;34m)\u001b[0m\u001b[0;34m\u001b[0m\u001b[0;34m\u001b[0m\u001b[0m\n\u001b[0m\u001b[1;32m    162\u001b[0m         \u001b[0mmax_width\u001b[0m \u001b[0;34m=\u001b[0m \u001b[0mself\u001b[0m\u001b[0;34m.\u001b[0m\u001b[0m_width\u001b[0m \u001b[0;34m-\u001b[0m \u001b[0mindent\u001b[0m \u001b[0;34m-\u001b[0m \u001b[0mallowance\u001b[0m\u001b[0;34m\u001b[0m\u001b[0;34m\u001b[0m\u001b[0m\n\u001b[1;32m    163\u001b[0m         \u001b[0;32mif\u001b[0m \u001b[0mlen\u001b[0m\u001b[0;34m(\u001b[0m\u001b[0mrep\u001b[0m\u001b[0;34m)\u001b[0m \u001b[0;34m>\u001b[0m \u001b[0mmax_width\u001b[0m\u001b[0;34m:\u001b[0m\u001b[0;34m\u001b[0m\u001b[0;34m\u001b[0m\u001b[0m\n",
      "\u001b[0;32m/anaconda3/lib/python3.7/pprint.py\u001b[0m in \u001b[0;36m_repr\u001b[0;34m(self, object, context, level)\u001b[0m\n\u001b[1;32m    391\u001b[0m     \u001b[0;32mdef\u001b[0m \u001b[0m_repr\u001b[0m\u001b[0;34m(\u001b[0m\u001b[0mself\u001b[0m\u001b[0;34m,\u001b[0m \u001b[0mobject\u001b[0m\u001b[0;34m,\u001b[0m \u001b[0mcontext\u001b[0m\u001b[0;34m,\u001b[0m \u001b[0mlevel\u001b[0m\u001b[0;34m)\u001b[0m\u001b[0;34m:\u001b[0m\u001b[0;34m\u001b[0m\u001b[0;34m\u001b[0m\u001b[0m\n\u001b[1;32m    392\u001b[0m         repr, readable, recursive = self.format(object, context.copy(),\n\u001b[0;32m--> 393\u001b[0;31m                                                 self._depth, level)\n\u001b[0m\u001b[1;32m    394\u001b[0m         \u001b[0;32mif\u001b[0m \u001b[0;32mnot\u001b[0m \u001b[0mreadable\u001b[0m\u001b[0;34m:\u001b[0m\u001b[0;34m\u001b[0m\u001b[0;34m\u001b[0m\u001b[0m\n\u001b[1;32m    395\u001b[0m             \u001b[0mself\u001b[0m\u001b[0;34m.\u001b[0m\u001b[0m_readable\u001b[0m \u001b[0;34m=\u001b[0m \u001b[0;32mFalse\u001b[0m\u001b[0;34m\u001b[0m\u001b[0;34m\u001b[0m\u001b[0m\n",
      "\u001b[0;32m/anaconda3/lib/python3.7/site-packages/sklearn/utils/_pprint.py\u001b[0m in \u001b[0;36mformat\u001b[0;34m(self, object, context, maxlevels, level)\u001b[0m\n\u001b[1;32m    168\u001b[0m     \u001b[0;32mdef\u001b[0m \u001b[0mformat\u001b[0m\u001b[0;34m(\u001b[0m\u001b[0mself\u001b[0m\u001b[0;34m,\u001b[0m \u001b[0mobject\u001b[0m\u001b[0;34m,\u001b[0m \u001b[0mcontext\u001b[0m\u001b[0;34m,\u001b[0m \u001b[0mmaxlevels\u001b[0m\u001b[0;34m,\u001b[0m \u001b[0mlevel\u001b[0m\u001b[0;34m)\u001b[0m\u001b[0;34m:\u001b[0m\u001b[0;34m\u001b[0m\u001b[0;34m\u001b[0m\u001b[0m\n\u001b[1;32m    169\u001b[0m         return _safe_repr(object, context, maxlevels, level,\n\u001b[0;32m--> 170\u001b[0;31m                           changed_only=self._changed_only)\n\u001b[0m\u001b[1;32m    171\u001b[0m \u001b[0;34m\u001b[0m\u001b[0m\n\u001b[1;32m    172\u001b[0m     def _pprint_estimator(self, object, stream, indent, allowance, context,\n",
      "\u001b[0;32m/anaconda3/lib/python3.7/site-packages/sklearn/utils/_pprint.py\u001b[0m in \u001b[0;36m_safe_repr\u001b[0;34m(object, context, maxlevels, level, changed_only)\u001b[0m\n\u001b[1;32m    432\u001b[0m                 recursive)\n\u001b[1;32m    433\u001b[0m \u001b[0;34m\u001b[0m\u001b[0m\n\u001b[0;32m--> 434\u001b[0;31m     \u001b[0mrep\u001b[0m \u001b[0;34m=\u001b[0m \u001b[0mrepr\u001b[0m\u001b[0;34m(\u001b[0m\u001b[0mobject\u001b[0m\u001b[0;34m)\u001b[0m\u001b[0;34m\u001b[0m\u001b[0;34m\u001b[0m\u001b[0m\n\u001b[0m\u001b[1;32m    435\u001b[0m     \u001b[0;32mreturn\u001b[0m \u001b[0mrep\u001b[0m\u001b[0;34m,\u001b[0m \u001b[0;34m(\u001b[0m\u001b[0mrep\u001b[0m \u001b[0;32mand\u001b[0m \u001b[0;32mnot\u001b[0m \u001b[0mrep\u001b[0m\u001b[0;34m.\u001b[0m\u001b[0mstartswith\u001b[0m\u001b[0;34m(\u001b[0m\u001b[0;34m'<'\u001b[0m\u001b[0;34m)\u001b[0m\u001b[0;34m)\u001b[0m\u001b[0;34m,\u001b[0m \u001b[0;32mFalse\u001b[0m\u001b[0;34m\u001b[0m\u001b[0;34m\u001b[0m\u001b[0m\n",
      "... last 6 frames repeated, from the frame below ...\n",
      "\u001b[0;32m/anaconda3/lib/python3.7/site-packages/sklearn/base.py\u001b[0m in \u001b[0;36m__repr__\u001b[0;34m(self, N_CHAR_MAX)\u001b[0m\n\u001b[1;32m    249\u001b[0m             n_max_elements_to_show=N_MAX_ELEMENTS_TO_SHOW)\n\u001b[1;32m    250\u001b[0m \u001b[0;34m\u001b[0m\u001b[0m\n\u001b[0;32m--> 251\u001b[0;31m         \u001b[0mrepr_\u001b[0m \u001b[0;34m=\u001b[0m \u001b[0mpp\u001b[0m\u001b[0;34m.\u001b[0m\u001b[0mpformat\u001b[0m\u001b[0;34m(\u001b[0m\u001b[0mself\u001b[0m\u001b[0;34m)\u001b[0m\u001b[0;34m\u001b[0m\u001b[0;34m\u001b[0m\u001b[0m\n\u001b[0m\u001b[1;32m    252\u001b[0m \u001b[0;34m\u001b[0m\u001b[0m\n\u001b[1;32m    253\u001b[0m         \u001b[0;31m# Use bruteforce ellipsis when there are a lot of non-blank characters\u001b[0m\u001b[0;34m\u001b[0m\u001b[0;34m\u001b[0m\u001b[0;34m\u001b[0m\u001b[0m\n",
      "\u001b[0;31mRecursionError\u001b[0m: maximum recursion depth exceeded"
     ]
    }
   ],
   "source": [
    "brf.fit(X_train, y_train)"
   ]
  },
  {
   "cell_type": "code",
   "execution_count": 115,
   "metadata": {},
   "outputs": [],
   "source": [
    "brf_y_pred = brf.predict(X_test)"
   ]
  },
  {
   "cell_type": "code",
   "execution_count": 139,
   "metadata": {},
   "outputs": [
    {
     "ename": "NotFittedError",
     "evalue": "This BalancedRandomForestClassifier instance is not fitted yet. Call 'fit' with appropriate arguments before using this method.",
     "output_type": "error",
     "traceback": [
      "\u001b[0;31m---------------------------------------------------------------------------\u001b[0m",
      "\u001b[0;31mNotFittedError\u001b[0m                            Traceback (most recent call last)",
      "\u001b[0;32m<ipython-input-139-0c39c682597e>\u001b[0m in \u001b[0;36m<module>\u001b[0;34m\u001b[0m\n\u001b[1;32m      1\u001b[0m \u001b[0mbrf\u001b[0m \u001b[0;34m=\u001b[0m \u001b[0mBalancedRandomForestClassifier\u001b[0m\u001b[0;34m(\u001b[0m\u001b[0mcriterion\u001b[0m\u001b[0;34m=\u001b[0m\u001b[0;34m'gini'\u001b[0m\u001b[0;34m,\u001b[0m \u001b[0mmax_depth\u001b[0m\u001b[0;34m=\u001b[0m\u001b[0;36m10\u001b[0m\u001b[0;34m,\u001b[0m \u001b[0mmin_samples_split\u001b[0m\u001b[0;34m=\u001b[0m\u001b[0;36m5\u001b[0m\u001b[0;34m)\u001b[0m\u001b[0;34m\u001b[0m\u001b[0;34m\u001b[0m\u001b[0m\n\u001b[0;32m----> 2\u001b[0;31m \u001b[0my_pred\u001b[0m \u001b[0;34m=\u001b[0m \u001b[0mbrf\u001b[0m\u001b[0;34m.\u001b[0m\u001b[0mpredict\u001b[0m\u001b[0;34m(\u001b[0m\u001b[0mX_test\u001b[0m\u001b[0;34m)\u001b[0m\u001b[0;34m\u001b[0m\u001b[0;34m\u001b[0m\u001b[0m\n\u001b[0m\u001b[1;32m      3\u001b[0m \u001b[0mprint\u001b[0m\u001b[0;34m(\u001b[0m\u001b[0;34m'Balanced Random Forest Accuracy Score: '\u001b[0m\u001b[0;34m,\u001b[0m \u001b[0mbalanced_accuracy_score\u001b[0m\u001b[0;34m(\u001b[0m\u001b[0my_test\u001b[0m\u001b[0;34m,\u001b[0m \u001b[0my_pred\u001b[0m\u001b[0;34m)\u001b[0m\u001b[0;34m)\u001b[0m\u001b[0;34m\u001b[0m\u001b[0;34m\u001b[0m\u001b[0m\n\u001b[1;32m      4\u001b[0m \u001b[0mprint\u001b[0m\u001b[0;34m(\u001b[0m\u001b[0;34m'\\n'\u001b[0m\u001b[0;34m)\u001b[0m\u001b[0;34m\u001b[0m\u001b[0;34m\u001b[0m\u001b[0m\n\u001b[1;32m      5\u001b[0m \u001b[0mprint\u001b[0m\u001b[0;34m(\u001b[0m\u001b[0;34m'Balanced Random Forest Feature Importances: '\u001b[0m\u001b[0;34m,\u001b[0m \u001b[0mbrf\u001b[0m\u001b[0;34m.\u001b[0m\u001b[0mfeature_importances_\u001b[0m\u001b[0;34m)\u001b[0m\u001b[0;34m\u001b[0m\u001b[0;34m\u001b[0m\u001b[0m\n",
      "\u001b[0;32m/anaconda3/lib/python3.7/site-packages/sklearn/ensemble/forest.py\u001b[0m in \u001b[0;36mpredict\u001b[0;34m(self, X)\u001b[0m\n\u001b[1;32m    543\u001b[0m             \u001b[0mThe\u001b[0m \u001b[0mpredicted\u001b[0m \u001b[0mclasses\u001b[0m\u001b[0;34m.\u001b[0m\u001b[0;34m\u001b[0m\u001b[0;34m\u001b[0m\u001b[0m\n\u001b[1;32m    544\u001b[0m         \"\"\"\n\u001b[0;32m--> 545\u001b[0;31m         \u001b[0mproba\u001b[0m \u001b[0;34m=\u001b[0m \u001b[0mself\u001b[0m\u001b[0;34m.\u001b[0m\u001b[0mpredict_proba\u001b[0m\u001b[0;34m(\u001b[0m\u001b[0mX\u001b[0m\u001b[0;34m)\u001b[0m\u001b[0;34m\u001b[0m\u001b[0;34m\u001b[0m\u001b[0m\n\u001b[0m\u001b[1;32m    546\u001b[0m \u001b[0;34m\u001b[0m\u001b[0m\n\u001b[1;32m    547\u001b[0m         \u001b[0;32mif\u001b[0m \u001b[0mself\u001b[0m\u001b[0;34m.\u001b[0m\u001b[0mn_outputs_\u001b[0m \u001b[0;34m==\u001b[0m \u001b[0;36m1\u001b[0m\u001b[0;34m:\u001b[0m\u001b[0;34m\u001b[0m\u001b[0;34m\u001b[0m\u001b[0m\n",
      "\u001b[0;32m/anaconda3/lib/python3.7/site-packages/sklearn/ensemble/forest.py\u001b[0m in \u001b[0;36mpredict_proba\u001b[0;34m(self, X)\u001b[0m\n\u001b[1;32m    584\u001b[0m             \u001b[0mclasses\u001b[0m \u001b[0mcorresponds\u001b[0m \u001b[0mto\u001b[0m \u001b[0mthat\u001b[0m \u001b[0;32min\u001b[0m \u001b[0mthe\u001b[0m \u001b[0mattribute\u001b[0m\u001b[0;31m \u001b[0m\u001b[0;31m`\u001b[0m\u001b[0mclasses_\u001b[0m\u001b[0;31m`\u001b[0m\u001b[0;34m.\u001b[0m\u001b[0;34m\u001b[0m\u001b[0;34m\u001b[0m\u001b[0m\n\u001b[1;32m    585\u001b[0m         \"\"\"\n\u001b[0;32m--> 586\u001b[0;31m         \u001b[0mcheck_is_fitted\u001b[0m\u001b[0;34m(\u001b[0m\u001b[0mself\u001b[0m\u001b[0;34m,\u001b[0m \u001b[0;34m'estimators_'\u001b[0m\u001b[0;34m)\u001b[0m\u001b[0;34m\u001b[0m\u001b[0;34m\u001b[0m\u001b[0m\n\u001b[0m\u001b[1;32m    587\u001b[0m         \u001b[0;31m# Check data\u001b[0m\u001b[0;34m\u001b[0m\u001b[0;34m\u001b[0m\u001b[0;34m\u001b[0m\u001b[0m\n\u001b[1;32m    588\u001b[0m         \u001b[0mX\u001b[0m \u001b[0;34m=\u001b[0m \u001b[0mself\u001b[0m\u001b[0;34m.\u001b[0m\u001b[0m_validate_X_predict\u001b[0m\u001b[0;34m(\u001b[0m\u001b[0mX\u001b[0m\u001b[0;34m)\u001b[0m\u001b[0;34m\u001b[0m\u001b[0;34m\u001b[0m\u001b[0m\n",
      "\u001b[0;32m/anaconda3/lib/python3.7/site-packages/sklearn/utils/validation.py\u001b[0m in \u001b[0;36mcheck_is_fitted\u001b[0;34m(estimator, attributes, msg, all_or_any)\u001b[0m\n\u001b[1;32m    912\u001b[0m \u001b[0;34m\u001b[0m\u001b[0m\n\u001b[1;32m    913\u001b[0m     \u001b[0;32mif\u001b[0m \u001b[0;32mnot\u001b[0m \u001b[0mall_or_any\u001b[0m\u001b[0;34m(\u001b[0m\u001b[0;34m[\u001b[0m\u001b[0mhasattr\u001b[0m\u001b[0;34m(\u001b[0m\u001b[0mestimator\u001b[0m\u001b[0;34m,\u001b[0m \u001b[0mattr\u001b[0m\u001b[0;34m)\u001b[0m \u001b[0;32mfor\u001b[0m \u001b[0mattr\u001b[0m \u001b[0;32min\u001b[0m \u001b[0mattributes\u001b[0m\u001b[0;34m]\u001b[0m\u001b[0;34m)\u001b[0m\u001b[0;34m:\u001b[0m\u001b[0;34m\u001b[0m\u001b[0;34m\u001b[0m\u001b[0m\n\u001b[0;32m--> 914\u001b[0;31m         \u001b[0;32mraise\u001b[0m \u001b[0mNotFittedError\u001b[0m\u001b[0;34m(\u001b[0m\u001b[0mmsg\u001b[0m \u001b[0;34m%\u001b[0m \u001b[0;34m{\u001b[0m\u001b[0;34m'name'\u001b[0m\u001b[0;34m:\u001b[0m \u001b[0mtype\u001b[0m\u001b[0;34m(\u001b[0m\u001b[0mestimator\u001b[0m\u001b[0;34m)\u001b[0m\u001b[0;34m.\u001b[0m\u001b[0m__name__\u001b[0m\u001b[0;34m}\u001b[0m\u001b[0;34m)\u001b[0m\u001b[0;34m\u001b[0m\u001b[0;34m\u001b[0m\u001b[0m\n\u001b[0m\u001b[1;32m    915\u001b[0m \u001b[0;34m\u001b[0m\u001b[0m\n\u001b[1;32m    916\u001b[0m \u001b[0;34m\u001b[0m\u001b[0m\n",
      "\u001b[0;31mNotFittedError\u001b[0m: This BalancedRandomForestClassifier instance is not fitted yet. Call 'fit' with appropriate arguments before using this method."
     ]
    }
   ],
   "source": [
    "\n",
    "\n",
    "print('Balanced Random Forest Accuracy Score: ', balanced_accuracy_score(y_test, y_pred))\n",
    "print('\\n')\n",
    "print('Balanced Random Forest Feature Importances: ', brf.feature_importances_)\n"
   ]
  },
  {
   "cell_type": "code",
   "execution_count": null,
   "metadata": {},
   "outputs": [],
   "source": []
  },
  {
   "cell_type": "code",
   "execution_count": null,
   "metadata": {},
   "outputs": [],
   "source": []
  },
  {
   "cell_type": "code",
   "execution_count": null,
   "metadata": {},
   "outputs": [],
   "source": []
  },
  {
   "cell_type": "code",
   "execution_count": 81,
   "metadata": {},
   "outputs": [],
   "source": [
    "X, y = make_classification(n_samples=1000, n_classes=3, n_informative=4, weights=[0.2, 0.3, 0.5], random_state=42)"
   ]
  },
  {
   "cell_type": "code",
   "execution_count": 90,
   "metadata": {},
   "outputs": [],
   "source": [
    "clf = BalancedRandomForestClassifier(max_depth=1, random_state=42)"
   ]
  },
  {
   "cell_type": "code",
   "execution_count": 91,
   "metadata": {},
   "outputs": [
    {
     "ename": "RecursionError",
     "evalue": "maximum recursion depth exceeded",
     "output_type": "error",
     "traceback": [
      "\u001b[0;31m---------------------------------------------------------------------------\u001b[0m",
      "\u001b[0;31mRecursionError\u001b[0m                            Traceback (most recent call last)",
      "\u001b[0;32m/anaconda3/lib/python3.7/site-packages/IPython/core/formatters.py\u001b[0m in \u001b[0;36m__call__\u001b[0;34m(self, obj)\u001b[0m\n\u001b[1;32m    700\u001b[0m                 \u001b[0mtype_pprinters\u001b[0m\u001b[0;34m=\u001b[0m\u001b[0mself\u001b[0m\u001b[0;34m.\u001b[0m\u001b[0mtype_printers\u001b[0m\u001b[0;34m,\u001b[0m\u001b[0;34m\u001b[0m\u001b[0;34m\u001b[0m\u001b[0m\n\u001b[1;32m    701\u001b[0m                 deferred_pprinters=self.deferred_printers)\n\u001b[0;32m--> 702\u001b[0;31m             \u001b[0mprinter\u001b[0m\u001b[0;34m.\u001b[0m\u001b[0mpretty\u001b[0m\u001b[0;34m(\u001b[0m\u001b[0mobj\u001b[0m\u001b[0;34m)\u001b[0m\u001b[0;34m\u001b[0m\u001b[0;34m\u001b[0m\u001b[0m\n\u001b[0m\u001b[1;32m    703\u001b[0m             \u001b[0mprinter\u001b[0m\u001b[0;34m.\u001b[0m\u001b[0mflush\u001b[0m\u001b[0;34m(\u001b[0m\u001b[0;34m)\u001b[0m\u001b[0;34m\u001b[0m\u001b[0;34m\u001b[0m\u001b[0m\n\u001b[1;32m    704\u001b[0m             \u001b[0;32mreturn\u001b[0m \u001b[0mstream\u001b[0m\u001b[0;34m.\u001b[0m\u001b[0mgetvalue\u001b[0m\u001b[0;34m(\u001b[0m\u001b[0;34m)\u001b[0m\u001b[0;34m\u001b[0m\u001b[0;34m\u001b[0m\u001b[0m\n",
      "\u001b[0;32m/anaconda3/lib/python3.7/site-packages/IPython/lib/pretty.py\u001b[0m in \u001b[0;36mpretty\u001b[0;34m(self, obj)\u001b[0m\n\u001b[1;32m    400\u001b[0m                         \u001b[0;32mif\u001b[0m \u001b[0mcls\u001b[0m \u001b[0;32mis\u001b[0m \u001b[0;32mnot\u001b[0m \u001b[0mobject\u001b[0m\u001b[0;31m \u001b[0m\u001b[0;31m\\\u001b[0m\u001b[0;34m\u001b[0m\u001b[0;34m\u001b[0m\u001b[0m\n\u001b[1;32m    401\u001b[0m                                 \u001b[0;32mand\u001b[0m \u001b[0mcallable\u001b[0m\u001b[0;34m(\u001b[0m\u001b[0mcls\u001b[0m\u001b[0;34m.\u001b[0m\u001b[0m__dict__\u001b[0m\u001b[0;34m.\u001b[0m\u001b[0mget\u001b[0m\u001b[0;34m(\u001b[0m\u001b[0;34m'__repr__'\u001b[0m\u001b[0;34m)\u001b[0m\u001b[0;34m)\u001b[0m\u001b[0;34m:\u001b[0m\u001b[0;34m\u001b[0m\u001b[0;34m\u001b[0m\u001b[0m\n\u001b[0;32m--> 402\u001b[0;31m                             \u001b[0;32mreturn\u001b[0m \u001b[0m_repr_pprint\u001b[0m\u001b[0;34m(\u001b[0m\u001b[0mobj\u001b[0m\u001b[0;34m,\u001b[0m \u001b[0mself\u001b[0m\u001b[0;34m,\u001b[0m \u001b[0mcycle\u001b[0m\u001b[0;34m)\u001b[0m\u001b[0;34m\u001b[0m\u001b[0;34m\u001b[0m\u001b[0m\n\u001b[0m\u001b[1;32m    403\u001b[0m \u001b[0;34m\u001b[0m\u001b[0m\n\u001b[1;32m    404\u001b[0m             \u001b[0;32mreturn\u001b[0m \u001b[0m_default_pprint\u001b[0m\u001b[0;34m(\u001b[0m\u001b[0mobj\u001b[0m\u001b[0;34m,\u001b[0m \u001b[0mself\u001b[0m\u001b[0;34m,\u001b[0m \u001b[0mcycle\u001b[0m\u001b[0;34m)\u001b[0m\u001b[0;34m\u001b[0m\u001b[0;34m\u001b[0m\u001b[0m\n",
      "\u001b[0;32m/anaconda3/lib/python3.7/site-packages/IPython/lib/pretty.py\u001b[0m in \u001b[0;36m_repr_pprint\u001b[0;34m(obj, p, cycle)\u001b[0m\n\u001b[1;32m    695\u001b[0m     \u001b[0;34m\"\"\"A pprint that just redirects to the normal repr function.\"\"\"\u001b[0m\u001b[0;34m\u001b[0m\u001b[0;34m\u001b[0m\u001b[0m\n\u001b[1;32m    696\u001b[0m     \u001b[0;31m# Find newlines and replace them with p.break_()\u001b[0m\u001b[0;34m\u001b[0m\u001b[0;34m\u001b[0m\u001b[0;34m\u001b[0m\u001b[0m\n\u001b[0;32m--> 697\u001b[0;31m     \u001b[0moutput\u001b[0m \u001b[0;34m=\u001b[0m \u001b[0mrepr\u001b[0m\u001b[0;34m(\u001b[0m\u001b[0mobj\u001b[0m\u001b[0;34m)\u001b[0m\u001b[0;34m\u001b[0m\u001b[0;34m\u001b[0m\u001b[0m\n\u001b[0m\u001b[1;32m    698\u001b[0m     \u001b[0;32mfor\u001b[0m \u001b[0midx\u001b[0m\u001b[0;34m,\u001b[0m\u001b[0moutput_line\u001b[0m \u001b[0;32min\u001b[0m \u001b[0menumerate\u001b[0m\u001b[0;34m(\u001b[0m\u001b[0moutput\u001b[0m\u001b[0;34m.\u001b[0m\u001b[0msplitlines\u001b[0m\u001b[0;34m(\u001b[0m\u001b[0;34m)\u001b[0m\u001b[0;34m)\u001b[0m\u001b[0;34m:\u001b[0m\u001b[0;34m\u001b[0m\u001b[0;34m\u001b[0m\u001b[0m\n\u001b[1;32m    699\u001b[0m         \u001b[0;32mif\u001b[0m \u001b[0midx\u001b[0m\u001b[0;34m:\u001b[0m\u001b[0;34m\u001b[0m\u001b[0;34m\u001b[0m\u001b[0m\n",
      "\u001b[0;32m/anaconda3/lib/python3.7/site-packages/sklearn/base.py\u001b[0m in \u001b[0;36m__repr__\u001b[0;34m(self, N_CHAR_MAX)\u001b[0m\n\u001b[1;32m    249\u001b[0m             n_max_elements_to_show=N_MAX_ELEMENTS_TO_SHOW)\n\u001b[1;32m    250\u001b[0m \u001b[0;34m\u001b[0m\u001b[0m\n\u001b[0;32m--> 251\u001b[0;31m         \u001b[0mrepr_\u001b[0m \u001b[0;34m=\u001b[0m \u001b[0mpp\u001b[0m\u001b[0;34m.\u001b[0m\u001b[0mpformat\u001b[0m\u001b[0;34m(\u001b[0m\u001b[0mself\u001b[0m\u001b[0;34m)\u001b[0m\u001b[0;34m\u001b[0m\u001b[0;34m\u001b[0m\u001b[0m\n\u001b[0m\u001b[1;32m    252\u001b[0m \u001b[0;34m\u001b[0m\u001b[0m\n\u001b[1;32m    253\u001b[0m         \u001b[0;31m# Use bruteforce ellipsis when there are a lot of non-blank characters\u001b[0m\u001b[0;34m\u001b[0m\u001b[0;34m\u001b[0m\u001b[0;34m\u001b[0m\u001b[0m\n",
      "\u001b[0;32m/anaconda3/lib/python3.7/pprint.py\u001b[0m in \u001b[0;36mpformat\u001b[0;34m(self, object)\u001b[0m\n\u001b[1;32m    142\u001b[0m     \u001b[0;32mdef\u001b[0m \u001b[0mpformat\u001b[0m\u001b[0;34m(\u001b[0m\u001b[0mself\u001b[0m\u001b[0;34m,\u001b[0m \u001b[0mobject\u001b[0m\u001b[0;34m)\u001b[0m\u001b[0;34m:\u001b[0m\u001b[0;34m\u001b[0m\u001b[0;34m\u001b[0m\u001b[0m\n\u001b[1;32m    143\u001b[0m         \u001b[0msio\u001b[0m \u001b[0;34m=\u001b[0m \u001b[0m_StringIO\u001b[0m\u001b[0;34m(\u001b[0m\u001b[0;34m)\u001b[0m\u001b[0;34m\u001b[0m\u001b[0;34m\u001b[0m\u001b[0m\n\u001b[0;32m--> 144\u001b[0;31m         \u001b[0mself\u001b[0m\u001b[0;34m.\u001b[0m\u001b[0m_format\u001b[0m\u001b[0;34m(\u001b[0m\u001b[0mobject\u001b[0m\u001b[0;34m,\u001b[0m \u001b[0msio\u001b[0m\u001b[0;34m,\u001b[0m \u001b[0;36m0\u001b[0m\u001b[0;34m,\u001b[0m \u001b[0;36m0\u001b[0m\u001b[0;34m,\u001b[0m \u001b[0;34m{\u001b[0m\u001b[0;34m}\u001b[0m\u001b[0;34m,\u001b[0m \u001b[0;36m0\u001b[0m\u001b[0;34m)\u001b[0m\u001b[0;34m\u001b[0m\u001b[0;34m\u001b[0m\u001b[0m\n\u001b[0m\u001b[1;32m    145\u001b[0m         \u001b[0;32mreturn\u001b[0m \u001b[0msio\u001b[0m\u001b[0;34m.\u001b[0m\u001b[0mgetvalue\u001b[0m\u001b[0;34m(\u001b[0m\u001b[0;34m)\u001b[0m\u001b[0;34m\u001b[0m\u001b[0;34m\u001b[0m\u001b[0m\n\u001b[1;32m    146\u001b[0m \u001b[0;34m\u001b[0m\u001b[0m\n",
      "\u001b[0;32m/anaconda3/lib/python3.7/pprint.py\u001b[0m in \u001b[0;36m_format\u001b[0;34m(self, object, stream, indent, allowance, context, level)\u001b[0m\n\u001b[1;32m    159\u001b[0m             \u001b[0mself\u001b[0m\u001b[0;34m.\u001b[0m\u001b[0m_readable\u001b[0m \u001b[0;34m=\u001b[0m \u001b[0;32mFalse\u001b[0m\u001b[0;34m\u001b[0m\u001b[0;34m\u001b[0m\u001b[0m\n\u001b[1;32m    160\u001b[0m             \u001b[0;32mreturn\u001b[0m\u001b[0;34m\u001b[0m\u001b[0;34m\u001b[0m\u001b[0m\n\u001b[0;32m--> 161\u001b[0;31m         \u001b[0mrep\u001b[0m \u001b[0;34m=\u001b[0m \u001b[0mself\u001b[0m\u001b[0;34m.\u001b[0m\u001b[0m_repr\u001b[0m\u001b[0;34m(\u001b[0m\u001b[0mobject\u001b[0m\u001b[0;34m,\u001b[0m \u001b[0mcontext\u001b[0m\u001b[0;34m,\u001b[0m \u001b[0mlevel\u001b[0m\u001b[0;34m)\u001b[0m\u001b[0;34m\u001b[0m\u001b[0;34m\u001b[0m\u001b[0m\n\u001b[0m\u001b[1;32m    162\u001b[0m         \u001b[0mmax_width\u001b[0m \u001b[0;34m=\u001b[0m \u001b[0mself\u001b[0m\u001b[0;34m.\u001b[0m\u001b[0m_width\u001b[0m \u001b[0;34m-\u001b[0m \u001b[0mindent\u001b[0m \u001b[0;34m-\u001b[0m \u001b[0mallowance\u001b[0m\u001b[0;34m\u001b[0m\u001b[0;34m\u001b[0m\u001b[0m\n\u001b[1;32m    163\u001b[0m         \u001b[0;32mif\u001b[0m \u001b[0mlen\u001b[0m\u001b[0;34m(\u001b[0m\u001b[0mrep\u001b[0m\u001b[0;34m)\u001b[0m \u001b[0;34m>\u001b[0m \u001b[0mmax_width\u001b[0m\u001b[0;34m:\u001b[0m\u001b[0;34m\u001b[0m\u001b[0;34m\u001b[0m\u001b[0m\n",
      "\u001b[0;32m/anaconda3/lib/python3.7/pprint.py\u001b[0m in \u001b[0;36m_repr\u001b[0;34m(self, object, context, level)\u001b[0m\n\u001b[1;32m    391\u001b[0m     \u001b[0;32mdef\u001b[0m \u001b[0m_repr\u001b[0m\u001b[0;34m(\u001b[0m\u001b[0mself\u001b[0m\u001b[0;34m,\u001b[0m \u001b[0mobject\u001b[0m\u001b[0;34m,\u001b[0m \u001b[0mcontext\u001b[0m\u001b[0;34m,\u001b[0m \u001b[0mlevel\u001b[0m\u001b[0;34m)\u001b[0m\u001b[0;34m:\u001b[0m\u001b[0;34m\u001b[0m\u001b[0;34m\u001b[0m\u001b[0m\n\u001b[1;32m    392\u001b[0m         repr, readable, recursive = self.format(object, context.copy(),\n\u001b[0;32m--> 393\u001b[0;31m                                                 self._depth, level)\n\u001b[0m\u001b[1;32m    394\u001b[0m         \u001b[0;32mif\u001b[0m \u001b[0;32mnot\u001b[0m \u001b[0mreadable\u001b[0m\u001b[0;34m:\u001b[0m\u001b[0;34m\u001b[0m\u001b[0;34m\u001b[0m\u001b[0m\n\u001b[1;32m    395\u001b[0m             \u001b[0mself\u001b[0m\u001b[0;34m.\u001b[0m\u001b[0m_readable\u001b[0m \u001b[0;34m=\u001b[0m \u001b[0;32mFalse\u001b[0m\u001b[0;34m\u001b[0m\u001b[0;34m\u001b[0m\u001b[0m\n",
      "\u001b[0;32m/anaconda3/lib/python3.7/site-packages/sklearn/utils/_pprint.py\u001b[0m in \u001b[0;36mformat\u001b[0;34m(self, object, context, maxlevels, level)\u001b[0m\n\u001b[1;32m    168\u001b[0m     \u001b[0;32mdef\u001b[0m \u001b[0mformat\u001b[0m\u001b[0;34m(\u001b[0m\u001b[0mself\u001b[0m\u001b[0;34m,\u001b[0m \u001b[0mobject\u001b[0m\u001b[0;34m,\u001b[0m \u001b[0mcontext\u001b[0m\u001b[0;34m,\u001b[0m \u001b[0mmaxlevels\u001b[0m\u001b[0;34m,\u001b[0m \u001b[0mlevel\u001b[0m\u001b[0;34m)\u001b[0m\u001b[0;34m:\u001b[0m\u001b[0;34m\u001b[0m\u001b[0;34m\u001b[0m\u001b[0m\n\u001b[1;32m    169\u001b[0m         return _safe_repr(object, context, maxlevels, level,\n\u001b[0;32m--> 170\u001b[0;31m                           changed_only=self._changed_only)\n\u001b[0m\u001b[1;32m    171\u001b[0m \u001b[0;34m\u001b[0m\u001b[0m\n\u001b[1;32m    172\u001b[0m     def _pprint_estimator(self, object, stream, indent, allowance, context,\n",
      "\u001b[0;32m/anaconda3/lib/python3.7/site-packages/sklearn/utils/_pprint.py\u001b[0m in \u001b[0;36m_safe_repr\u001b[0;34m(object, context, maxlevels, level, changed_only)\u001b[0m\n\u001b[1;32m    432\u001b[0m                 recursive)\n\u001b[1;32m    433\u001b[0m \u001b[0;34m\u001b[0m\u001b[0m\n\u001b[0;32m--> 434\u001b[0;31m     \u001b[0mrep\u001b[0m \u001b[0;34m=\u001b[0m \u001b[0mrepr\u001b[0m\u001b[0;34m(\u001b[0m\u001b[0mobject\u001b[0m\u001b[0;34m)\u001b[0m\u001b[0;34m\u001b[0m\u001b[0;34m\u001b[0m\u001b[0m\n\u001b[0m\u001b[1;32m    435\u001b[0m     \u001b[0;32mreturn\u001b[0m \u001b[0mrep\u001b[0m\u001b[0;34m,\u001b[0m \u001b[0;34m(\u001b[0m\u001b[0mrep\u001b[0m \u001b[0;32mand\u001b[0m \u001b[0;32mnot\u001b[0m \u001b[0mrep\u001b[0m\u001b[0;34m.\u001b[0m\u001b[0mstartswith\u001b[0m\u001b[0;34m(\u001b[0m\u001b[0;34m'<'\u001b[0m\u001b[0;34m)\u001b[0m\u001b[0;34m)\u001b[0m\u001b[0;34m,\u001b[0m \u001b[0;32mFalse\u001b[0m\u001b[0;34m\u001b[0m\u001b[0;34m\u001b[0m\u001b[0m\n",
      "... last 6 frames repeated, from the frame below ...\n",
      "\u001b[0;32m/anaconda3/lib/python3.7/site-packages/sklearn/base.py\u001b[0m in \u001b[0;36m__repr__\u001b[0;34m(self, N_CHAR_MAX)\u001b[0m\n\u001b[1;32m    249\u001b[0m             n_max_elements_to_show=N_MAX_ELEMENTS_TO_SHOW)\n\u001b[1;32m    250\u001b[0m \u001b[0;34m\u001b[0m\u001b[0m\n\u001b[0;32m--> 251\u001b[0;31m         \u001b[0mrepr_\u001b[0m \u001b[0;34m=\u001b[0m \u001b[0mpp\u001b[0m\u001b[0;34m.\u001b[0m\u001b[0mpformat\u001b[0m\u001b[0;34m(\u001b[0m\u001b[0mself\u001b[0m\u001b[0;34m)\u001b[0m\u001b[0;34m\u001b[0m\u001b[0;34m\u001b[0m\u001b[0m\n\u001b[0m\u001b[1;32m    252\u001b[0m \u001b[0;34m\u001b[0m\u001b[0m\n\u001b[1;32m    253\u001b[0m         \u001b[0;31m# Use bruteforce ellipsis when there are a lot of non-blank characters\u001b[0m\u001b[0;34m\u001b[0m\u001b[0;34m\u001b[0m\u001b[0;34m\u001b[0m\u001b[0m\n",
      "\u001b[0;31mRecursionError\u001b[0m: maximum recursion depth exceeded"
     ]
    }
   ],
   "source": [
    "clf.fit(X, y)  # doctest: +ELLIPSIS"
   ]
  },
  {
   "cell_type": "code",
   "execution_count": null,
   "metadata": {},
   "outputs": [],
   "source": []
  },
  {
   "cell_type": "code",
   "execution_count": null,
   "metadata": {},
   "outputs": [],
   "source": []
  },
  {
   "cell_type": "code",
   "execution_count": null,
   "metadata": {},
   "outputs": [],
   "source": []
  },
  {
   "cell_type": "code",
   "execution_count": null,
   "metadata": {},
   "outputs": [],
   "source": [
    "\n",
    "\n",
    ">>> X, y = make_classification(n_samples=1000, n_classes=3,\n",
    "...                            n_informative=4, weights=[0.2, 0.3, 0.5],\n",
    "...                            random_state=0)\n",
    ">>> clf = BalancedRandomForestClassifier(max_depth=2, random_state=0)\n",
    ">>> clf.fit(X, y)  # doctest: +ELLIPSIS\n",
    "BalancedRandomForestClassifier(...)\n",
    ">>> print(clf.feature_importances_)  # doctest: +ELLIPSIS\n",
    "[...]\n",
    ">>> print(clf.predict([[0, 0, 0, 0, 0, 0, 0, 0, 0, 0,\n",
    "...                     0, 0, 0, 0, 0, 0, 0, 0, 0, 0]]))\n",
    "[1]\n"
   ]
  },
  {
   "cell_type": "code",
   "execution_count": null,
   "metadata": {},
   "outputs": [],
   "source": [
    "#First try at Random Forests\n",
    "# Random Forest in code\n",
    "forest = RandomForestClassifier(n_estimators=100, max_depth= 5)\n",
    "forest.fit(X_train, y_train)\n",
    "forest.score(X_train, y_train) # Accuracy of training data\n",
    "forest.score(X_test, y_test) # Accuracy of test data\n",
    "plot_feature_importances(forest) # plot using function above\n",
    "\n",
    "# Fine Tune the model\n",
    "forest_2 = RandomForestClassifier(n_estimators = 10, max_features= 2, max_depth= 2)\n",
    "forest_2.fit(X_train, y_train)\n",
    "forest_2.score(X_train, y_train) # Accuracy of training data\n",
    "forest_2.score(X_test, y_test)  # Accuracy of test data\n",
    "\n",
    "# Use GridsearchCV to find the best Number\n",
    "from sklearn.model_selection import GridSearchCV\n",
    "param_grid = {'n_estimators': [30, 100, 300], 'min_samples_split': [2, 4, 6], 'min_samples_leaf': [2, 4, 6]}\n",
    "gs = GridSearchCV(estimator = rfc, param_grid, cv=5)\n",
    "gs.fit(X_train, y_train)\n",
    "print('Mean accuracy on the given test data and labels:', gs.score(X_test, y_test))\n",
    "print('The best parameters are:', gs.best_params_)"
   ]
  },
  {
   "cell_type": "markdown",
   "metadata": {},
   "source": [
    "## Fails - code to look at again, but first time a fail"
   ]
  },
  {
   "cell_type": "code",
   "execution_count": 104,
   "metadata": {},
   "outputs": [],
   "source": [
    "#weighted random forest\n",
    "w = 100 # The weight for the positive class\n",
    "RF = RandomForestClassifier(class_weight={0: 1, 1: w})"
   ]
  },
  {
   "cell_type": "code",
   "execution_count": 105,
   "metadata": {},
   "outputs": [
    {
     "ename": "RecursionError",
     "evalue": "maximum recursion depth exceeded",
     "output_type": "error",
     "traceback": [
      "\u001b[0;31m---------------------------------------------------------------------------\u001b[0m",
      "\u001b[0;31mRecursionError\u001b[0m                            Traceback (most recent call last)",
      "\u001b[0;32m/anaconda3/lib/python3.7/site-packages/IPython/core/formatters.py\u001b[0m in \u001b[0;36m__call__\u001b[0;34m(self, obj)\u001b[0m\n\u001b[1;32m    700\u001b[0m                 \u001b[0mtype_pprinters\u001b[0m\u001b[0;34m=\u001b[0m\u001b[0mself\u001b[0m\u001b[0;34m.\u001b[0m\u001b[0mtype_printers\u001b[0m\u001b[0;34m,\u001b[0m\u001b[0;34m\u001b[0m\u001b[0;34m\u001b[0m\u001b[0m\n\u001b[1;32m    701\u001b[0m                 deferred_pprinters=self.deferred_printers)\n\u001b[0;32m--> 702\u001b[0;31m             \u001b[0mprinter\u001b[0m\u001b[0;34m.\u001b[0m\u001b[0mpretty\u001b[0m\u001b[0;34m(\u001b[0m\u001b[0mobj\u001b[0m\u001b[0;34m)\u001b[0m\u001b[0;34m\u001b[0m\u001b[0;34m\u001b[0m\u001b[0m\n\u001b[0m\u001b[1;32m    703\u001b[0m             \u001b[0mprinter\u001b[0m\u001b[0;34m.\u001b[0m\u001b[0mflush\u001b[0m\u001b[0;34m(\u001b[0m\u001b[0;34m)\u001b[0m\u001b[0;34m\u001b[0m\u001b[0;34m\u001b[0m\u001b[0m\n\u001b[1;32m    704\u001b[0m             \u001b[0;32mreturn\u001b[0m \u001b[0mstream\u001b[0m\u001b[0;34m.\u001b[0m\u001b[0mgetvalue\u001b[0m\u001b[0;34m(\u001b[0m\u001b[0;34m)\u001b[0m\u001b[0;34m\u001b[0m\u001b[0;34m\u001b[0m\u001b[0m\n",
      "\u001b[0;32m/anaconda3/lib/python3.7/site-packages/IPython/lib/pretty.py\u001b[0m in \u001b[0;36mpretty\u001b[0;34m(self, obj)\u001b[0m\n\u001b[1;32m    400\u001b[0m                         \u001b[0;32mif\u001b[0m \u001b[0mcls\u001b[0m \u001b[0;32mis\u001b[0m \u001b[0;32mnot\u001b[0m \u001b[0mobject\u001b[0m\u001b[0;31m \u001b[0m\u001b[0;31m\\\u001b[0m\u001b[0;34m\u001b[0m\u001b[0;34m\u001b[0m\u001b[0m\n\u001b[1;32m    401\u001b[0m                                 \u001b[0;32mand\u001b[0m \u001b[0mcallable\u001b[0m\u001b[0;34m(\u001b[0m\u001b[0mcls\u001b[0m\u001b[0;34m.\u001b[0m\u001b[0m__dict__\u001b[0m\u001b[0;34m.\u001b[0m\u001b[0mget\u001b[0m\u001b[0;34m(\u001b[0m\u001b[0;34m'__repr__'\u001b[0m\u001b[0;34m)\u001b[0m\u001b[0;34m)\u001b[0m\u001b[0;34m:\u001b[0m\u001b[0;34m\u001b[0m\u001b[0;34m\u001b[0m\u001b[0m\n\u001b[0;32m--> 402\u001b[0;31m                             \u001b[0;32mreturn\u001b[0m \u001b[0m_repr_pprint\u001b[0m\u001b[0;34m(\u001b[0m\u001b[0mobj\u001b[0m\u001b[0;34m,\u001b[0m \u001b[0mself\u001b[0m\u001b[0;34m,\u001b[0m \u001b[0mcycle\u001b[0m\u001b[0;34m)\u001b[0m\u001b[0;34m\u001b[0m\u001b[0;34m\u001b[0m\u001b[0m\n\u001b[0m\u001b[1;32m    403\u001b[0m \u001b[0;34m\u001b[0m\u001b[0m\n\u001b[1;32m    404\u001b[0m             \u001b[0;32mreturn\u001b[0m \u001b[0m_default_pprint\u001b[0m\u001b[0;34m(\u001b[0m\u001b[0mobj\u001b[0m\u001b[0;34m,\u001b[0m \u001b[0mself\u001b[0m\u001b[0;34m,\u001b[0m \u001b[0mcycle\u001b[0m\u001b[0;34m)\u001b[0m\u001b[0;34m\u001b[0m\u001b[0;34m\u001b[0m\u001b[0m\n",
      "\u001b[0;32m/anaconda3/lib/python3.7/site-packages/IPython/lib/pretty.py\u001b[0m in \u001b[0;36m_repr_pprint\u001b[0;34m(obj, p, cycle)\u001b[0m\n\u001b[1;32m    695\u001b[0m     \u001b[0;34m\"\"\"A pprint that just redirects to the normal repr function.\"\"\"\u001b[0m\u001b[0;34m\u001b[0m\u001b[0;34m\u001b[0m\u001b[0m\n\u001b[1;32m    696\u001b[0m     \u001b[0;31m# Find newlines and replace them with p.break_()\u001b[0m\u001b[0;34m\u001b[0m\u001b[0;34m\u001b[0m\u001b[0;34m\u001b[0m\u001b[0m\n\u001b[0;32m--> 697\u001b[0;31m     \u001b[0moutput\u001b[0m \u001b[0;34m=\u001b[0m \u001b[0mrepr\u001b[0m\u001b[0;34m(\u001b[0m\u001b[0mobj\u001b[0m\u001b[0;34m)\u001b[0m\u001b[0;34m\u001b[0m\u001b[0;34m\u001b[0m\u001b[0m\n\u001b[0m\u001b[1;32m    698\u001b[0m     \u001b[0;32mfor\u001b[0m \u001b[0midx\u001b[0m\u001b[0;34m,\u001b[0m\u001b[0moutput_line\u001b[0m \u001b[0;32min\u001b[0m \u001b[0menumerate\u001b[0m\u001b[0;34m(\u001b[0m\u001b[0moutput\u001b[0m\u001b[0;34m.\u001b[0m\u001b[0msplitlines\u001b[0m\u001b[0;34m(\u001b[0m\u001b[0;34m)\u001b[0m\u001b[0;34m)\u001b[0m\u001b[0;34m:\u001b[0m\u001b[0;34m\u001b[0m\u001b[0;34m\u001b[0m\u001b[0m\n\u001b[1;32m    699\u001b[0m         \u001b[0;32mif\u001b[0m \u001b[0midx\u001b[0m\u001b[0;34m:\u001b[0m\u001b[0;34m\u001b[0m\u001b[0;34m\u001b[0m\u001b[0m\n",
      "\u001b[0;32m/anaconda3/lib/python3.7/site-packages/sklearn/base.py\u001b[0m in \u001b[0;36m__repr__\u001b[0;34m(self, N_CHAR_MAX)\u001b[0m\n\u001b[1;32m    249\u001b[0m             n_max_elements_to_show=N_MAX_ELEMENTS_TO_SHOW)\n\u001b[1;32m    250\u001b[0m \u001b[0;34m\u001b[0m\u001b[0m\n\u001b[0;32m--> 251\u001b[0;31m         \u001b[0mrepr_\u001b[0m \u001b[0;34m=\u001b[0m \u001b[0mpp\u001b[0m\u001b[0;34m.\u001b[0m\u001b[0mpformat\u001b[0m\u001b[0;34m(\u001b[0m\u001b[0mself\u001b[0m\u001b[0;34m)\u001b[0m\u001b[0;34m\u001b[0m\u001b[0;34m\u001b[0m\u001b[0m\n\u001b[0m\u001b[1;32m    252\u001b[0m \u001b[0;34m\u001b[0m\u001b[0m\n\u001b[1;32m    253\u001b[0m         \u001b[0;31m# Use bruteforce ellipsis when there are a lot of non-blank characters\u001b[0m\u001b[0;34m\u001b[0m\u001b[0;34m\u001b[0m\u001b[0;34m\u001b[0m\u001b[0m\n",
      "\u001b[0;32m/anaconda3/lib/python3.7/pprint.py\u001b[0m in \u001b[0;36mpformat\u001b[0;34m(self, object)\u001b[0m\n\u001b[1;32m    142\u001b[0m     \u001b[0;32mdef\u001b[0m \u001b[0mpformat\u001b[0m\u001b[0;34m(\u001b[0m\u001b[0mself\u001b[0m\u001b[0;34m,\u001b[0m \u001b[0mobject\u001b[0m\u001b[0;34m)\u001b[0m\u001b[0;34m:\u001b[0m\u001b[0;34m\u001b[0m\u001b[0;34m\u001b[0m\u001b[0m\n\u001b[1;32m    143\u001b[0m         \u001b[0msio\u001b[0m \u001b[0;34m=\u001b[0m \u001b[0m_StringIO\u001b[0m\u001b[0;34m(\u001b[0m\u001b[0;34m)\u001b[0m\u001b[0;34m\u001b[0m\u001b[0;34m\u001b[0m\u001b[0m\n\u001b[0;32m--> 144\u001b[0;31m         \u001b[0mself\u001b[0m\u001b[0;34m.\u001b[0m\u001b[0m_format\u001b[0m\u001b[0;34m(\u001b[0m\u001b[0mobject\u001b[0m\u001b[0;34m,\u001b[0m \u001b[0msio\u001b[0m\u001b[0;34m,\u001b[0m \u001b[0;36m0\u001b[0m\u001b[0;34m,\u001b[0m \u001b[0;36m0\u001b[0m\u001b[0;34m,\u001b[0m \u001b[0;34m{\u001b[0m\u001b[0;34m}\u001b[0m\u001b[0;34m,\u001b[0m \u001b[0;36m0\u001b[0m\u001b[0;34m)\u001b[0m\u001b[0;34m\u001b[0m\u001b[0;34m\u001b[0m\u001b[0m\n\u001b[0m\u001b[1;32m    145\u001b[0m         \u001b[0;32mreturn\u001b[0m \u001b[0msio\u001b[0m\u001b[0;34m.\u001b[0m\u001b[0mgetvalue\u001b[0m\u001b[0;34m(\u001b[0m\u001b[0;34m)\u001b[0m\u001b[0;34m\u001b[0m\u001b[0;34m\u001b[0m\u001b[0m\n\u001b[1;32m    146\u001b[0m \u001b[0;34m\u001b[0m\u001b[0m\n",
      "\u001b[0;32m/anaconda3/lib/python3.7/pprint.py\u001b[0m in \u001b[0;36m_format\u001b[0;34m(self, object, stream, indent, allowance, context, level)\u001b[0m\n\u001b[1;32m    159\u001b[0m             \u001b[0mself\u001b[0m\u001b[0;34m.\u001b[0m\u001b[0m_readable\u001b[0m \u001b[0;34m=\u001b[0m \u001b[0;32mFalse\u001b[0m\u001b[0;34m\u001b[0m\u001b[0;34m\u001b[0m\u001b[0m\n\u001b[1;32m    160\u001b[0m             \u001b[0;32mreturn\u001b[0m\u001b[0;34m\u001b[0m\u001b[0;34m\u001b[0m\u001b[0m\n\u001b[0;32m--> 161\u001b[0;31m         \u001b[0mrep\u001b[0m \u001b[0;34m=\u001b[0m \u001b[0mself\u001b[0m\u001b[0;34m.\u001b[0m\u001b[0m_repr\u001b[0m\u001b[0;34m(\u001b[0m\u001b[0mobject\u001b[0m\u001b[0;34m,\u001b[0m \u001b[0mcontext\u001b[0m\u001b[0;34m,\u001b[0m \u001b[0mlevel\u001b[0m\u001b[0;34m)\u001b[0m\u001b[0;34m\u001b[0m\u001b[0;34m\u001b[0m\u001b[0m\n\u001b[0m\u001b[1;32m    162\u001b[0m         \u001b[0mmax_width\u001b[0m \u001b[0;34m=\u001b[0m \u001b[0mself\u001b[0m\u001b[0;34m.\u001b[0m\u001b[0m_width\u001b[0m \u001b[0;34m-\u001b[0m \u001b[0mindent\u001b[0m \u001b[0;34m-\u001b[0m \u001b[0mallowance\u001b[0m\u001b[0;34m\u001b[0m\u001b[0;34m\u001b[0m\u001b[0m\n\u001b[1;32m    163\u001b[0m         \u001b[0;32mif\u001b[0m \u001b[0mlen\u001b[0m\u001b[0;34m(\u001b[0m\u001b[0mrep\u001b[0m\u001b[0;34m)\u001b[0m \u001b[0;34m>\u001b[0m \u001b[0mmax_width\u001b[0m\u001b[0;34m:\u001b[0m\u001b[0;34m\u001b[0m\u001b[0;34m\u001b[0m\u001b[0m\n",
      "\u001b[0;32m/anaconda3/lib/python3.7/pprint.py\u001b[0m in \u001b[0;36m_repr\u001b[0;34m(self, object, context, level)\u001b[0m\n\u001b[1;32m    391\u001b[0m     \u001b[0;32mdef\u001b[0m \u001b[0m_repr\u001b[0m\u001b[0;34m(\u001b[0m\u001b[0mself\u001b[0m\u001b[0;34m,\u001b[0m \u001b[0mobject\u001b[0m\u001b[0;34m,\u001b[0m \u001b[0mcontext\u001b[0m\u001b[0;34m,\u001b[0m \u001b[0mlevel\u001b[0m\u001b[0;34m)\u001b[0m\u001b[0;34m:\u001b[0m\u001b[0;34m\u001b[0m\u001b[0;34m\u001b[0m\u001b[0m\n\u001b[1;32m    392\u001b[0m         repr, readable, recursive = self.format(object, context.copy(),\n\u001b[0;32m--> 393\u001b[0;31m                                                 self._depth, level)\n\u001b[0m\u001b[1;32m    394\u001b[0m         \u001b[0;32mif\u001b[0m \u001b[0;32mnot\u001b[0m \u001b[0mreadable\u001b[0m\u001b[0;34m:\u001b[0m\u001b[0;34m\u001b[0m\u001b[0;34m\u001b[0m\u001b[0m\n\u001b[1;32m    395\u001b[0m             \u001b[0mself\u001b[0m\u001b[0;34m.\u001b[0m\u001b[0m_readable\u001b[0m \u001b[0;34m=\u001b[0m \u001b[0;32mFalse\u001b[0m\u001b[0;34m\u001b[0m\u001b[0;34m\u001b[0m\u001b[0m\n",
      "\u001b[0;32m/anaconda3/lib/python3.7/site-packages/sklearn/utils/_pprint.py\u001b[0m in \u001b[0;36mformat\u001b[0;34m(self, object, context, maxlevels, level)\u001b[0m\n\u001b[1;32m    168\u001b[0m     \u001b[0;32mdef\u001b[0m \u001b[0mformat\u001b[0m\u001b[0;34m(\u001b[0m\u001b[0mself\u001b[0m\u001b[0;34m,\u001b[0m \u001b[0mobject\u001b[0m\u001b[0;34m,\u001b[0m \u001b[0mcontext\u001b[0m\u001b[0;34m,\u001b[0m \u001b[0mmaxlevels\u001b[0m\u001b[0;34m,\u001b[0m \u001b[0mlevel\u001b[0m\u001b[0;34m)\u001b[0m\u001b[0;34m:\u001b[0m\u001b[0;34m\u001b[0m\u001b[0;34m\u001b[0m\u001b[0m\n\u001b[1;32m    169\u001b[0m         return _safe_repr(object, context, maxlevels, level,\n\u001b[0;32m--> 170\u001b[0;31m                           changed_only=self._changed_only)\n\u001b[0m\u001b[1;32m    171\u001b[0m \u001b[0;34m\u001b[0m\u001b[0m\n\u001b[1;32m    172\u001b[0m     def _pprint_estimator(self, object, stream, indent, allowance, context,\n",
      "\u001b[0;32m/anaconda3/lib/python3.7/site-packages/sklearn/utils/_pprint.py\u001b[0m in \u001b[0;36m_safe_repr\u001b[0;34m(object, context, maxlevels, level, changed_only)\u001b[0m\n\u001b[1;32m    432\u001b[0m                 recursive)\n\u001b[1;32m    433\u001b[0m \u001b[0;34m\u001b[0m\u001b[0m\n\u001b[0;32m--> 434\u001b[0;31m     \u001b[0mrep\u001b[0m \u001b[0;34m=\u001b[0m \u001b[0mrepr\u001b[0m\u001b[0;34m(\u001b[0m\u001b[0mobject\u001b[0m\u001b[0;34m)\u001b[0m\u001b[0;34m\u001b[0m\u001b[0;34m\u001b[0m\u001b[0m\n\u001b[0m\u001b[1;32m    435\u001b[0m     \u001b[0;32mreturn\u001b[0m \u001b[0mrep\u001b[0m\u001b[0;34m,\u001b[0m \u001b[0;34m(\u001b[0m\u001b[0mrep\u001b[0m \u001b[0;32mand\u001b[0m \u001b[0;32mnot\u001b[0m \u001b[0mrep\u001b[0m\u001b[0;34m.\u001b[0m\u001b[0mstartswith\u001b[0m\u001b[0;34m(\u001b[0m\u001b[0;34m'<'\u001b[0m\u001b[0;34m)\u001b[0m\u001b[0;34m)\u001b[0m\u001b[0;34m,\u001b[0m \u001b[0;32mFalse\u001b[0m\u001b[0;34m\u001b[0m\u001b[0;34m\u001b[0m\u001b[0m\n",
      "... last 6 frames repeated, from the frame below ...\n",
      "\u001b[0;32m/anaconda3/lib/python3.7/site-packages/sklearn/base.py\u001b[0m in \u001b[0;36m__repr__\u001b[0;34m(self, N_CHAR_MAX)\u001b[0m\n\u001b[1;32m    249\u001b[0m             n_max_elements_to_show=N_MAX_ELEMENTS_TO_SHOW)\n\u001b[1;32m    250\u001b[0m \u001b[0;34m\u001b[0m\u001b[0m\n\u001b[0;32m--> 251\u001b[0;31m         \u001b[0mrepr_\u001b[0m \u001b[0;34m=\u001b[0m \u001b[0mpp\u001b[0m\u001b[0;34m.\u001b[0m\u001b[0mpformat\u001b[0m\u001b[0;34m(\u001b[0m\u001b[0mself\u001b[0m\u001b[0;34m)\u001b[0m\u001b[0;34m\u001b[0m\u001b[0;34m\u001b[0m\u001b[0m\n\u001b[0m\u001b[1;32m    252\u001b[0m \u001b[0;34m\u001b[0m\u001b[0m\n\u001b[1;32m    253\u001b[0m         \u001b[0;31m# Use bruteforce ellipsis when there are a lot of non-blank characters\u001b[0m\u001b[0;34m\u001b[0m\u001b[0;34m\u001b[0m\u001b[0;34m\u001b[0m\u001b[0m\n",
      "\u001b[0;31mRecursionError\u001b[0m: maximum recursion depth exceeded"
     ]
    }
   ],
   "source": [
    "RF.fit()"
   ]
  }
 ],
 "metadata": {
  "kernelspec": {
   "display_name": "Python 3",
   "language": "python",
   "name": "python3"
  },
  "language_info": {
   "codemirror_mode": {
    "name": "ipython",
    "version": 3
   },
   "file_extension": ".py",
   "mimetype": "text/x-python",
   "name": "python",
   "nbconvert_exporter": "python",
   "pygments_lexer": "ipython3",
   "version": "3.7.3"
  },
  "toc": {
   "base_numbering": 1,
   "nav_menu": {},
   "number_sections": true,
   "sideBar": true,
   "skip_h1_title": false,
   "title_cell": "Table of Contents",
   "title_sidebar": "Contents",
   "toc_cell": false,
   "toc_position": {},
   "toc_section_display": true,
   "toc_window_display": false
  },
  "varInspector": {
   "cols": {
    "lenName": 16,
    "lenType": 16,
    "lenVar": 40
   },
   "kernels_config": {
    "python": {
     "delete_cmd_postfix": "",
     "delete_cmd_prefix": "del ",
     "library": "var_list.py",
     "varRefreshCmd": "print(var_dic_list())"
    },
    "r": {
     "delete_cmd_postfix": ") ",
     "delete_cmd_prefix": "rm(",
     "library": "var_list.r",
     "varRefreshCmd": "cat(var_dic_list()) "
    }
   },
   "types_to_exclude": [
    "module",
    "function",
    "builtin_function_or_method",
    "instance",
    "_Feature"
   ],
   "window_display": false
  }
 },
 "nbformat": 4,
 "nbformat_minor": 2
}
