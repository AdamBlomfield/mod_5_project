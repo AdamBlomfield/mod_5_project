{
 "cells": [
  {
   "cell_type": "markdown",
   "metadata": {},
   "source": [
    "# Do Not Delete!"
   ]
  },
  {
   "cell_type": "code",
   "execution_count": 1,
   "metadata": {
    "tags": [
     "hidecode"
    ]
   },
   "outputs": [],
   "source": [
    "# DO NOT REMOVE THESE\n",
    "%load_ext autoreload\n",
    "%autoreload 2"
   ]
  },
  {
   "cell_type": "code",
   "execution_count": 2,
   "metadata": {},
   "outputs": [],
   "source": [
    "# DO NOT REMOVE This\n",
    "%reload_ext autoreload"
   ]
  },
  {
   "cell_type": "code",
   "execution_count": 3,
   "metadata": {},
   "outputs": [
    {
     "ename": "ModuleNotFoundError",
     "evalue": "No module named 'src'",
     "output_type": "error",
     "traceback": [
      "\u001b[0;31m---------------------------------------------------------------------------\u001b[0m",
      "\u001b[0;31mModuleNotFoundError\u001b[0m                       Traceback (most recent call last)",
      "\u001b[0;32m<ipython-input-3-7d1d23c96e1f>\u001b[0m in \u001b[0;36m<module>\u001b[0;34m\u001b[0m\n\u001b[1;32m      6\u001b[0m \u001b[0;31m#import src.base with alias to avoid namespace clashes\u001b[0m\u001b[0;34m\u001b[0m\u001b[0;34m\u001b[0m\u001b[0;34m\u001b[0m\u001b[0m\n\u001b[1;32m      7\u001b[0m \u001b[0;34m\u001b[0m\u001b[0m\n\u001b[0;32m----> 8\u001b[0;31m \u001b[0;32mfrom\u001b[0m \u001b[0msrc\u001b[0m \u001b[0;32mimport\u001b[0m \u001b[0mbase\u001b[0m \u001b[0;32mas\u001b[0m \u001b[0mfis\u001b[0m\u001b[0;34m\u001b[0m\u001b[0;34m\u001b[0m\u001b[0m\n\u001b[0m",
      "\u001b[0;31mModuleNotFoundError\u001b[0m: No module named 'src'"
     ]
    }
   ],
   "source": [
    "## DO NOT REMOVE\n",
    "## import local src module -\n",
    "## src in this project will contain all your local code\n",
    "## clean_data.py, model.py, visualize.py, custom.py\n",
    "\n",
    "#import src.base with alias to avoid namespace clashes\n",
    "\n",
    "from src import base as fis"
   ]
  },
  {
   "cell_type": "code",
   "execution_count": 4,
   "metadata": {},
   "outputs": [
    {
     "ename": "NameError",
     "evalue": "name 'fis' is not defined",
     "output_type": "error",
     "traceback": [
      "\u001b[0;31m---------------------------------------------------------------------------\u001b[0m",
      "\u001b[0;31mNameError\u001b[0m                                 Traceback (most recent call last)",
      "\u001b[0;32m<ipython-input-4-0372c7fe10ec>\u001b[0m in \u001b[0;36m<module>\u001b[0;34m\u001b[0m\n\u001b[0;32m----> 1\u001b[0;31m \u001b[0mfis\u001b[0m\u001b[0;34m.\u001b[0m\u001b[0mtest_base\u001b[0m\u001b[0;34m(\u001b[0m\u001b[0;34m)\u001b[0m\u001b[0;34m\u001b[0m\u001b[0;34m\u001b[0m\u001b[0m\n\u001b[0m",
      "\u001b[0;31mNameError\u001b[0m: name 'fis' is not defined"
     ]
    }
   ],
   "source": [
    "fis.test_base()"
   ]
  },
  {
   "cell_type": "markdown",
   "metadata": {},
   "source": [
    "# Import Libraries"
   ]
  },
  {
   "cell_type": "code",
   "execution_count": 32,
   "metadata": {
    "ExecuteTime": {
     "end_time": "2019-07-03T20:27:32.130251Z",
     "start_time": "2019-07-03T20:27:32.062161Z"
    }
   },
   "outputs": [],
   "source": [
    "# !pip install imblearn\n",
    "\n",
    "import pandas as pd\n",
    "import numpy as np\n",
    "\n",
    "# Visualization\n",
    "import matplotlib.pyplot as plt\n",
    "%matplotlib inline\n",
    "import seaborn as sns\n",
    "import pandas_profiling\n",
    "from sklearn.externals.six import StringIO\n",
    "from IPython.display import Image\n",
    "from sklearn.tree import export_graphviz\n",
    "import pydotplus\n",
    "\n",
    "# Warnings\n",
    "import warnings\n",
    "warnings.filterwarnings('ignore')\n",
    "\n",
    "# Data Preparation\n",
    "from sklearn.model_selection import train_test_split\n",
    "from sklearn.preprocessing import RobustScaler\n",
    "\n",
    "# Resampling Methods\n",
    "from imblearn.under_sampling import RandomUnderSampler\n",
    "from imblearn.over_sampling import SMOTE\n",
    "\n",
    "# Classifiers\n",
    "from sklearn.naive_bayes import GaussianNB\n",
    "from sklearn.neighbors import KNeighborsClassifier\n",
    "from sklearn.tree import DecisionTreeClassifier \n",
    "from sklearn.ensemble import RandomForestClassifier, AdaBoostClassifier, GradientBoostingClassifier \n",
    "from sklearn.linear_model import LogisticRegression\n",
    "from sklearn.svm import SVC\n",
    "\n",
    "# Model Tuning and Cross Validation\n",
    "from imblearn.pipeline import make_pipeline, Pipeline\n",
    "from sklearn.model_selection import GridSearchCV\n",
    "\n",
    "# Model metrics\n",
    "from sklearn import metrics\n",
    "from sklearn.metrics import accuracy_score, confusion_matrix, classification_report, roc_curve, auc, precision_recall_curve\n",
    "\n"
   ]
  },
  {
   "cell_type": "markdown",
   "metadata": {},
   "source": [
    "# Functions"
   ]
  },
  {
   "cell_type": "code",
   "execution_count": 6,
   "metadata": {},
   "outputs": [],
   "source": [
    "def make_RandomUnderSampler_model(X_train, y_train, X_test, y_test, classifier):\n",
    "\n",
    "# make pipeline \n",
    "\n",
    "    RU = RandomUnderSampler(random_state=10)\n",
    "\n",
    "    pipe = make_pipeline(RU, classifier)\n",
    "    model = pipe.fit(X_train, y_train)\n",
    "\n",
    "# make predictions   \n",
    "    train_predictions = model.predict(X_train)\n",
    "    test_predictions = model.predict(X_test)\n",
    "\n",
    "# print scores  \n",
    "    print('Train Accuracy: ' + str(metrics.accuracy_score(y_train, train_predictions)))\n",
    "    print('Train Precision: ' + str(metrics.precision_score(y_train, train_predictions)))\n",
    "    print('Train Recall: ' + str(metrics.recall_score(y_train, train_predictions)))\n",
    "    print('Train F1: ' + str(metrics.f1_score(y_train, train_predictions)))\n",
    "    print('\\n')\n",
    "    print('Test Accuracy: ' + str(metrics.accuracy_score(y_test, test_predictions)))\n",
    "    print('Test Precision: ' + str(metrics.precision_score(y_test, test_predictions)))\n",
    "    print('Test Recall: ' + str(metrics.recall_score(y_test, test_predictions)))\n",
    "    print('Test F1: ' + str(metrics.f1_score(y_test, test_predictions)))\n",
    "    print('\\n')\n",
    "    \n",
    "# print confusion matrix    \n",
    "    cm = confusion_matrix(y_test, test_predictions)\n",
    "    sns.heatmap(cm.T, square=True, annot=True, fmt = 'g', cmap='RdBu', cbar=False, xticklabels=['legitimate', 'fraud'], yticklabels=['legitimate', 'fraud'])\n",
    "    plt.title('Confusion Matrix')\n",
    "    plt.xlabel('true label')\n",
    "    plt.ylabel('predicted label')\n",
    " \n",
    "    tn, fp, fn, tp = confusion_matrix(y_test, test_predictions).ravel()\n",
    "    print(\"Confusion Matrix:\",'\\nTN:', tn, 'FP:', fp, 'FN:', fn, 'TP:', tp)\n",
    "\n",
    "    return model\n"
   ]
  },
  {
   "cell_type": "markdown",
   "metadata": {},
   "source": [
    "# Start with clean data"
   ]
  },
  {
   "cell_type": "code",
   "execution_count": 8,
   "metadata": {},
   "outputs": [],
   "source": [
    "df_cleaned = pd.read_csv('../data/processed/cleaned_dataframe.csv.gz', compression='gzip')\n",
    "df_cleaned_scaled = pd.read_csv('../data/processed/cleaned_dataframe_scaled.csv.gz', compression='gzip')"
   ]
  },
  {
   "cell_type": "markdown",
   "metadata": {},
   "source": [
    "## Train-Test Split (without scaling)"
   ]
  },
  {
   "cell_type": "code",
   "execution_count": 15,
   "metadata": {},
   "outputs": [
    {
     "name": "stdout",
     "output_type": "stream",
     "text": [
      "No. of samples in each training set: 198608\n",
      "No. of samples in each test set: 85118\n"
     ]
    }
   ],
   "source": [
    "X = df_cleaned.drop(['Class'], axis=1)\n",
    "y = df_cleaned['Class']\n",
    "\n",
    "X_train, X_test, y_train, y_test = train_test_split(X, y, test_size=0.3, stratify=y, random_state=1)\n",
    "print(\"No. of samples in each training set:\", X_train.shape[0])\n",
    "print(\"No. of samples in each test set:\", X_test.shape[0])"
   ]
  },
  {
   "cell_type": "markdown",
   "metadata": {},
   "source": [
    "## Train-Test Split (with scaling)"
   ]
  },
  {
   "cell_type": "code",
   "execution_count": 10,
   "metadata": {},
   "outputs": [],
   "source": [
    "X = df_cleaned_scaled.drop(['Class'], axis=1)\n",
    "y = df_cleaned_scaled['Class']\n",
    "\n",
    "X_train_sc, X_test_sc, y_train_sc, y_test_sc = train_test_split(X, y, test_size=0.3, stratify=y, random_state=1)"
   ]
  },
  {
   "cell_type": "markdown",
   "metadata": {},
   "source": [
    "## Gaussian Bayes"
   ]
  },
  {
   "cell_type": "code",
   "execution_count": 18,
   "metadata": {},
   "outputs": [
    {
     "name": "stdout",
     "output_type": "stream",
     "text": [
      "Train Accuracy: 0.9495287198904374\n",
      "Train Precision: 0.028045574057843997\n",
      "Train Recall: 0.8700906344410876\n",
      "Train F1: 0.05433962264150943\n",
      "\n",
      "\n",
      "Test Accuracy: 0.9498460960078949\n",
      "Test Precision: 0.027911233127430792\n",
      "Test Recall: 0.8591549295774648\n",
      "Test F1: 0.05406603146465765\n",
      "\n",
      "\n",
      "Confusion Matrix: \n",
      "TN: 80727 FP: 4249 FN: 20 TP: 122\n"
     ]
    },
    {
     "data": {
      "text/plain": [
       "Pipeline(memory=None,\n",
       "         steps=[('randomundersampler',\n",
       "                 RandomUnderSampler(random_state=10, ratio=None,\n",
       "                                    replacement=False, return_indices=False,\n",
       "                                    sampling_strategy='auto')),\n",
       "                ('gaussiannb', GaussianNB(priors=None, var_smoothing=1e-09))],\n",
       "         verbose=False)"
      ]
     },
     "execution_count": 18,
     "metadata": {},
     "output_type": "execute_result"
    },
    {
     "data": {
      "image/png": "[encoded data removed]",
      "text/plain": [
       "<Figure size 432x288 with 1 Axes>"
      ]
     },
     "metadata": {
      "needs_background": "light"
     },
     "output_type": "display_data"
    }
   ],
   "source": [
    "make_RandomUnderSampler_model(X_train, y_train, X_test, y_test, GaussianNB())"
   ]
  },
  {
   "cell_type": "markdown",
   "metadata": {},
   "source": [
    "## KNN"
   ]
  },
  {
   "cell_type": "code",
   "execution_count": 17,
   "metadata": {},
   "outputs": [
    {
     "name": "stdout",
     "output_type": "stream",
     "text": [
      "Train Accuracy: 0.981279706759043\n",
      "Train Precision: 0.07503136762860728\n",
      "Train Recall: 0.9033232628398792\n",
      "Train F1: 0.13855421686746988\n",
      "\n",
      "\n",
      "Test Accuracy: 0.9821306891609295\n",
      "Test Precision: 0.0756923076923077\n",
      "Test Recall: 0.8661971830985915\n",
      "Test F1: 0.13921901528013583\n",
      "\n",
      "\n",
      "Confusion Matrix: \n",
      "TN: 83474 FP: 1502 FN: 19 TP: 123\n"
     ]
    },
    {
     "data": {
      "text/plain": [
       "Pipeline(memory=None,\n",
       "         steps=[('randomundersampler',\n",
       "                 RandomUnderSampler(random_state=10, ratio=None,\n",
       "                                    replacement=False, return_indices=False,\n",
       "                                    sampling_strategy='auto')),\n",
       "                ('kneighborsclassifier',\n",
       "                 KNeighborsClassifier(algorithm='auto', leaf_size=30,\n",
       "                                      metric='minkowski', metric_params=None,\n",
       "                                      n_jobs=None, n_neighbors=9, p=2,\n",
       "                                      weights='uniform'))],\n",
       "         verbose=False)"
      ]
     },
     "execution_count": 17,
     "metadata": {},
     "output_type": "execute_result"
    },
    {
     "data": {
      "image/png": "[encoded data removed]",
      "text/plain": [
       "<Figure size 432x288 with 1 Axes>"
      ]
     },
     "metadata": {
      "needs_background": "light"
     },
     "output_type": "display_data"
    }
   ],
   "source": [
    "make_RandomUnderSampler_model(X_train_sc, y_train_sc, X_test_sc, y_test_sc, KNeighborsClassifier(n_neighbors=9))"
   ]
  },
  {
   "cell_type": "markdown",
   "metadata": {},
   "source": [
    "## SVM"
   ]
  },
  {
   "cell_type": "code",
   "execution_count": 21,
   "metadata": {},
   "outputs": [
    {
     "name": "stdout",
     "output_type": "stream",
     "text": [
      "[LibSVM]Train Accuracy: 0.9370871263997422\n",
      "Train Precision: 0.02469521725539231\n",
      "Train Recall: 0.9546827794561934\n",
      "Train F1: 0.04814504456463777\n",
      "\n",
      "\n",
      "Test Accuracy: 0.9368993632369181\n",
      "Test Precision: 0.023510114816839803\n",
      "Test Recall: 0.9084507042253521\n",
      "Test F1: 0.04583407354769941\n",
      "\n",
      "\n",
      "Confusion Matrix: \n",
      "TN: 79618 FP: 5358 FN: 13 TP: 129\n"
     ]
    },
    {
     "data": {
      "text/plain": [
       "Pipeline(memory=None,\n",
       "         steps=[('randomundersampler',\n",
       "                 RandomUnderSampler(random_state=10, ratio=None,\n",
       "                                    replacement=False, return_indices=False,\n",
       "                                    sampling_strategy='auto')),\n",
       "                ('svc',\n",
       "                 SVC(C=1.0, cache_size=200, class_weight={0: 1, 1: 2},\n",
       "                     coef0=0.0, decision_function_shape='ovr', degree=3,\n",
       "                     gamma='auto_deprecated', kernel='linear', max_iter=-1,\n",
       "                     probability=True, random_state=None, shrinking=True,\n",
       "                     tol=0.001, verbose=True))],\n",
       "         verbose=False)"
      ]
     },
     "execution_count": 21,
     "metadata": {},
     "output_type": "execute_result"
    },
    {
     "data": {
      "image/png": "[encoded data removed]",
      "text/plain": [
       "<Figure size 432x288 with 1 Axes>"
      ]
     },
     "metadata": {
      "needs_background": "light"
     },
     "output_type": "display_data"
    }
   ],
   "source": [
    "X_train_sv = X_train_sc.values\n",
    "y_train_sv = y_train_sc.values.ravel()\n",
    "X_test_sv = X_test_sc.values\n",
    "y_test_sv = y_test_sc.values.ravel()\n",
    "\n",
    "make_RandomUnderSampler_model(X_train_sv, y_train_sv, X_test_sv, y_test_sv, SVC(kernel = 'linear', probability = True, class_weight={0: 1, 1: 2}, verbose=True))"
   ]
  },
  {
   "cell_type": "markdown",
   "metadata": {},
   "source": [
    "## Logistic Regression"
   ]
  },
  {
   "cell_type": "code",
   "execution_count": 23,
   "metadata": {},
   "outputs": [
    {
     "name": "stdout",
     "output_type": "stream",
     "text": [
      "Train Accuracy: 0.9193134214130347\n",
      "Train Precision: 0.01970865467009426\n",
      "Train Recall: 0.972809667673716\n",
      "Train F1: 0.03863459115723799\n",
      "\n",
      "\n",
      "Test Accuracy: 0.9193590074954768\n",
      "Test Precision: 0.01834336486099169\n",
      "Test Recall: 0.9014084507042254\n",
      "Test F1: 0.035955056179775284\n",
      "\n",
      "\n",
      "Confusion Matrix: \n",
      "TN: 78126 FP: 6850 FN: 14 TP: 128\n"
     ]
    },
    {
     "data": {
      "text/plain": [
       "Pipeline(memory=None,\n",
       "         steps=[('randomundersampler',\n",
       "                 RandomUnderSampler(random_state=10, ratio=None,\n",
       "                                    replacement=False, return_indices=False,\n",
       "                                    sampling_strategy='auto')),\n",
       "                ('logisticregression',\n",
       "                 LogisticRegression(C=1000000000000.0,\n",
       "                                    class_weight={0: 1, 1: 3}, dual=False,\n",
       "                                    fit_intercept=False, intercept_scaling=1,\n",
       "                                    l1_ratio=None, max_iter=100,\n",
       "                                    multi_class='warn', n_jobs=None,\n",
       "                                    penalty='l2', random_state=None,\n",
       "                                    solver='warn', tol=0.0001, verbose=0,\n",
       "                                    warm_start=False))],\n",
       "         verbose=False)"
      ]
     },
     "execution_count": 23,
     "metadata": {},
     "output_type": "execute_result"
    },
    {
     "data": {
      "image/png": "[encoded data removed]",
      "text/plain": [
       "<Figure size 432x288 with 1 Axes>"
      ]
     },
     "metadata": {
      "needs_background": "light"
     },
     "output_type": "display_data"
    }
   ],
   "source": [
    "make_RandomUnderSampler_model(X_train_sc, y_train_sc, X_test_sc, y_test_sc, LogisticRegression(fit_intercept = False, C = 1e12, class_weight={0: 1, 1: 3}))"
   ]
  },
  {
   "cell_type": "markdown",
   "metadata": {},
   "source": [
    "## Random Forest"
   ]
  },
  {
   "cell_type": "code",
   "execution_count": 26,
   "metadata": {},
   "outputs": [
    {
     "name": "stdout",
     "output_type": "stream",
     "text": [
      "Train Accuracy: 0.9828053250624346\n",
      "Train Precision: 0.08836091831286706\n",
      "Train Recall: 1.0\n",
      "Train F1: 0.16237429482462595\n",
      "\n",
      "\n",
      "Test Accuracy: 0.983129302850161\n",
      "Test Precision: 0.07767624020887728\n",
      "Test Recall: 0.8380281690140845\n",
      "Test F1: 0.14217443249701314\n",
      "\n",
      "\n",
      "Confusion Matrix: \n",
      "TN: 83563 FP: 1413 FN: 23 TP: 119\n"
     ]
    },
    {
     "data": {
      "text/plain": [
       "Pipeline(memory=None,\n",
       "         steps=[('randomundersampler',\n",
       "                 RandomUnderSampler(random_state=10, ratio=None,\n",
       "                                    replacement=False, return_indices=False,\n",
       "                                    sampling_strategy='auto')),\n",
       "                ('randomforestclassifier',\n",
       "                 RandomForestClassifier(bootstrap=True,\n",
       "                                        class_weight={0: 1, 1: 3},\n",
       "                                        criterion='gini', max_depth=12,\n",
       "                                        max_features='auto',\n",
       "                                        max_leaf_nodes=None,\n",
       "                                        min_impurity_decrease=0.0,\n",
       "                                        min_impurity_split=None,\n",
       "                                        min_samples_leaf=1, min_samples_split=2,\n",
       "                                        min_weight_fraction_leaf=0.0,\n",
       "                                        n_estimators=30, n_jobs=None,\n",
       "                                        oob_score=False, random_state=None,\n",
       "                                        verbose=0, warm_start=False))],\n",
       "         verbose=False)"
      ]
     },
     "execution_count": 26,
     "metadata": {},
     "output_type": "execute_result"
    },
    {
     "data": {
      "image/png": "[encoded data removed]",
      "text/plain": [
       "<Figure size 432x288 with 1 Axes>"
      ]
     },
     "metadata": {
      "needs_background": "light"
     },
     "output_type": "display_data"
    }
   ],
   "source": [
    "make_RandomUnderSampler_model(X_train, y_train, X_test, y_test, RandomForestClassifier(max_depth=12, n_estimators=30, class_weight={0: 1, 1: 3}))\n",
    "\n"
   ]
  },
  {
   "cell_type": "markdown",
   "metadata": {},
   "source": [
    "# AdaBoost"
   ]
  },
  {
   "cell_type": "code",
   "execution_count": 28,
   "metadata": {},
   "outputs": [
    {
     "name": "stdout",
     "output_type": "stream",
     "text": [
      "Train Accuracy: 0.9494078788367034\n",
      "Train Precision: 0.03189131900953849\n",
      "Train Recall: 1.0\n",
      "Train F1: 0.061811391223155925\n",
      "\n",
      "\n",
      "Test Accuracy: 0.9506332385629361\n",
      "Test Precision: 0.02812645281264528\n",
      "Test Recall: 0.852112676056338\n",
      "Test F1: 0.054455445544554455\n",
      "\n",
      "\n",
      "Confusion Matrix: \n",
      "TN: 80795 FP: 4181 FN: 21 TP: 121\n"
     ]
    },
    {
     "data": {
      "text/plain": [
       "Pipeline(memory=None,\n",
       "         steps=[('randomundersampler',\n",
       "                 RandomUnderSampler(random_state=10, ratio=None,\n",
       "                                    replacement=False, return_indices=False,\n",
       "                                    sampling_strategy='auto')),\n",
       "                ('adaboostclassifier',\n",
       "                 AdaBoostClassifier(algorithm='SAMME.R', base_estimator=None,\n",
       "                                    learning_rate=1.0, n_estimators=50,\n",
       "                                    random_state=None))],\n",
       "         verbose=False)"
      ]
     },
     "execution_count": 28,
     "metadata": {},
     "output_type": "execute_result"
    },
    {
     "data": {
      "image/png": "[encoded data removed]",
      "text/plain": [
       "<Figure size 432x288 with 1 Axes>"
      ]
     },
     "metadata": {
      "needs_background": "light"
     },
     "output_type": "display_data"
    }
   ],
   "source": [
    "make_RandomUnderSampler_model(X_train, y_train, X_test, y_test, AdaBoostClassifier())\n",
    "\n"
   ]
  },
  {
   "cell_type": "markdown",
   "metadata": {},
   "source": [
    "# Gradient Boosting"
   ]
  },
  {
   "cell_type": "code",
   "execution_count": 31,
   "metadata": {},
   "outputs": [
    {
     "name": "stdout",
     "output_type": "stream",
     "text": [
      "Train Accuracy: 0.9639490856360268\n",
      "Train Precision: 0.04272130708450515\n",
      "Train Recall: 0.9637462235649547\n",
      "Train F1: 0.08181585021800462\n",
      "\n",
      "\n",
      "Test Accuracy: 0.964026410394981\n",
      "Test Precision: 0.039141414141414144\n",
      "Test Recall: 0.8732394366197183\n",
      "Test F1: 0.07492447129909366\n",
      "\n",
      "\n",
      "Confusion Matrix: \n",
      "TN: 81932 FP: 3044 FN: 18 TP: 124\n"
     ]
    },
    {
     "data": {
      "text/plain": [
       "Pipeline(memory=None,\n",
       "         steps=[('randomundersampler',\n",
       "                 RandomUnderSampler(random_state=10, ratio=None,\n",
       "                                    replacement=False, return_indices=False,\n",
       "                                    sampling_strategy='auto')),\n",
       "                ('gradientboostingclassifier',\n",
       "                 GradientBoostingClassifier(criterion='friedman_mse', init=None,\n",
       "                                            learning_rate=0.1, loss='deviance',\n",
       "                                            max_depth=3, max_features=None,\n",
       "                                            max_leaf_nodes=None,\n",
       "                                            min_impurity_decrease=0.0,\n",
       "                                            min_impurity_split=None,\n",
       "                                            min_samples_leaf=1,\n",
       "                                            min_samples_split=2,\n",
       "                                            min_weight_fraction_leaf=0.0,\n",
       "                                            n_estimators=30,\n",
       "                                            n_iter_no_change=None,\n",
       "                                            presort='auto', random_state=None,\n",
       "                                            subsample=1.0, tol=0.0001,\n",
       "                                            validation_fraction=0.1, verbose=0,\n",
       "                                            warm_start=False))],\n",
       "         verbose=False)"
      ]
     },
     "execution_count": 31,
     "metadata": {},
     "output_type": "execute_result"
    },
    {
     "data": {
      "image/png": "[encoded data removed]",
      "text/plain": [
       "<Figure size 432x288 with 1 Axes>"
      ]
     },
     "metadata": {
      "needs_background": "light"
     },
     "output_type": "display_data"
    }
   ],
   "source": [
    "make_RandomUnderSampler_model(X_train, y_train, X_test, y_test, GradientBoostingClassifier(n_estimators=30))"
   ]
  },
  {
   "cell_type": "code",
   "execution_count": null,
   "metadata": {},
   "outputs": [],
   "source": []
  }
 ],
 "metadata": {
  "kernelspec": {
   "display_name": "Python 3",
   "language": "python",
   "name": "python3"
  },
  "language_info": {
   "codemirror_mode": {
    "name": "ipython",
    "version": 3
   },
   "file_extension": ".py",
   "mimetype": "text/x-python",
   "name": "python",
   "nbconvert_exporter": "python",
   "pygments_lexer": "ipython3",
   "version": "3.7.3"
  },
  "toc": {
   "base_numbering": 1,
   "nav_menu": {},
   "number_sections": true,
   "sideBar": true,
   "skip_h1_title": false,
   "title_cell": "Table of Contents",
   "title_sidebar": "Contents",
   "toc_cell": false,
   "toc_position": {},
   "toc_section_display": true,
   "toc_window_display": false
  },
  "varInspector": {
   "cols": {
    "lenName": 16,
    "lenType": 16,
    "lenVar": 40
   },
   "kernels_config": {
    "python": {
     "delete_cmd_postfix": "",
     "delete_cmd_prefix": "del ",
     "library": "var_list.py",
     "varRefreshCmd": "print(var_dic_list())"
    },
    "r": {
     "delete_cmd_postfix": ") ",
     "delete_cmd_prefix": "rm(",
     "library": "var_list.r",
     "varRefreshCmd": "cat(var_dic_list()) "
    }
   },
   "types_to_exclude": [
    "module",
    "function",
    "builtin_function_or_method",
    "instance",
    "_Feature"
   ],
   "window_display": false
  }
 },
 "nbformat": 4,
 "nbformat_minor": 2
}
