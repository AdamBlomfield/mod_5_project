{
 "cells": [
  {
   "cell_type": "markdown",
   "metadata": {},
   "source": [
    "# Add to README"
   ]
  },
  {
   "cell_type": "markdown",
   "metadata": {},
   "source": [
    "* Frauds assumed to be non-authorized transactions.  "
   ]
  },
  {
   "cell_type": "markdown",
   "metadata": {},
   "source": [
    "# To Discuss with Group"
   ]
  },
  {
   "cell_type": "markdown",
   "metadata": {},
   "source": [
    "* Time Period Chart made\n",
    "* Ratio of Frauds throughout the day.\n",
    "    * Much higher chance at night, suggesting this is when criminals are active, or could even be located elsewhere\n",
    "* Baseline Model done\n",
    "* Scaled Data (Robust Scaler)\n",
    "* do cross_vlidation kfold rather than train test split (speak to omer about this)\n",
    "https://stackoverflow.com/questions/29082001/how-to-split-a-dataset-into-training-and-validation-set-keeping-ratio-between-cl\n",
    "* Why we create subsample/over/undersample\n",
    "* Using interquartile range to delete outliers\n",
    "https://machinelearningmastery.com/how-to-use-statistics-to-identify-outliers-in-data/\n",
    "* Set thresholds, whereby we are less strict about catching FN if its under a certain amount"
   ]
  },
  {
   "cell_type": "markdown",
   "metadata": {},
   "source": [
    "# Questions for Omer"
   ]
  },
  {
   "cell_type": "markdown",
   "metadata": {},
   "source": [
    "* should we resample and then T:t? or just resample on train data?\n",
    "* t-SNE (dim reduction), can you do it on data that is already PCA?\n",
    "https://www.youtube.com/watch?v=NEaUSP4YerM\n",
    "* training vs cross validation sets? whats the difference\n",
    "* Costs of FP and FN in particular (but also TP and TN)"
   ]
  },
  {
   "cell_type": "markdown",
   "metadata": {},
   "source": []
  },
  {
   "cell_type": "markdown",
   "metadata": {
    "heading_collapsed": true
   },
   "source": [
    "# Do Not Delete!"
   ]
  },
  {
   "cell_type": "code",
   "execution_count": 30,
   "metadata": {
    "ExecuteTime": {
     "end_time": "2019-07-03T20:46:43.461760Z",
     "start_time": "2019-07-03T20:46:43.404624Z"
    },
    "hidden": true,
    "tags": [
     "hidecode"
    ]
   },
   "outputs": [
    {
     "name": "stdout",
     "output_type": "stream",
     "text": [
      "The autoreload extension is already loaded. To reload it, use:\n",
      "  %reload_ext autoreload\n"
     ]
    }
   ],
   "source": [
    "# DO NOT REMOVE THESE\n",
    "%load_ext autoreload\n",
    "%autoreload 2"
   ]
  },
  {
   "cell_type": "code",
   "execution_count": 31,
   "metadata": {
    "ExecuteTime": {
     "end_time": "2019-07-03T20:46:43.595693Z",
     "start_time": "2019-07-03T20:46:43.463446Z"
    },
    "hidden": true
   },
   "outputs": [],
   "source": [
    "# DO NOT REMOVE This\n",
    "%reload_ext autoreload"
   ]
  },
  {
   "cell_type": "code",
   "execution_count": 32,
   "metadata": {
    "ExecuteTime": {
     "end_time": "2019-07-03T20:46:43.663711Z",
     "start_time": "2019-07-03T20:46:43.597653Z"
    },
    "hidden": true
   },
   "outputs": [],
   "source": [
    "## DO NOT REMOVE\n",
    "## import local src module -\n",
    "## src in this project will contain all your local code\n",
    "## clean_data.py, model.py, visualize.py, custom.py\n",
    "\n",
    "#import src.base with alias to avoid namespace clashes\n",
    "\n",
    "from src import base as fis"
   ]
  },
  {
   "cell_type": "code",
   "execution_count": 33,
   "metadata": {
    "ExecuteTime": {
     "end_time": "2019-07-03T20:46:43.734620Z",
     "start_time": "2019-07-03T20:46:43.665400Z"
    },
    "hidden": true
   },
   "outputs": [
    {
     "name": "stdout",
     "output_type": "stream",
     "text": [
      "Base Module Imported\n",
      "\n",
      "Testing local imports\n",
      "In clean_data\n",
      "In Model\n",
      "In Visualize\n",
      "In custom module\n"
     ]
    }
   ],
   "source": [
    "fis.test_base()"
   ]
  },
  {
   "cell_type": "markdown",
   "metadata": {},
   "source": [
    "# Import Libraries"
   ]
  },
  {
   "cell_type": "code",
   "execution_count": 34,
   "metadata": {
    "ExecuteTime": {
     "end_time": "2019-07-03T20:46:43.801758Z",
     "start_time": "2019-07-03T20:46:43.735977Z"
    }
   },
   "outputs": [],
   "source": [
    "# # For collaborators to install:\n",
    "# !pip install -r requirements.txt\n",
    "# # Install pydotaplus\n",
    "# !pip install pydotplus\n",
    "# # install pandas profiling\n",
    "# !pip install pandas-profiling"
   ]
  },
  {
   "cell_type": "code",
   "execution_count": 35,
   "metadata": {
    "ExecuteTime": {
     "end_time": "2019-07-03T20:46:43.894614Z",
     "start_time": "2019-07-03T20:46:43.802916Z"
    }
   },
   "outputs": [],
   "source": [
    "# Dataframes\n",
    "import pandas as pd\n",
    "import numpy as np\n",
    "\n",
    "# Graphing\n",
    "import matplotlib.pyplot as plt\n",
    "%matplotlib inline\n",
    "import seaborn as sns\n",
    "import plotly.plotly as py\n",
    "import plotly.graph_objs as go\n",
    "\n",
    "# Warnings\n",
    "import warnings\n",
    "warnings.filterwarnings('ignore')\n",
    "\n",
    "# Data Profiling\n",
    "import pandas_profiling\n",
    "\n",
    "# Data Preparation\n",
    "    # Train:Test\n",
    "from sklearn.model_selection import train_test_split\n",
    "    # Normalize\n",
    "from sklearn.preprocessing import normalize\n",
    "    # Scaling\n",
    "from sklearn.preprocessing import StandardScaler, MinMaxScaler, RobustScaler\n",
    "    # GridSearch\n",
    "from sklearn.model_selection import GridSearchCV\n",
    "    # PCA\n",
    "from sklearn.decomposition import PCA\n",
    "    \n",
    "# KNN\n",
    "from sklearn.neighbors import KNeighborsClassifier\n",
    "from sklearn import metrics\n",
    "from scipy.spatial import distance\n",
    "\n",
    "# Gaussian Naive Bayes\n",
    "\n",
    "\n",
    "# KMeans\n",
    "\n",
    "\n",
    "# Logistic Regression\n",
    "    # SK-learn\n",
    "from sklearn.linear_model import LogisticRegression\n",
    "    # Statsmodel\n",
    "import statsmodels.api as sm\n",
    "from patsy import dmatrices\n",
    "\n",
    "# Random Forest\n",
    "from sklearn.tree import DecisionTreeClassifier  # Decision Tree\n",
    "from sklearn.ensemble import BaggingClassifier, RandomForestClassifier  #Bagging & Random Forest\n",
    "from sklearn import tree\n",
    "from sklearn.metrics import accuracy_score, confusion_matrix, classification_report, roc_curve, auc\n",
    "    # Visuals for Random Forest\n",
    "from sklearn.externals.six import StringIO\n",
    "from IPython.display import Image\n",
    "from sklearn.tree import export_graphviz\n",
    "import pydotplus\n",
    "\n",
    "# SVC\n",
    "from sklearn.svm import SVC\n",
    "from sklearn.metrics import classification_report, confusion_matrix , accuracy_score"
   ]
  },
  {
   "cell_type": "markdown",
   "metadata": {},
   "source": [
    "# Data Importing"
   ]
  },
  {
   "cell_type": "code",
   "execution_count": 36,
   "metadata": {
    "ExecuteTime": {
     "end_time": "2019-07-03T20:46:49.412921Z",
     "start_time": "2019-07-03T20:46:47.076075Z"
    }
   },
   "outputs": [],
   "source": [
    "csv_name = '../data/raw/creditcard.csv'  #put as a string\n",
    "df = pd.read_csv(csv_name)"
   ]
  },
  {
   "cell_type": "markdown",
   "metadata": {},
   "source": [
    "## Data Profile"
   ]
  },
  {
   "cell_type": "code",
   "execution_count": 8,
   "metadata": {
    "ExecuteTime": {
     "end_time": "2019-07-03T12:26:03.070247Z",
     "start_time": "2019-07-03T12:26:03.031417Z"
    },
    "scrolled": true
   },
   "outputs": [],
   "source": [
    "# df.profile_report()"
   ]
  },
  {
   "cell_type": "code",
   "execution_count": 9,
   "metadata": {
    "ExecuteTime": {
     "end_time": "2019-07-03T12:26:03.106862Z",
     "start_time": "2019-07-03T12:26:03.072579Z"
    },
    "scrolled": true
   },
   "outputs": [],
   "source": [
    "# # retrieve the list of variables which may need to be rejected, due to high correlation:\n",
    "# profile = df.profile_report()\n",
    "# rejected_variables = profile.get_rejected_variables(threshold=0.9)\n",
    "# rejected_variables"
   ]
  },
  {
   "cell_type": "markdown",
   "metadata": {},
   "source": [
    "# Data Cleaning"
   ]
  },
  {
   "cell_type": "markdown",
   "metadata": {},
   "source": [
    "## Transform 'Time' column from seconds into 4 periods of the day"
   ]
  },
  {
   "cell_type": "code",
   "execution_count": 37,
   "metadata": {
    "ExecuteTime": {
     "end_time": "2019-07-03T20:47:28.445331Z",
     "start_time": "2019-07-03T20:47:25.719307Z"
    }
   },
   "outputs": [
    {
     "data": {
      "text/html": [
       "<div>\n",
       "<style scoped>\n",
       "    .dataframe tbody tr th:only-of-type {\n",
       "        vertical-align: middle;\n",
       "    }\n",
       "\n",
       "    .dataframe tbody tr th {\n",
       "        vertical-align: top;\n",
       "    }\n",
       "\n",
       "    .dataframe thead th {\n",
       "        text-align: right;\n",
       "    }\n",
       "</style>\n",
       "<table border=\"1\" class=\"dataframe\">\n",
       "  <thead>\n",
       "    <tr style=\"text-align: right;\">\n",
       "      <th></th>\n",
       "      <th>V1</th>\n",
       "      <th>V2</th>\n",
       "      <th>V3</th>\n",
       "      <th>V4</th>\n",
       "      <th>V5</th>\n",
       "      <th>V6</th>\n",
       "      <th>V7</th>\n",
       "      <th>V8</th>\n",
       "      <th>V9</th>\n",
       "      <th>V10</th>\n",
       "      <th>...</th>\n",
       "      <th>V25</th>\n",
       "      <th>V26</th>\n",
       "      <th>V27</th>\n",
       "      <th>V28</th>\n",
       "      <th>Amount</th>\n",
       "      <th>Class</th>\n",
       "      <th>time_of_day_0.0</th>\n",
       "      <th>time_of_day_1.0</th>\n",
       "      <th>time_of_day_2.0</th>\n",
       "      <th>time_of_day_3.0</th>\n",
       "    </tr>\n",
       "  </thead>\n",
       "  <tbody>\n",
       "    <tr>\n",
       "      <th>0</th>\n",
       "      <td>-1.359807</td>\n",
       "      <td>-0.072781</td>\n",
       "      <td>2.536347</td>\n",
       "      <td>1.378155</td>\n",
       "      <td>-0.338321</td>\n",
       "      <td>0.462388</td>\n",
       "      <td>0.239599</td>\n",
       "      <td>0.098698</td>\n",
       "      <td>0.363787</td>\n",
       "      <td>0.090794</td>\n",
       "      <td>...</td>\n",
       "      <td>0.128539</td>\n",
       "      <td>-0.189115</td>\n",
       "      <td>0.133558</td>\n",
       "      <td>-0.021053</td>\n",
       "      <td>149.62</td>\n",
       "      <td>0</td>\n",
       "      <td>0</td>\n",
       "      <td>0</td>\n",
       "      <td>0</td>\n",
       "      <td>1</td>\n",
       "    </tr>\n",
       "    <tr>\n",
       "      <th>1</th>\n",
       "      <td>1.191857</td>\n",
       "      <td>0.266151</td>\n",
       "      <td>0.166480</td>\n",
       "      <td>0.448154</td>\n",
       "      <td>0.060018</td>\n",
       "      <td>-0.082361</td>\n",
       "      <td>-0.078803</td>\n",
       "      <td>0.085102</td>\n",
       "      <td>-0.255425</td>\n",
       "      <td>-0.166974</td>\n",
       "      <td>...</td>\n",
       "      <td>0.167170</td>\n",
       "      <td>0.125895</td>\n",
       "      <td>-0.008983</td>\n",
       "      <td>0.014724</td>\n",
       "      <td>2.69</td>\n",
       "      <td>0</td>\n",
       "      <td>0</td>\n",
       "      <td>0</td>\n",
       "      <td>0</td>\n",
       "      <td>1</td>\n",
       "    </tr>\n",
       "    <tr>\n",
       "      <th>2</th>\n",
       "      <td>-1.358354</td>\n",
       "      <td>-1.340163</td>\n",
       "      <td>1.773209</td>\n",
       "      <td>0.379780</td>\n",
       "      <td>-0.503198</td>\n",
       "      <td>1.800499</td>\n",
       "      <td>0.791461</td>\n",
       "      <td>0.247676</td>\n",
       "      <td>-1.514654</td>\n",
       "      <td>0.207643</td>\n",
       "      <td>...</td>\n",
       "      <td>-0.327642</td>\n",
       "      <td>-0.139097</td>\n",
       "      <td>-0.055353</td>\n",
       "      <td>-0.059752</td>\n",
       "      <td>378.66</td>\n",
       "      <td>0</td>\n",
       "      <td>0</td>\n",
       "      <td>0</td>\n",
       "      <td>0</td>\n",
       "      <td>1</td>\n",
       "    </tr>\n",
       "    <tr>\n",
       "      <th>3</th>\n",
       "      <td>-0.966272</td>\n",
       "      <td>-0.185226</td>\n",
       "      <td>1.792993</td>\n",
       "      <td>-0.863291</td>\n",
       "      <td>-0.010309</td>\n",
       "      <td>1.247203</td>\n",
       "      <td>0.237609</td>\n",
       "      <td>0.377436</td>\n",
       "      <td>-1.387024</td>\n",
       "      <td>-0.054952</td>\n",
       "      <td>...</td>\n",
       "      <td>0.647376</td>\n",
       "      <td>-0.221929</td>\n",
       "      <td>0.062723</td>\n",
       "      <td>0.061458</td>\n",
       "      <td>123.50</td>\n",
       "      <td>0</td>\n",
       "      <td>0</td>\n",
       "      <td>0</td>\n",
       "      <td>0</td>\n",
       "      <td>1</td>\n",
       "    </tr>\n",
       "    <tr>\n",
       "      <th>4</th>\n",
       "      <td>-1.158233</td>\n",
       "      <td>0.877737</td>\n",
       "      <td>1.548718</td>\n",
       "      <td>0.403034</td>\n",
       "      <td>-0.407193</td>\n",
       "      <td>0.095921</td>\n",
       "      <td>0.592941</td>\n",
       "      <td>-0.270533</td>\n",
       "      <td>0.817739</td>\n",
       "      <td>0.753074</td>\n",
       "      <td>...</td>\n",
       "      <td>-0.206010</td>\n",
       "      <td>0.502292</td>\n",
       "      <td>0.219422</td>\n",
       "      <td>0.215153</td>\n",
       "      <td>69.99</td>\n",
       "      <td>0</td>\n",
       "      <td>0</td>\n",
       "      <td>0</td>\n",
       "      <td>0</td>\n",
       "      <td>1</td>\n",
       "    </tr>\n",
       "  </tbody>\n",
       "</table>\n",
       "<p>5 rows × 34 columns</p>\n",
       "</div>"
      ],
      "text/plain": [
       "         V1        V2        V3        V4        V5        V6        V7  \\\n",
       "0 -1.359807 -0.072781  2.536347  1.378155 -0.338321  0.462388  0.239599   \n",
       "1  1.191857  0.266151  0.166480  0.448154  0.060018 -0.082361 -0.078803   \n",
       "2 -1.358354 -1.340163  1.773209  0.379780 -0.503198  1.800499  0.791461   \n",
       "3 -0.966272 -0.185226  1.792993 -0.863291 -0.010309  1.247203  0.237609   \n",
       "4 -1.158233  0.877737  1.548718  0.403034 -0.407193  0.095921  0.592941   \n",
       "\n",
       "         V8        V9       V10  ...       V25       V26       V27       V28  \\\n",
       "0  0.098698  0.363787  0.090794  ...  0.128539 -0.189115  0.133558 -0.021053   \n",
       "1  0.085102 -0.255425 -0.166974  ...  0.167170  0.125895 -0.008983  0.014724   \n",
       "2  0.247676 -1.514654  0.207643  ... -0.327642 -0.139097 -0.055353 -0.059752   \n",
       "3  0.377436 -1.387024 -0.054952  ...  0.647376 -0.221929  0.062723  0.061458   \n",
       "4 -0.270533  0.817739  0.753074  ... -0.206010  0.502292  0.219422  0.215153   \n",
       "\n",
       "   Amount  Class  time_of_day_0.0  time_of_day_1.0  time_of_day_2.0  \\\n",
       "0  149.62      0                0                0                0   \n",
       "1    2.69      0                0                0                0   \n",
       "2  378.66      0                0                0                0   \n",
       "3  123.50      0                0                0                0   \n",
       "4   69.99      0                0                0                0   \n",
       "\n",
       "   time_of_day_3.0  \n",
       "0                1  \n",
       "1                1  \n",
       "2                1  \n",
       "3                1  \n",
       "4                1  \n",
       "\n",
       "[5 rows x 34 columns]"
      ]
     },
     "execution_count": 37,
     "metadata": {},
     "output_type": "execute_result"
    }
   ],
   "source": [
    "# Cleaned DataFrame\n",
    "clean_df = pd.read_csv('../data/processed/cleaned_dataframe.csv.gz', compression='gzip')\n",
    "clean_df.head()"
   ]
  },
  {
   "cell_type": "code",
   "execution_count": 38,
   "metadata": {
    "ExecuteTime": {
     "end_time": "2019-07-03T20:47:42.040344Z",
     "start_time": "2019-07-03T20:47:41.966453Z"
    }
   },
   "outputs": [],
   "source": [
    "df['time_of_day'] = 0"
   ]
  },
  {
   "cell_type": "code",
   "execution_count": 39,
   "metadata": {
    "ExecuteTime": {
     "end_time": "2019-07-03T20:47:46.042355Z",
     "start_time": "2019-07-03T20:47:45.400889Z"
    }
   },
   "outputs": [],
   "source": [
    "secs_per_day = 86400\n",
    "secs_per_hour = 3600\n",
    "_1am = 1*secs_per_hour\n",
    "_7am = 7*secs_per_hour\n",
    "_1pm = 13*secs_per_hour\n",
    "_7pm = 19*secs_per_hour\n",
    "\n",
    "# If its in the 2nd day of data, take off 24 hours\n",
    "df['Time_1day']=df['Time'].apply(lambda x: x - secs_per_day if x >= secs_per_day else x)\n",
    "\n",
    "# bin the data into 4 time periods\n",
    "# 0=1am-7am , 1=7am-1pm, 2=1pm-7pm, 3=7pm-1am\n",
    "df['time_of_day'][(df['Time_1day']<_1am)] = 3\n",
    "df['time_of_day'][(df['Time_1day']>=_1am) & (df['time_of_day']<_7am)] = 0\n",
    "df['time_of_day'][(df['Time_1day']>=_7am) & (df['time_of_day']<_1pm)] = 1\n",
    "df['time_of_day'][(df['Time_1day']>=_1pm) & (df['time_of_day']<_7pm)] = 2\n",
    "df['time_of_day'][(df['Time_1day']>=_7pm)] = 3"
   ]
  },
  {
   "cell_type": "markdown",
   "metadata": {},
   "source": [
    "### Chart to illustrate the time periods"
   ]
  },
  {
   "cell_type": "code",
   "execution_count": 48,
   "metadata": {
    "ExecuteTime": {
     "end_time": "2019-07-03T20:55:16.599218Z",
     "start_time": "2019-07-03T20:55:16.519783Z"
    }
   },
   "outputs": [
    {
     "ename": "SyntaxError",
     "evalue": "invalid syntax (<ipython-input-48-b41efbaacf9f>, line 26)",
     "output_type": "error",
     "traceback": [
      "\u001b[0;36m  File \u001b[0;32m\"<ipython-input-48-b41efbaacf9f>\"\u001b[0;36m, line \u001b[0;32m26\u001b[0m\n\u001b[0;31m    x = df['Time']\u001b[0m\n\u001b[0m    ^\u001b[0m\n\u001b[0;31mSyntaxError\u001b[0m\u001b[0;31m:\u001b[0m invalid syntax\n"
     ]
    }
   ],
   "source": [
    "# subplots.  1 = original histogram, 2 = onto 1 day, 3 = big one that shows vertical line divisions of time periods\n",
    "\n",
    "plt.xlabel('Time in Seconds')\n",
    "plt.ylabel('Number of Transactions')\n",
    "\n",
    "\n",
    "layout = go.Layout(\n",
    "    title=go.layout.Title(\n",
    "        text='Number of Transactions over Time'\n",
    "    ),\n",
    "    xaxis=go.layout.XAxis(\n",
    "        title=go.layout.xaxis.Title(\n",
    "            text='Time in Seconds'\n",
    "            )\n",
    "        )\n",
    "    ,\n",
    "    yaxis=go.layout.YAxis(\n",
    "        title=go.layout.yaxis.Title(\n",
    "            text='Number of Transactions'\n",
    "        )\n",
    "    )\n",
    "\n",
    "\n",
    "# # original histogram\n",
    "# plt.title('Number of Transactions over Time')\n",
    "x = df['Time']\n",
    "data = [go.Histogram(x=x)]\n",
    "py.iplot(data=data, layout=layout, filename='Original Time Histogram')\n",
    "\n",
    "\n",
    "# Aggregated onto 1 day\n",
    "# x = df['Time_1day']\n",
    "# data = [go.Histogram(x=x)]\n",
    "# py.iplot(data, filename='Time aggregated to 1 day Histogram')\n",
    "\n",
    "# # Division of Time periods \n",
    "# x = df['Time_1day']\n",
    "# data = [go.Histogram(x=x)]\n",
    "# py.iplot(data, filename='Time Periods Histogram')"
   ]
  },
  {
   "cell_type": "markdown",
   "metadata": {},
   "source": [
    "#### Customized with Plot.ly Chart Studio"
   ]
  },
  {
   "cell_type": "markdown",
   "metadata": {},
   "source": [
    "![alt text](../reports/figures/histogram_of_transactions_1_day_time_periods.png \"Title\")"
   ]
  },
  {
   "cell_type": "markdown",
   "metadata": {},
   "source": [
    "## Drop duplicate rows"
   ]
  },
  {
   "cell_type": "code",
   "execution_count": 13,
   "metadata": {
    "ExecuteTime": {
     "end_time": "2019-07-03T12:26:07.749445Z",
     "start_time": "2019-07-03T12:26:07.127108Z"
    }
   },
   "outputs": [],
   "source": [
    "df.drop_duplicates(inplace=True) # 1081 rows dropped"
   ]
  },
  {
   "cell_type": "markdown",
   "metadata": {},
   "source": [
    "## Is the ratio of Class same throughout day as ratio of total transactions?"
   ]
  },
  {
   "cell_type": "code",
   "execution_count": 14,
   "metadata": {
    "ExecuteTime": {
     "end_time": "2019-07-03T12:26:07.818798Z",
     "start_time": "2019-07-03T12:26:07.751236Z"
    }
   },
   "outputs": [
    {
     "name": "stdout",
     "output_type": "stream",
     "text": [
      "The Ratios of All Transactions are:\n",
      "\tTime Period 0: 0.071\n",
      "\tTime Period 1: 0.289\n",
      "\tTime Period 2: 0.344\n",
      "\tTime Period 3: 0.295\n",
      "The Ratios of Only Frauds are:\n",
      "\tTime Period 0: 0.249\n",
      "\tTime Period 1: 0.266\n",
      "\tTime Period 2: 0.304\n",
      "\tTime Period 3: 0.18\n"
     ]
    }
   ],
   "source": [
    "# Find the ratio of all the transactions across the 4 time periods\n",
    "print('The Ratios of All Transactions are:')\n",
    "for i in list(range(4)):\n",
    "    total_sum = df['time_of_day'].value_counts().sum()\n",
    "    ith_ratio = df['time_of_day'].value_counts()[i]\n",
    "    print('\\tTime Period {}:'.format(i), round(ith_ratio/total_sum, 3))\n",
    "\n",
    "# Find the ratio of the frauds across the 4 time periods\n",
    "print('The Ratios of Only Frauds are:')\n",
    "for i in list(range(4)):\n",
    "    total_sum = df['time_of_day'][df['Class']==1].value_counts().sum()\n",
    "    ith_ratio = df['time_of_day'][df['Class']==1].value_counts()[i]\n",
    "    print('\\tTime Period {}:'.format(i), round(ith_ratio/total_sum,3))"
   ]
  },
  {
   "cell_type": "markdown",
   "metadata": {},
   "source": [
    "* From the differences in the ratios, it seems that fraudsters are active during the european 1am-7am, and then very quiet on the european 7pm-1am"
   ]
  },
  {
   "cell_type": "code",
   "execution_count": 15,
   "metadata": {
    "ExecuteTime": {
     "end_time": "2019-07-03T12:26:07.902775Z",
     "start_time": "2019-07-03T12:26:07.820086Z"
    },
    "scrolled": false
   },
   "outputs": [
    {
     "name": "stdout",
     "output_type": "stream",
     "text": [
      "Percent of frauds in time period 0: 0.00582\n",
      "Percent of frauds in time period 1: 0.00154\n",
      "Percent of frauds in time period 2: 0.00147\n",
      "Percent of frauds in time period 3: 0.00101\n"
     ]
    }
   ],
   "source": [
    "# Frauds per time period as a %\n",
    "for i in list(range(4)):\n",
    "    transactions = len(df[df['time_of_day']==i])\n",
    "    frauds = len(df[(df['time_of_day']==i) & (df['Class']==1)])\n",
    "    print('Percent of frauds in time period {}:'.format(i), round(frauds/transactions, 5))"
   ]
  },
  {
   "cell_type": "markdown",
   "metadata": {},
   "source": [
    "* This shows a much higher percentage of frauds in time period 0, i.e. 1am-7am"
   ]
  },
  {
   "cell_type": "markdown",
   "metadata": {},
   "source": [
    "## Distribution of Fraud amounts"
   ]
  },
  {
   "cell_type": "code",
   "execution_count": 26,
   "metadata": {
    "ExecuteTime": {
     "end_time": "2019-07-03T12:29:03.072095Z",
     "start_time": "2019-07-03T12:29:02.831544Z"
    },
    "scrolled": true
   },
   "outputs": [
    {
     "name": "stdout",
     "output_type": "stream",
     "text": [
      "mean is 123.87186046511626\n",
      "median is 9.82\n"
     ]
    },
    {
     "data": {
      "image/png": "[encoded data removed]",
      "text/plain": [
       "<Figure size 1080x576 with 1 Axes>"
      ]
     },
     "metadata": {
      "needs_background": "light"
     },
     "output_type": "display_data"
    }
   ],
   "source": [
    "frauds = df['Amount'][df['Class']==1]\n",
    "plt.figure(figsize=(15,8))\n",
    "plt.hist(frauds, bins =50)\n",
    "\n",
    "# Title and axis\n",
    "plt.title('Histogram of Fraud Amounts')\n",
    "plt.xlabel('Fraud Amount')\n",
    "plt.ylabel('Count')\n",
    "\n",
    "print('mean is {}'.format(frauds.mean()))\n",
    "print('median is {}'.format(frauds.median()))"
   ]
  },
  {
   "cell_type": "code",
   "execution_count": 29,
   "metadata": {
    "ExecuteTime": {
     "end_time": "2019-07-03T17:51:07.476890Z",
     "start_time": "2019-07-03T17:51:07.022652Z"
    }
   },
   "outputs": [
    {
     "name": "stdout",
     "output_type": "stream",
     "text": [
      "mean is 0.0\n",
      "median is 0.0\n"
     ]
    },
    {
     "data": {
      "image/png": "[encoded data removed]",
      "text/plain": [
       "<Figure size 1440x720 with 1 Axes>"
      ]
     },
     "metadata": {
      "needs_background": "light"
     },
     "output_type": "display_data"
    }
   ],
   "source": [
    "threshold = 10\n",
    "frauds = df['Amount'][(df['Class']==1) & (df['Amount']==0)]\n",
    "plt.figure(figsize=(20,10))\n",
    "plt.hist(frauds, bins=50)\n",
    "\n",
    "# Title and axis\n",
    "plt.title('Histogram of Fraud Amounts above {}'.format(threshold))\n",
    "plt.xlabel('Fraud Amount')\n",
    "plt.ylabel('Count')\n",
    "\n",
    "print('mean is {}'.format(frauds.mean()))\n",
    "print('median is {}'.format(frauds.median()))"
   ]
  },
  {
   "cell_type": "markdown",
   "metadata": {},
   "source": [
    "## Get Dummies"
   ]
  },
  {
   "cell_type": "code",
   "execution_count": 17,
   "metadata": {
    "ExecuteTime": {
     "end_time": "2019-07-02T02:16:10.030776Z",
     "start_time": "2019-07-02T02:16:09.909834Z"
    }
   },
   "outputs": [],
   "source": [
    "# Get dummies for the columns we're interested in\n",
    "df = pd.get_dummies(df, columns=['time_of_day'])"
   ]
  },
  {
   "cell_type": "code",
   "execution_count": 18,
   "metadata": {
    "ExecuteTime": {
     "end_time": "2019-07-02T02:16:10.079902Z",
     "start_time": "2019-07-02T02:16:10.031968Z"
    }
   },
   "outputs": [
    {
     "data": {
      "text/html": [
       "<div>\n",
       "<style scoped>\n",
       "    .dataframe tbody tr th:only-of-type {\n",
       "        vertical-align: middle;\n",
       "    }\n",
       "\n",
       "    .dataframe tbody tr th {\n",
       "        vertical-align: top;\n",
       "    }\n",
       "\n",
       "    .dataframe thead th {\n",
       "        text-align: right;\n",
       "    }\n",
       "</style>\n",
       "<table border=\"1\" class=\"dataframe\">\n",
       "  <thead>\n",
       "    <tr style=\"text-align: right;\">\n",
       "      <th></th>\n",
       "      <th>Time</th>\n",
       "      <th>V1</th>\n",
       "      <th>V2</th>\n",
       "      <th>V3</th>\n",
       "      <th>V4</th>\n",
       "      <th>V5</th>\n",
       "      <th>V6</th>\n",
       "      <th>V7</th>\n",
       "      <th>V8</th>\n",
       "      <th>V9</th>\n",
       "      <th>...</th>\n",
       "      <th>V26</th>\n",
       "      <th>V27</th>\n",
       "      <th>V28</th>\n",
       "      <th>Amount</th>\n",
       "      <th>Class</th>\n",
       "      <th>Time_1day</th>\n",
       "      <th>time_of_day_0</th>\n",
       "      <th>time_of_day_1</th>\n",
       "      <th>time_of_day_2</th>\n",
       "      <th>time_of_day_3</th>\n",
       "    </tr>\n",
       "  </thead>\n",
       "  <tbody>\n",
       "    <tr>\n",
       "      <th>0</th>\n",
       "      <td>0.0</td>\n",
       "      <td>-1.359807</td>\n",
       "      <td>-0.072781</td>\n",
       "      <td>2.536347</td>\n",
       "      <td>1.378155</td>\n",
       "      <td>-0.338321</td>\n",
       "      <td>0.462388</td>\n",
       "      <td>0.239599</td>\n",
       "      <td>0.098698</td>\n",
       "      <td>0.363787</td>\n",
       "      <td>...</td>\n",
       "      <td>-0.189115</td>\n",
       "      <td>0.133558</td>\n",
       "      <td>-0.021053</td>\n",
       "      <td>149.62</td>\n",
       "      <td>0</td>\n",
       "      <td>0.0</td>\n",
       "      <td>0</td>\n",
       "      <td>0</td>\n",
       "      <td>0</td>\n",
       "      <td>1</td>\n",
       "    </tr>\n",
       "    <tr>\n",
       "      <th>1</th>\n",
       "      <td>0.0</td>\n",
       "      <td>1.191857</td>\n",
       "      <td>0.266151</td>\n",
       "      <td>0.166480</td>\n",
       "      <td>0.448154</td>\n",
       "      <td>0.060018</td>\n",
       "      <td>-0.082361</td>\n",
       "      <td>-0.078803</td>\n",
       "      <td>0.085102</td>\n",
       "      <td>-0.255425</td>\n",
       "      <td>...</td>\n",
       "      <td>0.125895</td>\n",
       "      <td>-0.008983</td>\n",
       "      <td>0.014724</td>\n",
       "      <td>2.69</td>\n",
       "      <td>0</td>\n",
       "      <td>0.0</td>\n",
       "      <td>0</td>\n",
       "      <td>0</td>\n",
       "      <td>0</td>\n",
       "      <td>1</td>\n",
       "    </tr>\n",
       "    <tr>\n",
       "      <th>2</th>\n",
       "      <td>1.0</td>\n",
       "      <td>-1.358354</td>\n",
       "      <td>-1.340163</td>\n",
       "      <td>1.773209</td>\n",
       "      <td>0.379780</td>\n",
       "      <td>-0.503198</td>\n",
       "      <td>1.800499</td>\n",
       "      <td>0.791461</td>\n",
       "      <td>0.247676</td>\n",
       "      <td>-1.514654</td>\n",
       "      <td>...</td>\n",
       "      <td>-0.139097</td>\n",
       "      <td>-0.055353</td>\n",
       "      <td>-0.059752</td>\n",
       "      <td>378.66</td>\n",
       "      <td>0</td>\n",
       "      <td>1.0</td>\n",
       "      <td>0</td>\n",
       "      <td>0</td>\n",
       "      <td>0</td>\n",
       "      <td>1</td>\n",
       "    </tr>\n",
       "  </tbody>\n",
       "</table>\n",
       "<p>3 rows × 36 columns</p>\n",
       "</div>"
      ],
      "text/plain": [
       "   Time        V1        V2        V3        V4        V5        V6        V7  \\\n",
       "0   0.0 -1.359807 -0.072781  2.536347  1.378155 -0.338321  0.462388  0.239599   \n",
       "1   0.0  1.191857  0.266151  0.166480  0.448154  0.060018 -0.082361 -0.078803   \n",
       "2   1.0 -1.358354 -1.340163  1.773209  0.379780 -0.503198  1.800499  0.791461   \n",
       "\n",
       "         V8        V9  ...       V26       V27       V28  Amount  Class  \\\n",
       "0  0.098698  0.363787  ... -0.189115  0.133558 -0.021053  149.62      0   \n",
       "1  0.085102 -0.255425  ...  0.125895 -0.008983  0.014724    2.69      0   \n",
       "2  0.247676 -1.514654  ... -0.139097 -0.055353 -0.059752  378.66      0   \n",
       "\n",
       "   Time_1day  time_of_day_0  time_of_day_1  time_of_day_2  time_of_day_3  \n",
       "0        0.0              0              0              0              1  \n",
       "1        0.0              0              0              0              1  \n",
       "2        1.0              0              0              0              1  \n",
       "\n",
       "[3 rows x 36 columns]"
      ]
     },
     "execution_count": 18,
     "metadata": {},
     "output_type": "execute_result"
    }
   ],
   "source": [
    "df.head(3)"
   ]
  },
  {
   "cell_type": "markdown",
   "metadata": {},
   "source": [
    "## Scale Data"
   ]
  },
  {
   "cell_type": "code",
   "execution_count": 19,
   "metadata": {
    "ExecuteTime": {
     "end_time": "2019-07-02T02:16:10.202935Z",
     "start_time": "2019-07-02T02:16:10.081382Z"
    }
   },
   "outputs": [],
   "source": [
    "from sklearn.preprocessing import StandardScaler, RobustScaler\n",
    "# Only need to scale the amount and time columns, rest of data is presumed to be scaled as it has gone through PCA.\n",
    "\n",
    "# RobustScaler is less prone to outliers.\n",
    "std_scaler = StandardScaler()\n",
    "rob_scaler = RobustScaler()\n",
    "\n",
    "# Use Robust Scaler on amount and time columns\n",
    "df['scaled_amount'] = rob_scaler.fit_transform(df['Amount'].values.reshape(-1,1))\n",
    "df['scaled_time'] = rob_scaler.fit_transform(df['Time'].values.reshape(-1,1))  # Is this needed, as we have divided into time periods?\n",
    "\n",
    "# Drop the original columns, as we no longer need them\n",
    "df.drop(['Time','Amount'], axis=1, inplace=True)"
   ]
  },
  {
   "cell_type": "markdown",
   "metadata": {},
   "source": [
    "## Save cleaned dataframe"
   ]
  },
  {
   "cell_type": "code",
   "execution_count": 20,
   "metadata": {
    "ExecuteTime": {
     "end_time": "2019-07-02T02:16:39.171242Z",
     "start_time": "2019-07-02T02:16:10.204316Z"
    }
   },
   "outputs": [],
   "source": [
    "# # Save our cleaned dataframe to cleaned_dataframe.csv\n",
    "# df.to_csv('../data/processed/cleaned_dataframe.csv.gz', compression='gzip', index=False)"
   ]
  },
  {
   "cell_type": "code",
   "execution_count": 21,
   "metadata": {
    "ExecuteTime": {
     "end_time": "2019-07-02T02:16:41.851046Z",
     "start_time": "2019-07-02T02:16:39.172714Z"
    }
   },
   "outputs": [
    {
     "data": {
      "text/html": [
       "<div>\n",
       "<style scoped>\n",
       "    .dataframe tbody tr th:only-of-type {\n",
       "        vertical-align: middle;\n",
       "    }\n",
       "\n",
       "    .dataframe tbody tr th {\n",
       "        vertical-align: top;\n",
       "    }\n",
       "\n",
       "    .dataframe thead th {\n",
       "        text-align: right;\n",
       "    }\n",
       "</style>\n",
       "<table border=\"1\" class=\"dataframe\">\n",
       "  <thead>\n",
       "    <tr style=\"text-align: right;\">\n",
       "      <th></th>\n",
       "      <th>V1</th>\n",
       "      <th>V2</th>\n",
       "      <th>V3</th>\n",
       "      <th>V4</th>\n",
       "      <th>V5</th>\n",
       "      <th>V6</th>\n",
       "      <th>V7</th>\n",
       "      <th>V8</th>\n",
       "      <th>V9</th>\n",
       "      <th>V10</th>\n",
       "      <th>...</th>\n",
       "      <th>V27</th>\n",
       "      <th>V28</th>\n",
       "      <th>Class</th>\n",
       "      <th>Time_1day</th>\n",
       "      <th>time_of_day_0</th>\n",
       "      <th>time_of_day_1</th>\n",
       "      <th>time_of_day_2</th>\n",
       "      <th>time_of_day_3</th>\n",
       "      <th>scaled_amount</th>\n",
       "      <th>scaled_time</th>\n",
       "    </tr>\n",
       "  </thead>\n",
       "  <tbody>\n",
       "    <tr>\n",
       "      <th>0</th>\n",
       "      <td>-1.359807</td>\n",
       "      <td>-0.072781</td>\n",
       "      <td>2.536347</td>\n",
       "      <td>1.378155</td>\n",
       "      <td>-0.338321</td>\n",
       "      <td>0.462388</td>\n",
       "      <td>0.239599</td>\n",
       "      <td>0.098698</td>\n",
       "      <td>0.363787</td>\n",
       "      <td>0.090794</td>\n",
       "      <td>...</td>\n",
       "      <td>0.133558</td>\n",
       "      <td>-0.021053</td>\n",
       "      <td>0</td>\n",
       "      <td>0.0</td>\n",
       "      <td>0</td>\n",
       "      <td>0</td>\n",
       "      <td>0</td>\n",
       "      <td>1</td>\n",
       "      <td>1.774718</td>\n",
       "      <td>-0.995290</td>\n",
       "    </tr>\n",
       "    <tr>\n",
       "      <th>1</th>\n",
       "      <td>1.191857</td>\n",
       "      <td>0.266151</td>\n",
       "      <td>0.166480</td>\n",
       "      <td>0.448154</td>\n",
       "      <td>0.060018</td>\n",
       "      <td>-0.082361</td>\n",
       "      <td>-0.078803</td>\n",
       "      <td>0.085102</td>\n",
       "      <td>-0.255425</td>\n",
       "      <td>-0.166974</td>\n",
       "      <td>...</td>\n",
       "      <td>-0.008983</td>\n",
       "      <td>0.014724</td>\n",
       "      <td>0</td>\n",
       "      <td>0.0</td>\n",
       "      <td>0</td>\n",
       "      <td>0</td>\n",
       "      <td>0</td>\n",
       "      <td>1</td>\n",
       "      <td>-0.268530</td>\n",
       "      <td>-0.995290</td>\n",
       "    </tr>\n",
       "    <tr>\n",
       "      <th>2</th>\n",
       "      <td>-1.358354</td>\n",
       "      <td>-1.340163</td>\n",
       "      <td>1.773209</td>\n",
       "      <td>0.379780</td>\n",
       "      <td>-0.503198</td>\n",
       "      <td>1.800499</td>\n",
       "      <td>0.791461</td>\n",
       "      <td>0.247676</td>\n",
       "      <td>-1.514654</td>\n",
       "      <td>0.207643</td>\n",
       "      <td>...</td>\n",
       "      <td>-0.055353</td>\n",
       "      <td>-0.059752</td>\n",
       "      <td>0</td>\n",
       "      <td>1.0</td>\n",
       "      <td>0</td>\n",
       "      <td>0</td>\n",
       "      <td>0</td>\n",
       "      <td>1</td>\n",
       "      <td>4.959811</td>\n",
       "      <td>-0.995279</td>\n",
       "    </tr>\n",
       "    <tr>\n",
       "      <th>3</th>\n",
       "      <td>-0.966272</td>\n",
       "      <td>-0.185226</td>\n",
       "      <td>1.792993</td>\n",
       "      <td>-0.863291</td>\n",
       "      <td>-0.010309</td>\n",
       "      <td>1.247203</td>\n",
       "      <td>0.237609</td>\n",
       "      <td>0.377436</td>\n",
       "      <td>-1.387024</td>\n",
       "      <td>-0.054952</td>\n",
       "      <td>...</td>\n",
       "      <td>0.062723</td>\n",
       "      <td>0.061458</td>\n",
       "      <td>0</td>\n",
       "      <td>1.0</td>\n",
       "      <td>0</td>\n",
       "      <td>0</td>\n",
       "      <td>0</td>\n",
       "      <td>1</td>\n",
       "      <td>1.411487</td>\n",
       "      <td>-0.995279</td>\n",
       "    </tr>\n",
       "    <tr>\n",
       "      <th>4</th>\n",
       "      <td>-1.158233</td>\n",
       "      <td>0.877737</td>\n",
       "      <td>1.548718</td>\n",
       "      <td>0.403034</td>\n",
       "      <td>-0.407193</td>\n",
       "      <td>0.095921</td>\n",
       "      <td>0.592941</td>\n",
       "      <td>-0.270533</td>\n",
       "      <td>0.817739</td>\n",
       "      <td>0.753074</td>\n",
       "      <td>...</td>\n",
       "      <td>0.219422</td>\n",
       "      <td>0.215153</td>\n",
       "      <td>0</td>\n",
       "      <td>2.0</td>\n",
       "      <td>0</td>\n",
       "      <td>0</td>\n",
       "      <td>0</td>\n",
       "      <td>1</td>\n",
       "      <td>0.667362</td>\n",
       "      <td>-0.995267</td>\n",
       "    </tr>\n",
       "  </tbody>\n",
       "</table>\n",
       "<p>5 rows × 36 columns</p>\n",
       "</div>"
      ],
      "text/plain": [
       "         V1        V2        V3        V4        V5        V6        V7  \\\n",
       "0 -1.359807 -0.072781  2.536347  1.378155 -0.338321  0.462388  0.239599   \n",
       "1  1.191857  0.266151  0.166480  0.448154  0.060018 -0.082361 -0.078803   \n",
       "2 -1.358354 -1.340163  1.773209  0.379780 -0.503198  1.800499  0.791461   \n",
       "3 -0.966272 -0.185226  1.792993 -0.863291 -0.010309  1.247203  0.237609   \n",
       "4 -1.158233  0.877737  1.548718  0.403034 -0.407193  0.095921  0.592941   \n",
       "\n",
       "         V8        V9       V10  ...       V27       V28  Class  Time_1day  \\\n",
       "0  0.098698  0.363787  0.090794  ...  0.133558 -0.021053      0        0.0   \n",
       "1  0.085102 -0.255425 -0.166974  ... -0.008983  0.014724      0        0.0   \n",
       "2  0.247676 -1.514654  0.207643  ... -0.055353 -0.059752      0        1.0   \n",
       "3  0.377436 -1.387024 -0.054952  ...  0.062723  0.061458      0        1.0   \n",
       "4 -0.270533  0.817739  0.753074  ...  0.219422  0.215153      0        2.0   \n",
       "\n",
       "   time_of_day_0  time_of_day_1  time_of_day_2  time_of_day_3  scaled_amount  \\\n",
       "0              0              0              0              1       1.774718   \n",
       "1              0              0              0              1      -0.268530   \n",
       "2              0              0              0              1       4.959811   \n",
       "3              0              0              0              1       1.411487   \n",
       "4              0              0              0              1       0.667362   \n",
       "\n",
       "   scaled_time  \n",
       "0    -0.995290  \n",
       "1    -0.995290  \n",
       "2    -0.995279  \n",
       "3    -0.995279  \n",
       "4    -0.995267  \n",
       "\n",
       "[5 rows x 36 columns]"
      ]
     },
     "execution_count": 21,
     "metadata": {},
     "output_type": "execute_result"
    }
   ],
   "source": [
    "df_cleaned = pd.read_csv('../data/processed/cleaned_dataframe.csv.gz', compression='gzip')\n",
    "df_cleaned.head()"
   ]
  },
  {
   "cell_type": "markdown",
   "metadata": {},
   "source": [
    "## Train-Test Split"
   ]
  },
  {
   "cell_type": "code",
   "execution_count": 36,
   "metadata": {
    "ExecuteTime": {
     "end_time": "2019-07-02T13:19:42.127197Z",
     "start_time": "2019-07-02T13:19:41.774840Z"
    }
   },
   "outputs": [],
   "source": [
    "X = df_cleaned.drop('Class', axis=1)\n",
    "y = df_cleaned['Class']\n",
    "X_train, X_test, y_train, y_test = train_test_split(X, y, stratify=y, random_state=0)  \n",
    "# stratify maintains the ratio of frauds to non frauds"
   ]
  },
  {
   "cell_type": "code",
   "execution_count": 38,
   "metadata": {
    "ExecuteTime": {
     "end_time": "2019-07-02T13:19:46.565428Z",
     "start_time": "2019-07-02T13:19:46.524721Z"
    }
   },
   "outputs": [
    {
     "name": "stdout",
     "output_type": "stream",
     "text": [
      "0.0016682801206800945\n",
      "0.0016635651046072294\n"
     ]
    }
   ],
   "source": [
    "# Class ratio is even across training and testing sets\n",
    "print(len(y_train[y_train==1]) / len(y_train))\n",
    "print(len(y_test[y_test==1]) / len(y_test))"
   ]
  },
  {
   "cell_type": "code",
   "execution_count": 37,
   "metadata": {
    "ExecuteTime": {
     "end_time": "2019-07-02T13:19:43.933216Z",
     "start_time": "2019-07-02T13:19:43.894707Z"
    },
    "scrolled": true
   },
   "outputs": [
    {
     "name": "stdout",
     "output_type": "stream",
     "text": [
      "train size: 212794\n",
      "test size : 70932\n"
     ]
    }
   ],
   "source": [
    "print('train size:',len(X_train))\n",
    "print('test size :',len(X_test))"
   ]
  },
  {
   "cell_type": "markdown",
   "metadata": {},
   "source": [
    "# Data Resampling"
   ]
  },
  {
   "cell_type": "markdown",
   "metadata": {},
   "source": [
    "## Random Undersampling\n",
    "* This is when we remove data randomly from the majority class, to get a more balanced dataset.  The purpose is to avoid overfitting.\n",
    "* Our data is highly skewed and we will balance them with a 50:50 split of fraud to non-fraud"
   ]
  },
  {
   "cell_type": "code",
   "execution_count": 40,
   "metadata": {
    "ExecuteTime": {
     "end_time": "2019-07-02T13:26:38.512360Z",
     "start_time": "2019-07-02T13:26:38.472897Z"
    }
   },
   "outputs": [
    {
     "data": {
      "text/plain": [
       "355"
      ]
     },
     "execution_count": 40,
     "metadata": {},
     "output_type": "execute_result"
    }
   ],
   "source": [
    "# We have 355 frauds in our train set, so we need to randomly select 355 non-frauds.\n",
    "train_num_frauds = len(y_train[y_train==1])\n",
    "train_num_frauds"
   ]
  },
  {
   "cell_type": "code",
   "execution_count": null,
   "metadata": {},
   "outputs": [],
   "source": [
    "# Split the X_train into frauds and non-frauds\n",
    "X_train_class_0 = X_train[X_train==0]\n",
    "X_train_class_1 = X_train[X_train==1]\n",
    "\n",
    "# Shuffle the non-fraud dataframe around\n",
    "X_train_class_0 = X_train_class_0.sample(frac=1) # frac=1 returns the whole dataframe\n",
    "\n",
    "# amount of fraud classes 492 rows.\n",
    "fraud_df = df.loc[df['Class'] == 1]\n",
    "non_fraud_df = df.loc[df['Class'] == 0][:492]\n",
    "\n",
    "normal_distributed_df = pd.concat([fraud_df, non_fraud_df])\n",
    "\n",
    "# Shuffle dataframe rows\n",
    "new_df = normal_distributed_df.sample(frac=1, random_state=42)\n",
    "\n",
    "new_df.head()"
   ]
  },
  {
   "cell_type": "markdown",
   "metadata": {},
   "source": [
    "# Data Visualization"
   ]
  },
  {
   "cell_type": "code",
   "execution_count": 30,
   "metadata": {
    "ExecuteTime": {
     "end_time": "2019-06-28T19:24:30.317998Z",
     "start_time": "2019-06-28T19:24:28.419248Z"
    }
   },
   "outputs": [
    {
     "data": {
      "image/png": "[encoded data removed]",
      "text/plain": [
       "<Figure size 432x288 with 1 Axes>"
      ]
     },
     "metadata": {
      "needs_background": "light"
     },
     "output_type": "display_data"
    }
   ],
   "source": [
    "plt.hist(df['Time'], bins=1000);"
   ]
  },
  {
   "cell_type": "code",
   "execution_count": null,
   "metadata": {},
   "outputs": [],
   "source": [
    "seconds_per_hour = 3600\n",
    "_one_am = 1*seconds_per_hour\n",
    "_seven_am = 7*seconds_per_hour\n",
    "_one_pm = 13*seconds_per_hour\n",
    "_seven_pm = 19*seconds_per_hour"
   ]
  },
  {
   "cell_type": "code",
   "execution_count": null,
   "metadata": {},
   "outputs": [],
   "source": [
    "df[(df['time_of_day'])]"
   ]
  },
  {
   "cell_type": "code",
   "execution_count": null,
   "metadata": {},
   "outputs": [],
   "source": [
    "# Save the model as a png file\n",
    "png_filename = NONE.png\n",
    "plt.savefig('../reports/figures/{}'.format(png_filename), bbox_inches='tight')"
   ]
  },
  {
   "cell_type": "markdown",
   "metadata": {
    "heading_collapsed": true
   },
   "source": [
    "# Dimensionality Reduction through PCA"
   ]
  },
  {
   "cell_type": "code",
   "execution_count": null,
   "metadata": {
    "hidden": true
   },
   "outputs": [],
   "source": [
    "df_pca = df_cleaned.copy()"
   ]
  },
  {
   "cell_type": "code",
   "execution_count": null,
   "metadata": {
    "hidden": true
   },
   "outputs": [],
   "source": [
    "# Adam's Code\n",
    "pca = PCA(n_components=2)  #ncomponents are your number of variables that your trying to keep, they're not your target variables\n",
    "pca.fit(X)\n",
    "\n",
    "# Need to scale first\n",
    "\n",
    "print(pca.components_)\n",
    "# This tells us the variance explained by each line (keep the greater one)\n",
    "print(pca.explained_variance_)  #nb that this is the percentage explained of total, they wont add up to 1\n",
    "\n",
    "# Show the vectors on a scatter plot of the variables\n",
    "def draw_vector(v0, v1, ax=None):\n",
    "    ax = ax or plt.gca()\n",
    "    arrowprops=dict(arrowstyle='->',\n",
    "                    linewidth=2,\n",
    "                    shrinkA=0, shrinkB=0)\n",
    "    ax.annotate('', v1, v0, arrowprops=arrowprops)\n",
    "    # plot data\n",
    "plt.scatter(X[:, 0], X[:, 1], alpha=0.2)\n",
    "for length, vector in zip(pca.explained_variance_, pca.components_):\n",
    "    v = vector * 3 * np.sqrt(length)\n",
    "    draw_vector(pca.mean_, pca.mean_ + v)\n",
    "plt.axis('equal');\n",
    "\n",
    "# Using PCA to reduce dimensionality\n",
    "pca = PCA(n_components=2)\n",
    "pca.fit(X)\n",
    "X_pca = pca.transform(X)\n",
    "print(\"original shape:   \", X.shape)\n",
    "print(\"transformed shape:\", X_pca.shape)\n",
    "    # visual to show the dimensionality reduction\n",
    "X_new = pca.inverse_transform(X_pca)\n",
    "plt.scatter(X[:, 0], X[:, 1], alpha=0.2)\n",
    "plt.scatter(X_new[:, 0], X_new[:, 1], alpha=0.8)\n",
    "plt.axis('equal');"
   ]
  },
  {
   "cell_type": "code",
   "execution_count": null,
   "metadata": {
    "hidden": true
   },
   "outputs": [],
   "source": []
  },
  {
   "cell_type": "markdown",
   "metadata": {},
   "source": [
    "# Baseline Model"
   ]
  },
  {
   "cell_type": "markdown",
   "metadata": {},
   "source": [
    "The Baseline Model is if we decided to only say the majority of Classes, how well would our model predict frauds?"
   ]
  },
  {
   "cell_type": "code",
   "execution_count": 150,
   "metadata": {
    "ExecuteTime": {
     "end_time": "2019-06-29T03:07:59.069723Z",
     "start_time": "2019-06-29T03:07:58.977744Z"
    },
    "scrolled": true
   },
   "outputs": [
    {
     "name": "stdout",
     "output_type": "stream",
     "text": [
      "A Baseline Model, where we say all transactions are not fraud, gives us an accuracy of 99.83329%\n"
     ]
    }
   ],
   "source": [
    "# Say all transactions are not frauds\n",
    "num_of_transactions = len(df)\n",
    "num_of_frauds = len(df[df['Class']==0])\n",
    "accuracy = round((num_of_frauds/num_of_transactions)*100, 6)\n",
    "explanation = 'A Baseline Model, where we say all transactions are not fraud, gives us an accuracy of'\n",
    "print(explanation, '{}%'.format(accuracy))"
   ]
  },
  {
   "cell_type": "markdown",
   "metadata": {},
   "source": [
    "As the baseline model has such a high accuracy, we can deduce that accuracy will not be an effective method for evaluating our models.  Instead we have 3 alternatives:\n",
    "\n",
    "1) Recall\n",
    "\n",
    "2) F1 Score\n",
    "\n",
    "3) AUC"
   ]
  },
  {
   "cell_type": "markdown",
   "metadata": {
    "heading_collapsed": true
   },
   "source": [
    "# Gaussian Naive Bayes"
   ]
  },
  {
   "cell_type": "code",
   "execution_count": null,
   "metadata": {
    "hidden": true
   },
   "outputs": [],
   "source": [
    "df_n_bayes = df_cleaned.copy()"
   ]
  },
  {
   "cell_type": "markdown",
   "metadata": {
    "hidden": true
   },
   "source": [
    "## Gaussian Bayes"
   ]
  },
  {
   "cell_type": "code",
   "execution_count": null,
   "metadata": {
    "hidden": true
   },
   "outputs": [],
   "source": [
    "# For continous\n",
    "df_g_bayes = df_cleaned.copy()"
   ]
  },
  {
   "cell_type": "markdown",
   "metadata": {
    "heading_collapsed": true
   },
   "source": [
    "# KNN"
   ]
  },
  {
   "cell_type": "code",
   "execution_count": null,
   "metadata": {
    "hidden": true
   },
   "outputs": [],
   "source": [
    "df_knn = df_cleaned.copy()"
   ]
  },
  {
   "cell_type": "code",
   "execution_count": null,
   "metadata": {
    "hidden": true
   },
   "outputs": [],
   "source": [
    "# Adam's Code\n",
    "\n",
    "# Scale first\n",
    "\n",
    "knn = KNeighborsClassifier(n_neighbors=1)\n",
    "knn.fit(X_train, y_train)\n",
    "\n",
    "# Predict and show accuracy\n",
    "    # make class predictions for the testing set\n",
    "y_pred_class = knn.predict(X_test)\n",
    "    # calculate accuracy\n",
    "from sklearn import metrics\n",
    "print('Accuracy:' + str(metrics.accuracy_score(y_test, y_pred_class)))\n",
    "print('F1: ' + str(metrics.f1_score(y_test, y_pred_class)))\n",
    "\n",
    "# F1 score by K values + visualization for k Scores\n",
    "import matplotlib.pyplot as plt\n",
    "def f1_by_k_value(X_train, y_train, X_test, y_test, krange_min=1,krange_max=50):\n",
    "    '''calculate the F1 score by k-value and plot a visualization'''\n",
    "    # Build list of k-scores\n",
    "    k_range = list(range(krange_min, krange_max))\n",
    "    k_scores = []\n",
    "    for k in k_range:\n",
    "        knn = KNeighborsClassifier(n_neighbors=k)\n",
    "        knn.fit(X_train, y_train)\n",
    "        y_predict = knn.predict(X_test)\n",
    "        score = metrics.f1_score(y_test, y_predict, average='weighted')\n",
    "        k_scores.append( score)\n",
    "    # Plot\n",
    "    plt.figure(figsize=(12, 6))\n",
    "    plt.plot(k_range, k_scores, color='red', linestyle='dashed', marker='o',\n",
    "             markerfacecolor='blue', markersize=10)\n",
    "    plt.title('F1 score by K Value')\n",
    "    plt.xlabel('K Value')\n",
    "    plt.ylabel('F1 Score')\n",
    "    plt.show()\n",
    "\n",
    "# Get the accuracy\n",
    "knn = KNN()\n",
    "knn.fit(X_train, y_train)\n",
    "preds = knn.predict(X_test)\n",
    "print(\"Testing Accuracy: {}%\".format(round(accuracy_score(y_test, preds),4)*100))"
   ]
  },
  {
   "cell_type": "code",
   "execution_count": null,
   "metadata": {
    "hidden": true
   },
   "outputs": [],
   "source": []
  },
  {
   "cell_type": "markdown",
   "metadata": {
    "heading_collapsed": true
   },
   "source": [
    "# K-means"
   ]
  },
  {
   "cell_type": "code",
   "execution_count": null,
   "metadata": {
    "hidden": true
   },
   "outputs": [],
   "source": [
    "df_kmeans = df_cleaned.copy()"
   ]
  },
  {
   "cell_type": "markdown",
   "metadata": {
    "heading_collapsed": true
   },
   "source": [
    "# Logistic Regression"
   ]
  },
  {
   "cell_type": "code",
   "execution_count": null,
   "metadata": {
    "hidden": true
   },
   "outputs": [],
   "source": [
    "df_log_reg = df_cleaned.copy()"
   ]
  },
  {
   "cell_type": "code",
   "execution_count": null,
   "metadata": {
    "hidden": true
   },
   "outputs": [],
   "source": [
    "# Adam's code for SKlearn\n",
    "\n",
    "# Get dummies for the columns we're interested if\n",
    "x_feats = ['col1', 'col2', 'col3']\n",
    "X = pd.get_dummies(df[x_feats])\n",
    "y = df.target\n",
    "    # Fill null values\n",
    "X = X.fillna(value=0)\n",
    "    # Normalize data\n",
    "for col in X.columns:\n",
    "    X[col] = (X[col]-min(X[col]))/ (max(X[col]) - min(X[col])) #We subtract the minimum and divide by the range forcing a scale of 0 to 1 for each feature\n",
    "    # Train-test split\n",
    "from sklearn.model_selection import train_test_split\n",
    "X_train, X_test, y_train, y_test = train_test_split(X, y, random_state=0)\n",
    "    # Fit model\n",
    "from sklearn.linear_model import LogisticRegression\n",
    "logreg = LogisticRegression(fit_intercept = False, C = 1e12)\n",
    "model_log = logreg.fit(X_train, y_train)\n",
    "model_log\n",
    "    # Predict\n",
    "y_hat_test = logreg.predict(X_test)\n",
    "y_hat_train = logreg.predict(X_train)\n",
    "        # Classifier correctness on training data\n",
    "residuals = np.abs(y_train - y_hat_train)\n",
    "print(pd.Series(residuals).value_counts())\n",
    "print(pd.Series(residuals).value_counts(normalize=True))\n",
    "correct = pd.Series(residuals).value_counts(normalize=True)[0]\n",
    "print('\\nOur model is {}% accurate for our training data'.format(round(correct*100,2)))\n",
    "        # Classifier correctness on testing data\n",
    "residuals = np.abs(y_test - y_hat_test)\n",
    "print(pd.Series(residuals).value_counts(),'\\n')\n",
    "print(pd.Series(residuals).value_counts(normalize=True))\n",
    "correct = pd.Series(residuals).value_counts(normalize=True)[0]\n",
    "print('\\nOur model is {}% accurate for our test data'.format(round(correct*100,2)))"
   ]
  },
  {
   "cell_type": "code",
   "execution_count": null,
   "metadata": {
    "hidden": true
   },
   "outputs": [],
   "source": [
    "# Adam's Code Statsmodel version\n",
    "\n",
    "# Define X and Y\n",
    "y, X = dmatrices('target ~ col1 + C(categorical_col) + col3' ,\n",
    "                  df, return_type = \"dataframe\")\n",
    "\n",
    "# Fit the 1st model\n",
    "logit_model = sm.Logit(y,X)\n",
    "result = logit_model.fit()\n",
    "    # See results of 1st model\n",
    "model1_summary = result.summary()\n",
    "model1_summary\n",
    "\n",
    "# Drop rubbish pvalues\n",
    "alpha = 0.05\n",
    "variables_to_keep = []\n",
    "for X_variable, pvalue in list(zip(X,result.pvalues)):\n",
    "    if pvalue <= alpha:\n",
    "        variables_to_keep.append(X_variable)\n",
    "variables_to_keep  # leaves behind the variables that have p value below the alpha\n",
    "X = X.drop(columns=variables_to_keep)  # take out the variables\n",
    "\n",
    "# Fit the 2nd model\n",
    "logit_model = sm.Logit(y, X)\n",
    "result = logit_model.fit()\n",
    "    # see results of 2nd model\n",
    "model2_summary = result.summary()\n",
    "model2_summary"
   ]
  },
  {
   "cell_type": "code",
   "execution_count": null,
   "metadata": {
    "hidden": true
   },
   "outputs": [],
   "source": []
  },
  {
   "cell_type": "markdown",
   "metadata": {
    "heading_collapsed": true
   },
   "source": [
    "# Random Forest"
   ]
  },
  {
   "cell_type": "code",
   "execution_count": null,
   "metadata": {
    "hidden": true
   },
   "outputs": [],
   "source": [
    "df_random = df_cleaned.copy()"
   ]
  },
  {
   "cell_type": "code",
   "execution_count": null,
   "metadata": {
    "hidden": true
   },
   "outputs": [],
   "source": [
    "# Adam's Code\n",
    "\n",
    "classifier = DecisionTreeClassifier(random_state=10)\n",
    "classifier.fit(X_train, y_train)\n",
    "y_pred = classifier.predict(X_test)\n",
    "\n",
    "acc = accuracy_score(y_test,y_pred) * 100\n",
    "print(\"Accuracy is : {}%\".format(round(acc, 2)))\n",
    "    # Check the AUC for predictions\n",
    "false_positive_rate, true_positive_rate, thresholds = roc_curve(y_test, y_pred)\n",
    "roc_auc = auc(false_positive_rate, true_positive_rate)\n",
    "print(\"\\nAUC is :{0}\".format(round(roc_auc,2)))\n",
    "    # Create and print a confusion matrix\n",
    "print('\\nConfusion Matrix')\n",
    "print('----------------')\n",
    "pd.crosstab(y_test, y_pred, rownames=['True'], colnames=['Predicted'], margins=True)\n",
    "\n",
    "# Train a DT classifier\n",
    "classifier2 = DecisionTreeClassifier(random_state=10, criterion='entropy')\n",
    "classifier2.fit(X_train, y_train)\n",
    "    # Make predictions for test data\n",
    "y_pred = classifier2.predict(X_test)\n",
    "    # Calculate Accuracy\n",
    "acc = accuracy_score(y_test,y_pred) * 100\n",
    "print(\"Accuracy is :{0}\".format(acc))\n",
    "    # Check the AUC for predictions\n",
    "false_positive_rate, true_positive_rate, thresholds = roc_curve(y_test, y_pred)\n",
    "roc_auc = auc(false_positive_rate, true_positive_rate)\n",
    "print(\"\\nAUC is :{0}\".format(round(roc_auc,2)))\n",
    "    # Create and print a confusion matrix\n",
    "print('\\nConfusion Matrix')\n",
    "print('----------------')\n",
    "print(pd.crosstab(y_test, y_pred, rownames=['True'], colnames=['Predicted'], margins=True))\n",
    "\n",
    "\n",
    "# Function for plotting feature importance\n",
    "classifier2.feature_importances_ # How much does this feature reduce entropy\n",
    "    # Function to show importance of each feature\n",
    "def plot_feature_importances(model):\n",
    "    '''plots the importance of each feature.  Useful for something like KNN so you can tell which features are useful '''\n",
    "    n_features = X_train.shape[1]\n",
    "    plt.figure(figsize=(8,8))\n",
    "    plt.barh(range(n_features), model.feature_importances_, align='center')\n",
    "    plt.yticks(np.arange(n_features), X_train.columns.values)\n",
    "    plt.xlabel(\"Feature importance\")\n",
    "    plt.ylabel(\"Feature\")\n",
    "plot_feature_importances(classifier2)\n",
    "    # confusion matrix print\n",
    "pred = classifier2.predict(X_test)\n",
    "print(confusion_matrix(y_test, pred))\n",
    "print(classification_report(y_test, pred))\n",
    "\n",
    "# Random Forest in code\n",
    "forest = RandomForestClassifier(n_estimators=100, max_depth= 5)\n",
    "forest.fit(X_train, y_train)\n",
    "forest.score(X_train, y_train) # Accuracy of training data\n",
    "forest.score(X_test, y_test) # Accuracy of test data\n",
    "plot_feature_importances(forest) # plot using function above\n",
    "\n",
    "# Fine Tune the model\n",
    "forest_2 = RandomForestClassifier(n_estimators = 10, max_features= 2, max_depth= 2)\n",
    "forest_2.fit(X_train, y_train)\n",
    "forest_2.score(X_train, y_train) # Accuracy of training data\n",
    "forest_2.score(X_test, y_test)  # Accuracy of test data\n",
    "\n",
    "# Use GridsearchCV to find the best Number\n",
    "from sklearn.model_selection import GridSearchCV\n",
    "param_grid = {'n_estimators': [30, 100, 300], 'min_samples_split': [2, 4, 6], 'min_samples_leaf': [2, 4, 6]}\n",
    "gs = GridSearchCV(forest, param_grid, cv=5)\n",
    "gs.fit(X_train, y_train)\n",
    "print('Mean accuracy on the given test data and labels:', gs.score(X_test, y_test))\n",
    "print('The best parameters are:', gs.best_params_)\n"
   ]
  },
  {
   "cell_type": "markdown",
   "metadata": {
    "hidden": true
   },
   "source": [
    "## Bagged Trees"
   ]
  },
  {
   "cell_type": "code",
   "execution_count": null,
   "metadata": {
    "hidden": true
   },
   "outputs": [],
   "source": []
  },
  {
   "cell_type": "markdown",
   "metadata": {},
   "source": [
    "# SVM"
   ]
  },
  {
   "cell_type": "code",
   "execution_count": null,
   "metadata": {},
   "outputs": [],
   "source": [
    "# Import csv to df\n",
    "df = pd.read_csv('filename.csv')\n",
    "    # Train Test Split\n",
    "X = df.drop('y', axis=1)\n",
    "y = df['y']\n",
    "X_train, X_test, y_train, y_test = train_test_split(X, y, test_size = 0.20)\n",
    "\n",
    "# SVC\n",
    "svclassifier = SVC(kernel='linear')\n",
    "svclassifier.fit(X_train, y_train)\n",
    "    # Print out results\n",
    "y_pred = svclassifier.predict(X_test)\n",
    "\n",
    "# Confusion matrix and classification report\n",
    "print(confusion_matrix(y_test,y_pred))\n",
    "print(classification_report(y_test,y_pred))\n",
    "print(\"The accuracy score is {}\".format(round(accuracy_score(y_test, y_pred), 4)))"
   ]
  },
  {
   "cell_type": "markdown",
   "metadata": {},
   "source": [
    "# ROC & AUC\n",
    "* Evaluate different models to find the one with greatest AUC"
   ]
  },
  {
   "cell_type": "code",
   "execution_count": null,
   "metadata": {},
   "outputs": [],
   "source": [
    "# ROC (TPR vs FPR)\n",
    "# TPR = TP/(TP+FN)\n",
    "# FPR = FP/(FP+TN)\n",
    "# (can swap out FPR for previcion)\n",
    "# Precision = TP/(TP+FP) = proportion of P that was correctly classified\n",
    "# precision > FPR if number of N is much greater than number of P (i.e. fraud)\n",
    "    # This is because precision doesnt include TN, so isnt affected by imbalancef"
   ]
  },
  {
   "cell_type": "markdown",
   "metadata": {},
   "source": [
    "# Cost-Sensitive (experimenting with it)"
   ]
  },
  {
   "cell_type": "code",
   "execution_count": null,
   "metadata": {},
   "outputs": [],
   "source": []
  }
 ],
 "metadata": {
  "kernelspec": {
   "display_name": "Python 3",
   "language": "python",
   "name": "python3"
  },
  "language_info": {
   "codemirror_mode": {
    "name": "ipython",
    "version": 3
   },
   "file_extension": ".py",
   "mimetype": "text/x-python",
   "name": "python",
   "nbconvert_exporter": "python",
   "pygments_lexer": "ipython3",
   "version": "3.7.3"
  },
  "toc": {
   "base_numbering": 1,
   "nav_menu": {},
   "number_sections": true,
   "sideBar": true,
   "skip_h1_title": false,
   "title_cell": "Table of Contents",
   "title_sidebar": "Contents",
   "toc_cell": false,
   "toc_position": {},
   "toc_section_display": true,
   "toc_window_display": false
  },
  "varInspector": {
   "cols": {
    "lenName": 16,
    "lenType": 16,
    "lenVar": 40
   },
   "kernels_config": {
    "python": {
     "delete_cmd_postfix": "",
     "delete_cmd_prefix": "del ",
     "library": "var_list.py",
     "varRefreshCmd": "print(var_dic_list())"
    },
    "r": {
     "delete_cmd_postfix": ") ",
     "delete_cmd_prefix": "rm(",
     "library": "var_list.r",
     "varRefreshCmd": "cat(var_dic_list()) "
    }
   },
   "types_to_exclude": [
    "module",
    "function",
    "builtin_function_or_method",
    "instance",
    "_Feature"
   ],
   "window_display": false
  }
 },
 "nbformat": 4,
 "nbformat_minor": 2
}
