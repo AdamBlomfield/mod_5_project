{
 "cells": [
  {
   "cell_type": "markdown",
   "metadata": {},
   "source": [
    "# Do Not Delete!"
   ]
  },
  {
   "cell_type": "code",
   "execution_count": 1,
   "metadata": {
    "tags": [
     "hidecode"
    ]
   },
   "outputs": [],
   "source": [
    "# DO NOT REMOVE THESE\n",
    "%load_ext autoreload\n",
    "%autoreload 2"
   ]
  },
  {
   "cell_type": "code",
   "execution_count": 2,
   "metadata": {},
   "outputs": [],
   "source": [
    "# DO NOT REMOVE This\n",
    "%reload_ext autoreload"
   ]
  },
  {
   "cell_type": "code",
   "execution_count": 3,
   "metadata": {},
   "outputs": [
    {
     "name": "stdout",
     "output_type": "stream",
     "text": [
      "Loading environment variables\n"
     ]
    }
   ],
   "source": [
    "## DO NOT REMOVE\n",
    "## import local src module -\n",
    "## src in this project will contain all your local code\n",
    "## clean_data.py, model.py, visualize.py, custom.py\n",
    "\n",
    "#import src.base with alias to avoid namespace clashes\n",
    "\n",
    "from src import base as fis"
   ]
  },
  {
   "cell_type": "code",
   "execution_count": 4,
   "metadata": {},
   "outputs": [
    {
     "name": "stdout",
     "output_type": "stream",
     "text": [
      "Base Module Imported\n",
      "\n",
      "Testing local imports\n",
      "In clean_data\n",
      "In Model\n",
      "In Visualize\n",
      "In custom module\n"
     ]
    }
   ],
   "source": [
    "fis.test_base()"
   ]
  },
  {
   "cell_type": "markdown",
   "metadata": {},
   "source": [
    "# Import Libraries"
   ]
  },
  {
   "cell_type": "code",

   "execution_count": 5,

   "metadata": {
    "ExecuteTime": {
     "end_time": "2019-07-03T20:27:32.130251Z",
     "start_time": "2019-07-03T20:27:32.062161Z"
    }
   },
   "outputs": [
    {
     "name": "stderr",
     "output_type": "stream",
     "text": [
      "/anaconda3/lib/python3.7/site-packages/sklearn/externals/six.py:31: DeprecationWarning: The module is deprecated in version 0.21 and will be removed in version 0.23 since we've dropped support for Python 2.7. Please rely on the official version of six (https://pypi.org/project/six/).\n",
      "  \"(https://pypi.org/project/six/).\", DeprecationWarning)\n"
     ]
    }
   ],
   "source": [
    "# !pip install imblearn\n",
    "\n",
    "import pandas as pd\n",
    "import numpy as np\n",
    "\n",
    "# Visualization\n",
    "import matplotlib.pyplot as plt\n",
    "%matplotlib inline\n",
    "import seaborn as sns\n",
    "import pandas_profiling\n",
    "from sklearn.externals.six import StringIO\n",
    "from IPython.display import Image\n",
    "from sklearn.tree import export_graphviz\n",
    "import pydotplus\n",
    "\n",
    "# Warnings\n",
    "import warnings\n",
    "warnings.filterwarnings('ignore')\n",
    "\n",
    "# Data Preparation\n",
    "from sklearn.model_selection import train_test_split\n",
    "from sklearn.preprocessing import RobustScaler\n",
    "\n",
    "# Resampling Methods\n",
    "from imblearn.under_sampling import RandomUnderSampler\n",
    "from imblearn.over_sampling import SMOTE\n",
    "\n",
    "# Classifiers\n",
    "from sklearn.naive_bayes import GaussianNB\n",
    "from sklearn.neighbors import KNeighborsClassifier\n",
    "from sklearn.tree import DecisionTreeClassifier \n",
    "from sklearn.ensemble import RandomForestClassifier \n",
    "from sklearn.linear_model import LogisticRegression\n",
    "\n",
    "# Model Tuning and Cross Validation\n",
    "from imblearn.pipeline import make_pipeline, Pipeline\n",
    "from sklearn.model_selection import GridSearchCV\n",
    "\n",
    "# Model metrics\n",
    "from sklearn import metrics\n",
    "from sklearn.metrics import accuracy_score, confusion_matrix, classification_report, roc_curve, auc, precision_recall_curve\n",
    "\n"
   ]
  },
  {
   "cell_type": "markdown",
   "metadata": {},
   "source": [
    "# Functions"
   ]
  },
  {
   "cell_type": "code",
    
   "execution_count": 25,
   "metadata": {},

   "outputs": [],
   "source": [
    "def make_SMOTE_model(X_train, y_train, X_test, y_test, classifier):\n",
    "\n",
    "# make pipeline \n",
    "    smote = SMOTE(random_state=1)\n",
    "\n",
    "    pipe = make_pipeline(smote, classifier)\n",
    "    model = pipe.fit(X_train, y_train)\n",
    "\n",
    "# make predictions   \n",
    "    train_predictions = model.predict(X_train)\n",
    "    test_predictions = model.predict(X_test)\n",
    "\n",
    "# print scores  \n",
    "    print('Train Accuracy: ' + str(metrics.accuracy_score(y_train, train_predictions)))\n",
    "    print('Train Precision: ' + str(metrics.precision_score(y_train, train_predictions)))\n",
    "    print('Train Recall: ' + str(metrics.recall_score(y_train, train_predictions)))\n",
    "    print('Train F1: ' + str(metrics.f1_score(y_train, train_predictions)))\n",
    "    print('\\n')\n",
    "    print('Test Accuracy: ' + str(metrics.accuracy_score(y_test, test_predictions)))\n",
    "    print('Test Precision: ' + str(metrics.precision_score(y_test, test_predictions)))\n",
    "    print('Test Recall: ' + str(metrics.recall_score(y_test, test_predictions)))\n",
    "    print('Test F1: ' + str(metrics.f1_score(y_test, test_predictions)))\n",
    "    print('\\n')\n",
    "    \n",
    "# print confusion matrix    \n",
    "    cm = confusion_matrix(y_test, test_predictions)\n",
    "    sns.heatmap(cm, square=True, annot=True, fmt = 'g', cmap='RdBu', cbar=False,\n",
    "            xticklabels=['legitimate', 'fraud'], yticklabels=['legitimate', 'fraud'])\n",
    "    plt.xlabel('predicted label')\n",
    "    plt.ylabel('true label')\n",
    "    \n",
    "    tn, fp, fn, tp = confusion_matrix(y_test, test_predictions).ravel()\n",
    "    print(\"Confusion Matrix:\",'\\nTN:', tn, 'FP:', fp, 'FN:', fn, 'TP:', tp)\n",
    "\n",
    "    return model\n"
   ]
  },
  {
   "cell_type": "code",

   "execution_count": 26,
   "metadata": {},
   "outputs": [],

   "source": [
    "def make_RandomUnderSampler_model(X_train, y_train, X_test, y_test, classifier):\n",
    "\n",
    "# make pipeline \n",
    "\n",
    "    RU = RandomUnderSampler(random_state=10)\n",
    "\n",
    "    pipe = make_pipeline(RU, classifier)\n",
    "    model = pipe.fit(X_train, y_train)\n",
    "\n",
    "# make predictions   \n",
    "    train_predictions = model.predict(X_train)\n",
    "    test_predictions = model.predict(X_test)\n",
    "\n",
    "# print scores  \n",
    "    print('Train Accuracy: ' + str(metrics.accuracy_score(y_train, train_predictions)))\n",
    "    print('Train Precision: ' + str(metrics.precision_score(y_train, train_predictions)))\n",
    "    print('Train Recall: ' + str(metrics.recall_score(y_train, train_predictions)))\n",
    "    print('Train F1: ' + str(metrics.f1_score(y_train, train_predictions)))\n",
    "    print('\\n')\n",
    "    print('Test Accuracy: ' + str(metrics.accuracy_score(y_test, test_predictions)))\n",
    "    print('Test Precision: ' + str(metrics.precision_score(y_test, test_predictions)))\n",
    "    print('Test Recall: ' + str(metrics.recall_score(y_test, test_predictions)))\n",
    "    print('Test F1: ' + str(metrics.f1_score(y_test, test_predictions)))\n",
    "    print('\\n')\n",
    "    \n",
    "# print confusion matrix    \n",
    "    cm = confusion_matrix(y_test, test_predictions)\n",
    "    sns.heatmap(cm, square=True, annot=True, fmt = 'g', cmap='RdBu', cbar=False,\n",
    "            xticklabels=['legitimate', 'fraud'], yticklabels=['legitimate', 'fraud'])\n",
    "    plt.xlabel('predicted label')\n",
    "    plt.ylabel('true label')\n",
    "    \n",
    "    tn, fp, fn, tp = confusion_matrix(y_test, test_predictions).ravel()\n",
    "    print(\"Confusion Matrix:\",'\\nTN:', tn, 'FP:', fp, 'FN:', fn, 'TP:', tp)\n",
    "\n",
    "    return model\n"
   ]
  },
  {
   "cell_type": "markdown",
   "metadata": {},
   "source": [
    "# Data Importing"
   ]
  },
  {
   "cell_type": "code",

   "execution_count": 8,
   "metadata": {},
   "outputs": [],

   "source": [
    "# csv_name = '/Users/flatironschool/Desktop/Kelly/creditcard.csv'  #put as a string\n",
    "# df = pd.read_csv(csv_name)"
   ]
  },
  {
   "cell_type": "markdown",
   "metadata": {},
   "source": [
    "# Data Cleaning"
   ]
  },
  {
   "cell_type": "code",
   "execution_count": 9,
   "metadata": {},
   "outputs": [],
   "source": [
    "# Dropping duplicate rows\n",
    "# df.drop_duplicates(inplace=True)"
   ]
  },
  {

   "cell_type": "code",
   "execution_count": 10,
   "metadata": {},
   "outputs": [],

   "source": [
    "# creating time of day bins \n",
    "# secs_per_day = 86400\n",
    "# secs_per_hour = 3600\n",
    "# start = 3600 #1am\n",
    "# period1 = start + 3600*6 #1-7am\n",
    "# period2 = period1 + 3600*6 #7am-1pm\n",
    "# period3 = period2 + 3600*6 #1pm-7pm\n",
    "# period4 = period3 + 3600*5 #7am-12am"
   ]
  },
  {
   "cell_type": "code",

   "execution_count": 11,
   "metadata": {},

   "outputs": [],
   "source": [
    "# df['time_of_day']=df['Time'].apply(lambda x: x - secs_per_day if x >= secs_per_day else x)"
   ]
  },
  {
   "cell_type": "code",

   "execution_count": 12,
   "metadata": {},

   "outputs": [],
   "source": [
    "# df['time_of_day']=df['time_of_day'].apply(lambda x: 3 if x<start else x )\n",
    "# df['time_of_day']=df['time_of_day'].apply(lambda x: 0 if (x>=start) & (x<period1) else x )\n",
    "# df['time_of_day']=df['time_of_day'].apply(lambda x: 1 if (x>=period1) & (x<period2) else x )\n",
    "# df['time_of_day']=df['time_of_day'].apply(lambda x: 2 if (x>=period2) & (x<period3) else x )\n",
    "# df['time_of_day']=df['time_of_day'].apply(lambda x: 3 if (x>=period3) else x )"
   ]
  },
  {
   "cell_type": "code",

   "execution_count": 13,
   "metadata": {
    "scrolled": true

   },
   "outputs": [],
   "source": [
    "# df['time_of_day'][(df['time_of_day']<start)] = 3\n",
    "# df['time_of_day'][(df['time_of_day']>=start) & (df['time_of_day']<period1)] = 0\n",
    "# df['time_of_day'][(df['time_of_day']>=period1) & (df['time_of_day']<period2)] = 1\n",
    "# df['time_of_day'][(df['time_of_day']>=period2) & (df['time_of_day']<period3)] = 2\n",
    "# df['time_of_day'][(df['time_of_day']>=period3)] = 3"
   ]
  },
  {
   "cell_type": "code",

   "execution_count": 14,
   "metadata": {},

   "outputs": [],
   "source": [
    "# dropping the time column\n",
    "# df = df.drop(['Time'], axis=1)"
   ]
  },
  {
   "cell_type": "code",

   "execution_count": 15,
   "metadata": {},

   "outputs": [],
   "source": [
    "# get dummies on time of day column\n",
    "# x_feats = ['time_of_day']\n",
    "# df = pd.get_dummies(df, columns=x_feats)"
   ]
  },
  {
   "cell_type": "markdown",
   "metadata": {},
   "source": [
    "## Save cleaned dataframe"
   ]
  },
  {
   "cell_type": "code",

   "execution_count": 16,
   "metadata": {},

   "outputs": [],
   "source": [
    "# df.to_csv('../data/processed/cleaned_dataframe.csv.gz', compression='gzip', index=False)\n"
   ]
  },
  {

   "cell_type": "markdown",
   "metadata": {},

   "source": [
    "## Scale Amount column and save again"
   ]
  },
  {
   "cell_type": "code",

   "execution_count": 17,
   "metadata": {},

   "outputs": [],
   "source": [
    "# Scaling the Amount column\n",
    "# Note: Scaling for Logisitic Regression, but not for Random Forest Model\n",
    "\n",
    "# from sklearn.preprocessing import RobustScaler\n",
    "# rs = RobustScaler()\n",
    "# amount = pd.DataFrame(df['Amount'])\n",
    "# amount_scaled = rs.fit_transform(amount)\n",
    "# df['Amount']=amount_scaled"
   ]
  },
  {
   "cell_type": "code",

   "execution_count": 18,
   "metadata": {},

   "outputs": [],
   "source": [
    "# df.to_csv('../data/processed/cleaned_dataframe_scaled.csv.gz', compression='gzip', index=False)\n"
   ]
  },
  {
   "cell_type": "markdown",
   "metadata": {},
   "source": [
    "# Start with clean data"
   ]
  },
  {
   "cell_type": "code",

   "execution_count": 19,
   "metadata": {},

   "outputs": [
    {
     "data": {
      "text/html": [
       "<div>\n",
       "<style scoped>\n",
       "    .dataframe tbody tr th:only-of-type {\n",
       "        vertical-align: middle;\n",
       "    }\n",
       "\n",
       "    .dataframe tbody tr th {\n",
       "        vertical-align: top;\n",
       "    }\n",
       "\n",
       "    .dataframe thead th {\n",
       "        text-align: right;\n",
       "    }\n",
       "</style>\n",
       "<table border=\"1\" class=\"dataframe\">\n",
       "  <thead>\n",
       "    <tr style=\"text-align: right;\">\n",
       "      <th></th>\n",
       "      <th>V1</th>\n",
       "      <th>V2</th>\n",
       "      <th>V3</th>\n",
       "      <th>V4</th>\n",
       "      <th>V5</th>\n",
       "      <th>V6</th>\n",
       "      <th>V7</th>\n",
       "      <th>V8</th>\n",
       "      <th>V9</th>\n",
       "      <th>V10</th>\n",
       "      <th>...</th>\n",
       "      <th>V25</th>\n",
       "      <th>V26</th>\n",
       "      <th>V27</th>\n",
       "      <th>V28</th>\n",
       "      <th>Amount</th>\n",
       "      <th>Class</th>\n",
       "      <th>time_of_day_0.0</th>\n",
       "      <th>time_of_day_1.0</th>\n",
       "      <th>time_of_day_2.0</th>\n",
       "      <th>time_of_day_3.0</th>\n",
       "    </tr>\n",
       "  </thead>\n",
       "  <tbody>\n",
       "    <tr>\n",
       "      <th>0</th>\n",
       "      <td>-1.359807</td>\n",
       "      <td>-0.072781</td>\n",
       "      <td>2.536347</td>\n",
       "      <td>1.378155</td>\n",
       "      <td>-0.338321</td>\n",
       "      <td>0.462388</td>\n",
       "      <td>0.239599</td>\n",
       "      <td>0.098698</td>\n",
       "      <td>0.363787</td>\n",
       "      <td>0.090794</td>\n",
       "      <td>...</td>\n",
       "      <td>0.128539</td>\n",
       "      <td>-0.189115</td>\n",
       "      <td>0.133558</td>\n",
       "      <td>-0.021053</td>\n",
       "      <td>149.62</td>\n",
       "      <td>0</td>\n",
       "      <td>0</td>\n",
       "      <td>0</td>\n",
       "      <td>0</td>\n",
       "      <td>1</td>\n",
       "    </tr>\n",
       "    <tr>\n",
       "      <th>1</th>\n",
       "      <td>1.191857</td>\n",
       "      <td>0.266151</td>\n",
       "      <td>0.166480</td>\n",
       "      <td>0.448154</td>\n",
       "      <td>0.060018</td>\n",
       "      <td>-0.082361</td>\n",
       "      <td>-0.078803</td>\n",
       "      <td>0.085102</td>\n",
       "      <td>-0.255425</td>\n",
       "      <td>-0.166974</td>\n",
       "      <td>...</td>\n",
       "      <td>0.167170</td>\n",
       "      <td>0.125895</td>\n",
       "      <td>-0.008983</td>\n",
       "      <td>0.014724</td>\n",
       "      <td>2.69</td>\n",
       "      <td>0</td>\n",
       "      <td>0</td>\n",
       "      <td>0</td>\n",
       "      <td>0</td>\n",
       "      <td>1</td>\n",
       "    </tr>\n",
       "    <tr>\n",
       "      <th>2</th>\n",
       "      <td>-1.358354</td>\n",
       "      <td>-1.340163</td>\n",
       "      <td>1.773209</td>\n",
       "      <td>0.379780</td>\n",
       "      <td>-0.503198</td>\n",
       "      <td>1.800499</td>\n",
       "      <td>0.791461</td>\n",
       "      <td>0.247676</td>\n",
       "      <td>-1.514654</td>\n",
       "      <td>0.207643</td>\n",
       "      <td>...</td>\n",
       "      <td>-0.327642</td>\n",
       "      <td>-0.139097</td>\n",
       "      <td>-0.055353</td>\n",
       "      <td>-0.059752</td>\n",
       "      <td>378.66</td>\n",
       "      <td>0</td>\n",
       "      <td>0</td>\n",
       "      <td>0</td>\n",
       "      <td>0</td>\n",
       "      <td>1</td>\n",
       "    </tr>\n",
       "    <tr>\n",
       "      <th>3</th>\n",
       "      <td>-0.966272</td>\n",
       "      <td>-0.185226</td>\n",
       "      <td>1.792993</td>\n",
       "      <td>-0.863291</td>\n",
       "      <td>-0.010309</td>\n",
       "      <td>1.247203</td>\n",
       "      <td>0.237609</td>\n",
       "      <td>0.377436</td>\n",
       "      <td>-1.387024</td>\n",
       "      <td>-0.054952</td>\n",
       "      <td>...</td>\n",
       "      <td>0.647376</td>\n",
       "      <td>-0.221929</td>\n",
       "      <td>0.062723</td>\n",
       "      <td>0.061458</td>\n",
       "      <td>123.50</td>\n",
       "      <td>0</td>\n",
       "      <td>0</td>\n",
       "      <td>0</td>\n",
       "      <td>0</td>\n",
       "      <td>1</td>\n",
       "    </tr>\n",
       "    <tr>\n",
       "      <th>4</th>\n",
       "      <td>-1.158233</td>\n",
       "      <td>0.877737</td>\n",
       "      <td>1.548718</td>\n",
       "      <td>0.403034</td>\n",
       "      <td>-0.407193</td>\n",
       "      <td>0.095921</td>\n",
       "      <td>0.592941</td>\n",
       "      <td>-0.270533</td>\n",
       "      <td>0.817739</td>\n",
       "      <td>0.753074</td>\n",
       "      <td>...</td>\n",
       "      <td>-0.206010</td>\n",
       "      <td>0.502292</td>\n",
       "      <td>0.219422</td>\n",
       "      <td>0.215153</td>\n",
       "      <td>69.99</td>\n",
       "      <td>0</td>\n",
       "      <td>0</td>\n",
       "      <td>0</td>\n",
       "      <td>0</td>\n",
       "      <td>1</td>\n",
       "    </tr>\n",
       "  </tbody>\n",
       "</table>\n",
       "<p>5 rows × 34 columns</p>\n",
       "</div>"
      ],
      "text/plain": [
       "         V1        V2        V3        V4        V5        V6        V7  \\\n",
       "0 -1.359807 -0.072781  2.536347  1.378155 -0.338321  0.462388  0.239599   \n",
       "1  1.191857  0.266151  0.166480  0.448154  0.060018 -0.082361 -0.078803   \n",
       "2 -1.358354 -1.340163  1.773209  0.379780 -0.503198  1.800499  0.791461   \n",
       "3 -0.966272 -0.185226  1.792993 -0.863291 -0.010309  1.247203  0.237609   \n",
       "4 -1.158233  0.877737  1.548718  0.403034 -0.407193  0.095921  0.592941   \n",
       "\n",
       "         V8        V9       V10  ...       V25       V26       V27       V28  \\\n",
       "0  0.098698  0.363787  0.090794  ...  0.128539 -0.189115  0.133558 -0.021053   \n",
       "1  0.085102 -0.255425 -0.166974  ...  0.167170  0.125895 -0.008983  0.014724   \n",
       "2  0.247676 -1.514654  0.207643  ... -0.327642 -0.139097 -0.055353 -0.059752   \n",
       "3  0.377436 -1.387024 -0.054952  ...  0.647376 -0.221929  0.062723  0.061458   \n",
       "4 -0.270533  0.817739  0.753074  ... -0.206010  0.502292  0.219422  0.215153   \n",
       "\n",
       "   Amount  Class  time_of_day_0.0  time_of_day_1.0  time_of_day_2.0  \\\n",
       "0  149.62      0                0                0                0   \n",
       "1    2.69      0                0                0                0   \n",
       "2  378.66      0                0                0                0   \n",
       "3  123.50      0                0                0                0   \n",
       "4   69.99      0                0                0                0   \n",
       "\n",
       "   time_of_day_3.0  \n",
       "0                1  \n",
       "1                1  \n",
       "2                1  \n",
       "3                1  \n",
       "4                1  \n",
       "\n",
       "[5 rows x 34 columns]"
      ]
     },
     "execution_count": 19,
     "metadata": {},
     "output_type": "execute_result"
    }
   ],
   "source": [
    "df_cleaned = pd.read_csv('../data/processed/cleaned_dataframe.csv.gz', compression='gzip')\n",
    "df_cleaned_scaled = pd.read_csv('../data/processed/cleaned_dataframe_scaled.csv.gz', compression='gzip')\n",
    "df_cleaned.head()"
   ]
  },
  {
   "cell_type": "markdown",
   "metadata": {
    "heading_collapsed": true,
    "hidden": true
   },
   "source": [
    "## Exploratory Data Analysis "
   ]
  },
  {
   "cell_type": "code",

   "execution_count": 20,
   "metadata": {},
   "outputs": [
    {
     "data": {
      "text/plain": [
       "<matplotlib.axes._subplots.AxesSubplot at 0x1a1cc9ce48>"
      ]
     },
     "execution_count": 20,
     "metadata": {},
     "output_type": "execute_result"
    },
    {
     "data": {
      "image/png": "[encoded data removed]",
      "text/plain": [
       "<Figure size 432x288 with 1 Axes>"
      ]
     },
     "metadata": {
      "needs_background": "light"
     },
     "output_type": "display_data"
    }
   ],

   "source": [
    "sns.stripplot(df_cleaned['Class'], df_cleaned['Amount'])"
   ]
  },
  {
   "cell_type": "code",

   "execution_count": 21,
   "metadata": {},

   "outputs": [
    {
     "name": "stdout",
     "output_type": "stream",
     "text": [
      "Max Fraud Amount: 2125.87\n",
      "Number of Frauds above Quantile 3: 118\n"
     ]
    },
    {
     "data": {

      "image/png": "[encoded data removed]",

      "text/plain": [
       "<Figure size 576x360 with 1 Axes>"
      ]
     },
     "metadata": {
      "needs_background": "light"
     },
     "output_type": "display_data"
    }
   ],
   "source": [
    "plt.figure(figsize=(8,5))\n",
    "df_fraud = df_cleaned.loc[df_cleaned['Class']==1]\n",
    "plt.boxplot(df_fraud['Amount'], showfliers=True, sym='k')\n",
    "plt.title(\"Fraud Amounts\")\n",
    "print(\"Max Fraud Amount:\", df_fraud['Amount'].max())\n",
    "print(\"Number of Frauds above Quantile 3:\", len(df_fraud.loc[df_fraud['Amount'] > df_fraud['Amount'].quantile(.75)]))"
   ]
  },
  {
   "cell_type": "markdown",
   "metadata": {},
   "source": [
    "## Train-Test Split (without scaling)"
   ]
  },
  {
   "cell_type": "code",
   "execution_count": 22,
   "metadata": {},
   "outputs": [
    {
     "name": "stdout",
     "output_type": "stream",
     "text": [
      "No. of samples in each training set: 198608\n",
      "No. of samples in each test set: 85118\n"
     ]
    }
   ],
   "source": [
    "X = df_cleaned.drop(['Class'], axis=1)\n",
    "y = df_cleaned['Class']\n",
    "\n",
    "X_train, X_test, y_train, y_test = train_test_split(X, y, test_size=0.3, stratify=y, random_state=1)\n",
    "print(\"No. of samples in each training set:\", X_train.shape[0])\n",
    "print(\"No. of samples in each test set:\", X_test.shape[0])"
   ]
  },
  {
   "cell_type": "markdown",
   "metadata": {},
   "source": [
    "## Train-Test Split (with scaling)"
   ]
  },
  {
   "cell_type": "code",
   "execution_count": 23,
   "metadata": {},
   "outputs": [],
   "source": [
    "X = df_cleaned_scaled.drop(['Class'], axis=1)\n",
    "y = df_cleaned_scaled['Class']\n",
    "\n",
    "X_train_sc, X_test_sc, y_train_sc, y_test_sc = train_test_split(X, y, test_size=0.3, stratify=y, random_state=1)"
   ]
  },
  {
   "cell_type": "markdown",
   "metadata": {},
   "source": [
    "## Gaussian Bayes"
   ]
  },
  {
   "cell_type": "code",
   "execution_count": 27,
   "metadata": {},
   "outputs": [
    {
     "name": "stdout",
     "output_type": "stream",
     "text": [
      "Train Accuracy: 0.9745931684524289\n",
      "Train Precision: 0.05392620624408704\n",
      "Train Recall: 0.8610271903323263\n",
      "Train F1: 0.1014957264957265\n",
      "\n",
      "\n",
      "Test Accuracy: 0.9750581545619023\n",
      "Test Precision: 0.05282167042889391\n",
      "Test Recall: 0.823943661971831\n",
      "Test F1: 0.0992787441663131\n",
      "\n",
      "\n",
      "Confusion Matrix: \n",
      "TN: 82878 FP: 2098 FN: 25 TP: 117\n"
     ]
    },
    {
     "data": {
      "image/png": "[encoded data removed]",
      "text/plain": [
       "<Figure size 432x288 with 1 Axes>"
      ]
     },
     "metadata": {
      "needs_background": "light"
     },
     "output_type": "display_data"
    }
   ],
   "source": [
    "nb_smote_model = make_SMOTE_model(X_train, y_train, X_test, y_test, GaussianNB())"
   ]
  },
  {
   "cell_type": "code",
   "execution_count": 28,
   "metadata": {},
   "outputs": [
    {
     "name": "stdout",
     "output_type": "stream",
     "text": [
      "Train Accuracy: 0.949473334407476\n",
      "Train Precision: 0.028107372106594048\n",
      "Train Recall: 0.8731117824773413\n",
      "Train F1: 0.05446150946951851\n",
      "\n",
      "\n",
      "Test Accuracy: 0.9497756056298315\n",
      "Test Precision: 0.02787297235549463\n",
      "Test Recall: 0.8591549295774648\n",
      "Test F1: 0.053994246514715634\n",
      "\n",
      "\n",
      "Confusion Matrix: \n",
      "TN: 80721 FP: 4255 FN: 20 TP: 122\n"
     ]
    },
    {
     "data": {
      "image/png": "[encoded data removed]",
      "text/plain": [
       "<Figure size 432x288 with 1 Axes>"
      ]
     },
     "metadata": {
      "needs_background": "light"
     },
     "output_type": "display_data"
    }
   ],
   "source": [
    "nd_ru_model = make_RandomUnderSampler_model(X_train, y_train, X_test, y_test, GaussianNB())"
   ]
  },
  {
   "cell_type": "markdown",
   "metadata": {},
   "source": [
    "## KNN"
   ]
  },
  {
   "cell_type": "code",
   "execution_count": null,
   "metadata": {},
   "outputs": [],
   "source": [
    "knn_smote_model = make_SMOTE_model(X_train_sc, y_train_sc, X_test_sc, y_test_sc, KNeighborsClassifier(n_neighbors=9))"
   ]
  },
  {
   "cell_type": "code",
   "execution_count": null,
   "metadata": {},
   "outputs": [],
   "source": [
    "make_RandomUnderSampler_model(X_train_sc, y_train_sc, X_test_sc, y_test_sc, KNeighborsClassifier(n_neighbors=9))"
   ]
  },
  {
   "cell_type": "markdown",
   "metadata": {},
   "source": [
    "## Logistic Regression"
   ]
  },
  {
   "cell_type": "code",
   "execution_count": null,
   "metadata": {},
   "outputs": [],
   "source": [
    "make_SMOTE_model(X_train_sc, y_train_sc, X_test_sc, y_test_sc, LogisticRegression(fit_intercept = False, C = 1e12, class_weight={0: 1, 1: 3}))"
   ]
  },
  {
   "cell_type": "code",
   "execution_count": null,
   "metadata": {},
   "outputs": [],
   "source": [
    "make_RandomUnderSampler_model(X_train_sc, y_train_sc, X_test_sc, y_test_sc, LogisticRegression(fit_intercept = False, C = 1e12, class_weight={0: 1, 1: 3}))"
   ]
  },
  {
   "cell_type": "markdown",
   "metadata": {},
   "source": [
    "## Random Forest"
   ]
  },
  {
   "cell_type": "code",
   "execution_count": null,
   "metadata": {},
   "outputs": [],
   "source": [
    "rm_smote_model = make_SMOTE_model(X_train, y_train, X_test, y_test, RandomForestClassifier(n_estimators=30))\n",
    "\n"
   ]
  },
  {
   "cell_type": "code",
   "execution_count": null,
   "metadata": {},
   "outputs": [],
   "source": [
    "pred_proba = rm_smote_model.predict_proba(X_train)\n",
    "pred_proba"
   ]
  },
  {
   "cell_type": "code",
   "execution_count": null,
   "metadata": {},
   "outputs": [],
   "source": [
    "probs = pd.DataFrame(pred_proba, columns=['prob_legit', 'prob_fraud'])\n",
    "probs['actual']=[i for i in y_train]\n",
    "probs.head()"
   ]
  },
  {
   "cell_type": "code",
   "execution_count": null,
   "metadata": {},
   "outputs": [],
   "source": [
    "def frange(start, stop, step):\n",
    "    i = start\n",
    "    while i < stop:\n",
    "        yield i\n",
    "        i += step\n",
    "\n",
    "names = ['cut_off', 'recall', 'precision']\n",
    "fraud_metrics = pd.DataFrame()\n",
    "\n",
    "# for loop to test different cut-off values\n",
    "for i in frange(.2,.95,.015):\n",
    "    probs['label'] = np.where(probs['prob_fraud'] >= i, 1, 0)\n",
    "    tn, fp, fn, tp = confusion_matrix(probs['actual'], probs['label']).ravel()\n",
    "    recall = tp/(tp+fn)\n",
    "    precision = tp/(tp+fp)\n",
    "    evals = [i,recall,precision]\n",
    "    fraud_metrics=fraud_metrics.append(pd.Series(evals), ignore_index=True)\n",
    "\n",
    "fraud_metrics.columns = names\n",
    "\n",
    "import matplotlib.pyplot as plt\n",
    "%matplotlib inline\n",
    "plt.style.use('seaborn-whitegrid')\n",
    "# plot the data\n",
    "plt.plot(fraud_metrics.recall, fraud_metrics.precision , '-', color='black')\n",
    "plt.plot(fraud_metrics.recall, fraud_metrics.precision , 'o', color='blue')\n",
    "\n",
    "# make some nice labels\n",
    "plt.title('Precision-Recall curve')\n",
    "plt.ylabel('Precision')\n",
    "plt.xlabel('Recall')\n",
    "plt.show()\n",
    "fraud_metrics"
   ]
  },
  {
   "cell_type": "code",
   "execution_count": null,
   "metadata": {},
   "outputs": [],
   "source": [
    "make_RandomUnderSampler_model(X_train, y_train, X_test, y_test, RandomForestClassifier(max_depth=12, n_estimators=30, class_weight={0: 1, 1: 3}))\n",
    "\n"
   ]
  },
  {
   "cell_type": "code",
   "execution_count": 96,
   "metadata": {},
   "outputs": [
    {
     "data": {
      "text/plain": [
       "dict_keys(['bootstrap', 'class_weight', 'criterion', 'max_depth', 'max_features', 'max_leaf_nodes', 'min_impurity_decrease', 'min_impurity_split', 'min_samples_leaf', 'min_samples_split', 'min_weight_fraction_leaf', 'n_estimators', 'n_jobs', 'oob_score', 'random_state', 'verbose', 'warm_start'])"
      ]
     },
     "execution_count": 96,
     "metadata": {},
     "output_type": "execute_result"
    }
   ],
   "source": [
    "RandomForestClassifier().get_params().keys()"
   ]
  },
  {
   "cell_type": "code",
   "execution_count": 42,
   "metadata": {
    "scrolled": false
   },
   "outputs": [
    {
     "data": {
      "text/plain": [
       "GridSearchCV(cv=5, error_score='raise-deprecating',\n",
       "             estimator=Pipeline(memory=None,\n",
       "                                steps=[('smote',\n",
       "                                        SMOTE(k_neighbors=5, kind='deprecated',\n",
       "                                              m_neighbors='deprecated',\n",
       "                                              n_jobs=1, out_step='deprecated',\n",
       "                                              random_state=1, ratio=None,\n",
       "                                              sampling_strategy='auto',\n",
       "                                              svm_estimator='deprecated')),\n",
       "                                       ('classifier',\n",
       "                                        RandomForestClassifier(bootstrap=True,\n",
       "                                                               class_weight={0: 1,\n",
       "                                                                             1: 2},\n",
       "                                                               crit...\n",
       "                                                               min_samples_leaf=1,\n",
       "                                                               min_samples_split=2,\n",
       "                                                               min_weight_fraction_leaf=0.0,\n",
       "                                                               n_estimators=30,\n",
       "                                                               n_jobs=3,\n",
       "                                                               oob_score=False,\n",
       "                                                               random_state=None,\n",
       "                                                               verbose=0,\n",
       "                                                               warm_start=False))],\n",
       "                                verbose=False),\n",
       "             iid='warn', n_jobs=None,\n",
       "             param_grid={'classifier__max_depth': [10, 12],\n",
       "                         'classifier__min_samples_split': [8, 10]},\n",
       "             pre_dispatch='2*n_jobs', refit=True, return_train_score=False,\n",
       "             scoring='f1', verbose=0)"
      ]
     },
     "execution_count": 42,
     "metadata": {},
     "output_type": "execute_result"
    }
   ],
   "source": [
    "smote = SMOTE(random_state=1)\n",
    "classifier = RandomForestClassifier(class_weight={0: 1, 1: 2}, n_estimators=30, n_jobs=3)\n",
    "\n",
    "from imblearn.pipeline import Pipeline\n",
    "\n",
    "pipe = Pipeline([('smote', smote), ('classifier', classifier)])\n",
    "\n",
    "param_grid = {\n",
    "    \n",
    "#     'classifier__criterion': ['gini', 'entropy'],\n",
    "    'classifier__max_depth': [10, 12],\n",
    "    'classifier__min_samples_split': [8, 10],\n",
    "}\n",
    "\n",
    "gs = GridSearchCV(pipe, param_grid, cv = 5, scoring='f1')\n",
    "gs.fit(X_train, y_train)\n"
   ]
  },
  {
   "cell_type": "code",
   "execution_count": 43,
   "metadata": {},
   "outputs": [
    {
     "data": {
      "text/plain": [
       "{'classifier__max_depth': 12, 'classifier__min_samples_split': 8}"
      ]
     },
     "execution_count": 43,
     "metadata": {},
     "output_type": "execute_result"
    }
   ],
   "source": [
    "gs.best_params_"
   ]
  },
  {
   "cell_type": "code",
   "execution_count": 141,
   "metadata": {},
   "outputs": [],
   "source": [
    "test_predictions = gs.predict(X_test)\n",
    "test_probabilities = gs.predict_proba(X_test)"
   ]
  },
  {
   "cell_type": "code",
   "execution_count": 119,
   "metadata": {},
   "outputs": [
    {
     "data": {
      "image/png": "[encoded data removed]",
      "text/plain": [
       "<Figure size 432x288 with 1 Axes>"
      ]
     },
     "metadata": {},
     "output_type": "display_data"
    }
   ],
   "source": [
    "# print confusion matrix    \n",
    "cm = confusion_matrix(y_test, test_predictions)\n",
    "sns.heatmap(cm, square=True, annot=True, fmt = 'g', cmap='RdBu', cbar=False, xticklabels=['legitimate', 'fraud'], yticklabels=['legitimate', 'fraud'])\n",
    "plt.title('Confusion Matrix:\\n Random Forest Model')\n",
    "plt.xlabel('true label')\n",
    "plt.ylabel('predicted label')\n",
    "plt.savefig('cm_randomforest')"
   ]
  },
  {
   "cell_type": "code",
   "execution_count": 145,
   "metadata": {},
   "outputs": [
    {
     "data": {
      "image/png": "[encoded data removed]",
      "text/plain": [
       "<Figure size 432x288 with 1 Axes>"
      ]
     },
     "metadata": {},
     "output_type": "display_data"
    },
    {
     "data": {
      "text/html": [
       "<div>\n",
       "<style scoped>\n",
       "    .dataframe tbody tr th:only-of-type {\n",
       "        vertical-align: middle;\n",
       "    }\n",
       "\n",
       "    .dataframe tbody tr th {\n",
       "        vertical-align: top;\n",
       "    }\n",
       "\n",
       "    .dataframe thead th {\n",
       "        text-align: right;\n",
       "    }\n",
       "</style>\n",
       "<table border=\"1\" class=\"dataframe\">\n",
       "  <thead>\n",
       "    <tr style=\"text-align: right;\">\n",
       "      <th></th>\n",
       "      <th>cut_off</th>\n",
       "      <th>recall</th>\n",
       "      <th>precision</th>\n",
       "    </tr>\n",
       "  </thead>\n",
       "  <tbody>\n",
       "    <tr>\n",
       "      <th>0</th>\n",
       "      <td>0.200</td>\n",
       "      <td>0.838028</td>\n",
       "      <td>0.113550</td>\n",
       "    </tr>\n",
       "    <tr>\n",
       "      <th>1</th>\n",
       "      <td>0.215</td>\n",
       "      <td>0.838028</td>\n",
       "      <td>0.126193</td>\n",
       "    </tr>\n",
       "    <tr>\n",
       "      <th>2</th>\n",
       "      <td>0.230</td>\n",
       "      <td>0.838028</td>\n",
       "      <td>0.140165</td>\n",
       "    </tr>\n",
       "    <tr>\n",
       "      <th>3</th>\n",
       "      <td>0.245</td>\n",
       "      <td>0.830986</td>\n",
       "      <td>0.152258</td>\n",
       "    </tr>\n",
       "    <tr>\n",
       "      <th>4</th>\n",
       "      <td>0.260</td>\n",
       "      <td>0.823944</td>\n",
       "      <td>0.166193</td>\n",
       "    </tr>\n",
       "    <tr>\n",
       "      <th>5</th>\n",
       "      <td>0.275</td>\n",
       "      <td>0.816901</td>\n",
       "      <td>0.180967</td>\n",
       "    </tr>\n",
       "    <tr>\n",
       "      <th>6</th>\n",
       "      <td>0.290</td>\n",
       "      <td>0.816901</td>\n",
       "      <td>0.194305</td>\n",
       "    </tr>\n",
       "    <tr>\n",
       "      <th>7</th>\n",
       "      <td>0.305</td>\n",
       "      <td>0.816901</td>\n",
       "      <td>0.209009</td>\n",
       "    </tr>\n",
       "    <tr>\n",
       "      <th>8</th>\n",
       "      <td>0.320</td>\n",
       "      <td>0.816901</td>\n",
       "      <td>0.225243</td>\n",
       "    </tr>\n",
       "    <tr>\n",
       "      <th>9</th>\n",
       "      <td>0.335</td>\n",
       "      <td>0.816901</td>\n",
       "      <td>0.244211</td>\n",
       "    </tr>\n",
       "    <tr>\n",
       "      <th>10</th>\n",
       "      <td>0.350</td>\n",
       "      <td>0.816901</td>\n",
       "      <td>0.261261</td>\n",
       "    </tr>\n",
       "    <tr>\n",
       "      <th>11</th>\n",
       "      <td>0.365</td>\n",
       "      <td>0.816901</td>\n",
       "      <td>0.280872</td>\n",
       "    </tr>\n",
       "    <tr>\n",
       "      <th>12</th>\n",
       "      <td>0.380</td>\n",
       "      <td>0.816901</td>\n",
       "      <td>0.297436</td>\n",
       "    </tr>\n",
       "    <tr>\n",
       "      <th>13</th>\n",
       "      <td>0.395</td>\n",
       "      <td>0.816901</td>\n",
       "      <td>0.318681</td>\n",
       "    </tr>\n",
       "    <tr>\n",
       "      <th>14</th>\n",
       "      <td>0.410</td>\n",
       "      <td>0.816901</td>\n",
       "      <td>0.338192</td>\n",
       "    </tr>\n",
       "    <tr>\n",
       "      <th>15</th>\n",
       "      <td>0.425</td>\n",
       "      <td>0.816901</td>\n",
       "      <td>0.364780</td>\n",
       "    </tr>\n",
       "    <tr>\n",
       "      <th>16</th>\n",
       "      <td>0.440</td>\n",
       "      <td>0.816901</td>\n",
       "      <td>0.391892</td>\n",
       "    </tr>\n",
       "    <tr>\n",
       "      <th>17</th>\n",
       "      <td>0.455</td>\n",
       "      <td>0.816901</td>\n",
       "      <td>0.411348</td>\n",
       "    </tr>\n",
       "    <tr>\n",
       "      <th>18</th>\n",
       "      <td>0.470</td>\n",
       "      <td>0.816901</td>\n",
       "      <td>0.441065</td>\n",
       "    </tr>\n",
       "    <tr>\n",
       "      <th>19</th>\n",
       "      <td>0.485</td>\n",
       "      <td>0.816901</td>\n",
       "      <td>0.456693</td>\n",
       "    </tr>\n",
       "    <tr>\n",
       "      <th>20</th>\n",
       "      <td>0.500</td>\n",
       "      <td>0.809859</td>\n",
       "      <td>0.479167</td>\n",
       "    </tr>\n",
       "    <tr>\n",
       "      <th>21</th>\n",
       "      <td>0.515</td>\n",
       "      <td>0.809859</td>\n",
       "      <td>0.497835</td>\n",
       "    </tr>\n",
       "    <tr>\n",
       "      <th>22</th>\n",
       "      <td>0.530</td>\n",
       "      <td>0.802817</td>\n",
       "      <td>0.537736</td>\n",
       "    </tr>\n",
       "    <tr>\n",
       "      <th>23</th>\n",
       "      <td>0.545</td>\n",
       "      <td>0.795775</td>\n",
       "      <td>0.553922</td>\n",
       "    </tr>\n",
       "    <tr>\n",
       "      <th>24</th>\n",
       "      <td>0.560</td>\n",
       "      <td>0.795775</td>\n",
       "      <td>0.610811</td>\n",
       "    </tr>\n",
       "    <tr>\n",
       "      <th>25</th>\n",
       "      <td>0.575</td>\n",
       "      <td>0.795775</td>\n",
       "      <td>0.634831</td>\n",
       "    </tr>\n",
       "    <tr>\n",
       "      <th>26</th>\n",
       "      <td>0.590</td>\n",
       "      <td>0.795775</td>\n",
       "      <td>0.660819</td>\n",
       "    </tr>\n",
       "    <tr>\n",
       "      <th>27</th>\n",
       "      <td>0.605</td>\n",
       "      <td>0.788732</td>\n",
       "      <td>0.687117</td>\n",
       "    </tr>\n",
       "    <tr>\n",
       "      <th>28</th>\n",
       "      <td>0.620</td>\n",
       "      <td>0.788732</td>\n",
       "      <td>0.695652</td>\n",
       "    </tr>\n",
       "    <tr>\n",
       "      <th>29</th>\n",
       "      <td>0.635</td>\n",
       "      <td>0.788732</td>\n",
       "      <td>0.717949</td>\n",
       "    </tr>\n",
       "    <tr>\n",
       "      <th>30</th>\n",
       "      <td>0.650</td>\n",
       "      <td>0.781690</td>\n",
       "      <td>0.725490</td>\n",
       "    </tr>\n",
       "    <tr>\n",
       "      <th>31</th>\n",
       "      <td>0.665</td>\n",
       "      <td>0.781690</td>\n",
       "      <td>0.750000</td>\n",
       "    </tr>\n",
       "    <tr>\n",
       "      <th>32</th>\n",
       "      <td>0.680</td>\n",
       "      <td>0.781690</td>\n",
       "      <td>0.765517</td>\n",
       "    </tr>\n",
       "    <tr>\n",
       "      <th>33</th>\n",
       "      <td>0.695</td>\n",
       "      <td>0.781690</td>\n",
       "      <td>0.781690</td>\n",
       "    </tr>\n",
       "    <tr>\n",
       "      <th>34</th>\n",
       "      <td>0.710</td>\n",
       "      <td>0.781690</td>\n",
       "      <td>0.787234</td>\n",
       "    </tr>\n",
       "    <tr>\n",
       "      <th>35</th>\n",
       "      <td>0.725</td>\n",
       "      <td>0.781690</td>\n",
       "      <td>0.804348</td>\n",
       "    </tr>\n",
       "    <tr>\n",
       "      <th>36</th>\n",
       "      <td>0.740</td>\n",
       "      <td>0.781690</td>\n",
       "      <td>0.816176</td>\n",
       "    </tr>\n",
       "    <tr>\n",
       "      <th>37</th>\n",
       "      <td>0.755</td>\n",
       "      <td>0.774648</td>\n",
       "      <td>0.839695</td>\n",
       "    </tr>\n",
       "    <tr>\n",
       "      <th>38</th>\n",
       "      <td>0.770</td>\n",
       "      <td>0.774648</td>\n",
       "      <td>0.859375</td>\n",
       "    </tr>\n",
       "    <tr>\n",
       "      <th>39</th>\n",
       "      <td>0.785</td>\n",
       "      <td>0.774648</td>\n",
       "      <td>0.866142</td>\n",
       "    </tr>\n",
       "    <tr>\n",
       "      <th>40</th>\n",
       "      <td>0.800</td>\n",
       "      <td>0.767606</td>\n",
       "      <td>0.865079</td>\n",
       "    </tr>\n",
       "    <tr>\n",
       "      <th>41</th>\n",
       "      <td>0.815</td>\n",
       "      <td>0.767606</td>\n",
       "      <td>0.872000</td>\n",
       "    </tr>\n",
       "    <tr>\n",
       "      <th>42</th>\n",
       "      <td>0.830</td>\n",
       "      <td>0.753521</td>\n",
       "      <td>0.869919</td>\n",
       "    </tr>\n",
       "    <tr>\n",
       "      <th>43</th>\n",
       "      <td>0.845</td>\n",
       "      <td>0.753521</td>\n",
       "      <td>0.884298</td>\n",
       "    </tr>\n",
       "    <tr>\n",
       "      <th>44</th>\n",
       "      <td>0.860</td>\n",
       "      <td>0.753521</td>\n",
       "      <td>0.891667</td>\n",
       "    </tr>\n",
       "    <tr>\n",
       "      <th>45</th>\n",
       "      <td>0.875</td>\n",
       "      <td>0.739437</td>\n",
       "      <td>0.897436</td>\n",
       "    </tr>\n",
       "    <tr>\n",
       "      <th>46</th>\n",
       "      <td>0.890</td>\n",
       "      <td>0.739437</td>\n",
       "      <td>0.897436</td>\n",
       "    </tr>\n",
       "    <tr>\n",
       "      <th>47</th>\n",
       "      <td>0.905</td>\n",
       "      <td>0.711268</td>\n",
       "      <td>0.893805</td>\n",
       "    </tr>\n",
       "    <tr>\n",
       "      <th>48</th>\n",
       "      <td>0.920</td>\n",
       "      <td>0.711268</td>\n",
       "      <td>0.893805</td>\n",
       "    </tr>\n",
       "    <tr>\n",
       "      <th>49</th>\n",
       "      <td>0.935</td>\n",
       "      <td>0.633803</td>\n",
       "      <td>0.891089</td>\n",
       "    </tr>\n",
       "  </tbody>\n",
       "</table>\n",
       "</div>"
      ],
      "text/plain": [
       "    cut_off    recall  precision\n",
       "0     0.200  0.838028   0.113550\n",
       "1     0.215  0.838028   0.126193\n",
       "2     0.230  0.838028   0.140165\n",
       "3     0.245  0.830986   0.152258\n",
       "4     0.260  0.823944   0.166193\n",
       "5     0.275  0.816901   0.180967\n",
       "6     0.290  0.816901   0.194305\n",
       "7     0.305  0.816901   0.209009\n",
       "8     0.320  0.816901   0.225243\n",
       "9     0.335  0.816901   0.244211\n",
       "10    0.350  0.816901   0.261261\n",
       "11    0.365  0.816901   0.280872\n",
       "12    0.380  0.816901   0.297436\n",
       "13    0.395  0.816901   0.318681\n",
       "14    0.410  0.816901   0.338192\n",
       "15    0.425  0.816901   0.364780\n",
       "16    0.440  0.816901   0.391892\n",
       "17    0.455  0.816901   0.411348\n",
       "18    0.470  0.816901   0.441065\n",
       "19    0.485  0.816901   0.456693\n",
       "20    0.500  0.809859   0.479167\n",
       "21    0.515  0.809859   0.497835\n",
       "22    0.530  0.802817   0.537736\n",
       "23    0.545  0.795775   0.553922\n",
       "24    0.560  0.795775   0.610811\n",
       "25    0.575  0.795775   0.634831\n",
       "26    0.590  0.795775   0.660819\n",
       "27    0.605  0.788732   0.687117\n",
       "28    0.620  0.788732   0.695652\n",
       "29    0.635  0.788732   0.717949\n",
       "30    0.650  0.781690   0.725490\n",
       "31    0.665  0.781690   0.750000\n",
       "32    0.680  0.781690   0.765517\n",
       "33    0.695  0.781690   0.781690\n",
       "34    0.710  0.781690   0.787234\n",
       "35    0.725  0.781690   0.804348\n",
       "36    0.740  0.781690   0.816176\n",
       "37    0.755  0.774648   0.839695\n",
       "38    0.770  0.774648   0.859375\n",
       "39    0.785  0.774648   0.866142\n",
       "40    0.800  0.767606   0.865079\n",
       "41    0.815  0.767606   0.872000\n",
       "42    0.830  0.753521   0.869919\n",
       "43    0.845  0.753521   0.884298\n",
       "44    0.860  0.753521   0.891667\n",
       "45    0.875  0.739437   0.897436\n",
       "46    0.890  0.739437   0.897436\n",
       "47    0.905  0.711268   0.893805\n",
       "48    0.920  0.711268   0.893805\n",
       "49    0.935  0.633803   0.891089"
      ]
     },
     "execution_count": 145,
     "metadata": {},
     "output_type": "execute_result"
    }
   ],
   "source": [
    "probs = pd.DataFrame(test_probabilities, columns=['prob_legit', 'prob_fraud'])\n",
    "probs['actual']=[i for i in y_test]\n",
    "probs.head()\n",
    "\n",
    "# # print \n",
    "def frange(start, stop, step):\n",
    "    i = start\n",
    "    while i < stop:\n",
    "        yield i\n",
    "        i += step\n",
    "\n",
    "names = ['cut_off', 'recall', 'precision']\n",
    "fraud_metrics = pd.DataFrame()\n",
    "\n",
    "# for loop to test different cut-off values\n",
    "for i in frange(.2,.95,.015):\n",
    "    probs['label'] = np.where(probs['prob_fraud'] >= i, 1, 0)\n",
    "    tn, fp, fn, tp = confusion_matrix(probs['actual'], probs['label']).ravel()\n",
    "    recall = tp/(tp+fn)\n",
    "    precision = tp/(tp+fp)\n",
    "    evals = [i,recall,precision]\n",
    "    fraud_metrics=fraud_metrics.append(pd.Series(evals), ignore_index=True)\n",
    "\n",
    "fraud_metrics.columns = names\n",
    "\n",
    "import matplotlib.pyplot as plt\n",
    "%matplotlib inline\n",
    "plt.style.use('seaborn-whitegrid')\n",
    "# plot the data\n",
    "plt.plot(fraud_metrics.recall, fraud_metrics.precision , '-', color='blue')\n",
    "plt.plot(fraud_metrics.recall, fraud_metrics.precision , 'o', color='black')\n",
    "# make some nice labels\n",
    "plt.title('Precision-Recall curve')\n",
    "plt.ylabel('Precision')\n",
    "plt.xlabel('Recall')\n",
    "plt.show()\n",
    "fraud_metrics"
   ]
  },
  {
   "cell_type": "code",
   "execution_count": null,
   "metadata": {},
   "outputs": [],
   "source": [
    "# Adam's Code\n",
    "\n",
    "# classifier = DecisionTreeClassifier(random_state=10)\n",
    "# classifier.fit(X_res, y_res)\n",
    "# y_pred = classifier.predict(X_test)\n",
    "\n",
    "# acc = accuracy_score(y_test,y_pred) * 100\n",
    "# print(\"Accuracy is : {}%\".format(round(acc, 2)))\n",
    "# #     # Check the AUC for predictions\n",
    "# false_positive_rate, true_positive_rate, thresholds = roc_curve(y_test, y_pred)\n",
    "# roc_auc = auc(false_positive_rate, true_positive_rate)\n",
    "# print(\"\\nAUC is :{0}\".format(round(roc_auc,2)))\n",
    "#     # Create and print a confusion matrix\n",
    "# print('\\nConfusion Matrix')\n",
    "# print('----------------')\n",
    "# pd.crosstab(y_test, y_pred, rownames=['True'], colnames=['Predicted'], margins=True)\n",
    "\n",
    "# # Train a DT classifier\n",
    "# classifier2 = DecisionTreeClassifier(random_state=10, criterion='entropy')\n",
    "# classifier2.fit(X_res, y_res)\n",
    "#     # Make predictions for test data\n",
    "# y_pred = classifier2.predict(X_test)\n",
    "#     # Calculate Accuracy\n",
    "# acc = accuracy_score(y_test,y_pred) * 100\n",
    "# print(\"Accuracy is :{0}\".format(acc))\n",
    "#     # Check the AUC for predictions\n",
    "# false_positive_rate, true_positive_rate, thresholds = roc_curve(y_test, y_pred)\n",
    "# roc_auc = auc(false_positive_rate, true_positive_rate)\n",
    "# print(\"\\nAUC is :{0}\".format(round(roc_auc,2)))\n",
    "#     # Create and print a confusion matrix\n",
    "# print('\\nConfusion Matrix')\n",
    "# print('----------------')\n",
    "# print(pd.crosstab(y_test, y_pred, rownames=['True'], colnames=['Predicted'], margins=True))\n",
    "\n",
    "\n",
    "# # Function for plotting feature importance\n",
    "# classifier2.feature_importances_ # How much does this feature reduce entropy\n",
    "#     # Function to show importance of each feature\n",
    "# def plot_feature_importances(model):\n",
    "#     '''plots the importance of each feature.  Useful for something like KNN so you can tell which features are useful '''\n",
    "#     n_features = X_train.shape[1]\n",
    "#     plt.figure(figsize=(8,8))\n",
    "#     plt.barh(range(n_features), model.feature_importances_, align='center')\n",
    "#     plt.yticks(np.arange(n_features), X_train.columns.values)\n",
    "#     plt.xlabel(\"Feature importance\")\n",
    "#     plt.ylabel(\"Feature\")\n",
    "# plot_feature_importances(classifier2)\n",
    "#     # confusion matrix print\n",
    "# pred = classifier2.predict(X_test)\n",
    "# print(confusion_matrix(y_test, pred))\n",
    "# print(classification_report(y_test, pred))\n",
    "\n",
    "# # Random Forest in code\n",
    "# forest = RandomForestClassifier(n_estimators=100, max_depth= 5)\n",
    "# forest.fit(X_train, y_train)\n",
    "# forest.score(X_train, y_train) # Accuracy of training data\n",
    "# forest.score(X_test, y_test) # Accuracy of test data\n",
    "# plot_feature_importances(forest) # plot using function above\n",
    "\n",
    "# # Fine Tune the model\n",
    "# forest_2 = RandomForestClassifier(n_estimators = 10, max_features= 2, max_depth= 2)\n",
    "# forest_2.fit(X_train, y_train)\n",
    "# forest_2.score(X_train, y_train) # Accuracy of training data\n",
    "# forest_2.score(X_test, y_test)  # Accuracy of test data\n",
    "\n",
    "# Use GridsearchCV to find the best Number\n",
    "from sklearn.model_selection import GridSearchCV\n",
    "param_grid = {'n_estimators': [30, 100, 300], 'min_samples_split': [2, 4, 6], 'min_samples_leaf': [2, 4, 6]}\n",
    "gs = GridSearchCV(RandomForestClassifier(), param_grid, cv=5)\n",
    "gs.fit(X_res, y_res)\n",
    "print('Mean accuracy on the given test data and labels:', gs.score(X_test, y_test))\n",
    "print('The best parameters are:', gs.best_params_)\n"
   ]
  },
  {
   "cell_type": "code",
   "execution_count": null,
   "metadata": {},
   "outputs": [],
   "source": []
  }
 ],
 "metadata": {
  "kernelspec": {
   "display_name": "Python 3",
   "language": "python",
   "name": "python3"
  },
  "language_info": {
   "codemirror_mode": {
    "name": "ipython",
    "version": 3
   },
   "file_extension": ".py",
   "mimetype": "text/x-python",
   "name": "python",
   "nbconvert_exporter": "python",
   "pygments_lexer": "ipython3",
   "version": "3.7.3"
  },
  "toc": {
   "base_numbering": 1,
   "nav_menu": {},
   "number_sections": true,
   "sideBar": true,
   "skip_h1_title": false,
   "title_cell": "Table of Contents",
   "title_sidebar": "Contents",
   "toc_cell": false,
   "toc_position": {},
   "toc_section_display": true,
   "toc_window_display": false
  },
  "varInspector": {
   "cols": {
    "lenName": 16,
    "lenType": 16,
    "lenVar": 40
   },
   "kernels_config": {
    "python": {
     "delete_cmd_postfix": "",
     "delete_cmd_prefix": "del ",
     "library": "var_list.py",
     "varRefreshCmd": "print(var_dic_list())"
    },
    "r": {
     "delete_cmd_postfix": ") ",
     "delete_cmd_prefix": "rm(",
     "library": "var_list.r",
     "varRefreshCmd": "cat(var_dic_list()) "
    }
   },
   "types_to_exclude": [
    "module",
    "function",
    "builtin_function_or_method",
    "instance",
    "_Feature"
   ],
   "window_display": false
  }
 },
 "nbformat": 4,
 "nbformat_minor": 2
}
