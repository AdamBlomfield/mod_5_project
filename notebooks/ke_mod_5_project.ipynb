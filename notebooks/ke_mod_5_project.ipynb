{
 "cells": [
  {
   "cell_type": "markdown",
   "metadata": {},
   "source": [
    "# Do Not Delete!"
   ]
  },
  {
   "cell_type": "code",
   "execution_count": 1,
   "metadata": {
    "tags": [
     "hidecode"
    ]
   },
   "outputs": [],
   "source": [
    "# DO NOT REMOVE THESE\n",
    "%load_ext autoreload\n",
    "%autoreload 2"
   ]
  },
  {
   "cell_type": "code",
   "execution_count": 2,
   "metadata": {},
   "outputs": [],
   "source": [
    "# DO NOT REMOVE This\n",
    "%reload_ext autoreload"
   ]
  },
  {
   "cell_type": "code",
   "execution_count": 3,
   "metadata": {},
   "outputs": [
    {
     "ename": "ModuleNotFoundError",
     "evalue": "No module named 'src'",
     "output_type": "error",
     "traceback": [
      "\u001b[0;31m---------------------------------------------------------------------------\u001b[0m",
      "\u001b[0;31mModuleNotFoundError\u001b[0m                       Traceback (most recent call last)",
      "\u001b[0;32m<ipython-input-3-7d1d23c96e1f>\u001b[0m in \u001b[0;36m<module>\u001b[0;34m\u001b[0m\n\u001b[1;32m      6\u001b[0m \u001b[0;31m#import src.base with alias to avoid namespace clashes\u001b[0m\u001b[0;34m\u001b[0m\u001b[0;34m\u001b[0m\u001b[0;34m\u001b[0m\u001b[0m\n\u001b[1;32m      7\u001b[0m \u001b[0;34m\u001b[0m\u001b[0m\n\u001b[0;32m----> 8\u001b[0;31m \u001b[0;32mfrom\u001b[0m \u001b[0msrc\u001b[0m \u001b[0;32mimport\u001b[0m \u001b[0mbase\u001b[0m \u001b[0;32mas\u001b[0m \u001b[0mfis\u001b[0m\u001b[0;34m\u001b[0m\u001b[0;34m\u001b[0m\u001b[0m\n\u001b[0m",
      "\u001b[0;31mModuleNotFoundError\u001b[0m: No module named 'src'"
     ]
    }
   ],
   "source": [
    "## DO NOT REMOVE\n",
    "## import local src module -\n",
    "## src in this project will contain all your local code\n",
    "## clean_data.py, model.py, visualize.py, custom.py\n",
    "\n",
    "#import src.base with alias to avoid namespace clashes\n",
    "\n",
    "from src import base as fis"
   ]
  },
  {
   "cell_type": "code",
   "execution_count": 4,
   "metadata": {},
   "outputs": [
    {
     "ename": "NameError",
     "evalue": "name 'fis' is not defined",
     "output_type": "error",
     "traceback": [
      "\u001b[0;31m---------------------------------------------------------------------------\u001b[0m",
      "\u001b[0;31mNameError\u001b[0m                                 Traceback (most recent call last)",
      "\u001b[0;32m<ipython-input-4-0372c7fe10ec>\u001b[0m in \u001b[0;36m<module>\u001b[0;34m\u001b[0m\n\u001b[0;32m----> 1\u001b[0;31m \u001b[0mfis\u001b[0m\u001b[0;34m.\u001b[0m\u001b[0mtest_base\u001b[0m\u001b[0;34m(\u001b[0m\u001b[0;34m)\u001b[0m\u001b[0;34m\u001b[0m\u001b[0;34m\u001b[0m\u001b[0m\n\u001b[0m",
      "\u001b[0;31mNameError\u001b[0m: name 'fis' is not defined"
     ]
    }
   ],
   "source": [
    "fis.test_base()"
   ]
  },
  {
   "cell_type": "markdown",
   "metadata": {},
   "source": [
    "# Import Libraries"
   ]
  },
  {
   "cell_type": "code",
   "execution_count": 25,
   "metadata": {
    "ExecuteTime": {
     "end_time": "2019-07-03T20:27:32.130251Z",
     "start_time": "2019-07-03T20:27:32.062161Z"
    }
   },
   "outputs": [],
   "source": [
    "# !pip install imblearn\n",
    "\n",
    "import pandas as pd\n",
    "import numpy as np\n",
    "\n",
    "# Visualization\n",
    "import matplotlib.pyplot as plt\n",
    "%matplotlib inline\n",
    "import seaborn as sns\n",
    "import pandas_profiling\n",
    "from sklearn.externals.six import StringIO\n",
    "from IPython.display import Image\n",
    "from sklearn.tree import export_graphviz\n",
    "import pydotplus\n",
    "\n",
    "# Warnings\n",
    "import warnings\n",
    "warnings.filterwarnings('ignore')\n",
    "\n",
    "# Data Preparation\n",
    "from sklearn.model_selection import train_test_split\n",
    "from sklearn.preprocessing import RobustScaler\n",
    "\n",
    "# Resampling Methods\n",
    "from imblearn.under_sampling import RandomUnderSampler\n",
    "from imblearn.over_sampling import SMOTE\n",
    "\n",
    "# Classifiers\n",
    "from sklearn.naive_bayes import GaussianNB\n",
    "from sklearn.neighbors import KNeighborsClassifier\n",
    "from sklearn.tree import DecisionTreeClassifier \n",
    "from sklearn.ensemble import RandomForestClassifier, AdaBoostClassifier, GradientBoostingClassifier \n",
    "from sklearn.linear_model import LogisticRegression\n",
    "\n",
    "from sklearn.svm import SVC, LinearSVC\n",
    "# Model Tuning and Cross Validation\n",
    "from imblearn.pipeline import make_pipeline, Pipeline\n",
    "from sklearn.model_selection import GridSearchCV\n",
    "\n",
    "# Model metrics\n",
    "from sklearn import metrics\n",
    "from sklearn.metrics import accuracy_score, confusion_matrix, classification_report, roc_curve, auc, precision_recall_curve\n",
    "\n"
   ]
  },
  {
   "cell_type": "markdown",
   "metadata": {},
   "source": [
    "# Functions"
   ]
  },
  {
   "cell_type": "code",
   "execution_count": 3,
   "metadata": {},
   "outputs": [],
   "source": [
    "def make_SMOTE_model(X_train, y_train, X_test, y_test, classifier):\n",
    "\n",
    "# make pipeline \n",
    "    smote = SMOTE(random_state=1)\n",
    "\n",
    "    pipe = make_pipeline(smote, classifier)\n",
    "    model = pipe.fit(X_train, y_train)\n",
    "\n",
    "# make predictions   \n",
    "    train_predictions = model.predict(X_train)\n",
    "    test_predictions = model.predict(X_test)\n",
    "\n",
    "# print scores  \n",
    "    print('Train Accuracy: ' + str(metrics.accuracy_score(y_train, train_predictions)))\n",
    "    print('Train Precision: ' + str(metrics.precision_score(y_train, train_predictions)))\n",
    "    print('Train Recall: ' + str(metrics.recall_score(y_train, train_predictions)))\n",
    "    print('Train F1: ' + str(metrics.f1_score(y_train, train_predictions)))\n",
    "    print('\\n')\n",
    "    print('Test Accuracy: ' + str(metrics.accuracy_score(y_test, test_predictions)))\n",
    "    print('Test Precision: ' + str(metrics.precision_score(y_test, test_predictions)))\n",
    "    print('Test Recall: ' + str(metrics.recall_score(y_test, test_predictions)))\n",
    "    print('Test F1: ' + str(metrics.f1_score(y_test, test_predictions)))\n",
    "    print('\\n')\n",
    "    \n",
    "# print confusion matrix    \n",
    "    cm = confusion_matrix(y_test, test_predictions)\n",
    "    sns.heatmap(cm.T, square=True, annot=True, fmt = 'g', cmap='RdBu', cbar=False, xticklabels=['legitimate', 'fraud'], yticklabels=['legitimate', 'fraud'])\n",
    "    plt.title('Confusion Matrix')\n",
    "    plt.xlabel('true label')\n",
    "    plt.ylabel('predicted label')\n",
    "    tn, fp, fn, tp = confusion_matrix(y_test, test_predictions).ravel()\n",
    "    print(\"Confusion Matrix:\",'\\nTN:', tn, 'FP:', fp, 'FN:', fn, 'TP:', tp)\n",
    "\n",
    "    return model\n"
   ]
  },
  {
   "cell_type": "markdown",
   "metadata": {},
   "source": [
    "# Data Importing"
   ]
  },
  {
   "cell_type": "code",
   "execution_count": 4,
   "metadata": {},
   "outputs": [],
   "source": [
    "# csv_name = '/Users/flatironschool/Desktop/Kelly/creditcard.csv'  #put as a string\n",
    "# df = pd.read_csv(csv_name)"
   ]
  },
  {
   "cell_type": "markdown",
   "metadata": {},
   "source": [
    "# Data Cleaning"
   ]
  },
  {
   "cell_type": "code",
   "execution_count": 5,
   "metadata": {},
   "outputs": [],
   "source": [
    "# Dropping duplicate rows\n",
    "# df.drop_duplicates(inplace=True)"
   ]
  },
  {
   "cell_type": "code",
   "execution_count": 6,
   "metadata": {},
   "outputs": [],
   "source": [
    "# creating time of day bins \n",
    "# secs_per_day = 86400\n",
    "# secs_per_hour = 3600\n",
    "# start = 3600 #1am\n",
    "# period1 = start + 3600*6 #1-7am\n",
    "# period2 = period1 + 3600*6 #7am-1pm\n",
    "# period3 = period2 + 3600*6 #1pm-7pm\n",
    "# period4 = period3 + 3600*5 #7am-12am"
   ]
  },
  {
   "cell_type": "code",
   "execution_count": 7,
   "metadata": {},
   "outputs": [],
   "source": [
    "# df['time_of_day']=df['Time'].apply(lambda x: x - secs_per_day if x >= secs_per_day else x)"
   ]
  },
  {
   "cell_type": "code",
   "execution_count": 8,
   "metadata": {},
   "outputs": [],
   "source": [
    "# df['time_of_day']=df['time_of_day'].apply(lambda x: 3 if x<start else x )\n",
    "# df['time_of_day']=df['time_of_day'].apply(lambda x: 0 if (x>=start) & (x<period1) else x )\n",
    "# df['time_of_day']=df['time_of_day'].apply(lambda x: 1 if (x>=period1) & (x<period2) else x )\n",
    "# df['time_of_day']=df['time_of_day'].apply(lambda x: 2 if (x>=period2) & (x<period3) else x )\n",
    "# df['time_of_day']=df['time_of_day'].apply(lambda x: 3 if (x>=period3) else x )"
   ]
  },
  {
   "cell_type": "code",
   "execution_count": 9,
   "metadata": {
    "scrolled": true
   },
   "outputs": [],
   "source": [
    "# df['time_of_day'][(df['time_of_day']<start)] = 3\n",
    "# df['time_of_day'][(df['time_of_day']>=start) & (df['time_of_day']<period1)] = 0\n",
    "# df['time_of_day'][(df['time_of_day']>=period1) & (df['time_of_day']<period2)] = 1\n",
    "# df['time_of_day'][(df['time_of_day']>=period2) & (df['time_of_day']<period3)] = 2\n",
    "# df['time_of_day'][(df['time_of_day']>=period3)] = 3"
   ]
  },
  {
   "cell_type": "code",
   "execution_count": 10,
   "metadata": {},
   "outputs": [],
   "source": [
    "# dropping the time column\n",
    "# df = df.drop(['Time'], axis=1)"
   ]
  },
  {
   "cell_type": "code",
   "execution_count": 11,
   "metadata": {},
   "outputs": [],
   "source": [
    "# get dummies on time of day column\n",
    "# x_feats = ['time_of_day']\n",
    "# df = pd.get_dummies(df, columns=x_feats)"
   ]
  },
  {
   "cell_type": "markdown",
   "metadata": {},
   "source": [
    "## Save cleaned dataframe"
   ]
  },
  {
   "cell_type": "code",
   "execution_count": 12,
   "metadata": {},
   "outputs": [],
   "source": [
    "# df.to_csv('../data/processed/cleaned_dataframe.csv.gz', compression='gzip', index=False)\n"
   ]
  },
  {
   "cell_type": "markdown",
   "metadata": {},
   "source": [
    "## Scale Amount column and save again"
   ]
  },
  {
   "cell_type": "code",
   "execution_count": 13,
   "metadata": {},
   "outputs": [],
   "source": [
    "# Scaling the Amount column\n",
    "# Note: Scaling for Logisitic Regression, but not for Random Forest Model\n",
    "\n",
    "# from sklearn.preprocessing import RobustScaler\n",
    "# rs = RobustScaler()\n",
    "# amount = pd.DataFrame(df['Amount'])\n",
    "# amount_scaled = rs.fit_transform(amount)\n",
    "# df['Amount']=amount_scaled"
   ]
  },
  {
   "cell_type": "code",
   "execution_count": 14,
   "metadata": {},
   "outputs": [],
   "source": [
    "# df.to_csv('../data/processed/cleaned_dataframe_scaled.csv.gz', compression='gzip', index=False)\n"
   ]
  },
  {
   "cell_type": "markdown",
   "metadata": {},
   "source": [
    "# Start with clean data"
   ]
  },
  {
   "cell_type": "code",
   "execution_count": 15,
   "metadata": {},
   "outputs": [
    {
     "name": "stdout",
     "output_type": "stream",
     "text": [
      "<class 'pandas.core.frame.DataFrame'>\n",
      "RangeIndex: 283726 entries, 0 to 283725\n",
      "Data columns (total 33 columns):\n",
      "V1                 283726 non-null float64\n",
      "V2                 283726 non-null float64\n",
      "V3                 283726 non-null float64\n",
      "V4                 283726 non-null float64\n",
      "V5                 283726 non-null float64\n",
      "V6                 283726 non-null float64\n",
      "V7                 283726 non-null float64\n",
      "V8                 283726 non-null float64\n",
      "V9                 283726 non-null float64\n",
      "V10                283726 non-null float64\n",
      "V11                283726 non-null float64\n",
      "V12                283726 non-null float64\n",
      "V13                283726 non-null float64\n",
      "V14                283726 non-null float64\n",
      "V15                283726 non-null float64\n",
      "V16                283726 non-null float64\n",
      "V17                283726 non-null float64\n",
      "V18                283726 non-null float64\n",
      "V19                283726 non-null float64\n",
      "V20                283726 non-null float64\n",
      "V21                283726 non-null float64\n",
      "V22                283726 non-null float64\n",
      "V23                283726 non-null float64\n",
      "V24                283726 non-null float64\n",
      "V25                283726 non-null float64\n",
      "V26                283726 non-null float64\n",
      "V27                283726 non-null float64\n",
      "V28                283726 non-null float64\n",
      "Amount             283726 non-null float64\n",
      "Class              283726 non-null int64\n",
      "time_of_day_1.0    283726 non-null int64\n",
      "time_of_day_2.0    283726 non-null int64\n",
      "time_of_day_3.0    283726 non-null int64\n",
      "dtypes: float64(29), int64(4)\n",
      "memory usage: 71.4 MB\n"
     ]
    }
   ],
   "source": [
    "df_cleaned = pd.read_csv('../data/processed/cleaned_dataframe.csv.gz', compression='gzip')\n",
    "df_cleaned_scaled = pd.read_csv('../data/processed/cleaned_dataframe_scaled.csv.gz', compression='gzip')\n",
    "df_cleaned.info()"
   ]
  },
  {
   "cell_type": "markdown",
   "metadata": {},
   "source": [
    "## Train-Test Split (without scaling)"
   ]
  },
  {
   "cell_type": "code",
   "execution_count": 16,
   "metadata": {},
   "outputs": [
    {
     "name": "stdout",
     "output_type": "stream",
     "text": [
      "No. of samples in each training set: 198608\n",
      "No. of samples in each test set: 85118\n"
     ]
    }
   ],
   "source": [
    "X = df_cleaned.drop(['Class'], axis=1)\n",
    "y = df_cleaned['Class']\n",
    "\n",
    "X_train, X_test, y_train, y_test = train_test_split(X, y, test_size=0.3, stratify=y, random_state=1)\n",
    "print(\"No. of samples in each training set:\", X_train.shape[0])\n",
    "print(\"No. of samples in each test set:\", X_test.shape[0])\n"
   ]
  },
  {
   "cell_type": "markdown",
   "metadata": {},
   "source": [
    "## Train-Test Split (with scaling)"
   ]
  },
  {
   "cell_type": "code",
   "execution_count": 17,
   "metadata": {},
   "outputs": [],
   "source": [
    "X = df_cleaned_scaled.drop(['Class'], axis=1)\n",
    "y = df_cleaned_scaled['Class']\n",
    "\n",
    "X_train_sc, X_test_sc, y_train_sc, y_test_sc = train_test_split(X, y, test_size=0.3, stratify=y, random_state=1)"
   ]
  },
  {
   "cell_type": "markdown",
   "metadata": {},
   "source": [
    "## Gaussian Bayes"
   ]
  },
  {
   "cell_type": "code",
   "execution_count": 17,
   "metadata": {},
   "outputs": [
    {
     "name": "stdout",
     "output_type": "stream",
     "text": [
      "Train Accuracy: 0.9754541609602836\n",
      "Train Precision: 0.05590304925723221\n",
      "Train Recall: 0.8640483383685801\n",
      "Train F1: 0.10501193317422433\n",
      "\n",
      "\n",
      "Test Accuracy: 0.9758218003242557\n",
      "Test Precision: 0.05441860465116279\n",
      "Test Recall: 0.823943661971831\n",
      "Test F1: 0.10209424083769635\n",
      "\n",
      "\n",
      "Confusion Matrix: \n",
      "TN: 82943 FP: 2033 FN: 25 TP: 117\n"
     ]
    },
    {
     "data": {
      "image/png": "[encoded data removed]",
      "text/plain": [
       "<Figure size 432x288 with 1 Axes>"
      ]
     },
     "metadata": {
      "needs_background": "light"
     },
     "output_type": "display_data"
    }
   ],
   "source": [
    "nb_smote_model = make_SMOTE_model(X_train, y_train, X_test, y_test, GaussianNB())"
   ]
  },
  {
   "cell_type": "markdown",
   "metadata": {},
   "source": [
    "## KNN"
   ]
  },
  {
   "cell_type": "code",
   "execution_count": 30,
   "metadata": {},
   "outputs": [
    {
     "name": "stdout",
     "output_type": "stream",
     "text": [
      "Train Accuracy: 0.9935702489325707\n",
      "Train Precision: 0.2058457711442786\n",
      "Train Recall: 1.0\n",
      "Train F1: 0.3414130995358432\n",
      "\n",
      "\n",
      "Test Accuracy: 0.9927277426631265\n",
      "Test Precision: 0.16361071932299012\n",
      "Test Recall: 0.8169014084507042\n",
      "Test F1: 0.27262044653349005\n",
      "\n",
      "\n",
      "Confusion Matrix: \n",
      "TN: 84383 FP: 593 FN: 26 TP: 116\n"
     ]
    },
    {
     "data": {
      "image/png": "[encoded data removed]",
      "text/plain": [
       "<Figure size 432x288 with 1 Axes>"
      ]
     },
     "metadata": {
      "needs_background": "light"
     },
     "output_type": "display_data"
    }
   ],
   "source": [
    "knn_smote_model = make_SMOTE_model(X_train_sc, y_train_sc, X_test_sc, y_test_sc, KNeighborsClassifier(n_neighbors=25, n_jobs=3))"
   ]
  },
  {
   "cell_type": "markdown",
   "metadata": {},
   "source": [
    "## Logistic Regression"
   ]
  },
  {
   "cell_type": "code",
   "execution_count": 234,
   "metadata": {},
   "outputs": [
    {
     "name": "stdout",
     "output_type": "stream",
     "text": [
      "Train Accuracy: 0.9311407395472489\n",
      "Train Precision: 0.022745154137758388\n",
      "Train Recall: 0.9607250755287009\n",
      "Train F1: 0.04443823365008385\n",
      "\n",
      "\n",
      "Test Accuracy: 0.9320120303578562\n",
      "Test Precision: 0.02152907272419054\n",
      "Test Recall: 0.8943661971830986\n",
      "Test F1: 0.04204601887104784\n",
      "\n",
      "\n",
      "Confusion Matrix: \n",
      "TN: 79204 FP: 5772 FN: 15 TP: 127\n"
     ]
    },
    {
     "data": {
      "text/plain": [
       "Pipeline(memory=None,\n",
       "         steps=[('smote',\n",
       "                 SMOTE(k_neighbors=5, kind='deprecated',\n",
       "                       m_neighbors='deprecated', n_jobs=1,\n",
       "                       out_step='deprecated', random_state=1, ratio=None,\n",
       "                       sampling_strategy='auto', svm_estimator='deprecated')),\n",
       "                ('logisticregression',\n",
       "                 LogisticRegression(C=1000000000000.0,\n",
       "                                    class_weight={0: 1, 1: 3}, dual=False,\n",
       "                                    fit_intercept=False, intercept_scaling=1,\n",
       "                                    l1_ratio=None, max_iter=100,\n",
       "                                    multi_class='warn', n_jobs=None,\n",
       "                                    penalty='l2', random_state=None,\n",
       "                                    solver='warn', tol=0.0001, verbose=0,\n",
       "                                    warm_start=False))],\n",
       "         verbose=False)"
      ]
     },
     "execution_count": 234,
     "metadata": {},
     "output_type": "execute_result"
    },
    {
     "data": {
      "image/png": "[encoded data removed]",
      "text/plain": [
       "<Figure size 432x288 with 1 Axes>"
      ]
     },
     "metadata": {},
     "output_type": "display_data"
    }
   ],
   "source": [
    "make_SMOTE_model(X_train_sc, y_train_sc, X_test_sc, y_test_sc, LogisticRegression(fit_intercept = False, C = 1e12, class_weight={0: 1, 1: 3}))"
   ]
  },
  {
   "cell_type": "markdown",
   "metadata": {},
   "source": [
    "## SVM"
   ]
  },
  {
   "cell_type": "code",
   "execution_count": 27,
   "metadata": {},
   "outputs": [
    {
     "name": "stdout",
     "output_type": "stream",
     "text": [
      "Train Accuracy: 0.9514269314428422\n",
      "Train Precision: 0.03148259907463287\n",
      "Train Recall: 0.945619335347432\n",
      "Train F1: 0.060936435315876565\n",
      "\n",
      "\n",
      "Test Accuracy: 0.9520195493315162\n",
      "Test Precision: 0.030042918454935622\n",
      "Test Recall: 0.8873239436619719\n",
      "Test F1: 0.058118081180811805\n",
      "\n",
      "\n",
      "Confusion Matrix: \n",
      "TN: 80908 FP: 4068 FN: 16 TP: 126\n"
     ]
    },
    {
     "data": {
      "text/plain": [
       "Pipeline(memory=None,\n",
       "         steps=[('smote',\n",
       "                 SMOTE(k_neighbors=5, kind='deprecated',\n",
       "                       m_neighbors='deprecated', n_jobs=1,\n",
       "                       out_step='deprecated', random_state=1, ratio=None,\n",
       "                       sampling_strategy='auto', svm_estimator='deprecated')),\n",
       "                ('linearsvc',\n",
       "                 LinearSVC(C=1.0, class_weight={0: 1, 1: 2}, dual=True,\n",
       "                           fit_intercept=True, intercept_scaling=1,\n",
       "                           loss='squared_hinge', max_iter=1000,\n",
       "                           multi_class='ovr', penalty='l2', random_state=None,\n",
       "                           tol=0.0001, verbose=0))],\n",
       "         verbose=False)"
      ]
     },
     "execution_count": 27,
     "metadata": {},
     "output_type": "execute_result"
    },
    {
     "data": {
      "image/png": "[encoded data removed]",
      "text/plain": [
       "<Figure size 432x288 with 1 Axes>"
      ]
     },
     "metadata": {
      "needs_background": "light"
     },
     "output_type": "display_data"
    }
   ],
   "source": [
    "X_train_sv = X_train_sc.values\n",
    "y_train_sv = y_train_sc.values.ravel()\n",
    "X_test_sv = X_test_sc.values\n",
    "y_test_sv = y_test_sc.values.ravel()\n",
    "\n",
    "make_SMOTE_model(X_train_sv, y_train_sv, X_test_sv, y_test_sv, LinearSVC(class_weight={0: 1, 1: 2}))"
   ]
  },
  {
   "cell_type": "markdown",
   "metadata": {},
   "source": [
    "# AdaBoost"
   ]
  },
  {
   "cell_type": "code",
   "execution_count": 28,
   "metadata": {},
   "outputs": [
    {
     "name": "stdout",
     "output_type": "stream",
     "text": [
      "Train Accuracy: 0.9870246918553129\n",
      "Train Precision: 0.10761705101327743\n",
      "Train Recall: 0.9305135951661632\n",
      "Train F1: 0.19292201691199498\n",
      "\n",
      "\n",
      "Test Accuracy: 0.9870297704363354\n",
      "Test Precision: 0.09849749582637729\n",
      "Test Recall: 0.8309859154929577\n",
      "Test F1: 0.1761194029850746\n",
      "\n",
      "\n",
      "Confusion Matrix: \n",
      "TN: 83896 FP: 1080 FN: 24 TP: 118\n"
     ]
    },
    {
     "data": {
      "text/plain": [
       "Pipeline(memory=None,\n",
       "         steps=[('smote',\n",
       "                 SMOTE(k_neighbors=5, kind='deprecated',\n",
       "                       m_neighbors='deprecated', n_jobs=1,\n",
       "                       out_step='deprecated', random_state=1, ratio=None,\n",
       "                       sampling_strategy='auto', svm_estimator='deprecated')),\n",
       "                ('adaboostclassifier',\n",
       "                 AdaBoostClassifier(algorithm='SAMME.R', base_estimator=None,\n",
       "                                    learning_rate=1.0, n_estimators=50,\n",
       "                                    random_state=None))],\n",
       "         verbose=False)"
      ]
     },
     "execution_count": 28,
     "metadata": {},
     "output_type": "execute_result"
    },
    {
     "data": {
      "image/png": "[encoded data removed]",
      "text/plain": [
       "<Figure size 432x288 with 1 Axes>"
      ]
     },
     "metadata": {
      "needs_background": "light"
     },
     "output_type": "display_data"
    }
   ],
   "source": [
    "make_SMOTE_model(X_train, y_train, X_test, y_test, AdaBoostClassifier())"
   ]
  },
  {
   "cell_type": "markdown",
   "metadata": {},
   "source": [
    "# Gradient Boosting"
   ]
  },
  {
   "cell_type": "code",
   "execution_count": 29,
   "metadata": {},
   "outputs": [
    {
     "name": "stdout",
     "output_type": "stream",
     "text": [
      "Train Accuracy: 0.9934997583178925\n",
      "Train Precision: 0.198870765370138\n",
      "Train Recall: 0.9577039274924471\n",
      "Train F1: 0.3293506493506494\n",
      "\n",
      "\n",
      "Test Accuracy: 0.9936911111633262\n",
      "Test Precision: 0.18600953895071543\n",
      "Test Recall: 0.823943661971831\n",
      "Test F1: 0.3035019455252918\n",
      "\n",
      "\n",
      "Confusion Matrix: \n",
      "TN: 84464 FP: 512 FN: 25 TP: 117\n"
     ]
    },
    {
     "data": {
      "text/plain": [
       "Pipeline(memory=None,\n",
       "         steps=[('smote',\n",
       "                 SMOTE(k_neighbors=5, kind='deprecated',\n",
       "                       m_neighbors='deprecated', n_jobs=1,\n",
       "                       out_step='deprecated', random_state=1, ratio=None,\n",
       "                       sampling_strategy='auto', svm_estimator='deprecated')),\n",
       "                ('gradientboostingclassifier',\n",
       "                 GradientBoostingClassifier(criterion='friedman_mse', init=None,\n",
       "                                            learning_rate=0.1, loss='deviance',\n",
       "                                            max_depth=3, max_features=None,\n",
       "                                            max_leaf_nodes=None,\n",
       "                                            min_impurity_decrease=0.0,\n",
       "                                            min_impurity_split=None,\n",
       "                                            min_samples_leaf=1,\n",
       "                                            min_samples_split=2,\n",
       "                                            min_weight_fraction_leaf=0.0,\n",
       "                                            n_estimators=100,\n",
       "                                            n_iter_no_change=None,\n",
       "                                            presort='auto', random_state=None,\n",
       "                                            subsample=1.0, tol=0.0001,\n",
       "                                            validation_fraction=0.1, verbose=0,\n",
       "                                            warm_start=False))],\n",
       "         verbose=False)"
      ]
     },
     "execution_count": 29,
     "metadata": {},
     "output_type": "execute_result"
    },
    {
     "data": {
      "image/png": "[encoded data removed]",
      "text/plain": [
       "<Figure size 432x288 with 1 Axes>"
      ]
     },
     "metadata": {
      "needs_background": "light"
     },
     "output_type": "display_data"
    }
   ],
   "source": [
    "make_SMOTE_model(X_train, y_train, X_test, y_test, GradientBoostingClassifier())"
   ]
  },
  {
   "cell_type": "markdown",
   "metadata": {},
   "source": [
    "## Random Forest"
   ]
  },
  {
   "cell_type": "code",
   "execution_count": 45,
   "metadata": {},
   "outputs": [
    {
     "name": "stdout",
     "output_type": "stream",
     "text": [
      "Train Accuracy: 0.9987966245065657\n",
      "Train Precision: 0.5807017543859649\n",
      "Train Recall: 1.0\n",
      "Train F1: 0.7347391786903441\n",
      "\n",
      "\n",
      "Test Accuracy: 0.9984492116826054\n",
      "Test Precision: 0.5225225225225225\n",
      "Test Recall: 0.8169014084507042\n",
      "Test F1: 0.6373626373626373\n",
      "\n",
      "\n",
      "Confusion Matrix: \n",
      "TN: 84870 FP: 106 FN: 26 TP: 116\n"
     ]
    },
    {
     "data": {
      "image/png": "[encoded data removed]",
      "text/plain": [
       "<Figure size 432x288 with 1 Axes>"
      ]
     },
     "metadata": {},
     "output_type": "display_data"
    }
   ],
   "source": [
    "rm_smote_model = make_SMOTE_model(X_train, y_train, X_test, y_test, RandomForestClassifier(max_depth=12, n_estimators=30, class_weight={0: 1, 1: 2}))\n",
    "\n"
   ]
  },
  {
   "cell_type": "code",
   "execution_count": 237,
   "metadata": {},
   "outputs": [
    {
     "data": {
      "text/plain": [
       "array([[9.67151685e-01, 3.28483148e-02],\n",
       "       [9.99691885e-01, 3.08114679e-04],\n",
       "       [9.98298441e-01, 1.70155888e-03],\n",
       "       ...,\n",
       "       [9.99766774e-01, 2.33225720e-04],\n",
       "       [9.90818979e-01, 9.18102052e-03],\n",
       "       [9.90220593e-01, 9.77940675e-03]])"
      ]
     },
     "execution_count": 237,
     "metadata": {},
     "output_type": "execute_result"
    }
   ],
   "source": [
    "pred_proba = rm_smote_model.predict_proba(X_train)\n",
    "pred_proba"
   ]
  },
  {
   "cell_type": "code",
   "execution_count": 238,
   "metadata": {},
   "outputs": [
    {
     "data": {
      "text/html": [
       "<div>\n",
       "<style scoped>\n",
       "    .dataframe tbody tr th:only-of-type {\n",
       "        vertical-align: middle;\n",
       "    }\n",
       "\n",
       "    .dataframe tbody tr th {\n",
       "        vertical-align: top;\n",
       "    }\n",
       "\n",
       "    .dataframe thead th {\n",
       "        text-align: right;\n",
       "    }\n",
       "</style>\n",
       "<table border=\"1\" class=\"dataframe\">\n",
       "  <thead>\n",
       "    <tr style=\"text-align: right;\">\n",
       "      <th></th>\n",
       "      <th>prob_legit</th>\n",
       "      <th>prob_fraud</th>\n",
       "      <th>actual</th>\n",
       "    </tr>\n",
       "  </thead>\n",
       "  <tbody>\n",
       "    <tr>\n",
       "      <th>0</th>\n",
       "      <td>0.967152</td>\n",
       "      <td>0.032848</td>\n",
       "      <td>0</td>\n",
       "    </tr>\n",
       "    <tr>\n",
       "      <th>1</th>\n",
       "      <td>0.999692</td>\n",
       "      <td>0.000308</td>\n",
       "      <td>0</td>\n",
       "    </tr>\n",
       "    <tr>\n",
       "      <th>2</th>\n",
       "      <td>0.998298</td>\n",
       "      <td>0.001702</td>\n",
       "      <td>0</td>\n",
       "    </tr>\n",
       "    <tr>\n",
       "      <th>3</th>\n",
       "      <td>0.972016</td>\n",
       "      <td>0.027984</td>\n",
       "      <td>0</td>\n",
       "    </tr>\n",
       "    <tr>\n",
       "      <th>4</th>\n",
       "      <td>0.994362</td>\n",
       "      <td>0.005638</td>\n",
       "      <td>0</td>\n",
       "    </tr>\n",
       "  </tbody>\n",
       "</table>\n",
       "</div>"
      ],
      "text/plain": [
       "   prob_legit  prob_fraud  actual\n",
       "0    0.967152    0.032848       0\n",
       "1    0.999692    0.000308       0\n",
       "2    0.998298    0.001702       0\n",
       "3    0.972016    0.027984       0\n",
       "4    0.994362    0.005638       0"
      ]
     },
     "execution_count": 238,
     "metadata": {},
     "output_type": "execute_result"
    }
   ],
   "source": [
    "probs = pd.DataFrame(pred_proba, columns=['prob_legit', 'prob_fraud'])\n",
    "probs['actual']=[i for i in y_train]\n",
    "probs.head()"
   ]
  },
  {
   "cell_type": "code",
   "execution_count": 239,
   "metadata": {},
   "outputs": [
    {
     "data": {
      "image/png": "[encoded data removed]",
      "text/plain": [
       "<Figure size 432x288 with 1 Axes>"
      ]
     },
     "metadata": {},
     "output_type": "display_data"
    }
   ],
   "source": [
    "def frange(start, stop, step):\n",
    "    i = start\n",
    "    while i < stop:\n",
    "        yield i\n",
    "        i += step\n",
    "\n",
    "names = ['cut_off', 'recall', 'precision']\n",
    "fraud_metrics = pd.DataFrame()\n",
    "\n",
    "# for loop to test different cut-off values\n",
    "for i in frange(.2,.95,.015):\n",
    "    probs['label'] = np.where(probs['prob_fraud'] >= i, 1, 0)\n",
    "    tn, fp, fn, tp = confusion_matrix(probs['actual'], probs['label']).ravel()\n",
    "    recall = tp/(tp+fn)\n",
    "    precision = tp/(tp+fp)\n",
    "    evals = [i,recall,precision]\n",
    "    fraud_metrics=fraud_metrics.append(pd.Series(evals), ignore_index=True)\n",
    "\n",
    "fraud_metrics.columns = names\n",
    "\n",
    "import matplotlib.pyplot as plt\n",
    "%matplotlib inline\n",
    "plt.style.use('seaborn-whitegrid')\n",
    "# plot the data\n",
    "plt.plot(fraud_metrics.recall, fraud_metrics.precision , '-', color='black')\n",
    "plt.plot(fraud_metrics.recall, fraud_metrics.precision , 'o', color='blue')\n",
    "\n",
    "# make some nice labels\n",
    "plt.title('Precision-Recall curve')\n",
    "plt.ylabel('Precision')\n",
    "plt.xlabel('Recall')\n",
    "plt.show()\n"
   ]
  },
  {
   "cell_type": "markdown",
   "metadata": {},
   "source": [
    "## Gridsearch to find model with best parameters"
   ]
  },
  {
   "cell_type": "code",
   "execution_count": 29,
   "metadata": {},
   "outputs": [
    {
     "data": {
      "text/plain": [
       "dict_keys(['bootstrap', 'class_weight', 'criterion', 'max_depth', 'max_features', 'max_leaf_nodes', 'min_impurity_decrease', 'min_impurity_split', 'min_samples_leaf', 'min_samples_split', 'min_weight_fraction_leaf', 'n_estimators', 'n_jobs', 'oob_score', 'random_state', 'verbose', 'warm_start'])"
      ]
     },
     "execution_count": 29,
     "metadata": {},
     "output_type": "execute_result"
    }
   ],
   "source": [
    "RandomForestClassifier().get_params().keys()"
   ]
  },
  {
   "cell_type": "code",
   "execution_count": 30,
   "metadata": {
    "scrolled": false
   },
   "outputs": [
    {
     "data": {
      "text/plain": [
       "GridSearchCV(cv=5, error_score='raise-deprecating',\n",
       "             estimator=Pipeline(memory=None,\n",
       "                                steps=[('smote',\n",
       "                                        SMOTE(k_neighbors=5, kind='deprecated',\n",
       "                                              m_neighbors='deprecated',\n",
       "                                              n_jobs=1, out_step='deprecated',\n",
       "                                              random_state=1, ratio=None,\n",
       "                                              sampling_strategy='auto',\n",
       "                                              svm_estimator='deprecated')),\n",
       "                                       ('classifier',\n",
       "                                        RandomForestClassifier(bootstrap=True,\n",
       "                                                               class_weight={0: 1,\n",
       "                                                                             1: 2},\n",
       "                                                               crit...\n",
       "                                                               min_samples_leaf=1,\n",
       "                                                               min_samples_split=2,\n",
       "                                                               min_weight_fraction_leaf=0.0,\n",
       "                                                               n_estimators=30,\n",
       "                                                               n_jobs=3,\n",
       "                                                               oob_score=False,\n",
       "                                                               random_state=None,\n",
       "                                                               verbose=0,\n",
       "                                                               warm_start=False))],\n",
       "                                verbose=False),\n",
       "             iid='warn', n_jobs=None,\n",
       "             param_grid={'classifier__max_depth': [10, 12],\n",
       "                         'classifier__min_samples_split': [8, 10]},\n",
       "             pre_dispatch='2*n_jobs', refit=True, return_train_score=False,\n",
       "             scoring='f1', verbose=0)"
      ]
     },
     "execution_count": 30,
     "metadata": {},
     "output_type": "execute_result"
    }
   ],
   "source": [
    "smote = SMOTE(random_state=1)\n",
    "classifier = RandomForestClassifier(class_weight={0: 1, 1: 2}, n_estimators=30, n_jobs=3)\n",
    "\n",
    "from imblearn.pipeline import Pipeline\n",
    "\n",
    "pipe = Pipeline([('smote', smote), ('classifier', classifier)])\n",
    "\n",
    "param_grid = {\n",
    "    \n",
    "#     'classifier__criterion': ['gini', 'entropy'],\n",
    "    'classifier__max_depth': [10, 12],\n",
    "    'classifier__min_samples_split': [8, 10],\n",
    "}\n",
    "\n",
    "gs = GridSearchCV(pipe, param_grid, cv = 5, scoring='f1')\n",
    "gs.fit(X_train, y_train)\n"
   ]
  },
  {
   "cell_type": "code",
   "execution_count": 31,
   "metadata": {},
   "outputs": [
    {
     "data": {
      "text/plain": [
       "{'classifier__max_depth': 12, 'classifier__min_samples_split': 10}"
      ]
     },
     "execution_count": 31,
     "metadata": {},
     "output_type": "execute_result"
    }
   ],
   "source": [
    "gs.best_params_"
   ]
  },
  {
   "cell_type": "code",
   "execution_count": 32,
   "metadata": {},
   "outputs": [
    {
     "data": {
      "text/plain": [
       "array([[9.91118833e-01, 8.88116696e-03],\n",
       "       [9.99899405e-01, 1.00595430e-04],\n",
       "       [9.77764885e-01, 2.22351146e-02],\n",
       "       ...,\n",
       "       [9.95076509e-01, 4.92349058e-03],\n",
       "       [9.34947349e-01, 6.50526510e-02],\n",
       "       [9.92169401e-01, 7.83059932e-03]])"
      ]
     },
     "execution_count": 32,
     "metadata": {},
     "output_type": "execute_result"
    }
   ],
   "source": [
    "test_predictions = gs.predict(X_test)\n",
    "test_probabilities = gs.predict_proba(X_test)\n",
    "test_probabilities"
   ]
  },
  {
   "cell_type": "code",
   "execution_count": 33,
   "metadata": {},
   "outputs": [
    {
     "name": "stdout",
     "output_type": "stream",
     "text": [
      "Test Accuracy: 0.9978382950727226\n",
      "Test Precision: 0.4227941176470588\n",
      "Test Recall: 0.8098591549295775\n",
      "Test F1: 0.5555555555555555\n",
      "\n",
      "\n",
      "Confusion Matrix: \n",
      "TN: 84819 FP: 157 FN: 27 TP: 115\n"
     ]
    },
    {
     "data": {
      "image/png": "[encoded data removed]",
      "text/plain": [
       "<Figure size 432x288 with 1 Axes>"
      ]
     },
     "metadata": {
      "needs_background": "light"
     },
     "output_type": "display_data"
    }
   ],
   "source": [
    "print('Test Accuracy: ' + str(metrics.accuracy_score(y_test, test_predictions)))\n",
    "print('Test Precision: ' + str(metrics.precision_score(y_test, test_predictions)))\n",
    "print('Test Recall: ' + str(metrics.recall_score(y_test, test_predictions)))\n",
    "print('Test F1: ' + str(metrics.f1_score(y_test, test_predictions)))\n",
    "print('\\n')\n",
    "    \n",
    "\n",
    "# print confusion matrix    \n",
    "cm = confusion_matrix(y_test, test_predictions)\n",
    "sns.heatmap(cm.T, square=True, annot=True, fmt = 'g', cmap='RdBu', cbar=False, xticklabels=['legitimate', 'fraud'], yticklabels=['legitimate', 'fraud'])\n",
    "plt.title('Confusion Matrix:\\n Random Forest Model')\n",
    "plt.xlabel('true label')\n",
    "plt.ylabel('predicted label')\n",
    "plt.savefig('cm_randomforest')\n",
    "\n",
    "tn, fp, fn, tp = confusion_matrix(y_test, test_predictions).ravel()\n",
    "print(\"Confusion Matrix:\",'\\nTN:', tn, 'FP:', fp, 'FN:', fn, 'TP:', tp)"
   ]
  },
  {
   "cell_type": "code",
   "execution_count": 44,
   "metadata": {},
   "outputs": [
    {
     "data": {
      "image/png": "[encoded data removed]",
      "text/plain": [
       "<Figure size 432x288 with 1 Axes>"
      ]
     },
     "metadata": {},
     "output_type": "display_data"
    },
    {
     "data": {
      "text/plain": [
       "<Figure size 432x288 with 0 Axes>"
      ]
     },
     "metadata": {},
     "output_type": "display_data"
    }
   ],
   "source": [
    "probs = pd.DataFrame(test_probabilities, columns=['prob_legit', 'prob_fraud'])\n",
    "probs['actual']=[i for i in y_test]\n",
    "probs.head()\n",
    "\n",
    "# # print \n",
    "def frange(start, stop, step):\n",
    "    i = start\n",
    "    while i < stop:\n",
    "        yield i\n",
    "        i += step\n",
    "\n",
    "names = ['cut_off', 'recall', 'precision']\n",
    "fraud_metrics = pd.DataFrame()\n",
    "\n",
    "# for loop to test different cut-off values\n",
    "for i in frange(.2,.95,.015):\n",
    "    probs['label'] = np.where(probs['prob_fraud'] >= i, 1, 0)\n",
    "    tn, fp, fn, tp = confusion_matrix(probs['actual'], probs['label']).ravel()\n",
    "    recall = tp/(tp+fn)\n",
    "    precision = tp/(tp+fp)\n",
    "    evals = [i,recall,precision]\n",
    "    fraud_metrics=fraud_metrics.append(pd.Series(evals), ignore_index=True)\n",
    "\n",
    "fraud_metrics.columns = names\n",
    "\n",
    "import matplotlib.pyplot as plt\n",
    "%matplotlib inline\n",
    "plt.style.use('seaborn-whitegrid')\n",
    "# plot the data\n",
    "plt.plot(fraud_metrics.recall, fraud_metrics.precision , '-', color='blue')\n",
    "plt.plot(fraud_metrics.recall, fraud_metrics.precision , 'o', color='black')\n",
    "# make some nice labels\n",
    "plt.title('Precision-Recall curve')\n",
    "plt.ylabel('Precision')\n",
    "plt.xlabel('Recall')\n",
    "plt.show()\n",
    "plt.savefig('pr_curve')"
   ]
  },
  {
   "cell_type": "code",
   "execution_count": 35,
   "metadata": {},
   "outputs": [],
   "source": [
    "pred_vs_actual = pd.DataFrame({\"Amount\": X_test['Amount'], \"Predicted\": test_predictions, \"Actual\": [i for i in y_test]})"
   ]
  },
  {
   "cell_type": "code",
   "execution_count": 36,
   "metadata": {},
   "outputs": [
    {
     "data": {
      "text/plain": [
       "count      27.000000\n",
       "mean      158.643704\n",
       "std       435.794412\n",
       "min         0.000000\n",
       "25%         2.070000\n",
       "50%         8.000000\n",
       "75%        43.780000\n",
       "max      2125.870000\n",
       "Name: Amount, dtype: float64"
      ]
     },
     "execution_count": 36,
     "metadata": {},
     "output_type": "execute_result"
    }
   ],
   "source": [
    "pred_vs_actual.loc[(pred_vs_actual['Predicted']==0) & (pred_vs_actual['Actual']==1)]['Amount'].describe()"
   ]
  },
  {
   "cell_type": "code",
   "execution_count": 37,
   "metadata": {},
   "outputs": [
    {
     "data": {
      "text/plain": [
       "array([[0.91343298, 0.08656702]])"
      ]
     },
     "execution_count": 37,
     "metadata": {},
     "output_type": "execute_result"
    }
   ],
   "source": [
    "max_amount = df_cleaned.loc[df_cleaned['Amount']==2125.87]\n",
    "max_amount = max_amount.drop(['Class'], axis=1)\n",
    "gs.predict_proba(max_amount)"
   ]
  },
  {
   "cell_type": "markdown",
   "metadata": {},
   "source": [
    "## Gridsearch to find model with best parameters(manual change of threshhold)"
   ]
  },
  {
   "cell_type": "code",
   "execution_count": 75,
   "metadata": {},
   "outputs": [
    {
     "data": {
      "text/plain": [
       "GridSearchCV(cv=5, error_score='raise-deprecating',\n",
       "             estimator=Pipeline(memory=None,\n",
       "                                steps=[('smote',\n",
       "                                        SMOTE(k_neighbors=5, kind='deprecated',\n",
       "                                              m_neighbors='deprecated',\n",
       "                                              n_jobs=1, out_step='deprecated',\n",
       "                                              random_state=1, ratio=None,\n",
       "                                              sampling_strategy='auto',\n",
       "                                              svm_estimator='deprecated')),\n",
       "                                       ('classifier',\n",
       "                                        RandomForestClassifier(bootstrap=True,\n",
       "                                                               class_weight=None,\n",
       "                                                               criterion...\n",
       "                                                               min_samples_leaf=1,\n",
       "                                                               min_samples_split=2,\n",
       "                                                               min_weight_fraction_leaf=0.0,\n",
       "                                                               n_estimators=30,\n",
       "                                                               n_jobs=3,\n",
       "                                                               oob_score=False,\n",
       "                                                               random_state=None,\n",
       "                                                               verbose=0,\n",
       "                                                               warm_start=False))],\n",
       "                                verbose=False),\n",
       "             iid='warn', n_jobs=None,\n",
       "             param_grid={'classifier__max_depth': [10, 12],\n",
       "                         'classifier__min_samples_split': [8, 10]},\n",
       "             pre_dispatch='2*n_jobs', refit=True, return_train_score=False,\n",
       "             scoring='f1', verbose=0)"
      ]
     },
     "execution_count": 75,
     "metadata": {},
     "output_type": "execute_result"
    }
   ],
   "source": [
    "smote = SMOTE(random_state=1)\n",
    "classifier = RandomForestClassifier(n_estimators=30, n_jobs=3)\n",
    "\n",
    "from imblearn.pipeline import Pipeline\n",
    "\n",
    "pipe = Pipeline([('smote', smote), ('classifier', classifier)])\n",
    "\n",
    "param_grid = {\n",
    "    \n",
    "#     'classifier__criterion': ['gini', 'entropy'],\n",
    "    'classifier__max_depth': [10, 12],\n",
    "    'classifier__min_samples_split': [8, 10],\n",
    "}\n",
    "\n",
    "gs2 = GridSearchCV(pipe, param_grid, cv = 5, scoring='f1')\n",
    "gs2.fit(X_train, y_train)"
   ]
  },
  {
   "cell_type": "code",
   "execution_count": 76,
   "metadata": {},
   "outputs": [
    {
     "data": {
      "text/plain": [
       "{'classifier__max_depth': 12, 'classifier__min_samples_split': 10}"
      ]
     },
     "execution_count": 76,
     "metadata": {},
     "output_type": "execute_result"
    }
   ],
   "source": [
    "gs2.best_params_"
   ]
  },
  {
   "cell_type": "code",
   "execution_count": 241,
   "metadata": {},
   "outputs": [],
   "source": [
    "test_predictions2 = gs2.predict(X_test)\n",
    "test_probabilities2 = gs2.predict_proba(X_test)"
   ]
  },
  {
   "cell_type": "code",
   "execution_count": 248,
   "metadata": {},
   "outputs": [],
   "source": [
    "# threshold .33 chance of fraud\n",
    "probs2 = pd.DataFrame(test_probabilities2, columns=['prob_legit', 'prob_fraud'])\n",
    "probs2['predicted'] = probs2['prob_fraud'].apply(lambda x: 1 if x>0.33 else 0)"
   ]
  },
  {
   "cell_type": "code",
   "execution_count": 249,
   "metadata": {},
   "outputs": [
    {
     "name": "stdout",
     "output_type": "stream",
     "text": [
      "Test Accuracy: 0.9977090627129397\n",
      "Test Precision: 0.4070175438596491\n",
      "Test Recall: 0.8169014084507042\n",
      "Test F1: 0.5433255269320844\n",
      "\n",
      "\n",
      "Confusion Matrix: \n",
      "TN: 84807 FP: 169 FN: 26 TP: 116\n"
     ]
    },
    {
     "data": {
      "image/png": "[encoded data removed]",
      "text/plain": [
       "<Figure size 432x288 with 1 Axes>"
      ]
     },
     "metadata": {},
     "output_type": "display_data"
    }
   ],
   "source": [
    "# print confusion matrix  \n",
    "\n",
    "print('Test Accuracy: ' + str(metrics.accuracy_score(y_test, probs2['predicted'])))\n",
    "print('Test Precision: ' + str(metrics.precision_score(y_test, probs2['predicted'])))\n",
    "print('Test Recall: ' + str(metrics.recall_score(y_test, probs2['predicted'])))\n",
    "print('Test F1: ' + str(metrics.f1_score(y_test, probs2['predicted'])))\n",
    "print('\\n')\n",
    "\n",
    "cm = confusion_matrix(y_test, probs2['predicted'])\n",
    "sns.heatmap(cm.T, square=True, annot=True, fmt = 'g', cmap='RdBu', cbar=False, xticklabels=['legitimate', 'fraud'], yticklabels=['legitimate', 'fraud'])\n",
    "plt.title('Confusion Matrix:\\n Random Forest Model')\n",
    "plt.xlabel('true label')\n",
    "plt.ylabel('predicted label')\n",
    "\n",
    "tn, fp, fn, tp = confusion_matrix(y_test, probs2['predicted']).ravel()\n",
    "print(\"Confusion Matrix:\",'\\nTN:', tn, 'FP:', fp, 'FN:', fn, 'TP:', tp)"
   ]
  }
 ],
 "metadata": {
  "kernelspec": {
   "display_name": "Python 3",
   "language": "python",
   "name": "python3"
  },
  "toc": {
   "base_numbering": 1,
   "nav_menu": {},
   "number_sections": true,
   "sideBar": true,
   "skip_h1_title": false,
   "title_cell": "Table of Contents",
   "title_sidebar": "Contents",
   "toc_cell": false,
   "toc_position": {},
   "toc_section_display": true,
   "toc_window_display": false
  },
  "varInspector": {
   "cols": {
    "lenName": 16,
    "lenType": 16,
    "lenVar": 40
   },
   "kernels_config": {
    "python": {
     "delete_cmd_postfix": "",
     "delete_cmd_prefix": "del ",
     "library": "var_list.py",
     "varRefreshCmd": "print(var_dic_list())"
    },
    "r": {
     "delete_cmd_postfix": ") ",
     "delete_cmd_prefix": "rm(",
     "library": "var_list.r",
     "varRefreshCmd": "cat(var_dic_list()) "
    }
   },
   "types_to_exclude": [
    "module",
    "function",
    "builtin_function_or_method",
    "instance",
    "_Feature"
   ],
   "window_display": false
  }
 },
 "nbformat": 4,
 "nbformat_minor": 2
}
