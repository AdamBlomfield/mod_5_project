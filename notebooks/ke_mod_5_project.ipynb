{
 "cells": [
  {
   "cell_type": "markdown",
   "metadata": {},
   "source": [
    "# Do Not Delete!"
   ]
  },
  {
   "cell_type": "code",
   "execution_count": null,
   "metadata": {
    "tags": [
     "hidecode"
    ]
   },
   "outputs": [],
   "source": [
    "# DO NOT REMOVE THESE\n",
    "%load_ext autoreload\n",
    "%autoreload 2"
   ]
  },
  {
   "cell_type": "code",
   "execution_count": null,
   "metadata": {},
   "outputs": [],
   "source": [
    "# DO NOT REMOVE This\n",
    "%reload_ext autoreload"
   ]
  },
  {
   "cell_type": "code",
   "execution_count": null,
   "metadata": {},
   "outputs": [],
   "source": [
    "## DO NOT REMOVE\n",
    "## import local src module -\n",
    "## src in this project will contain all your local code\n",
    "## clean_data.py, model.py, visualize.py, custom.py\n",
    "\n",
    "#import src.base with alias to avoid namespace clashes\n",
    "\n",
    "from src import base as fis"
   ]
  },
  {
   "cell_type": "code",
   "execution_count": null,
   "metadata": {},
   "outputs": [],
   "source": [
    "fis.test_base()"
   ]
  },
  {
   "cell_type": "markdown",
   "metadata": {},
   "source": [
    "# Import Libraries"
   ]
  },
  {
   "cell_type": "code",
   "execution_count": 3,
   "metadata": {
    "ExecuteTime": {
     "end_time": "2019-07-03T20:27:32.130251Z",
     "start_time": "2019-07-03T20:27:32.062161Z"
    }
   },
   "outputs": [
    {
     "name": "stderr",
     "output_type": "stream",
     "text": [
      "/anaconda3/lib/python3.7/site-packages/sklearn/externals/six.py:31: DeprecationWarning: The module is deprecated in version 0.21 and will be removed in version 0.23 since we've dropped support for Python 2.7. Please rely on the official version of six (https://pypi.org/project/six/).\n",
      "  \"(https://pypi.org/project/six/).\", DeprecationWarning)\n"
     ]
    }
   ],
   "source": [
    "# !pip install imblearn\n",
    "\n",
    "import pandas as pd\n",
    "import numpy as np\n",
    "\n",
    "# Visualization\n",
    "import matplotlib.pyplot as plt\n",
    "%matplotlib inline\n",
    "import seaborn as sns\n",
    "import pandas_profiling\n",
    "from sklearn.externals.six import StringIO\n",
    "from IPython.display import Image\n",
    "from sklearn.tree import export_graphviz\n",
    "import pydotplus\n",
    "\n",
    "# Warnings\n",
    "import warnings\n",
    "warnings.filterwarnings('ignore')\n",
    "\n",
    "# Data Preparation\n",
    "from sklearn.model_selection import train_test_split\n",
    "from sklearn.preprocessing import RobustScaler\n",
    "\n",
    "# Resampling Methods\n",
    "from imblearn.under_sampling import RandomUnderSampler\n",
    "from imblearn.over_sampling import SMOTE\n",
    "\n",
    "# Classifiers\n",
    "from sklearn.naive_bayes import GaussianNB\n",
    "from sklearn.neighbors import KNeighborsClassifier\n",
    "from sklearn.tree import DecisionTreeClassifier \n",
    "from sklearn.ensemble import RandomForestClassifier \n",
    "from sklearn.linear_model import LogisticRegression\n",
    "\n",
    "# Model Tuning and Cross Validation\n",
    "from imblearn.pipeline import make_pipeline, Pipeline\n",
    "from sklearn.model_selection import GridSearchCV\n",
    "\n",
    "# Model metrics\n",
    "from sklearn import metrics\n",
    "from sklearn.metrics import accuracy_score, confusion_matrix, classification_report, roc_curve, auc, precision_recall_curve\n",
    "\n"
   ]
  },
  {
   "cell_type": "markdown",
   "metadata": {},
   "source": [
    "# Functions"
   ]
  },
  {
   "cell_type": "code",
   "execution_count": 4,
   "metadata": {},
   "outputs": [],
   "source": [
    "def make_SMOTE_model(X_train, y_train, X_test, y_test, classifier):\n",
    "\n",
    "# make pipeline \n",
    "    smote = SMOTE(random_state=1)\n",
    "\n",
    "    pipe = make_pipeline(smote, classifier)\n",
    "    model = pipe.fit(X_train, y_train)\n",
    "\n",
    "# make predictions   \n",
    "    train_predictions = model.predict(X_train)\n",
    "    test_predictions = model.predict(X_test)\n",
    "\n",
    "# print scores  \n",
    "    print('Train Accuracy: ' + str(metrics.accuracy_score(y_train, train_predictions)))\n",
    "    print('Train Precision: ' + str(metrics.precision_score(y_train, train_predictions)))\n",
    "    print('Train Recall: ' + str(metrics.recall_score(y_train, train_predictions)))\n",
    "    print('Train F1: ' + str(metrics.f1_score(y_train, train_predictions)))\n",
    "    print('\\n')\n",
    "    print('Test Accuracy: ' + str(metrics.accuracy_score(y_test, test_predictions)))\n",
    "    print('Test Precision: ' + str(metrics.precision_score(y_test, test_predictions)))\n",
    "    print('Test Recall: ' + str(metrics.recall_score(y_test, test_predictions)))\n",
    "    print('Test F1: ' + str(metrics.f1_score(y_test, test_predictions)))\n",
    "    print('\\n')\n",
    "    \n",
    "# print confusion matrix    \n",
    "    cm = confusion_matrix(y_test, test_predictions)\n",
    "    sns.heatmap(cm.T, square=True, annot=True, fmt = 'g', cmap='RdBu', cbar=False, xticklabels=['legitimate', 'fraud'], yticklabels=['legitimate', 'fraud'])\n",
    "    plt.title('Confusion Matrix')\n",
    "    plt.xlabel('true label')\n",
    "    plt.ylabel('predicted label')\n",
    "    tn, fp, fn, tp = confusion_matrix(y_test, test_predictions).ravel()\n",
    "    print(\"Confusion Matrix:\",'\\nTN:', tn, 'FP:', fp, 'FN:', fn, 'TP:', tp)\n",
    "\n",
    "    return model\n"
   ]
  },
  {
   "cell_type": "code",
   "execution_count": 5,
   "metadata": {},
   "outputs": [],
   "source": [
    "def make_RandomUnderSampler_model(X_train, y_train, X_test, y_test, classifier):\n",
    "\n",
    "# make pipeline \n",
    "\n",
    "    RU = RandomUnderSampler(random_state=10)\n",
    "\n",
    "    pipe = make_pipeline(RU, classifier)\n",
    "    model = pipe.fit(X_train, y_train)\n",
    "\n",
    "# make predictions   \n",
    "    train_predictions = model.predict(X_train)\n",
    "    test_predictions = model.predict(X_test)\n",
    "\n",
    "# print scores  \n",
    "    print('Train Accuracy: ' + str(metrics.accuracy_score(y_train, train_predictions)))\n",
    "    print('Train Precision: ' + str(metrics.precision_score(y_train, train_predictions)))\n",
    "    print('Train Recall: ' + str(metrics.recall_score(y_train, train_predictions)))\n",
    "    print('Train F1: ' + str(metrics.f1_score(y_train, train_predictions)))\n",
    "    print('\\n')\n",
    "    print('Test Accuracy: ' + str(metrics.accuracy_score(y_test, test_predictions)))\n",
    "    print('Test Precision: ' + str(metrics.precision_score(y_test, test_predictions)))\n",
    "    print('Test Recall: ' + str(metrics.recall_score(y_test, test_predictions)))\n",
    "    print('Test F1: ' + str(metrics.f1_score(y_test, test_predictions)))\n",
    "    print('\\n')\n",
    "    \n",
    "# print confusion matrix    \n",
    "    cm = confusion_matrix(y_test, test_predictions)\n",
    "    sns.heatmap(cm.T, square=True, annot=True, fmt = 'g', cmap='RdBu', cbar=False, xticklabels=['legitimate', 'fraud'], yticklabels=['legitimate', 'fraud'])\n",
    "    plt.title('Confusion Matrix')\n",
    "    plt.xlabel('true label')\n",
    "    plt.ylabel('predicted label')\n",
    " \n",
    "    tn, fp, fn, tp = confusion_matrix(y_test, test_predictions).ravel()\n",
    "    print(\"Confusion Matrix:\",'\\nTN:', tn, 'FP:', fp, 'FN:', fn, 'TP:', tp)\n",
    "\n",
    "    return model\n"
   ]
  },
  {
   "cell_type": "markdown",
   "metadata": {},
   "source": [
    "# Data Importing"
   ]
  },
  {
   "cell_type": "code",
   "execution_count": 6,
   "metadata": {},
   "outputs": [],
   "source": [
    "# csv_name = '/Users/flatironschool/Desktop/Kelly/creditcard.csv'  #put as a string\n",
    "# df = pd.read_csv(csv_name)"
   ]
  },
  {
   "cell_type": "markdown",
   "metadata": {},
   "source": [
    "# Data Cleaning"
   ]
  },
  {
   "cell_type": "code",
   "execution_count": 7,
   "metadata": {},
   "outputs": [],
   "source": [
    "# Dropping duplicate rows\n",
    "# df.drop_duplicates(inplace=True)"
   ]
  },
  {
   "cell_type": "code",
   "execution_count": 8,
   "metadata": {},
   "outputs": [],
   "source": [
    "# creating time of day bins \n",
    "# secs_per_day = 86400\n",
    "# secs_per_hour = 3600\n",
    "# start = 3600 #1am\n",
    "# period1 = start + 3600*6 #1-7am\n",
    "# period2 = period1 + 3600*6 #7am-1pm\n",
    "# period3 = period2 + 3600*6 #1pm-7pm\n",
    "# period4 = period3 + 3600*5 #7am-12am"
   ]
  },
  {
   "cell_type": "code",
   "execution_count": 9,
   "metadata": {},
   "outputs": [],
   "source": [
    "# df['time_of_day']=df['Time'].apply(lambda x: x - secs_per_day if x >= secs_per_day else x)"
   ]
  },
  {
   "cell_type": "code",
   "execution_count": 10,
   "metadata": {},
   "outputs": [],
   "source": [
    "# df['time_of_day']=df['time_of_day'].apply(lambda x: 3 if x<start else x )\n",
    "# df['time_of_day']=df['time_of_day'].apply(lambda x: 0 if (x>=start) & (x<period1) else x )\n",
    "# df['time_of_day']=df['time_of_day'].apply(lambda x: 1 if (x>=period1) & (x<period2) else x )\n",
    "# df['time_of_day']=df['time_of_day'].apply(lambda x: 2 if (x>=period2) & (x<period3) else x )\n",
    "# df['time_of_day']=df['time_of_day'].apply(lambda x: 3 if (x>=period3) else x )"
   ]
  },
  {
   "cell_type": "code",
   "execution_count": 11,
   "metadata": {
    "scrolled": true
   },
   "outputs": [],
   "source": [
    "# df['time_of_day'][(df['time_of_day']<start)] = 3\n",
    "# df['time_of_day'][(df['time_of_day']>=start) & (df['time_of_day']<period1)] = 0\n",
    "# df['time_of_day'][(df['time_of_day']>=period1) & (df['time_of_day']<period2)] = 1\n",
    "# df['time_of_day'][(df['time_of_day']>=period2) & (df['time_of_day']<period3)] = 2\n",
    "# df['time_of_day'][(df['time_of_day']>=period3)] = 3"
   ]
  },
  {
   "cell_type": "code",
   "execution_count": 12,
   "metadata": {},
   "outputs": [],
   "source": [
    "# dropping the time column\n",
    "# df = df.drop(['Time'], axis=1)"
   ]
  },
  {
   "cell_type": "code",
   "execution_count": 13,
   "metadata": {},
   "outputs": [],
   "source": [
    "# get dummies on time of day column\n",
    "# x_feats = ['time_of_day']\n",
    "# df = pd.get_dummies(df, columns=x_feats)"
   ]
  },
  {
   "cell_type": "markdown",
   "metadata": {},
   "source": [
    "## Save cleaned dataframe"
   ]
  },
  {
   "cell_type": "code",
   "execution_count": 14,
   "metadata": {},
   "outputs": [],
   "source": [
    "# df.to_csv('../data/processed/cleaned_dataframe.csv.gz', compression='gzip', index=False)\n"
   ]
  },
  {
   "cell_type": "markdown",
   "metadata": {},
   "source": [
    "## Scale Amount column and save again"
   ]
  },
  {
   "cell_type": "code",
   "execution_count": 15,
   "metadata": {},
   "outputs": [],
   "source": [
    "# Scaling the Amount column\n",
    "# Note: Scaling for Logisitic Regression, but not for Random Forest Model\n",
    "\n",
    "# from sklearn.preprocessing import RobustScaler\n",
    "# rs = RobustScaler()\n",
    "# amount = pd.DataFrame(df['Amount'])\n",
    "# amount_scaled = rs.fit_transform(amount)\n",
    "# df['Amount']=amount_scaled"
   ]
  },
  {
   "cell_type": "code",
   "execution_count": 16,
   "metadata": {},
   "outputs": [],
   "source": [
    "# df.to_csv('../data/processed/cleaned_dataframe_scaled.csv.gz', compression='gzip', index=False)\n"
   ]
  },
  {
   "cell_type": "markdown",
   "metadata": {},
   "source": [
    "# Start with clean data"
   ]
  },
  {
   "cell_type": "code",
   "execution_count": 17,
   "metadata": {},
   "outputs": [
    {
     "name": "stdout",
     "output_type": "stream",
     "text": [
      "<class 'pandas.core.frame.DataFrame'>\n",
      "RangeIndex: 283726 entries, 0 to 283725\n",
      "Data columns (total 34 columns):\n",
      "V1                 283726 non-null float64\n",
      "V2                 283726 non-null float64\n",
      "V3                 283726 non-null float64\n",
      "V4                 283726 non-null float64\n",
      "V5                 283726 non-null float64\n",
      "V6                 283726 non-null float64\n",
      "V7                 283726 non-null float64\n",
      "V8                 283726 non-null float64\n",
      "V9                 283726 non-null float64\n",
      "V10                283726 non-null float64\n",
      "V11                283726 non-null float64\n",
      "V12                283726 non-null float64\n",
      "V13                283726 non-null float64\n",
      "V14                283726 non-null float64\n",
      "V15                283726 non-null float64\n",
      "V16                283726 non-null float64\n",
      "V17                283726 non-null float64\n",
      "V18                283726 non-null float64\n",
      "V19                283726 non-null float64\n",
      "V20                283726 non-null float64\n",
      "V21                283726 non-null float64\n",
      "V22                283726 non-null float64\n",
      "V23                283726 non-null float64\n",
      "V24                283726 non-null float64\n",
      "V25                283726 non-null float64\n",
      "V26                283726 non-null float64\n",
      "V27                283726 non-null float64\n",
      "V28                283726 non-null float64\n",
      "Amount             283726 non-null float64\n",
      "Class              283726 non-null int64\n",
      "time_of_day_0.0    283726 non-null int64\n",
      "time_of_day_1.0    283726 non-null int64\n",
      "time_of_day_2.0    283726 non-null int64\n",
      "time_of_day_3.0    283726 non-null int64\n",
      "dtypes: float64(29), int64(5)\n",
      "memory usage: 73.6 MB\n"
     ]
    }
   ],
   "source": [
    "df_cleaned = pd.read_csv('../data/processed/cleaned_dataframe.csv.gz', compression='gzip')\n",
    "df_cleaned_scaled = pd.read_csv('../data/processed/cleaned_dataframe_scaled.csv.gz', compression='gzip')\n",
    "df_cleaned.info()"
   ]
  },
  {
   "cell_type": "markdown",
   "metadata": {
    "heading_collapsed": true,
    "hidden": true
   },
   "source": [
    "## Exploratory Data Analysis "
   ]
  },
  {
   "cell_type": "code",
   "execution_count": 18,
   "metadata": {},
   "outputs": [
    {
     "data": {
      "text/plain": [
       "0.9983328986416472"
      ]
     },
     "execution_count": 18,
     "metadata": {},
     "output_type": "execute_result"
    }
   ],
   "source": [
    "1-len(df_cleaned.loc[df_cleaned['Class']==1])/len(df_cleaned)"
   ]
  },
  {
   "cell_type": "code",
   "execution_count": 19,
   "metadata": {},
   "outputs": [
    {
     "data": {
      "text/plain": [
       "<matplotlib.axes._subplots.AxesSubplot at 0x1a1f457be0>"
      ]
     },
     "execution_count": 19,
     "metadata": {},
     "output_type": "execute_result"
    },
    {
     "data": {
      "image/png": "[encoded data removed]",
      "text/plain": [
       "<Figure size 432x288 with 1 Axes>"
      ]
     },
     "metadata": {
      "needs_background": "light"
     },
     "output_type": "display_data"
    }
   ],
   "source": [
    "sns.stripplot(df_cleaned['Class'], df_cleaned['Amount'])"
   ]
  },
  {
   "cell_type": "code",
   "execution_count": 20,
   "metadata": {},
   "outputs": [
    {
     "name": "stdout",
     "output_type": "stream",
     "text": [
      "Max Fraud Amount: 2125.87\n",
      "Number of Frauds above Quantile 3: 118\n"
     ]
    },
    {
     "data": {
      "image/png": "[encoded data removed]",
      "text/plain": [
       "<Figure size 576x360 with 1 Axes>"
      ]
     },
     "metadata": {
      "needs_background": "light"
     },
     "output_type": "display_data"
    }
   ],
   "source": [
    "plt.figure(figsize=(8,5))\n",
    "df_fraud = df_cleaned.loc[df_cleaned['Class']==1]\n",
    "plt.boxplot(df_fraud['Amount'], showfliers=True, sym='k')\n",
    "plt.title(\"Fraud Amounts\")\n",
    "print(\"Max Fraud Amount:\", df_fraud['Amount'].max())\n",
    "print(\"Number of Frauds above Quantile 3:\", len(df_fraud.loc[df_fraud['Amount'] > df_fraud['Amount'].quantile(.75)]))"
   ]
  },
  {
   "cell_type": "markdown",
   "metadata": {},
   "source": [
    "## Train-Test Split (without scaling)"
   ]
  },
  {
   "cell_type": "code",
   "execution_count": 21,
   "metadata": {},
   "outputs": [
    {
     "name": "stdout",
     "output_type": "stream",
     "text": [
      "No. of samples in each training set: 198608\n",
      "No. of samples in each test set: 85118\n"
     ]
    }
   ],
   "source": [
    "X = df_cleaned.drop(['Class'], axis=1)\n",
    "y = df_cleaned['Class']\n",
    "\n",
    "X_train, X_test, y_train, y_test = train_test_split(X, y, test_size=0.3, stratify=y, random_state=1)\n",
    "print(\"No. of samples in each training set:\", X_train.shape[0])\n",
    "print(\"No. of samples in each test set:\", X_test.shape[0])\n"
   ]
  },
  {
   "cell_type": "markdown",
   "metadata": {},
   "source": [
    "## Train-Test Split (with scaling)"
   ]
  },
  {
   "cell_type": "code",
   "execution_count": 22,
   "metadata": {},
   "outputs": [],
   "source": [
    "X = df_cleaned_scaled.drop(['Class'], axis=1)\n",
    "y = df_cleaned_scaled['Class']\n",
    "\n",
    "X_train_sc, X_test_sc, y_train_sc, y_test_sc = train_test_split(X, y, test_size=0.3, stratify=y, random_state=1)"
   ]
  },
  {
   "cell_type": "markdown",
   "metadata": {},
   "source": [
    "## Gaussian Bayes"
   ]
  },
  {
   "cell_type": "code",
   "execution_count": 232,
   "metadata": {},
   "outputs": [
    {
     "name": "stdout",
     "output_type": "stream",
     "text": [
      "Train Accuracy: 0.9745931684524289\n",
      "Train Precision: 0.05392620624408704\n",
      "Train Recall: 0.8610271903323263\n",
      "Train F1: 0.1014957264957265\n",
      "\n",
      "\n",
      "Test Accuracy: 0.9750581545619023\n",
      "Test Precision: 0.05282167042889391\n",
      "Test Recall: 0.823943661971831\n",
      "Test F1: 0.0992787441663131\n",
      "\n",
      "\n",
      "Confusion Matrix: \n",
      "TN: 82878 FP: 2098 FN: 25 TP: 117\n"
     ]
    },
    {
     "data": {
      "image/png": "[encoded data removed]",
      "text/plain": [
       "<Figure size 432x288 with 1 Axes>"
      ]
     },
     "metadata": {},
     "output_type": "display_data"
    }
   ],
   "source": [
    "nb_smote_model = make_SMOTE_model(X_train, y_train, X_test, y_test, GaussianNB())"
   ]
  },
  {
   "cell_type": "code",
   "execution_count": 233,
   "metadata": {},
   "outputs": [
    {
     "name": "stdout",
     "output_type": "stream",
     "text": [
      "Train Accuracy: 0.949473334407476\n",
      "Train Precision: 0.028107372106594048\n",
      "Train Recall: 0.8731117824773413\n",
      "Train F1: 0.05446150946951851\n",
      "\n",
      "\n",
      "Test Accuracy: 0.9497756056298315\n",
      "Test Precision: 0.02787297235549463\n",
      "Test Recall: 0.8591549295774648\n",
      "Test F1: 0.053994246514715634\n",
      "\n",
      "\n",
      "Confusion Matrix: \n",
      "TN: 80721 FP: 4255 FN: 20 TP: 122\n"
     ]
    },
    {
     "data": {
      "image/png": "[encoded data removed]",
      "text/plain": [
       "<Figure size 432x288 with 1 Axes>"
      ]
     },
     "metadata": {},
     "output_type": "display_data"
    }
   ],
   "source": [
    "nd_ru_model = make_RandomUnderSampler_model(X_train, y_train, X_test, y_test, GaussianNB())"
   ]
  },
  {
   "cell_type": "markdown",
   "metadata": {},
   "source": [
    "## KNN"
   ]
  },
  {
   "cell_type": "code",
   "execution_count": null,
   "metadata": {},
   "outputs": [],
   "source": [
    "knn_smote_model = make_SMOTE_model(X_train_sc, y_train_sc, X_test_sc, y_test_sc, KNeighborsClassifier(n_neighbors=9))"
   ]
  },
  {
   "cell_type": "code",
   "execution_count": null,
   "metadata": {},
   "outputs": [],
   "source": [
    "make_RandomUnderSampler_model(X_train_sc, y_train_sc, X_test_sc, y_test_sc, KNeighborsClassifier(n_neighbors=9))"
   ]
  },
  {
   "cell_type": "markdown",
   "metadata": {},
   "source": [
    "## Logistic Regression"
   ]
  },
  {
   "cell_type": "code",
   "execution_count": 234,
   "metadata": {},
   "outputs": [
    {
     "name": "stdout",
     "output_type": "stream",
     "text": [
      "Train Accuracy: 0.9311407395472489\n",
      "Train Precision: 0.022745154137758388\n",
      "Train Recall: 0.9607250755287009\n",
      "Train F1: 0.04443823365008385\n",
      "\n",
      "\n",
      "Test Accuracy: 0.9320120303578562\n",
      "Test Precision: 0.02152907272419054\n",
      "Test Recall: 0.8943661971830986\n",
      "Test F1: 0.04204601887104784\n",
      "\n",
      "\n",
      "Confusion Matrix: \n",
      "TN: 79204 FP: 5772 FN: 15 TP: 127\n"
     ]
    },
    {
     "data": {
      "text/plain": [
       "Pipeline(memory=None,\n",
       "         steps=[('smote',\n",
       "                 SMOTE(k_neighbors=5, kind='deprecated',\n",
       "                       m_neighbors='deprecated', n_jobs=1,\n",
       "                       out_step='deprecated', random_state=1, ratio=None,\n",
       "                       sampling_strategy='auto', svm_estimator='deprecated')),\n",
       "                ('logisticregression',\n",
       "                 LogisticRegression(C=1000000000000.0,\n",
       "                                    class_weight={0: 1, 1: 3}, dual=False,\n",
       "                                    fit_intercept=False, intercept_scaling=1,\n",
       "                                    l1_ratio=None, max_iter=100,\n",
       "                                    multi_class='warn', n_jobs=None,\n",
       "                                    penalty='l2', random_state=None,\n",
       "                                    solver='warn', tol=0.0001, verbose=0,\n",
       "                                    warm_start=False))],\n",
       "         verbose=False)"
      ]
     },
     "execution_count": 234,
     "metadata": {},
     "output_type": "execute_result"
    },
    {
     "data": {
      "image/png": "[encoded data removed]",
      "text/plain": [
       "<Figure size 432x288 with 1 Axes>"
      ]
     },
     "metadata": {},
     "output_type": "display_data"
    }
   ],
   "source": [
    "make_SMOTE_model(X_train_sc, y_train_sc, X_test_sc, y_test_sc, LogisticRegression(fit_intercept = False, C = 1e12, class_weight={0: 1, 1: 3}))"
   ]
  },
  {
   "cell_type": "code",
   "execution_count": 235,
   "metadata": {},
   "outputs": [
    {
     "name": "stdout",
     "output_type": "stream",
     "text": [
      "Train Accuracy: 0.9193335615886571\n",
      "Train Precision: 0.0197134810824048\n",
      "Train Recall: 0.972809667673716\n",
      "Train F1: 0.038643864386438645\n",
      "\n",
      "\n",
      "Test Accuracy: 0.9193825042881647\n",
      "Test Precision: 0.01834862385321101\n",
      "Test Recall: 0.9014084507042254\n",
      "Test F1: 0.03596515875245856\n",
      "\n",
      "\n",
      "Confusion Matrix: \n",
      "TN: 78128 FP: 6848 FN: 14 TP: 128\n"
     ]
    },
    {
     "data": {
      "text/plain": [
       "Pipeline(memory=None,\n",
       "         steps=[('randomundersampler',\n",
       "                 RandomUnderSampler(random_state=10, ratio=None,\n",
       "                                    replacement=False, return_indices=False,\n",
       "                                    sampling_strategy='auto')),\n",
       "                ('logisticregression',\n",
       "                 LogisticRegression(C=1000000000000.0,\n",
       "                                    class_weight={0: 1, 1: 3}, dual=False,\n",
       "                                    fit_intercept=False, intercept_scaling=1,\n",
       "                                    l1_ratio=None, max_iter=100,\n",
       "                                    multi_class='warn', n_jobs=None,\n",
       "                                    penalty='l2', random_state=None,\n",
       "                                    solver='warn', tol=0.0001, verbose=0,\n",
       "                                    warm_start=False))],\n",
       "         verbose=False)"
      ]
     },
     "execution_count": 235,
     "metadata": {},
     "output_type": "execute_result"
    },
    {
     "data": {
      "image/png": "[encoded data removed]",
      "text/plain": [
       "<Figure size 432x288 with 1 Axes>"
      ]
     },
     "metadata": {},
     "output_type": "display_data"
    }
   ],
   "source": [
    "make_RandomUnderSampler_model(X_train_sc, y_train_sc, X_test_sc, y_test_sc, LogisticRegression(fit_intercept = False, C = 1e12, class_weight={0: 1, 1: 3}))"
   ]
  },
  {
   "cell_type": "markdown",
   "metadata": {},
   "source": [
    "## Random Forest"
   ]
  },
  {
   "cell_type": "code",
   "execution_count": 236,
   "metadata": {},
   "outputs": [
    {
     "name": "stdout",
     "output_type": "stream",
     "text": [
      "Train Accuracy: 0.9994108998630468\n",
      "Train Precision: 0.7431818181818182\n",
      "Train Recall: 0.9879154078549849\n",
      "Train F1: 0.8482490272373541\n",
      "\n",
      "\n",
      "Test Accuracy: 0.9989191475363612\n",
      "Test Precision: 0.6388888888888888\n",
      "Test Recall: 0.8098591549295775\n",
      "Test F1: 0.7142857142857142\n",
      "\n",
      "\n",
      "Confusion Matrix: \n",
      "TN: 84911 FP: 65 FN: 27 TP: 115\n"
     ]
    },
    {
     "data": {
      "image/png": "[encoded data removed]",
      "text/plain": [
       "<Figure size 432x288 with 1 Axes>"
      ]
     },
     "metadata": {},
     "output_type": "display_data"
    }
   ],
   "source": [
    "rm_smote_model = make_SMOTE_model(X_train, y_train, X_test, y_test, RandomForestClassifier(max_depth=12, n_estimators=30))\n",
    "\n"
   ]
  },
  {
   "cell_type": "code",
   "execution_count": 237,
   "metadata": {},
   "outputs": [
    {
     "data": {
      "text/plain": [
       "array([[9.67151685e-01, 3.28483148e-02],\n",
       "       [9.99691885e-01, 3.08114679e-04],\n",
       "       [9.98298441e-01, 1.70155888e-03],\n",
       "       ...,\n",
       "       [9.99766774e-01, 2.33225720e-04],\n",
       "       [9.90818979e-01, 9.18102052e-03],\n",
       "       [9.90220593e-01, 9.77940675e-03]])"
      ]
     },
     "execution_count": 237,
     "metadata": {},
     "output_type": "execute_result"
    }
   ],
   "source": [
    "pred_proba = rm_smote_model.predict_proba(X_train)\n",
    "pred_proba"
   ]
  },
  {
   "cell_type": "code",
   "execution_count": 238,
   "metadata": {},
   "outputs": [
    {
     "data": {
      "text/html": [
       "<div>\n",
       "<style scoped>\n",
       "    .dataframe tbody tr th:only-of-type {\n",
       "        vertical-align: middle;\n",
       "    }\n",
       "\n",
       "    .dataframe tbody tr th {\n",
       "        vertical-align: top;\n",
       "    }\n",
       "\n",
       "    .dataframe thead th {\n",
       "        text-align: right;\n",
       "    }\n",
       "</style>\n",
       "<table border=\"1\" class=\"dataframe\">\n",
       "  <thead>\n",
       "    <tr style=\"text-align: right;\">\n",
       "      <th></th>\n",
       "      <th>prob_legit</th>\n",
       "      <th>prob_fraud</th>\n",
       "      <th>actual</th>\n",
       "    </tr>\n",
       "  </thead>\n",
       "  <tbody>\n",
       "    <tr>\n",
       "      <th>0</th>\n",
       "      <td>0.967152</td>\n",
       "      <td>0.032848</td>\n",
       "      <td>0</td>\n",
       "    </tr>\n",
       "    <tr>\n",
       "      <th>1</th>\n",
       "      <td>0.999692</td>\n",
       "      <td>0.000308</td>\n",
       "      <td>0</td>\n",
       "    </tr>\n",
       "    <tr>\n",
       "      <th>2</th>\n",
       "      <td>0.998298</td>\n",
       "      <td>0.001702</td>\n",
       "      <td>0</td>\n",
       "    </tr>\n",
       "    <tr>\n",
       "      <th>3</th>\n",
       "      <td>0.972016</td>\n",
       "      <td>0.027984</td>\n",
       "      <td>0</td>\n",
       "    </tr>\n",
       "    <tr>\n",
       "      <th>4</th>\n",
       "      <td>0.994362</td>\n",
       "      <td>0.005638</td>\n",
       "      <td>0</td>\n",
       "    </tr>\n",
       "  </tbody>\n",
       "</table>\n",
       "</div>"
      ],
      "text/plain": [
       "   prob_legit  prob_fraud  actual\n",
       "0    0.967152    0.032848       0\n",
       "1    0.999692    0.000308       0\n",
       "2    0.998298    0.001702       0\n",
       "3    0.972016    0.027984       0\n",
       "4    0.994362    0.005638       0"
      ]
     },
     "execution_count": 238,
     "metadata": {},
     "output_type": "execute_result"
    }
   ],
   "source": [
    "probs = pd.DataFrame(pred_proba, columns=['prob_legit', 'prob_fraud'])\n",
    "probs['actual']=[i for i in y_train]\n",
    "probs.head()"
   ]
  },
  {
   "cell_type": "code",
   "execution_count": 239,
   "metadata": {},
   "outputs": [
    {
     "data": {
      "image/png": "[encoded data removed]",
      "text/plain": [
       "<Figure size 432x288 with 1 Axes>"
      ]
     },
     "metadata": {},
     "output_type": "display_data"
    }
   ],
   "source": [
    "def frange(start, stop, step):\n",
    "    i = start\n",
    "    while i < stop:\n",
    "        yield i\n",
    "        i += step\n",
    "\n",
    "names = ['cut_off', 'recall', 'precision']\n",
    "fraud_metrics = pd.DataFrame()\n",
    "\n",
    "# for loop to test different cut-off values\n",
    "for i in frange(.2,.95,.015):\n",
    "    probs['label'] = np.where(probs['prob_fraud'] >= i, 1, 0)\n",
    "    tn, fp, fn, tp = confusion_matrix(probs['actual'], probs['label']).ravel()\n",
    "    recall = tp/(tp+fn)\n",
    "    precision = tp/(tp+fp)\n",
    "    evals = [i,recall,precision]\n",
    "    fraud_metrics=fraud_metrics.append(pd.Series(evals), ignore_index=True)\n",
    "\n",
    "fraud_metrics.columns = names\n",
    "\n",
    "import matplotlib.pyplot as plt\n",
    "%matplotlib inline\n",
    "plt.style.use('seaborn-whitegrid')\n",
    "# plot the data\n",
    "plt.plot(fraud_metrics.recall, fraud_metrics.precision , '-', color='black')\n",
    "plt.plot(fraud_metrics.recall, fraud_metrics.precision , 'o', color='blue')\n",
    "\n",
    "# make some nice labels\n",
    "plt.title('Precision-Recall curve')\n",
    "plt.ylabel('Precision')\n",
    "plt.xlabel('Recall')\n",
    "plt.show()\n"
   ]
  },
  {
   "cell_type": "code",
   "execution_count": 240,
   "metadata": {},
   "outputs": [
    {
     "name": "stdout",
     "output_type": "stream",
     "text": [
      "Train Accuracy: 0.9819342624667687\n",
      "Train Precision: 0.08446032151058944\n",
      "Train Recall: 1.0\n",
      "Train F1: 0.15576470588235294\n",
      "\n",
      "\n",
      "Test Accuracy: 0.9819309664230832\n",
      "Test Precision: 0.07387057387057387\n",
      "Test Recall: 0.852112676056338\n",
      "Test F1: 0.1359550561797753\n",
      "\n",
      "\n",
      "Confusion Matrix: \n",
      "TN: 83459 FP: 1517 FN: 21 TP: 121\n"
     ]
    },
    {
     "data": {
      "text/plain": [
       "Pipeline(memory=None,\n",
       "         steps=[('randomundersampler',\n",
       "                 RandomUnderSampler(random_state=10, ratio=None,\n",
       "                                    replacement=False, return_indices=False,\n",
       "                                    sampling_strategy='auto')),\n",
       "                ('randomforestclassifier',\n",
       "                 RandomForestClassifier(bootstrap=True,\n",
       "                                        class_weight={0: 1, 1: 3},\n",
       "                                        criterion='gini', max_depth=12,\n",
       "                                        max_features='auto',\n",
       "                                        max_leaf_nodes=None,\n",
       "                                        min_impurity_decrease=0.0,\n",
       "                                        min_impurity_split=None,\n",
       "                                        min_samples_leaf=1, min_samples_split=2,\n",
       "                                        min_weight_fraction_leaf=0.0,\n",
       "                                        n_estimators=30, n_jobs=None,\n",
       "                                        oob_score=False, random_state=None,\n",
       "                                        verbose=0, warm_start=False))],\n",
       "         verbose=False)"
      ]
     },
     "execution_count": 240,
     "metadata": {},
     "output_type": "execute_result"
    },
    {
     "data": {
      "image/png": "[encoded data removed]",
      "text/plain": [
       "<Figure size 432x288 with 1 Axes>"
      ]
     },
     "metadata": {},
     "output_type": "display_data"
    }
   ],
   "source": [
    "make_RandomUnderSampler_model(X_train, y_train, X_test, y_test, RandomForestClassifier(max_depth=12, n_estimators=30, class_weight={0: 1, 1: 3}))\n",
    "\n"
   ]
  },
  {
   "cell_type": "markdown",
   "metadata": {},
   "source": [
    "## Gridsearch to find model with best parameters"
   ]
  },
  {
   "cell_type": "code",
   "execution_count": 19,
   "metadata": {},
   "outputs": [
    {
     "data": {
      "text/plain": [
       "dict_keys(['bootstrap', 'class_weight', 'criterion', 'max_depth', 'max_features', 'max_leaf_nodes', 'min_impurity_decrease', 'min_impurity_split', 'min_samples_leaf', 'min_samples_split', 'min_weight_fraction_leaf', 'n_estimators', 'n_jobs', 'oob_score', 'random_state', 'verbose', 'warm_start'])"
      ]
     },
     "execution_count": 19,
     "metadata": {},
     "output_type": "execute_result"
    }
   ],
   "source": [
    "RandomForestClassifier().get_params().keys()"
   ]
  },
  {
   "cell_type": "code",
   "execution_count": 70,
   "metadata": {
    "scrolled": false
   },
   "outputs": [
    {
     "data": {
      "text/plain": [
       "GridSearchCV(cv=5, error_score='raise-deprecating',\n",
       "             estimator=Pipeline(memory=None,\n",
       "                                steps=[('smote',\n",
       "                                        SMOTE(k_neighbors=5, kind='deprecated',\n",
       "                                              m_neighbors='deprecated',\n",
       "                                              n_jobs=1, out_step='deprecated',\n",
       "                                              random_state=1, ratio=None,\n",
       "                                              sampling_strategy='auto',\n",
       "                                              svm_estimator='deprecated')),\n",
       "                                       ('classifier',\n",
       "                                        RandomForestClassifier(bootstrap=True,\n",
       "                                                               class_weight={0: 1,\n",
       "                                                                             1: 2},\n",
       "                                                               crit...\n",
       "                                                               min_samples_leaf=1,\n",
       "                                                               min_samples_split=2,\n",
       "                                                               min_weight_fraction_leaf=0.0,\n",
       "                                                               n_estimators=30,\n",
       "                                                               n_jobs=3,\n",
       "                                                               oob_score=False,\n",
       "                                                               random_state=None,\n",
       "                                                               verbose=0,\n",
       "                                                               warm_start=False))],\n",
       "                                verbose=False),\n",
       "             iid='warn', n_jobs=None,\n",
       "             param_grid={'classifier__max_depth': [10, 12],\n",
       "                         'classifier__min_samples_split': [8, 10]},\n",
       "             pre_dispatch='2*n_jobs', refit=True, return_train_score=False,\n",
       "             scoring='f1', verbose=0)"
      ]
     },
     "execution_count": 70,
     "metadata": {},
     "output_type": "execute_result"
    }
   ],
   "source": [
    "smote = SMOTE(random_state=1)\n",
    "classifier = RandomForestClassifier(class_weight={0: 1, 1: 2}, n_estimators=30, n_jobs=3)\n",
    "\n",
    "from imblearn.pipeline import Pipeline\n",
    "\n",
    "pipe = Pipeline([('smote', smote), ('classifier', classifier)])\n",
    "\n",
    "param_grid = {\n",
    "    \n",
    "#     'classifier__criterion': ['gini', 'entropy'],\n",
    "    'classifier__max_depth': [10, 12],\n",
    "    'classifier__min_samples_split': [8, 10],\n",
    "}\n",
    "\n",
    "gs = GridSearchCV(pipe, param_grid, cv = 5, scoring='f1')\n",
    "gs.fit(X_train, y_train)\n"
   ]
  },
  {
   "cell_type": "code",
   "execution_count": 71,
   "metadata": {},
   "outputs": [
    {
     "data": {
      "text/plain": [
       "{'classifier__max_depth': 12, 'classifier__min_samples_split': 8}"
      ]
     },
     "execution_count": 71,
     "metadata": {},
     "output_type": "execute_result"
    }
   ],
   "source": [
    "gs.best_params_"
   ]
  },
  {
   "cell_type": "code",
   "execution_count": 162,
   "metadata": {},
   "outputs": [
    {
     "data": {
      "text/plain": [
       "array([[9.91705721e-01, 8.29427911e-03],\n",
       "       [9.99734149e-01, 2.65851326e-04],\n",
       "       [9.86693886e-01, 1.33061136e-02],\n",
       "       ...,\n",
       "       [9.65904007e-01, 3.40959930e-02],\n",
       "       [9.53210863e-01, 4.67891371e-02],\n",
       "       [9.87507074e-01, 1.24929258e-02]])"
      ]
     },
     "execution_count": 162,
     "metadata": {},
     "output_type": "execute_result"
    }
   ],
   "source": [
    "test_predictions = gs.predict(X_test)\n",
    "test_probabilities = gs.predict_proba(X_test)\n",
    "test_probabilities"
   ]
  },
  {
   "cell_type": "code",
   "execution_count": 178,
   "metadata": {},
   "outputs": [
    {
     "name": "stdout",
     "output_type": "stream",
     "text": [
      "Test Accuracy: 0.9982259921520712\n",
      "Test Precision: 0.4810126582278481\n",
      "Test Recall: 0.8028169014084507\n",
      "Test F1: 0.6015831134564643\n",
      "\n",
      "\n",
      "Confusion Matrix: \n",
      "TN: 84853 FP: 123 FN: 28 TP: 114\n"
     ]
    },
    {
     "data": {
      "image/png": "[encoded data removed]",
      "text/plain": [
       "<Figure size 432x288 with 1 Axes>"
      ]
     },
     "metadata": {},
     "output_type": "display_data"
    }
   ],
   "source": [
    "print('Test Accuracy: ' + str(metrics.accuracy_score(y_test, test_predictions)))\n",
    "print('Test Precision: ' + str(metrics.precision_score(y_test, test_predictions)))\n",
    "print('Test Recall: ' + str(metrics.recall_score(y_test, test_predictions)))\n",
    "print('Test F1: ' + str(metrics.f1_score(y_test, test_predictions)))\n",
    "print('\\n')\n",
    "    \n",
    "\n",
    "# print confusion matrix    \n",
    "cm = confusion_matrix(y_test, test_predictions)\n",
    "sns.heatmap(cm.T, square=True, annot=True, fmt = 'g', cmap='RdBu', cbar=False, xticklabels=['legitimate', 'fraud'], yticklabels=['legitimate', 'fraud'])\n",
    "plt.title('Confusion Matrix:\\n Random Forest Model')\n",
    "plt.xlabel('true label')\n",
    "plt.ylabel('predicted label')\n",
    "plt.savefig('cm_randomforest')\n",
    "\n",
    "tn, fp, fn, tp = confusion_matrix(y_test, test_predictions).ravel()\n",
    "print(\"Confusion Matrix:\",'\\nTN:', tn, 'FP:', fp, 'FN:', fn, 'TP:', tp)"
   ]
  },
  {
   "cell_type": "code",
   "execution_count": 127,
   "metadata": {},
   "outputs": [
    {
     "data": {
      "image/png": "[encoded data removed]",
      "text/plain": [
       "<Figure size 432x288 with 1 Axes>"
      ]
     },
     "metadata": {},
     "output_type": "display_data"
    },
    {
     "data": {
      "text/plain": [
       "<Figure size 432x288 with 0 Axes>"
      ]
     },
     "metadata": {},
     "output_type": "display_data"
    }
   ],
   "source": [
    "probs = pd.DataFrame(test_probabilities, columns=['prob_legit', 'prob_fraud'])\n",
    "probs['actual']=[i for i in y_test]\n",
    "probs.head()\n",
    "\n",
    "# # print \n",
    "def frange(start, stop, step):\n",
    "    i = start\n",
    "    while i < stop:\n",
    "        yield i\n",
    "        i += step\n",
    "\n",
    "names = ['cut_off', 'recall', 'precision']\n",
    "fraud_metrics = pd.DataFrame()\n",
    "\n",
    "# for loop to test different cut-off values\n",
    "for i in frange(.2,.95,.015):\n",
    "    probs['label'] = np.where(probs['prob_fraud'] >= i, 1, 0)\n",
    "    tn, fp, fn, tp = confusion_matrix(probs['actual'], probs['label']).ravel()\n",
    "    recall = tp/(tp+fn)\n",
    "    precision = tp/(tp+fp)\n",
    "    evals = [i,recall,precision]\n",
    "    fraud_metrics=fraud_metrics.append(pd.Series(evals), ignore_index=True)\n",
    "\n",
    "fraud_metrics.columns = names\n",
    "\n",
    "import matplotlib.pyplot as plt\n",
    "%matplotlib inline\n",
    "plt.style.use('seaborn-whitegrid')\n",
    "# plot the data\n",
    "plt.plot(fraud_metrics.recall, fraud_metrics.precision , '-', color='blue')\n",
    "plt.plot(fraud_metrics.recall, fraud_metrics.precision , 'o', color='black')\n",
    "# make some nice labels\n",
    "plt.title('Precision-Recall curve')\n",
    "plt.ylabel('Precision')\n",
    "plt.xlabel('Recall')\n",
    "plt.show()\n",
    "plt.savefig('pr_curve')"
   ]
  },
  {
   "cell_type": "code",
   "execution_count": 139,
   "metadata": {},
   "outputs": [],
   "source": [
    "pred_vs_actual = pd.DataFrame({\"Amount\": X_test['Amount'], \"Predicted\": test_predictions, \"Actual\": [i for i in y_test]})"
   ]
  },
  {
   "cell_type": "code",
   "execution_count": 149,
   "metadata": {},
   "outputs": [
    {
     "data": {
      "text/plain": [
       "count      28.000000\n",
       "mean      153.013571\n",
       "std       428.684464\n",
       "min         0.000000\n",
       "25%         1.000000\n",
       "50%         7.790000\n",
       "75%        43.155000\n",
       "max      2125.870000\n",
       "Name: Amount, dtype: float64"
      ]
     },
     "execution_count": 149,
     "metadata": {},
     "output_type": "execute_result"
    }
   ],
   "source": [
    "pred_vs_actual.loc[(pred_vs_actual['Predicted']==0) & (pred_vs_actual['Actual']==1)]['Amount'].describe()"
   ]
  },
  {
   "cell_type": "code",
   "execution_count": 168,
   "metadata": {},
   "outputs": [
    {
     "data": {
      "text/plain": [
       "array([[0.95108177, 0.04891823]])"
      ]
     },
     "execution_count": 168,
     "metadata": {},
     "output_type": "execute_result"
    }
   ],
   "source": [
    "max_amount = df_cleaned.loc[df_cleaned['Amount']==2125.87]\n",
    "# gs.predict(max_amount)\n",
    "max_amount = max_amount.drop(['Class'], axis=1)\n",
    "gs.predict_proba(max_amount)"
   ]
  },
  {
   "cell_type": "markdown",
   "metadata": {},
   "source": [
    "## Gridsearch to find model with best parameters(manual change of threshhold)"
   ]
  },
  {
   "cell_type": "code",
   "execution_count": 75,
   "metadata": {},
   "outputs": [
    {
     "data": {
      "text/plain": [
       "GridSearchCV(cv=5, error_score='raise-deprecating',\n",
       "             estimator=Pipeline(memory=None,\n",
       "                                steps=[('smote',\n",
       "                                        SMOTE(k_neighbors=5, kind='deprecated',\n",
       "                                              m_neighbors='deprecated',\n",
       "                                              n_jobs=1, out_step='deprecated',\n",
       "                                              random_state=1, ratio=None,\n",
       "                                              sampling_strategy='auto',\n",
       "                                              svm_estimator='deprecated')),\n",
       "                                       ('classifier',\n",
       "                                        RandomForestClassifier(bootstrap=True,\n",
       "                                                               class_weight=None,\n",
       "                                                               criterion...\n",
       "                                                               min_samples_leaf=1,\n",
       "                                                               min_samples_split=2,\n",
       "                                                               min_weight_fraction_leaf=0.0,\n",
       "                                                               n_estimators=30,\n",
       "                                                               n_jobs=3,\n",
       "                                                               oob_score=False,\n",
       "                                                               random_state=None,\n",
       "                                                               verbose=0,\n",
       "                                                               warm_start=False))],\n",
       "                                verbose=False),\n",
       "             iid='warn', n_jobs=None,\n",
       "             param_grid={'classifier__max_depth': [10, 12],\n",
       "                         'classifier__min_samples_split': [8, 10]},\n",
       "             pre_dispatch='2*n_jobs', refit=True, return_train_score=False,\n",
       "             scoring='f1', verbose=0)"
      ]
     },
     "execution_count": 75,
     "metadata": {},
     "output_type": "execute_result"
    }
   ],
   "source": [
    "smote = SMOTE(random_state=1)\n",
    "classifier = RandomForestClassifier(n_estimators=30, n_jobs=3)\n",
    "\n",
    "from imblearn.pipeline import Pipeline\n",
    "\n",
    "pipe = Pipeline([('smote', smote), ('classifier', classifier)])\n",
    "\n",
    "param_grid = {\n",
    "    \n",
    "#     'classifier__criterion': ['gini', 'entropy'],\n",
    "    'classifier__max_depth': [10, 12],\n",
    "    'classifier__min_samples_split': [8, 10],\n",
    "}\n",
    "\n",
    "gs2 = GridSearchCV(pipe, param_grid, cv = 5, scoring='f1')\n",
    "gs2.fit(X_train, y_train)"
   ]
  },
  {
   "cell_type": "code",
   "execution_count": 76,
   "metadata": {},
   "outputs": [
    {
     "data": {
      "text/plain": [
       "{'classifier__max_depth': 12, 'classifier__min_samples_split': 10}"
      ]
     },
     "execution_count": 76,
     "metadata": {},
     "output_type": "execute_result"
    }
   ],
   "source": [
    "gs2.best_params_"
   ]
  },
  {
   "cell_type": "code",
   "execution_count": 241,
   "metadata": {},
   "outputs": [],
   "source": [
    "test_predictions2 = gs2.predict(X_test)\n",
    "test_probabilities2 = gs2.predict_proba(X_test)"
   ]
  },
  {
   "cell_type": "code",
   "execution_count": 248,
   "metadata": {},
   "outputs": [],
   "source": [
    "# threshold .33 chance of fraud\n",
    "probs2 = pd.DataFrame(test_probabilities2, columns=['prob_legit', 'prob_fraud'])\n",
    "probs2['predicted'] = probs2['prob_fraud'].apply(lambda x: 1 if x>0.33 else 0)"
   ]
  },
  {
   "cell_type": "code",
   "execution_count": 249,
   "metadata": {},
   "outputs": [
    {
     "name": "stdout",
     "output_type": "stream",
     "text": [
      "Test Accuracy: 0.9977090627129397\n",
      "Test Precision: 0.4070175438596491\n",
      "Test Recall: 0.8169014084507042\n",
      "Test F1: 0.5433255269320844\n",
      "\n",
      "\n",
      "Confusion Matrix: \n",
      "TN: 84807 FP: 169 FN: 26 TP: 116\n"
     ]
    },
    {
     "data": {
      "image/png": "[encoded data removed]",
      "text/plain": [
       "<Figure size 432x288 with 1 Axes>"
      ]
     },
     "metadata": {},
     "output_type": "display_data"
    }
   ],
   "source": [
    "# print confusion matrix  \n",
    "\n",
    "print('Test Accuracy: ' + str(metrics.accuracy_score(y_test, probs2['predicted'])))\n",
    "print('Test Precision: ' + str(metrics.precision_score(y_test, probs2['predicted'])))\n",
    "print('Test Recall: ' + str(metrics.recall_score(y_test, probs2['predicted'])))\n",
    "print('Test F1: ' + str(metrics.f1_score(y_test, probs2['predicted'])))\n",
    "print('\\n')\n",
    "\n",
    "cm = confusion_matrix(y_test, probs2['predicted'])\n",
    "sns.heatmap(cm.T, square=True, annot=True, fmt = 'g', cmap='RdBu', cbar=False, xticklabels=['legitimate', 'fraud'], yticklabels=['legitimate', 'fraud'])\n",
    "plt.title('Confusion Matrix:\\n Random Forest Model')\n",
    "plt.xlabel('true label')\n",
    "plt.ylabel('predicted label')\n",
    "plt.savefig('cm_randomforest')\n",
    "\n",
    "tn, fp, fn, tp = confusion_matrix(y_test, probs2['predicted']).ravel()\n",
    "print(\"Confusion Matrix:\",'\\nTN:', tn, 'FP:', fp, 'FN:', fn, 'TP:', tp)"
   ]
  },
  {
   "cell_type": "code",
   "execution_count": 23,
   "metadata": {},
   "outputs": [
    {
     "data": {
      "text/plain": [
       "142"
      ]
     },
     "execution_count": 23,
     "metadata": {},
     "output_type": "execute_result"
    }
   ],
   "source": [
    "y_test.sum()"
   ]
  },
  {
   "cell_type": "code",
   "execution_count": null,
   "metadata": {},
   "outputs": [],
   "source": [
    "# Adam's Code\n",
    "\n",
    "# classifier = DecisionTreeClassifier(random_state=10)\n",
    "# classifier.fit(X_res, y_res)\n",
    "# y_pred = classifier.predict(X_test)\n",
    "\n",
    "# acc = accuracy_score(y_test,y_pred) * 100\n",
    "# print(\"Accuracy is : {}%\".format(round(acc, 2)))\n",
    "# #     # Check the AUC for predictions\n",
    "# false_positive_rate, true_positive_rate, thresholds = roc_curve(y_test, y_pred)\n",
    "# roc_auc = auc(false_positive_rate, true_positive_rate)\n",
    "# print(\"\\nAUC is :{0}\".format(round(roc_auc,2)))\n",
    "#     # Create and print a confusion matrix\n",
    "# print('\\nConfusion Matrix')\n",
    "# print('----------------')\n",
    "# pd.crosstab(y_test, y_pred, rownames=['True'], colnames=['Predicted'], margins=True)\n",
    "\n",
    "# # Train a DT classifier\n",
    "# classifier2 = DecisionTreeClassifier(random_state=10, criterion='entropy')\n",
    "# classifier2.fit(X_res, y_res)\n",
    "#     # Make predictions for test data\n",
    "# y_pred = classifier2.predict(X_test)\n",
    "#     # Calculate Accuracy\n",
    "# acc = accuracy_score(y_test,y_pred) * 100\n",
    "# print(\"Accuracy is :{0}\".format(acc))\n",
    "#     # Check the AUC for predictions\n",
    "# false_positive_rate, true_positive_rate, thresholds = roc_curve(y_test, y_pred)\n",
    "# roc_auc = auc(false_positive_rate, true_positive_rate)\n",
    "# print(\"\\nAUC is :{0}\".format(round(roc_auc,2)))\n",
    "#     # Create and print a confusion matrix\n",
    "# print('\\nConfusion Matrix')\n",
    "# print('----------------')\n",
    "# print(pd.crosstab(y_test, y_pred, rownames=['True'], colnames=['Predicted'], margins=True))\n",
    "\n",
    "\n",
    "# # Function for plotting feature importance\n",
    "# classifier2.feature_importances_ # How much does this feature reduce entropy\n",
    "#     # Function to show importance of each feature\n",
    "# def plot_feature_importances(model):\n",
    "#     '''plots the importance of each feature.  Useful for something like KNN so you can tell which features are useful '''\n",
    "#     n_features = X_train.shape[1]\n",
    "#     plt.figure(figsize=(8,8))\n",
    "#     plt.barh(range(n_features), model.feature_importances_, align='center')\n",
    "#     plt.yticks(np.arange(n_features), X_train.columns.values)\n",
    "#     plt.xlabel(\"Feature importance\")\n",
    "#     plt.ylabel(\"Feature\")\n",
    "# plot_feature_importances(classifier2)\n",
    "#     # confusion matrix print\n",
    "# pred = classifier2.predict(X_test)\n",
    "# print(confusion_matrix(y_test, pred))\n",
    "# print(classification_report(y_test, pred))\n",
    "\n",
    "# # Random Forest in code\n",
    "# forest = RandomForestClassifier(n_estimators=100, max_depth= 5)\n",
    "# forest.fit(X_train, y_train)\n",
    "# forest.score(X_train, y_train) # Accuracy of training data\n",
    "# forest.score(X_test, y_test) # Accuracy of test data\n",
    "# plot_feature_importances(forest) # plot using function above\n",
    "\n",
    "# # Fine Tune the model\n",
    "# forest_2 = RandomForestClassifier(n_estimators = 10, max_features= 2, max_depth= 2)\n",
    "# forest_2.fit(X_train, y_train)\n",
    "# forest_2.score(X_train, y_train) # Accuracy of training data\n",
    "# forest_2.score(X_test, y_test)  # Accuracy of test data\n",
    "\n",
    "# Use GridsearchCV to find the best Number\n",
    "from sklearn.model_selection import GridSearchCV\n",
    "param_grid = {'n_estimators': [30, 100, 300], 'min_samples_split': [2, 4, 6], 'min_samples_leaf': [2, 4, 6]}\n",
    "gs = GridSearchCV(RandomForestClassifier(), param_grid, cv=5)\n",
    "gs.fit(X_res, y_res)\n",
    "print('Mean accuracy on the given test data and labels:', gs.score(X_test, y_test))\n",
    "print('The best parameters are:', gs.best_params_)\n"
   ]
  },
  {
   "cell_type": "code",
   "execution_count": 173,
   "metadata": {},
   "outputs": [
    {
     "data": {
      "text/plain": [
       "2935"
      ]
     },
     "execution_count": 173,
     "metadata": {},
     "output_type": "execute_result"
    }
   ],
   "source": [
    "len(df_cleaned.loc[df_cleaned['Amount']>1000])"
   ]
  },
  {
   "cell_type": "code",
   "execution_count": null,
   "metadata": {},
   "outputs": [],
   "source": []
  }
 ],
 "metadata": {
  "kernelspec": {
   "display_name": "Python 3",
   "language": "python",
   "name": "python3"
  },
  "language_info": {
   "codemirror_mode": {
    "name": "ipython",
    "version": 3
   },
   "file_extension": ".py",
   "mimetype": "text/x-python",
   "name": "python",
   "nbconvert_exporter": "python",
   "pygments_lexer": "ipython3",
   "version": "3.7.3"
  },
  "toc": {
   "base_numbering": 1,
   "nav_menu": {},
   "number_sections": true,
   "sideBar": true,
   "skip_h1_title": false,
   "title_cell": "Table of Contents",
   "title_sidebar": "Contents",
   "toc_cell": false,
   "toc_position": {},
   "toc_section_display": true,
   "toc_window_display": false
  },
  "varInspector": {
   "cols": {
    "lenName": 16,
    "lenType": 16,
    "lenVar": 40
   },
   "kernels_config": {
    "python": {
     "delete_cmd_postfix": "",
     "delete_cmd_prefix": "del ",
     "library": "var_list.py",
     "varRefreshCmd": "print(var_dic_list())"
    },
    "r": {
     "delete_cmd_postfix": ") ",
     "delete_cmd_prefix": "rm(",
     "library": "var_list.r",
     "varRefreshCmd": "cat(var_dic_list()) "
    }
   },
   "types_to_exclude": [
    "module",
    "function",
    "builtin_function_or_method",
    "instance",
    "_Feature"
   ],
   "window_display": false
  }
 },
 "nbformat": 4,
 "nbformat_minor": 2
}
