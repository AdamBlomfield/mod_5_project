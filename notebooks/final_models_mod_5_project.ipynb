{
 "cells": [
  {
   "cell_type": "markdown",
   "metadata": {
    "heading_collapsed": true
   },
   "source": [
    "# Do Not Delete!"
   ]
  },
  {
   "cell_type": "code",
   "execution_count": null,
   "metadata": {
    "ExecuteTime": {
     "end_time": "2019-07-03T12:25:58.464979Z",
     "start_time": "2019-07-03T12:25:58.445467Z"
    },
    "hidden": true,
    "tags": [
     "hidecode"
    ]
   },
   "outputs": [],
   "source": [
    "# DO NOT REMOVE THESE\n",
    "%load_ext autoreload\n",
    "%autoreload 2"
   ]
  },
  {
   "cell_type": "code",
   "execution_count": null,
   "metadata": {
    "ExecuteTime": {
     "end_time": "2019-07-03T12:25:58.493666Z",
     "start_time": "2019-07-03T12:25:58.466668Z"
    },
    "hidden": true
   },
   "outputs": [],
   "source": [
    "# DO NOT REMOVE This\n",
    "%reload_ext autoreload"
   ]
  },
  {
   "cell_type": "code",
   "execution_count": null,
   "metadata": {
    "ExecuteTime": {
     "end_time": "2019-07-03T12:25:58.515226Z",
     "start_time": "2019-07-03T12:25:58.495243Z"
    },
    "hidden": true
   },
   "outputs": [],
   "source": [
    "## DO NOT REMOVE\n",
    "## import local src module -\n",
    "## src in this project will contain all your local code\n",
    "## clean_data.py, model.py, visualize.py, custom.py\n",
    "\n",
    "#import src.base with alias to avoid namespace clashes\n",
    "\n",
    "from src import base as fis"
   ]
  },
  {
   "cell_type": "code",
   "execution_count": null,
   "metadata": {
    "ExecuteTime": {
     "end_time": "2019-07-03T12:25:58.528449Z",
     "start_time": "2019-07-03T12:25:58.516667Z"
    },
    "hidden": true
   },
   "outputs": [],
   "source": [
    "fis.test_base()"
   ]
  },
  {
   "cell_type": "markdown",
   "metadata": {},
   "source": [
    "# Classifing Fraudulent Bank Transactions \n",
    "\n",
    "Adam Blomfield\n",
    "Kelly Epley\n",
    "Helen Levy-Myers\n",
    "\n",
    "Our [dataset]('https://www.kaggle.com/mlg-ulb/creditcardfraud') contains 284,807 credit card transactions spanning a two day period from an unidentified bank in Europe. Each one is labeled as either legitimate or fraudulent. We developed a Random Forest machine learning model to catch the frauds.  \n"
   ]
  },
  {
   "cell_type": "markdown",
   "metadata": {},
   "source": [
    "# Import Libraries"
   ]
  },
  {
   "cell_type": "code",
   "execution_count": 2,
   "metadata": {
    "ExecuteTime": {
     "end_time": "2019-07-03T12:26:00.929893Z",
     "start_time": "2019-07-03T12:25:58.541809Z"
    }
   },
   "outputs": [],
   "source": [
    "import pandas as pd\n",
    "import numpy as np\n",
    "\n",
    "# Visualization\n",
    "import matplotlib.pyplot as plt\n",
    "%matplotlib inline\n",
    "import seaborn as sns\n",
    "import pandas_profiling\n",
    "\n",
    "# Warnings\n",
    "import warnings\n",
    "warnings.filterwarnings('ignore')\n",
    "\n",
    "# Data Preparation\n",
    "from sklearn.model_selection import train_test_split\n",
    "from sklearn.preprocessing import RobustScaler\n",
    "\n",
    "# Resampling Methods\n",
    "from imblearn.under_sampling import RandomUnderSampler\n",
    "from imblearn.over_sampling import SMOTE\n",
    "\n",
    "# Classifiers\n",
    "from sklearn.ensemble import RandomForestClassifier \n",
    "from sklearn.linear_model import LogisticRegression\n",
    "from sklearn.svm import SVC\n",
    "from sklearn.neighbors import KNeighborsClassifier\n",
    "\n",
    "# Model Tuning and Cross Validation\n",
    "from imblearn.pipeline import make_pipeline, Pipeline\n",
    "from sklearn.model_selection import GridSearchCV\n",
    "\n",
    "# Model metrics\n",
    "from sklearn import metrics\n",
    "from sklearn.metrics import accuracy_score, confusion_matrix, classification_report, roc_curve, auc, precision_recall_curve\n"
   ]
  },
  {
   "cell_type": "markdown",
   "metadata": {},
   "source": [
    "# Data Importing \n",
    "\n",
    "\n",
    "The original dataset contained 1081 duplicated rows, which we opted to drop. Also, after noticing that frauds are more concentrated at certain times of day, we decided to create bins for the time of day. For full details on our data cleaning and feature engineering process, see the notebook titled \"data_cleaning.\""
   ]
  },
  {
   "cell_type": "code",
   "execution_count": 3,
   "metadata": {},
   "outputs": [
    {
     "data": {
      "text/plain": [
       "(283726, 33)"
      ]
     },
     "execution_count": 3,
     "metadata": {},
     "output_type": "execute_result"
    }
   ],
   "source": [
    "# Cleaned DataFrame\n",
    "clean_df = pd.read_csv('../data/processed/cleaned_dataframe.csv.gz', compression='gzip')\n",
    "clean_df.shape"
   ]
  },
  {
   "cell_type": "code",
   "execution_count": 4,
   "metadata": {},
   "outputs": [
    {
     "data": {
      "text/plain": [
       "(283726, 33)"
      ]
     },
     "execution_count": 4,
     "metadata": {},
     "output_type": "execute_result"
    }
   ],
   "source": [
    "# Version 2: Cleaned DataFrame with the \"Amount\" column scaled for use in models that generate predictions\n",
    "# on the basis of distance\n",
    "clean_df_scaled = pd.read_csv('../data/processed/cleaned_dataframe_scaled.csv.gz', compression='gzip')\n",
    "clean_df_scaled.shape"
   ]
  },
  {
   "cell_type": "markdown",
   "metadata": {},
   "source": [
    "# Train-Test Split"
   ]
  },
  {
   "cell_type": "code",
   "execution_count": 5,
   "metadata": {
    "ExecuteTime": {
     "end_time": "2019-07-02T13:19:42.127197Z",
     "start_time": "2019-07-02T13:19:41.774840Z"
    }
   },
   "outputs": [],
   "source": [
    "X = clean_df.drop('Class', axis=1)\n",
    "y = clean_df['Class']\n",
    "X_train, X_test, y_train, y_test = train_test_split(X, y, test_size=0.3, stratify=y, random_state=2)  \n",
    "\n",
    "# stratify maintains the ratio of frauds to non frauds"
   ]
  },
  {
   "cell_type": "code",
   "execution_count": 6,
   "metadata": {},
   "outputs": [],
   "source": [
    "X = clean_df_scaled.drop(['Class'], axis=1)\n",
    "y = clean_df_scaled['Class']\n",
    "\n",
    "X_train_sc, X_test_sc, y_train_sc, y_test_sc = train_test_split(X, y, test_size=0.3, stratify=y, random_state=2)"
   ]
  },
  {
   "cell_type": "markdown",
   "metadata": {},
   "source": [
    "# Modeling Function"
   ]
  },
  {
   "cell_type": "markdown",
   "metadata": {},
   "source": [
    "We created a custom function to generate models so that we could quickly compare several classifiers.\n",
    "\n",
    "This function performs the following tasks:\n",
    "* Resamples the training data using SMOTE\n",
    "* Fits the resampled data to a classifier\n",
    "* Generates the predictions on the test data\n",
    "* Prints accuracy, precision, recall, and F1 score\n",
    "* Plots a confusion matrix of the predictions\n",
    "\n",
    "We also created a similar function using undersampling and mixed undersampling and oversampling strategies, but oversampling consistently produced the best results."
   ]
  },
  {
   "cell_type": "code",
   "execution_count": 12,
   "metadata": {},
   "outputs": [],
   "source": [
    "def make_SMOTE_model(X_train, y_train, X_test, y_test, classifier):\n",
    "\n",
    "# make pipeline \n",
    "    smote = SMOTE(random_state=1)\n",
    "\n",
    "    pipe = make_pipeline(smote, classifier)\n",
    "    model = pipe.fit(X_train, y_train)\n",
    "\n",
    "# make predictions   \n",
    "    train_predictions = model.predict(X_train)\n",
    "    test_predictions = model.predict(X_test)\n",
    "\n",
    "# print scores  \n",
    "    print('Train Accuracy: ' + str(metrics.accuracy_score(y_train, train_predictions)))\n",
    "    print('Train Precision: ' + str(metrics.precision_score(y_train, train_predictions)))\n",
    "    print('Train Recall: ' + str(metrics.recall_score(y_train, train_predictions)))\n",
    "    print('Train F1: ' + str(metrics.f1_score(y_train, train_predictions)))\n",
    "    print('\\n')\n",
    "    print('Test Accuracy: ' + str(metrics.accuracy_score(y_test, test_predictions)))\n",
    "    print('Test Precision: ' + str(metrics.precision_score(y_test, test_predictions)))\n",
    "    print('Test Recall: ' + str(metrics.recall_score(y_test, test_predictions)))\n",
    "    print('Test F1: ' + str(metrics.f1_score(y_test, test_predictions)))\n",
    "    print('\\n')\n",
    "    \n",
    "# print confusion matrix    \n",
    "    cm = confusion_matrix(y_test, test_predictions)\n",
    "    sns.heatmap(cm.T, square=True, annot=True, fmt = 'g', cmap='RdBu', cbar=False, xticklabels=['legitimate', 'fraud'], yticklabels=['legitimate', 'fraud'])\n",
    "    plt.title('Confusion Matrix')\n",
    "    plt.xlabel('true label')\n",
    "    plt.ylabel('predicted label')\n",
    "    tn, fp, fn, tp = confusion_matrix(y_test, test_predictions).ravel()\n",
    "    print(\"Confusion Matrix:\",'\\nTN:', tn, 'FP:', fp, 'FN:', fn, 'TP:', tp)\n",
    "\n"
   ]
  },
  {
   "cell_type": "markdown",
   "metadata": {},
   "source": [
    "# Baseline Model and Model Metrics"
   ]
  },
  {
   "cell_type": "markdown",
   "metadata": {},
   "source": [
    "Since the vast majority of bank transactions are not fraudulent, our dataset is highly imbalanced. \n",
    "\n",
    "Thus, we could get a model with a high accuracy score by simply predicting that all transactions are legitimate. "
   ]
  },
  {
   "cell_type": "code",
   "execution_count": 8,
   "metadata": {
    "ExecuteTime": {
     "end_time": "2019-06-29T03:07:59.069723Z",
     "start_time": "2019-06-29T03:07:58.977744Z"
    },
    "scrolled": true
   },
   "outputs": [
    {
     "name": "stdout",
     "output_type": "stream",
     "text": [
      "A model that treats all transactions as fraudulent has an accuracy score of 99.83329%\n"
     ]
    }
   ],
   "source": [
    "num_of_transactions = len(clean_df)\n",
    "num_of_frauds = len(clean_df[clean_df['Class']==0])\n",
    "accuracy = round((num_of_frauds/num_of_transactions)*100, 6)\n",
    "explanation = 'A model that treats all transactions as fraudulent has an accuracy score of'\n",
    "print(explanation, '{}%'.format(accuracy))"
   ]
  },
  {
   "cell_type": "markdown",
   "metadata": {},
   "source": [
    "With imbalanced data, an accuracy score isn't diagnostic because correct majority class predictions (non-frauds) are enough to produce a high score. A good model will catch as many frauds as possible while minimizing the number of transactions flagged as fraud that are actually legitimate.\n",
    "\n",
    "If we want to know how well a model predicts the minority class (fraud), F1 is the most useful metric. F1 is a weighted average of *Precision* and *Recall*:\n",
    "\n",
    "\n",
    "### Precision \n",
    "\\begin{equation*}\n",
    "\\frac{True Positives}{True Positives + False Positives}\n",
    "\\end{equation*}\n",
    "\n",
    "### Recall\n",
    "\\begin{equation*}\n",
    "\\frac{True Positives}{True Positives + False Negatives}\n",
    "\\end{equation*}\n",
    "\n",
    "### F1 Score\n",
    "\\begin{equation*}\n",
    "2*\\frac{Precision * Recall}{Precision + Recall}\n",
    "\\end{equation*}\n",
    "\n",
    "\n",
    "\n",
    "# Techniques Used\n",
    "\n",
    "Here are the techniques we used to get the best model:\n",
    "\n",
    "* Balancing the data with over-sampling \n",
    "\n",
    "> We used the imblearn library's Synthetic Minority Oversampling Technique (SMOTE) to generate additional instances of fraud between the existing ones and their k-nearest neighbors. \n",
    "\n",
    "* A Random Forest classifier\n",
    "\n",
    ">...\n",
    "\n",
    "* Using class weights\n",
    "\n",
    "> Class weights ensure that there is a higher penalty for misclassifying instances of fraud. \n",
    "\n",
    "Before settling on these techniques, we compared three class-balancing methods using a number of candidate classifiers. Here is a summary of the resulting F1 scores:\n",
    "\n",
    "\n",
    "| Classifier           | Oversampled minority | Undersampled majority class | Mix of Both |\n",
    "|----------------------|----------------------|-----------------------------|-------------|\n",
    "|Random Forest         | .63                  | .14                         | .27         | \n",
    "|Logistic Regression   | .04                  | .03                         | .05         |\n",
    "|K-nearest Neighbors   | .27                  | .14                         | .06         |\n",
    "|Support Vector Machine| .06                  | .04                         | .09         |\n",
    "|Gradient Boosting.    | .30                  | .07                         | .14         |\n"
   ]
  },
  {
   "cell_type": "markdown",
   "metadata": {},
   "source": [
    "# Models\n",
    "\n",
    "\n",
    "\n",
    "### Logistic Regression\n",
    "\n",
    "For comparison, we've included a Logistic Regression model trained with an oversampled minority class. This model did a good job catching frauds: 127 out of 142 (89%). However, it also labeled over 3,800 legitimate transactions as fraudulent. This drove down the model's precision and F1 scores."
   ]
  },
  {
   "cell_type": "code",
   "execution_count": 13,
   "metadata": {},
   "outputs": [
    {
     "name": "stdout",
     "output_type": "stream",
     "text": [
      "Train Accuracy: 0.9554448964794973\n",
      "Train Precision: 0.03443375601224311\n",
      "Train Recall: 0.9516616314199395\n",
      "Train F1: 0.06646270703660724\n",
      "\n",
      "\n",
      "Test Accuracy: 0.9549449000211471\n",
      "Test Precision: 0.03217633645806942\n",
      "Test Recall: 0.8943661971830986\n",
      "Test F1: 0.06211787723159697\n",
      "\n",
      "\n",
      "Confusion Matrix: \n",
      "TN: 81156 FP: 3820 FN: 15 TP: 127\n"
     ]
    },
    {
     "data": {
      "image/png": "[encoded data removed]",
      "text/plain": [
       "<Figure size 432x288 with 1 Axes>"
      ]
     },
     "metadata": {
      "needs_background": "light"
     },
     "output_type": "display_data"
    }
   ],
   "source": [
    "make_SMOTE_model(X_train_sc, y_train_sc, X_test_sc, y_test_sc, LogisticRegression(fit_intercept = False, C = 1e12, class_weight={0: 1, 1: 2}))"
   ]
  },
  {
   "cell_type": "markdown",
   "metadata": {},
   "source": [
    "### Random Forest\n",
    "\n",
    "A Random Forest model trained with an oversampled minority class produced the model with the best F1 score, so we fine-tuned and cross validated it using a grid search. "
   ]
  },
  {
   "cell_type": "code",
   "execution_count": 15,
   "metadata": {},
   "outputs": [
    {
     "data": {
      "text/plain": [
       "GridSearchCV(cv=5, error_score='raise-deprecating',\n",
       "             estimator=Pipeline(memory=None,\n",
       "                                steps=[('smote',\n",
       "                                        SMOTE(k_neighbors=5, kind='deprecated',\n",
       "                                              m_neighbors='deprecated',\n",
       "                                              n_jobs=1, out_step='deprecated',\n",
       "                                              random_state=1, ratio=None,\n",
       "                                              sampling_strategy='auto',\n",
       "                                              svm_estimator='deprecated')),\n",
       "                                       ('classifier',\n",
       "                                        RandomForestClassifier(bootstrap=True,\n",
       "                                                               class_weight={0: 1,\n",
       "                                                                             1: 2},\n",
       "                                                               crit...\n",
       "                                                               min_samples_leaf=1,\n",
       "                                                               min_samples_split=2,\n",
       "                                                               min_weight_fraction_leaf=0.0,\n",
       "                                                               n_estimators=30,\n",
       "                                                               n_jobs=3,\n",
       "                                                               oob_score=False,\n",
       "                                                               random_state=None,\n",
       "                                                               verbose=0,\n",
       "                                                               warm_start=False))],\n",
       "                                verbose=False),\n",
       "             iid='warn', n_jobs=None,\n",
       "             param_grid={'classifier__max_depth': [10, 12],\n",
       "                         'classifier__min_samples_split': [8, 10]},\n",
       "             pre_dispatch='2*n_jobs', refit=True, return_train_score=False,\n",
       "             scoring='f1', verbose=0)"
      ]
     },
     "execution_count": 15,
     "metadata": {},
     "output_type": "execute_result"
    }
   ],
   "source": [
    "smote = SMOTE(random_state=1)\n",
    "classifier = RandomForestClassifier(class_weight={0: 1, 1: 2}, n_estimators=30, n_jobs=3)\n",
    "\n",
    "pipe = Pipeline([('smote', smote), ('classifier', classifier)])\n",
    "\n",
    "param_grid = {\n",
    "    \n",
    "#     'classifier__criterion': ['gini', 'entropy'],\n",
    "    'classifier__max_depth': [10, 12],\n",
    "    'classifier__min_samples_split': [8, 10],\n",
    "}\n",
    "\n",
    "gs = GridSearchCV(pipe, param_grid, cv = 5, scoring='f1')\n",
    "gs.fit(X_train, y_train)"
   ]
  },
  {
   "cell_type": "code",
   "execution_count": 16,
   "metadata": {},
   "outputs": [
    {
     "name": "stdout",
     "output_type": "stream",
     "text": [
      "Best parameters: {'classifier__max_depth': 12, 'classifier__min_samples_split': 8}\n",
      "Best score: 0.7480892316646307\n"
     ]
    }
   ],
   "source": [
    "print(\"Best parameters:\", gs.best_params_)\n",
    "print(\"Best score:\", gs.best_score_)"
   ]
  },
  {
   "cell_type": "code",
   "execution_count": 17,
   "metadata": {},
   "outputs": [],
   "source": [
    "test_predictions = gs.predict(X_test)\n",
    "test_probabilities = gs.predict_proba(X_test)"
   ]
  },
  {
   "cell_type": "code",
   "execution_count": 18,
   "metadata": {},
   "outputs": [
    {
     "name": "stdout",
     "output_type": "stream",
     "text": [
      "Test Accuracy: 0.998836908761954\n",
      "Test Precision: 0.6201117318435754\n",
      "Test Recall: 0.7816901408450704\n",
      "Test F1: 0.691588785046729\n",
      "\n",
      "\n",
      "Confusion Matrix: \n",
      "TN: 84908 FP: 68 FN: 31 TP: 111\n"
     ]
    },
    {
     "data": {
      "image/png": "[encoded data removed]",
      "text/plain": [
       "<Figure size 432x288 with 1 Axes>"
      ]
     },
     "metadata": {
      "needs_background": "light"
     },
     "output_type": "display_data"
    }
   ],
   "source": [
    "print('Test Accuracy: ' + str(metrics.accuracy_score(y_test, test_predictions)))\n",
    "print('Test Precision: ' + str(metrics.precision_score(y_test, test_predictions)))\n",
    "print('Test Recall: ' + str(metrics.recall_score(y_test, test_predictions)))\n",
    "print('Test F1: ' + str(metrics.f1_score(y_test, test_predictions)))\n",
    "print('\\n')\n",
    "    \n",
    "\n",
    "# print confusion matrix    \n",
    "cm = confusion_matrix(y_test, test_predictions)\n",
    "sns.heatmap(cm.T, square=True, annot=True, fmt = 'g', cmap='RdBu', cbar=False, xticklabels=['legitimate', 'fraud'], yticklabels=['legitimate', 'fraud'])\n",
    "plt.title('Confusion Matrix:\\n Random Forest Model')\n",
    "plt.xlabel('true label')\n",
    "plt.ylabel('predicted label')\n",
    "plt.savefig('cm_randomforest')\n",
    "\n",
    "tn, fp, fn, tp = confusion_matrix(y_test, test_predictions).ravel()\n",
    "print(\"Confusion Matrix:\",'\\nTN:', tn, 'FP:', fp, 'FN:', fn, 'TP:', tp)"
   ]
  },
  {
   "cell_type": "code",
   "execution_count": 19,
   "metadata": {},
   "outputs": [
    {
     "data": {
      "image/png": "[encoded data removed]",
      "text/plain": [
       "<Figure size 432x288 with 1 Axes>"
      ]
     },
     "metadata": {},
     "output_type": "display_data"
    }
   ],
   "source": [
    "probs = pd.DataFrame(test_probabilities, columns=['prob_legit', 'prob_fraud'])\n",
    "probs['actual']=[i for i in y_test]\n",
    "probs.head()\n",
    "\n",
    "# # print \n",
    "def frange(start, stop, step):\n",
    "    i = start\n",
    "    while i < stop:\n",
    "        yield i\n",
    "        i += step\n",
    "\n",
    "names = ['cut_off', 'recall', 'precision']\n",
    "fraud_metrics = pd.DataFrame()\n",
    "\n",
    "# for loop to test different cut-off values\n",
    "for i in frange(.2,.95,.015):\n",
    "    probs['label'] = np.where(probs['prob_fraud'] >= i, 1, 0)\n",
    "    tn, fp, fn, tp = confusion_matrix(probs['actual'], probs['label']).ravel()\n",
    "    recall = tp/(tp+fn)\n",
    "    precision = tp/(tp+fp)\n",
    "    evals = [i,recall,precision]\n",
    "    fraud_metrics=fraud_metrics.append(pd.Series(evals), ignore_index=True)\n",
    "\n",
    "fraud_metrics.columns = names\n",
    "\n",
    "import matplotlib.pyplot as plt\n",
    "%matplotlib inline\n",
    "plt.style.use('seaborn-whitegrid')\n",
    "# plot the data\n",
    "plt.plot(fraud_metrics.recall, fraud_metrics.precision , '-', color='blue')\n",
    "plt.plot(fraud_metrics.recall, fraud_metrics.precision , 'o', color='black')\n",
    "# make some nice labels\n",
    "plt.title('Precision-Recall curve')\n",
    "plt.ylabel('Precision')\n",
    "plt.xlabel('Recall')\n",
    "plt.savefig('pr_curve')"
   ]
  },
  {
   "cell_type": "code",
   "execution_count": 20,
   "metadata": {},
   "outputs": [
    {
     "data": {
      "text/plain": [
       "count    31.000000\n",
       "mean      2.486742\n",
       "std       4.268075\n",
       "min      -0.305938\n",
       "25%      -0.292032\n",
       "50%       0.006536\n",
       "75%       3.865526\n",
       "max      14.949103\n",
       "Name: Amount, dtype: float64"
      ]
     },
     "execution_count": 20,
     "metadata": {},
     "output_type": "execute_result"
    }
   ],
   "source": [
    "# Inspecting the amounts of frauds that our model missed\n",
    "pred_vs_actual = pd.DataFrame({\"Amount\": X_test['Amount'], \"Predicted\": test_predictions, \"Actual\": [i for i in y_test]})\n",
    "pred_vs_actual.loc[(pred_vs_actual['Predicted']==0) & (pred_vs_actual['Actual']==1)]['Amount'].describe()"
   ]
  },
  {
   "cell_type": "code",
   "execution_count": null,
   "metadata": {},
   "outputs": [],
   "source": []
  }
 ],
 "metadata": {
  "kernelspec": {
   "display_name": "Python 3",
   "language": "python",
   "name": "python3"
  },
  "language_info": {
   "codemirror_mode": {
    "name": "ipython",
    "version": 3
   },
   "file_extension": ".py",
   "mimetype": "text/x-python",
   "name": "python",
   "nbconvert_exporter": "python",
   "pygments_lexer": "ipython3",
   "version": "3.7.3"
  },
  "toc": {
   "base_numbering": 1,
   "nav_menu": {},
   "number_sections": true,
   "sideBar": true,
   "skip_h1_title": false,
   "title_cell": "Table of Contents",
   "title_sidebar": "Contents",
   "toc_cell": false,
   "toc_position": {},
   "toc_section_display": true,
   "toc_window_display": false
  },
  "varInspector": {
   "cols": {
    "lenName": 16,
    "lenType": 16,
    "lenVar": 40
   },
   "kernels_config": {
    "python": {
     "delete_cmd_postfix": "",
     "delete_cmd_prefix": "del ",
     "library": "var_list.py",
     "varRefreshCmd": "print(var_dic_list())"
    },
    "r": {
     "delete_cmd_postfix": ") ",
     "delete_cmd_prefix": "rm(",
     "library": "var_list.r",
     "varRefreshCmd": "cat(var_dic_list()) "
    }
   },
   "types_to_exclude": [
    "module",
    "function",
    "builtin_function_or_method",
    "instance",
    "_Feature"
   ],
   "window_display": false
  }
 },
 "nbformat": 4,
 "nbformat_minor": 2
}
